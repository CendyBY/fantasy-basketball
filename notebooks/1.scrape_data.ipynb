{
 "cells": [
  {
   "cell_type": "markdown",
   "metadata": {
    "ExecuteTime": {
     "end_time": "2018-03-31T05:53:12.252482Z",
     "start_time": "2018-03-31T05:53:12.248119Z"
    }
   },
   "source": [
    "### Data Scraping"
   ]
  },
  {
   "cell_type": "code",
   "execution_count": 1,
   "metadata": {
    "ExecuteTime": {
     "end_time": "2019-04-09T15:49:49.890547Z",
     "start_time": "2019-04-09T15:49:49.031455Z"
    }
   },
   "outputs": [],
   "source": [
    "import os\n",
    "import re\n",
    "import pickle\n",
    "import time\n",
    "import numpy as np\n",
    "import pandas as pd\n",
    "from tqdm import tqdm_notebook as tqdm\n",
    "from urllib.request  import urlopen\n",
    "from bs4             import BeautifulSoup"
   ]
  },
  {
   "cell_type": "code",
   "execution_count": 5,
   "metadata": {
    "ExecuteTime": {
     "end_time": "2019-02-13T15:05:48.867023Z",
     "start_time": "2019-02-13T15:05:48.863076Z"
    }
   },
   "outputs": [],
   "source": [
    "cwd = os.getcwd().replace('/notebooks','')\n",
    "data_dir = os.path.join(cwd, 'data')"
   ]
  },
  {
   "cell_type": "markdown",
   "metadata": {},
   "source": [
    "### Scraping Historical Game Data"
   ]
  },
  {
   "cell_type": "code",
   "execution_count": null,
   "metadata": {
    "ExecuteTime": {
     "end_time": "2018-05-25T15:11:14.624771Z",
     "start_time": "2018-05-25T15:11:14.618700Z"
    }
   },
   "outputs": [],
   "source": [
    "#2018-19\n",
    "#Done: [20181016-20190213]\n",
    "\n",
    "#2017-18\n",
    "#Done: [20171017-20180412]\n",
    "\n",
    "#2016-17\n",
    "#Done: [20161025-20170412]\n",
    "\n",
    "#2015-16\n",
    "#Done: [20151025-20150413]\n",
    "\n",
    "#2014-15\n",
    "#[20151018-20150425]\n",
    "\n",
    "#2013-14\n",
    "#[20131029-20140416]"
   ]
  },
  {
   "cell_type": "code",
   "execution_count": 12,
   "metadata": {
    "ExecuteTime": {
     "end_time": "2019-02-13T18:13:56.852016Z",
     "start_time": "2019-02-13T18:13:56.848363Z"
    }
   },
   "outputs": [],
   "source": [
    "start_date = '20181129'\n",
    "end_date = '20190213'\n",
    "season = '2018-19'\n",
    "date_list = [d.strftime('%Y%m%d') for d in pd.date_range(start_date,end_date)]"
   ]
  },
  {
   "cell_type": "code",
   "execution_count": 13,
   "metadata": {
    "ExecuteTime": {
     "end_time": "2019-02-13T18:46:10.907318Z",
     "start_time": "2019-02-13T18:14:02.814113Z"
    },
    "scrolled": true
   },
   "outputs": [
    {
     "data": {
      "application/vnd.jupyter.widget-view+json": {
       "model_id": "22ac7352b07f4ab2a7b4ddb812dad274",
       "version_major": 2,
       "version_minor": 0
      },
      "text/plain": [
       "HBox(children=(IntProgress(value=0, max=77), HTML(value='')))"
      ]
     },
     "metadata": {},
     "output_type": "display_data"
    },
    {
     "name": "stdout",
     "output_type": "stream",
     "text": [
      "20181129\n",
      "20181130\n",
      "20181201\n",
      "20181202\n",
      "20181203\n",
      "20181204\n",
      "20181205\n",
      "20181206\n",
      "20181207\n",
      "20181208\n",
      "20181209\n",
      "20181210\n",
      "20181211\n",
      "20181212\n",
      "20181213\n",
      "20181214\n",
      "20181215\n",
      "20181216\n",
      "20181217\n",
      "20181218\n",
      "20181219\n",
      "20181220\n",
      "20181221\n",
      "20181222\n",
      "20181223\n",
      "20181224\n",
      "20181225\n",
      "20181226\n",
      "20181227\n",
      "20181228\n",
      "20181229\n",
      "20181230\n",
      "20181231\n",
      "20190101\n",
      "20190102\n",
      "20190103\n",
      "20190104\n",
      "20190105\n",
      "20190106\n",
      "20190107\n",
      "20190108\n",
      "20190109\n",
      "20190110\n",
      "20190111\n",
      "20190112\n",
      "20190113\n",
      "20190114\n",
      "20190115\n",
      "20190116\n",
      "20190117\n",
      "20190118\n",
      "20190119\n",
      "20190120\n",
      "20190121\n",
      "20190122\n",
      "20190123\n",
      "20190124\n",
      "20190125\n",
      "20190126\n",
      "20190127\n",
      "20190128\n",
      "20190129\n",
      "20190130\n",
      "20190131\n",
      "20190201\n",
      "20190202\n",
      "20190203\n",
      "20190204\n",
      "20190205\n",
      "20190206\n",
      "20190207\n",
      "20190208\n",
      "20190209\n",
      "20190210\n",
      "20190211\n",
      "20190212\n",
      "20190213\n"
     ]
    }
   ],
   "source": [
    "url_parent = \"https://www.basketball-reference.com\"\n",
    "url_boxscore = \"https://www.basketball-reference.com/boxscores/?month={month}&day={day}&year={year}\"\n",
    "\n",
    "for date in tqdm(date_list):\n",
    "    \n",
    "    url_summaries = url_boxscore.format(month=date[4:6],day=date[6:8],year=date[0:4])\n",
    "    soup_summaries = BeautifulSoup(urlopen(url_summaries),'html5lib')\n",
    "    games = soup_summaries.find_all('div',class_='game_summary expanded nohover')\n",
    "    \n",
    "    print(date)\n",
    "    \n",
    "    for game in games:\n",
    "        summary = {}\n",
    "        \n",
    "        host = game.find_all('table')[1].find_all('a')[1]['href'][7:10]\n",
    "        \n",
    "        winner = game.find('tr',class_='winner').find_all('td')\n",
    "        loser = game.find('tr',class_='loser').find_all('td')\n",
    "        \n",
    "        summary['winner'] = [winner[0].find('a')['href'][7:10],int(winner[1].get_text())]\n",
    "        summary['loser'] = [loser[0].find('a')['href'][7:10],int(loser[1].get_text())]\n",
    "        \n",
    "\n",
    "        url_game = url_parent+game.find('a',text='Box Score')['href']\n",
    "        soup_game = BeautifulSoup(urlopen(url_game),'html5lib')\n",
    "        \n",
    "        \n",
    "        tables = soup_game.find_all('table',limit=4)[2:]\n",
    "        \n",
    "        columns_basic = [th.get_text() for th in tables[0].find('thead').find_all('tr')[1].find_all('th')][1:]\n",
    "        columns_advanced = [th.get_text() for th in tables[1].find('thead').find_all('tr')[1].find_all('th')][2:]\n",
    "        \n",
    "        game_columns = ['Name','Date','Team','Home','W','W_PTS','L','L_PTS']\n",
    "        column_headers = game_columns + columns_basic + columns_advanced\n",
    "        \n",
    "        teams = ['winner','loser']\n",
    "        basic_stat_template = 'box_{team}_basic'\n",
    "        advanced_stat_template = 'box_{team}_advanced'\n",
    "\n",
    "        for team in teams:\n",
    "            \n",
    "            if summary[team][0] == host:\n",
    "                home = 1\n",
    "            else:\n",
    "                home = 0\n",
    "            \n",
    "            basic_stat = basic_stat_template.format(team=summary[team][0].lower())\n",
    "            advanced_stat = advanced_stat_template.format(team=summary[team][0].lower())\n",
    "            \n",
    "            game_data = [date, summary[team][0], home,summary['winner'][0],\n",
    "                         summary['winner'][1], summary['loser'][0],summary['loser'][1]]\n",
    "            \n",
    "            data_basic = soup_game.find('table',id=basic_stat).find('tbody').find_all('tr',class_=None)\n",
    "            data_advanced = soup_game.find('table',id=advanced_stat).find('tbody').find_all('tr',class_=None)\n",
    "            \n",
    "            n = len(data_basic)\n",
    "            \n",
    "            player_names = [data_basic[i].find('a').get_text() for i in range(n)]\n",
    "            \n",
    "            player_data = []\n",
    "            injury_keywords = ['Did Not Dress', 'Not With Team']\n",
    "    \n",
    "            for i in range(n):\n",
    "                if data_basic[i].find('td').get_text() not in injury_keywords:\n",
    "                    data = [player_names[i]] + game_data + \\\n",
    "                           [td.get_text() for td in data_basic[i].find_all('td')] + \\\n",
    "                           [td.get_text() for td in data_advanced[i].find_all('td')[1:]]\n",
    "                            \n",
    "                    player_data.append(data)\n",
    "            \n",
    "            df = pd.DataFrame(player_data,columns=column_headers)\n",
    "            df.columns = df.columns.str.replace('%','_perc').str.replace('/','')\n",
    "            df = df.fillna(0)\n",
    "            df.loc[:,'FG':'+-'] = df.loc[:,'FG':'+-'].apply(pd.to_numeric)\n",
    "            df['MP'] = [0.00 if ':' not in t else round(int(t.split(':')[0])+int(t.split(':')[1])/60, 2) for t in df['MP']] \n",
    "            df.to_csv(os.path.join(*[data_dir, 'Games', season, date+'-'+summary[team][0]+'.csv']), index=False)\n",
    "            \n",
    "        time.sleep(1)\n"
   ]
  },
  {
   "cell_type": "markdown",
   "metadata": {},
   "source": [
    "### Scraping Historical Salary Data from RotoGuru"
   ]
  },
  {
   "cell_type": "code",
   "execution_count": 15,
   "metadata": {
    "ExecuteTime": {
     "end_time": "2019-02-13T18:46:25.666429Z",
     "start_time": "2019-02-13T18:46:25.656321Z"
    }
   },
   "outputs": [],
   "source": [
    "start_date = '20181016'\n",
    "end_date = '20190213'\n",
    "season = '2018-19'\n",
    "date_list = [d.strftime('%Y%m%d') for d in pd.date_range(start_date,end_date)]"
   ]
  },
  {
   "cell_type": "code",
   "execution_count": 16,
   "metadata": {
    "ExecuteTime": {
     "end_time": "2019-02-13T18:46:26.410872Z",
     "start_time": "2019-02-13T18:46:26.405012Z"
    }
   },
   "outputs": [],
   "source": [
    "url_roto = \"http://rotoguru1.com/cgi-bin/hyday.pl?mon={month}&day={day}&year={year}&game=dk\""
   ]
  },
  {
   "cell_type": "code",
   "execution_count": 17,
   "metadata": {
    "ExecuteTime": {
     "end_time": "2019-02-13T18:50:47.414183Z",
     "start_time": "2019-02-13T18:46:27.001777Z"
    }
   },
   "outputs": [
    {
     "data": {
      "application/vnd.jupyter.widget-view+json": {
       "model_id": "7625450421d644ae9457584ffdbe01ab",
       "version_major": 2,
       "version_minor": 0
      },
      "text/plain": [
       "HBox(children=(IntProgress(value=0, max=121), HTML(value='')))"
      ]
     },
     "metadata": {},
     "output_type": "display_data"
    }
   ],
   "source": [
    "for date in tqdm(date_list):\n",
    "    teams, positions, players, starters, salaries = [], [], [], [], []\n",
    "    \n",
    "    url_date = url_roto.format(month=date[4:6],day=date[6:8],year=date[0:4])\n",
    "    soup = BeautifulSoup(urlopen(url_date),'html5lib')\n",
    "    \n",
    "    #Check if there were any games on a given date\n",
    "    soup_table = soup.find('body').find('table', border=\"0\", cellspacing=\"5\")\n",
    "    \n",
    "    if soup_table.find('tbody') != None:\n",
    "        soup_rows = soup_table.find('tbody').find_all('tr')\n",
    "        \n",
    "        for row in soup_rows:\n",
    "            if row.find('td').has_attr('colspan') == False:\n",
    "                if row.find('a').get_text() != '':\n",
    "                    \n",
    "                    position = row.find_all('td')[0].get_text()\n",
    "                    \n",
    "                    player_tmp = row.find('a').get_text().split(\", \")\n",
    "                    player = player_tmp[1] + ' ' + player_tmp[0]\n",
    "                    \n",
    "                    starter_tmp = row.find_all('td')[1].get_text()\n",
    "                    if '^' in starter_tmp:\n",
    "                        starter = 1\n",
    "                    else:\n",
    "                        starter =0\n",
    "                        \n",
    "                    salary_tmp = row.find_all('td')[3].get_text()\n",
    "                    salary = re.sub('[$,]', '', salary_tmp)\n",
    "                    \n",
    "                    team = row.find_all('td')[4].get_text()\n",
    "\n",
    "                    positions.append(position)\n",
    "                    players.append(player)\n",
    "                    starters.append(starter)\n",
    "                    salaries.append(salary)\n",
    "                    teams.append(team)\n",
    "                \n",
    "        df = pd.DataFrame({'Date': [date for i in range(len(players))], \n",
    "                           'Team': [team.upper() for team in teams],\n",
    "                           'Starter': starters,\n",
    "                           'Pos': positions,\n",
    "                           'Name': players,\n",
    "                           'Salary': salaries})\n",
    "        \n",
    "        df = df.loc[:,['Date','Team','Pos','Name','Starter','Salary']]\n",
    "        \n",
    "        df.to_csv(os.path.join(data_dir, 'DKSalary', season, 'salary_'+date+'.csv'), index=False)\n",
    "        \n",
    "    time.sleep(1)\n",
    "    "
   ]
  }
 ],
 "metadata": {
  "kernelspec": {
   "display_name": "Python 3",
   "language": "python",
   "name": "python3"
  },
  "language_info": {
   "codemirror_mode": {
    "name": "ipython",
    "version": 3
   },
   "file_extension": ".py",
   "mimetype": "text/x-python",
   "name": "python",
   "nbconvert_exporter": "python",
   "pygments_lexer": "ipython3",
   "version": "3.7.1"
  },
  "varInspector": {
   "cols": {
    "lenName": 16,
    "lenType": 16,
    "lenVar": 40
   },
   "kernels_config": {
    "python": {
     "delete_cmd_postfix": "",
     "delete_cmd_prefix": "del ",
     "library": "var_list.py",
     "varRefreshCmd": "print(var_dic_list())"
    },
    "r": {
     "delete_cmd_postfix": ") ",
     "delete_cmd_prefix": "rm(",
     "library": "var_list.r",
     "varRefreshCmd": "cat(var_dic_list()) "
    }
   },
   "types_to_exclude": [
    "module",
    "function",
    "builtin_function_or_method",
    "instance",
    "_Feature"
   ],
   "window_display": false
  }
 },
 "nbformat": 4,
 "nbformat_minor": 2
}
