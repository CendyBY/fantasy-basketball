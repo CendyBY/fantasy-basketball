{
 "cells": [
  {
   "cell_type": "markdown",
   "metadata": {
    "ExecuteTime": {
     "end_time": "2018-03-31T05:53:12.252482Z",
     "start_time": "2018-03-31T05:53:12.248119Z"
    }
   },
   "source": [
    "### Data Scraping"
   ]
  },
  {
   "cell_type": "code",
   "execution_count": 3,
   "metadata": {
    "ExecuteTime": {
     "end_time": "2018-05-25T15:11:12.711252Z",
     "start_time": "2018-05-25T15:11:12.703828Z"
    }
   },
   "outputs": [],
   "source": [
    "import os\n",
    "import re\n",
    "import pickle\n",
    "import time\n",
    "import numpy as np\n",
    "import pandas as pd\n",
    "from tqdm import tqdm_notebook as tqdm\n",
    "from urllib.request  import urlopen\n",
    "from bs4             import BeautifulSoup"
   ]
  },
  {
   "cell_type": "code",
   "execution_count": 4,
   "metadata": {
    "ExecuteTime": {
     "end_time": "2018-05-25T15:11:13.328491Z",
     "start_time": "2018-05-25T15:11:13.324178Z"
    }
   },
   "outputs": [],
   "source": [
    "cwd = os.getcwd().replace('/notebooks','')\n",
    "data_dir = os.path.join(cwd, 'data')"
   ]
  },
  {
   "cell_type": "markdown",
   "metadata": {},
   "source": [
    "### Scraping Historical Game Data"
   ]
  },
  {
   "cell_type": "code",
   "execution_count": 5,
   "metadata": {
    "ExecuteTime": {
     "end_time": "2018-05-25T15:11:14.624771Z",
     "start_time": "2018-05-25T15:11:14.618700Z"
    }
   },
   "outputs": [],
   "source": [
    "#2017-18\n",
    "#Done: [20171017-20180412]\n",
    "\n",
    "#2016-17\n",
    "#Done: [20161025-20170412]\n",
    "\n",
    "#2015-16\n",
    "#Done: [20151025-20150413]\n",
    "\n",
    "#2014-15\n",
    "#[20151018-20150425]\n",
    "\n",
    "#2013-14\n",
    "#[20131029-20140416]"
   ]
  },
  {
   "cell_type": "code",
   "execution_count": 6,
   "metadata": {
    "ExecuteTime": {
     "end_time": "2018-05-25T15:11:37.438578Z",
     "start_time": "2018-05-25T15:11:37.412769Z"
    }
   },
   "outputs": [],
   "source": [
    "start_date = '20131029'\n",
    "end_date = '20140416'\n",
    "season = '2013-14'\n",
    "date_list = [d.strftime('%Y%m%d') for d in pd.date_range(start_date,end_date,index=False)]"
   ]
  },
  {
   "cell_type": "code",
   "execution_count": 9,
   "metadata": {
    "ExecuteTime": {
     "end_time": "2018-05-25T16:35:59.066881Z",
     "start_time": "2018-05-25T15:12:05.090590Z"
    },
    "scrolled": true
   },
   "outputs": [
    {
     "data": {
      "application/vnd.jupyter.widget-view+json": {
       "model_id": "c848ba97b5db4e24a6ac3242401fcfef",
       "version_major": 2,
       "version_minor": 0
      },
      "text/html": [
       "<p>Failed to display Jupyter Widget of type <code>HBox</code>.</p>\n",
       "<p>\n",
       "  If you're reading this message in the Jupyter Notebook or JupyterLab Notebook, it may mean\n",
       "  that the widgets JavaScript is still loading. If this message persists, it\n",
       "  likely means that the widgets JavaScript library is either not installed or\n",
       "  not enabled. See the <a href=\"https://ipywidgets.readthedocs.io/en/stable/user_install.html\">Jupyter\n",
       "  Widgets Documentation</a> for setup instructions.\n",
       "</p>\n",
       "<p>\n",
       "  If you're reading this message in another frontend (for example, a static\n",
       "  rendering on GitHub or <a href=\"https://nbviewer.jupyter.org/\">NBViewer</a>),\n",
       "  it may mean that your frontend doesn't currently support widgets.\n",
       "</p>\n"
      ],
      "text/plain": [
       "HBox(children=(IntProgress(value=0, max=170), HTML(value='')))"
      ]
     },
     "metadata": {},
     "output_type": "display_data"
    },
    {
     "name": "stdout",
     "output_type": "stream",
     "text": [
      "20131029\n",
      "20131030\n",
      "20131031\n",
      "20131101\n",
      "20131102\n",
      "20131103\n",
      "20131104\n",
      "20131105\n",
      "20131106\n",
      "20131107\n",
      "20131108\n",
      "20131109\n",
      "20131110\n",
      "20131111\n",
      "20131112\n",
      "20131113\n",
      "20131114\n",
      "20131115\n",
      "20131116\n",
      "20131117\n",
      "20131118\n",
      "20131119\n",
      "20131120\n",
      "20131121\n",
      "20131122\n",
      "20131123\n",
      "20131124\n",
      "20131125\n",
      "20131126\n",
      "20131127\n",
      "20131128\n",
      "20131129\n",
      "20131130\n",
      "20131201\n",
      "20131202\n",
      "20131203\n",
      "20131204\n",
      "20131205\n",
      "20131206\n",
      "20131207\n",
      "20131208\n",
      "20131209\n",
      "20131210\n",
      "20131211\n",
      "20131212\n",
      "20131213\n",
      "20131214\n",
      "20131215\n",
      "20131216\n",
      "20131217\n",
      "20131218\n",
      "20131219\n",
      "20131220\n",
      "20131221\n",
      "20131222\n",
      "20131223\n",
      "20131224\n",
      "20131225\n",
      "20131226\n",
      "20131227\n",
      "20131228\n",
      "20131229\n",
      "20131230\n",
      "20131231\n",
      "20140101\n",
      "20140102\n",
      "20140103\n",
      "20140104\n",
      "20140105\n",
      "20140106\n",
      "20140107\n",
      "20140108\n",
      "20140109\n",
      "20140110\n",
      "20140111\n",
      "20140112\n",
      "20140113\n",
      "20140114\n",
      "20140115\n",
      "20140116\n",
      "20140117\n",
      "20140118\n",
      "20140119\n",
      "20140120\n",
      "20140121\n",
      "20140122\n",
      "20140123\n",
      "20140124\n",
      "20140125\n",
      "20140126\n",
      "20140127\n",
      "20140128\n",
      "20140129\n",
      "20140130\n",
      "20140131\n",
      "20140201\n",
      "20140202\n",
      "20140203\n",
      "20140204\n",
      "20140205\n",
      "20140206\n",
      "20140207\n",
      "20140208\n",
      "20140209\n",
      "20140210\n",
      "20140211\n",
      "20140212\n",
      "20140213\n",
      "20140214\n",
      "20140215\n",
      "20140216\n",
      "20140217\n",
      "20140218\n",
      "20140219\n",
      "20140220\n",
      "20140221\n",
      "20140222\n",
      "20140223\n",
      "20140224\n",
      "20140225\n",
      "20140226\n",
      "20140227\n",
      "20140228\n",
      "20140301\n",
      "20140302\n",
      "20140303\n",
      "20140304\n",
      "20140305\n",
      "20140306\n",
      "20140307\n",
      "20140308\n",
      "20140309\n",
      "20140310\n",
      "20140311\n",
      "20140312\n",
      "20140313\n",
      "20140314\n",
      "20140315\n",
      "20140316\n",
      "20140317\n",
      "20140318\n",
      "20140319\n",
      "20140320\n",
      "20140321\n",
      "20140322\n",
      "20140323\n",
      "20140324\n",
      "20140325\n",
      "20140326\n",
      "20140327\n",
      "20140328\n",
      "20140329\n",
      "20140330\n",
      "20140331\n",
      "20140401\n",
      "20140402\n",
      "20140403\n",
      "20140404\n",
      "20140405\n",
      "20140406\n",
      "20140407\n",
      "20140408\n",
      "20140409\n",
      "20140410\n",
      "20140411\n",
      "20140412\n",
      "20140413\n",
      "20140414\n",
      "20140415\n",
      "20140416\n",
      "\n"
     ]
    }
   ],
   "source": [
    "url_parent = \"https://www.basketball-reference.com\"\n",
    "url_boxscore = \"https://www.basketball-reference.com/boxscores/?month={month}&day={day}&year={year}\"\n",
    "\n",
    "for date in tqdm(date_list):\n",
    "    \n",
    "    url_summaries = url_boxscore.format(month=date[4:6],day=date[6:8],year=date[0:4])\n",
    "    soup_summaries = BeautifulSoup(urlopen(url_summaries),'html5lib')\n",
    "    games = soup_summaries.find_all('div',class_='game_summary expanded nohover')\n",
    "    \n",
    "    print(date)\n",
    "    \n",
    "    for game in games:\n",
    "        summary = {}\n",
    "        \n",
    "        host = game.find_all('table')[1].find_all('a')[1]['href'][7:10]\n",
    "        \n",
    "        winner = game.find('tr',class_='winner').find_all('td')\n",
    "        loser = game.find('tr',class_='loser').find_all('td')\n",
    "        \n",
    "        summary['winner'] = [winner[0].find('a')['href'][7:10],int(winner[1].get_text())]\n",
    "        summary['loser'] = [loser[0].find('a')['href'][7:10],int(loser[1].get_text())]\n",
    "        \n",
    "\n",
    "        url_game = url_parent+game.find('a',text='Box Score')['href']\n",
    "        soup_game = BeautifulSoup(urlopen(url_game),'html5lib')\n",
    "        \n",
    "        \n",
    "        tables = soup_game.find_all('table',limit=4)[2:]\n",
    "        \n",
    "        columns_basic = [th.get_text() for th in tables[0].find('thead').find_all('tr')[1].find_all('th')][1:]\n",
    "        columns_advanced = [th.get_text() for th in tables[1].find('thead').find_all('tr')[1].find_all('th')][2:]\n",
    "        \n",
    "        game_columns = ['Name','Date','Team','Home','W','W_PTS','L','L_PTS']\n",
    "        column_headers = game_columns + columns_basic + columns_advanced\n",
    "        \n",
    "        teams = ['winner','loser']\n",
    "        basic_stat_template = 'box_{team}_basic'\n",
    "        advanced_stat_template = 'box_{team}_advanced'\n",
    "\n",
    "        for team in teams:\n",
    "            \n",
    "            if summary[team][0] == host:\n",
    "                home = 1\n",
    "            else:\n",
    "                home = 0\n",
    "            \n",
    "            basic_stat = basic_stat_template.format(team=summary[team][0].lower())\n",
    "            advanced_stat = advanced_stat_template.format(team=summary[team][0].lower())\n",
    "            \n",
    "            game_data = [date, summary[team][0], home,summary['winner'][0],\n",
    "                         summary['winner'][1], summary['loser'][0],summary['loser'][1]]\n",
    "            \n",
    "            data_basic = soup_game.find('table',id=basic_stat).find('tbody').find_all('tr',class_=None)\n",
    "            data_advanced = soup_game.find('table',id=advanced_stat).find('tbody').find_all('tr',class_=None)\n",
    "            \n",
    "            n = len(data_basic)\n",
    "            \n",
    "            player_names = [data_basic[i].find('a').get_text() for i in range(n)]\n",
    "            \n",
    "            player_data = []\n",
    "            injury_keywords = ['Did Not Dress', 'Not With Team']\n",
    "    \n",
    "            for i in range(n):\n",
    "                if data_basic[i].find('td').get_text() not in injury_keywords:\n",
    "                    data = [player_names[i]] + game_data + \\\n",
    "                           [td.get_text() for td in data_basic[i].find_all('td')] + \\\n",
    "                           [td.get_text() for td in data_advanced[i].find_all('td')[1:]]\n",
    "                            \n",
    "                    player_data.append(data)\n",
    "            \n",
    "            df = pd.DataFrame(player_data,columns=column_headers)\n",
    "            df.columns = df.columns.str.replace('%','_perc').str.replace('/','')\n",
    "            df = df.fillna(0)\n",
    "            df.loc[:,'FG':'+-'] = df.loc[:,'FG':'+-'].apply(pd.to_numeric)\n",
    "            df['MP'] = [0.00 if ':' not in t else round(int(t.split(':')[0])+int(t.split(':')[1])/60, 2) for t in df['MP']] \n",
    "            df.to_csv(os.path.join(*[data_dir, 'Games', season, date+'-'+summary[team][0]+'.csv']), index=False)\n",
    "            \n",
    "        time.sleep(1)\n"
   ]
  },
  {
   "cell_type": "markdown",
   "metadata": {},
   "source": [
    "### Scraping Historical Salary Data from RotoGuru"
   ]
  },
  {
   "cell_type": "code",
   "execution_count": null,
   "metadata": {
    "ExecuteTime": {
     "end_time": "2018-05-20T13:34:58.181663Z",
     "start_time": "2018-05-20T13:34:58.173850Z"
    }
   },
   "outputs": [],
   "source": [
    "start_date = '20141028'\n",
    "end_date = '20150415'\n",
    "season = '2014-15'\n",
    "date_list = [d.strftime('%Y%m%d') for d in pd.date_range(start_date,end_date,index=False)]"
   ]
  },
  {
   "cell_type": "code",
   "execution_count": 10,
   "metadata": {
    "ExecuteTime": {
     "end_time": "2018-05-26T02:23:46.666507Z",
     "start_time": "2018-05-26T02:23:46.660609Z"
    }
   },
   "outputs": [],
   "source": [
    "url_roto = \"http://rotoguru1.com/cgi-bin/hyday.pl?mon={month}&day={day}&year={year}&game=dk\""
   ]
  },
  {
   "cell_type": "code",
   "execution_count": 11,
   "metadata": {
    "ExecuteTime": {
     "end_time": "2018-05-26T02:23:48.708232Z",
     "start_time": "2018-05-26T02:23:47.520582Z"
    }
   },
   "outputs": [
    {
     "data": {
      "application/vnd.jupyter.widget-view+json": {
       "model_id": "1ed7b1c8d2fa47b0a40fc64da1a42129",
       "version_major": 2,
       "version_minor": 0
      },
      "text/html": [
       "<p>Failed to display Jupyter Widget of type <code>HBox</code>.</p>\n",
       "<p>\n",
       "  If you're reading this message in the Jupyter Notebook or JupyterLab Notebook, it may mean\n",
       "  that the widgets JavaScript is still loading. If this message persists, it\n",
       "  likely means that the widgets JavaScript library is either not installed or\n",
       "  not enabled. See the <a href=\"https://ipywidgets.readthedocs.io/en/stable/user_install.html\">Jupyter\n",
       "  Widgets Documentation</a> for setup instructions.\n",
       "</p>\n",
       "<p>\n",
       "  If you're reading this message in another frontend (for example, a static\n",
       "  rendering on GitHub or <a href=\"https://nbviewer.jupyter.org/\">NBViewer</a>),\n",
       "  it may mean that your frontend doesn't currently support widgets.\n",
       "</p>\n"
      ],
      "text/plain": [
       "HBox(children=(IntProgress(value=0, max=170), HTML(value='')))"
      ]
     },
     "metadata": {},
     "output_type": "display_data"
    },
    {
     "name": "stdout",
     "output_type": "stream",
     "text": [
      "\n"
     ]
    },
    {
     "ename": "AttributeError",
     "evalue": "'NoneType' object has no attribute 'find'",
     "output_type": "error",
     "traceback": [
      "\u001b[0;31m---------------------------------------------------------------------------\u001b[0m",
      "\u001b[0;31mAttributeError\u001b[0m                            Traceback (most recent call last)",
      "\u001b[0;32m<ipython-input-11-9f4a6c86f735>\u001b[0m in \u001b[0;36m<module>\u001b[0;34m()\u001b[0m\n\u001b[1;32m      8\u001b[0m     \u001b[0msoup_table\u001b[0m \u001b[0;34m=\u001b[0m \u001b[0msoup\u001b[0m\u001b[0;34m.\u001b[0m\u001b[0mfind\u001b[0m\u001b[0;34m(\u001b[0m\u001b[0;34m'body'\u001b[0m\u001b[0;34m)\u001b[0m\u001b[0;34m.\u001b[0m\u001b[0mfind\u001b[0m\u001b[0;34m(\u001b[0m\u001b[0;34m'table'\u001b[0m\u001b[0;34m,\u001b[0m \u001b[0mborder\u001b[0m\u001b[0;34m=\u001b[0m\u001b[0;34m\"0\"\u001b[0m\u001b[0;34m,\u001b[0m \u001b[0mcellspacing\u001b[0m\u001b[0;34m=\u001b[0m\u001b[0;34m\"5\"\u001b[0m\u001b[0;34m)\u001b[0m\u001b[0;34m\u001b[0m\u001b[0m\n\u001b[1;32m      9\u001b[0m \u001b[0;34m\u001b[0m\u001b[0m\n\u001b[0;32m---> 10\u001b[0;31m     \u001b[0;32mif\u001b[0m \u001b[0msoup_table\u001b[0m\u001b[0;34m.\u001b[0m\u001b[0mfind\u001b[0m\u001b[0;34m(\u001b[0m\u001b[0;34m'tbody'\u001b[0m\u001b[0;34m)\u001b[0m \u001b[0;34m!=\u001b[0m \u001b[0;32mNone\u001b[0m\u001b[0;34m:\u001b[0m\u001b[0;34m\u001b[0m\u001b[0m\n\u001b[0m\u001b[1;32m     11\u001b[0m         \u001b[0msoup_rows\u001b[0m \u001b[0;34m=\u001b[0m \u001b[0msoup_table\u001b[0m\u001b[0;34m.\u001b[0m\u001b[0mfind\u001b[0m\u001b[0;34m(\u001b[0m\u001b[0;34m'tbody'\u001b[0m\u001b[0;34m)\u001b[0m\u001b[0;34m.\u001b[0m\u001b[0mfind_all\u001b[0m\u001b[0;34m(\u001b[0m\u001b[0;34m'tr'\u001b[0m\u001b[0;34m)\u001b[0m\u001b[0;34m\u001b[0m\u001b[0m\n\u001b[1;32m     12\u001b[0m \u001b[0;34m\u001b[0m\u001b[0m\n",
      "\u001b[0;31mAttributeError\u001b[0m: 'NoneType' object has no attribute 'find'"
     ]
    }
   ],
   "source": [
    "for date in tqdm(date_list):\n",
    "    teams, positions, players, starters, salaries = [], [], [], [], []\n",
    "    \n",
    "    url_date = url_roto.format(month=date[4:6],day=date[6:8],year=date[0:4])\n",
    "    soup = BeautifulSoup(urlopen(url_date),'html5lib')\n",
    "    \n",
    "    #Check if there were any games on a given date\n",
    "    soup_table = soup.find('body').find('table', border=\"0\", cellspacing=\"5\")\n",
    "    \n",
    "    if soup_table.find('tbody') != None:\n",
    "        soup_rows = soup_table.find('tbody').find_all('tr')\n",
    "        \n",
    "        for row in soup_rows:\n",
    "            if row.find('td').has_attr('colspan') == False:\n",
    "                if row.find('a').get_text() != '':\n",
    "                    \n",
    "                    position = row.find_all('td')[0].get_text()\n",
    "                    \n",
    "                    player_tmp = row.find('a').get_text().split(\", \")\n",
    "                    player = player_tmp[1] + ' ' + player_tmp[0]\n",
    "                    \n",
    "                    starter_tmp = row.find_all('td')[1].get_text()\n",
    "                    if '^' in starter_tmp:\n",
    "                        starter = 1\n",
    "                    else:\n",
    "                        starter =0\n",
    "                        \n",
    "                    salary_tmp = row.find_all('td')[3].get_text()\n",
    "                    salary = re.sub('[$,]', '', salary_tmp)\n",
    "                    \n",
    "                    team = row.find_all('td')[4].get_text()\n",
    "\n",
    "                    positions.append(position)\n",
    "                    players.append(player)\n",
    "                    starters.append(starter)\n",
    "                    salaries.append(salary)\n",
    "                    teams.append(team)\n",
    "                \n",
    "        df = pd.DataFrame({'Date': [date for i in range(len(players))], \n",
    "                           'Team': [team.upper() for team in teams],\n",
    "                           'Starter': starters,\n",
    "                           'Pos': positions,\n",
    "                           'Name': players,\n",
    "                           'Salary': salaries})\n",
    "        \n",
    "        df = df.loc[:,['Date','Team','Pos','Name','Starter','Salary']]\n",
    "        \n",
    "        df.to_csv(os.path.join(data_dir, 'DKSalary', season, 'salary_'+date+'.csv'), index=False)\n",
    "        \n",
    "    time.sleep(1)\n",
    "    "
   ]
  }
 ],
 "metadata": {
  "kernelspec": {
   "display_name": "Python 3",
   "language": "python",
   "name": "python3"
  },
  "language_info": {
   "codemirror_mode": {
    "name": "ipython",
    "version": 3
   },
   "file_extension": ".py",
   "mimetype": "text/x-python",
   "name": "python",
   "nbconvert_exporter": "python",
   "pygments_lexer": "ipython3",
   "version": "3.6.3"
  },
  "varInspector": {
   "cols": {
    "lenName": 16,
    "lenType": 16,
    "lenVar": 40
   },
   "kernels_config": {
    "python": {
     "delete_cmd_postfix": "",
     "delete_cmd_prefix": "del ",
     "library": "var_list.py",
     "varRefreshCmd": "print(var_dic_list())"
    },
    "r": {
     "delete_cmd_postfix": ") ",
     "delete_cmd_prefix": "rm(",
     "library": "var_list.r",
     "varRefreshCmd": "cat(var_dic_list()) "
    }
   },
   "types_to_exclude": [
    "module",
    "function",
    "builtin_function_or_method",
    "instance",
    "_Feature"
   ],
   "window_display": false
  }
 },
 "nbformat": 4,
 "nbformat_minor": 2
}
