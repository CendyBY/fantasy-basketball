{
 "cells": [
  {
   "cell_type": "markdown",
   "metadata": {},
   "source": [
    "### Exploratory Visualization"
   ]
  },
  {
   "cell_type": "code",
   "execution_count": null,
   "metadata": {
    "ExecuteTime": {
     "end_time": "2018-05-15T12:14:15.441873Z",
     "start_time": "2018-05-15T12:14:08.488028Z"
    }
   },
   "outputs": [],
   "source": [
    "import os\n",
    "import glob\n",
    "import time\n",
    "import pickle\n",
    "import numpy as np\n",
    "import pandas as pd\n",
    "import pandas_profiling\n",
    "import seaborn as sns\n",
    "import matplotlib.pyplot as plt\n",
    "import colorlover as cl\n",
    "import plotly\n",
    "import plotly.graph_objs as go\n",
    "import plotly.plotly as py\n",
    "from tqdm import tqdm_notebook as tqdm\n",
    "from datetime        import datetime\n",
    "from IPython.display import HTML\n",
    "\n",
    "%matplotlib inline\n",
    "plotly.offline.init_notebook_mode(connected=False)\n",
    "pd.set_option(\"display.max_columns\",30)"
   ]
  },
  {
   "cell_type": "code",
   "execution_count": null,
   "metadata": {
    "ExecuteTime": {
     "end_time": "2018-05-15T12:14:15.455995Z",
     "start_time": "2018-05-15T12:14:15.451016Z"
    }
   },
   "outputs": [],
   "source": [
    "cwd = os.getcwd().replace('/notebooks','')\n",
    "data_dir = os.path.join(cwd, 'data')\n",
    "season = '2017-18'"
   ]
  },
  {
   "cell_type": "code",
   "execution_count": null,
   "metadata": {
    "ExecuteTime": {
     "end_time": "2018-05-15T12:14:15.613673Z",
     "start_time": "2018-05-15T12:14:15.463678Z"
    }
   },
   "outputs": [],
   "source": [
    "def add_positions(df):\n",
    "    \n",
    "    PG, SG, F, C = [], [], [] ,[]\n",
    "    \n",
    "    for i in range(df.shape[0]):\n",
    "        if 'PG' in df.loc[i,'Pos']:\n",
    "            PG.append(1)\n",
    "            SG.append(0)\n",
    "            F.append(0)\n",
    "            C.append(0)\n",
    "            \n",
    "        elif 'SG' in df.loc[i,'Pos']:\n",
    "            PG.append(0)\n",
    "            SG.append(1)\n",
    "            F.append(0)\n",
    "            C.append(0)\n",
    "        \n",
    "        elif 'C' in df.loc[i,'Pos']:\n",
    "            PG.append(0)\n",
    "            SG.append(0)\n",
    "            F.append(0)\n",
    "            C.append(1)\n",
    "            \n",
    "        else:\n",
    "            PG.append(0)\n",
    "            SG.append(0)\n",
    "            F.append(1)\n",
    "            C.append(0)\n",
    "\n",
    "    df['PG'] = PG\n",
    "    df['SG'] = SG\n",
    "    df['F'] = F\n",
    "    df['C'] = C"
   ]
  },
  {
   "cell_type": "code",
   "execution_count": null,
   "metadata": {
    "ExecuteTime": {
     "end_time": "2018-05-15T12:14:16.193201Z",
     "start_time": "2018-05-15T12:14:15.621553Z"
    }
   },
   "outputs": [],
   "source": [
    "df = pd.read_csv(os.path.join(data_dir,'Dataframes','clean','df_2017-18.csv'))\n",
    "df = df.loc[df['Salary'] != 0]\n",
    "df = df.loc[df['MP'] != 0].reset_index(drop=True)"
   ]
  },
  {
   "cell_type": "markdown",
   "metadata": {},
   "source": [
    "### Exploring Risk-Return Relationship"
   ]
  },
  {
   "cell_type": "code",
   "execution_count": null,
   "metadata": {
    "ExecuteTime": {
     "end_time": "2018-05-15T12:14:36.311767Z",
     "start_time": "2018-05-15T12:14:26.974052Z"
    }
   },
   "outputs": [],
   "source": [
    "salary_latest = {'Date':[], 'Name':[], 'Salary':[], 'Pos':[]}\n",
    "\n",
    "names = list(set(df['Name']))\n",
    "df = df.sort_values(by='Date', ascending=False).reset_index(drop=True)\n",
    "\n",
    "for name in tqdm(names):\n",
    "    for i in range(df.shape[0]):\n",
    "        if name == df.loc[i,'Name']:\n",
    "            if name not in salary_latest['Name']:\n",
    "                salary_latest['Name'].append(name)\n",
    "                salary_latest['Salary'].append(df.loc[i,'Salary'])\n",
    "                salary_latest['Pos'].append(df.loc[i,'Pos'])\n",
    "                salary_latest['Date'].append(datetime.strptime(str(df.loc[i,'Date']),'%Y%m%d'))\n",
    "                break"
   ]
  },
  {
   "cell_type": "code",
   "execution_count": null,
   "metadata": {
    "ExecuteTime": {
     "end_time": "2018-05-15T12:29:25.334406Z",
     "start_time": "2018-05-15T12:29:23.075746Z"
    }
   },
   "outputs": [],
   "source": [
    "returns = []\n",
    "risks = []\n",
    "actual = []\n",
    "\n",
    "for name in tqdm(names):\n",
    "    df_tmp = df.loc[df['Name']==name].sort_values(by='Date', ascending=False).reset_index(drop=True)\n",
    "    actual.append(df_tmp.loc[0,'FPTS'])\n",
    "    returns.append(df_tmp.loc[1:11,'FPTS'].mean())\n",
    "    risks.append(df_tmp.loc[1:11,'FPTS'].std())\n",
    "\n",
    "df_rr = pd.DataFrame({'Name': names, 'Actual': actual, 'Expected Return': returns, 'Risk': risks})\n",
    "df_rr = pd.merge(df_rr, pd.DataFrame(salary_latest), on='Name')\n",
    "add_positions(df_rr)\n",
    "columns = ['Date','Name','Salary', 'Actual','Expected Return', 'Risk', 'Pos', 'PG', 'SG', 'F','C']\n",
    "df_rr = df_rr.loc[:, columns].dropna().reset_index(drop=True)"
   ]
  },
  {
   "cell_type": "code",
   "execution_count": null,
   "metadata": {
    "ExecuteTime": {
     "end_time": "2018-05-15T12:14:52.421516Z",
     "start_time": "2018-05-15T12:14:50.955349Z"
    },
    "scrolled": false
   },
   "outputs": [],
   "source": [
    "data = []\n",
    "for pos in (['PG', 'SG', 'F', 'C']):\n",
    "    df_pos = df_rr[df_rr[pos]==1].reset_index(drop=True)\n",
    "    \n",
    "    trace = go.Scatter(x=df_pos['Risk'],\n",
    "                       y=df_pos['Expected Return'], \n",
    "                       mode='markers',\n",
    "                       text=df_pos['Name'],\n",
    "                       name=pos)\n",
    "    data.append(trace)\n",
    "\n",
    "    layout = go.Layout(\n",
    "        title = '10-game Risk-Return Relationship',\n",
    "        legend = {\"x\":0.075, 'y':1, 'borderwidth': 1},\n",
    "        hovermode = 'closest',\n",
    "        xaxis = {\"title\":\"Risk (Standard Deviation)\"},\n",
    "        yaxis = {\"title\":\"Expected Return (10-game Average)\"},\n",
    "    )\n",
    "\n",
    "\n",
    "fig = go.Figure(data=data, layout=layout)\n",
    "\n",
    "plot_url = py.plot(fig, filename='risk_return')\n",
    "plotly.offline.iplot(fig)"
   ]
  },
  {
   "cell_type": "markdown",
   "metadata": {
    "ExecuteTime": {
     "end_time": "2018-04-01T15:27:57.402948Z",
     "start_time": "2018-04-01T15:27:57.399617Z"
    }
   },
   "source": [
    "### Exploring Salary-Return relationship"
   ]
  },
  {
   "cell_type": "code",
   "execution_count": null,
   "metadata": {
    "ExecuteTime": {
     "end_time": "2018-05-15T12:15:03.886874Z",
     "start_time": "2018-05-15T12:15:02.918427Z"
    }
   },
   "outputs": [],
   "source": [
    "from sklearn.linear_model import LinearRegression\n",
    "from sklearn.model_selection import train_test_split"
   ]
  },
  {
   "cell_type": "code",
   "execution_count": null,
   "metadata": {
    "ExecuteTime": {
     "end_time": "2018-05-15T12:29:32.649566Z",
     "start_time": "2018-05-15T12:29:32.638688Z"
    }
   },
   "outputs": [],
   "source": [
    "target_date = pd.to_datetime('20180411', format='%Y%m%d')\n",
    "df_rr = df_rr[df_rr['Date']==target_date]"
   ]
  },
  {
   "cell_type": "code",
   "execution_count": null,
   "metadata": {
    "ExecuteTime": {
     "end_time": "2018-05-15T12:29:34.733633Z",
     "start_time": "2018-05-15T12:29:33.258062Z"
    },
    "scrolled": false
   },
   "outputs": [],
   "source": [
    "data = []\n",
    "df_rr = df_rr[df_rr['Salary']>=3000]\n",
    "\n",
    "for pos in (['PG', 'SG', 'F', 'C']):\n",
    "    df_pos = df_rr[df_rr[pos]==1].reset_index(drop=True)\n",
    "    \n",
    "    trace = go.Scatter(x=df_pos['Salary'],\n",
    "                       y=df_pos['Actual'], \n",
    "                       mode='markers',\n",
    "                       text=df_pos['Name'],\n",
    "                       name=pos)\n",
    "    data.append(trace)\n",
    "\n",
    "    layout = go.Layout(\n",
    "        title = 'Salary-Return Relationship',\n",
    "        legend = {\"x\":0.9, 'y':0.2, 'borderwidth': 1},\n",
    "        hovermode = 'closest',\n",
    "        xaxis = {\"title\":\"Salary\"},\n",
    "        yaxis = {\"title\":\"Actual Return\"},\n",
    "    )\n",
    "\n",
    "\n",
    "reg = LinearRegression()\n",
    "reg.fit(df_rr['Salary'].values.reshape(-1,1), df_rr['Actual'].values.reshape(-1,1))\n",
    "\n",
    "x = np.random.randint(2800, 14300, 1000).tolist()\n",
    "y = reg.intercept_+reg.coef_*x\n",
    "reg_line = go.Scatter(x=x, \n",
    "                      y=y.flatten().tolist(),\n",
    "                      mode='lines',\n",
    "                      line={'color':'navy','width':1},\n",
    "                      name='Reg')\n",
    "    \n",
    "data.append(reg_line)\n",
    "\n",
    "fig = go.Figure(data=data, layout=layout)\n",
    "\n",
    "plot_url = py.plot(fig, filename='salary-return')\n",
    "plotly.offline.iplot(fig)"
   ]
  },
  {
   "cell_type": "markdown",
   "metadata": {},
   "source": [
    "### Visualize the path of Stars and Rookies"
   ]
  },
  {
   "cell_type": "code",
   "execution_count": null,
   "metadata": {
    "ExecuteTime": {
     "end_time": "2018-04-17T09:40:19.814922Z",
     "start_time": "2018-04-17T09:40:19.760311Z"
    },
    "code_folding": []
   },
   "outputs": [],
   "source": [
    "def visualize_salary(df, names):\n",
    "    \n",
    "    window = 5 \n",
    "    \n",
    "    for key in names.keys():\n",
    "        \n",
    "        data = []\n",
    "\n",
    "        for name in names[key]:\n",
    "\n",
    "            df_focus = df[df['Name']==name].sort_values(by='Date').reset_index(drop=True)\n",
    "            df_focus['Date'] = [pd.to_datetime(str(date), format='%Y%m%d') for date in df_focus['Date']]\n",
    "\n",
    "            x = [date for date in df_focus['Date']][window:]\n",
    "            y = df_focus['Salary'].rolling(window).mean()\n",
    "            \n",
    "            name_short = '. '.join([name.split(' ')[0][0], name.split(' ')[1]]) \n",
    "            \n",
    "            scatter = go.Scatter(x=x,\n",
    "                                 y=y, \n",
    "                                 mode='lines',\n",
    "                                 text=df_focus['Name'],\n",
    "                                 name=name_short)\n",
    "\n",
    "            data.append(scatter)\n",
    "\n",
    "\n",
    "        layout = go.Layout(\n",
    "            title = 'Evolution of {} ({}-day rolling mean)'.format(key, window),\n",
    "            legend = {'x':1.02, 'y':0.5, 'borderwidth': 1},\n",
    "            hovermode = 'closest',\n",
    "            xaxis = {'title':'Date'},\n",
    "            yaxis = {'title':'Salary'},\n",
    "        )\n",
    "\n",
    "\n",
    "        fig = go.Figure(data=data, layout=layout)\n",
    "        plotly.offline.iplot(fig)"
   ]
  },
  {
   "cell_type": "code",
   "execution_count": null,
   "metadata": {
    "ExecuteTime": {
     "end_time": "2018-04-17T09:40:22.499481Z",
     "start_time": "2018-04-17T09:40:22.102599Z"
    },
    "code_folding": []
   },
   "outputs": [],
   "source": [
    "players = {'Stars': ['LeBron James', 'Russell Westbrook', 'James Harden', 'Anthony Davis', 'Kevin Durant'],\n",
    "           'Rookies': ['Donovan Mitchell', 'Jayson Tatum', 'Ben Simmons', 'Kyle Kuzma', 'Lonzo Ball', 'Markelle Fultz']\n",
    "          }\n",
    "visualize_salary(df, players)"
   ]
  },
  {
   "cell_type": "markdown",
   "metadata": {},
   "source": [
    "### Visualize Top 10 Performances"
   ]
  },
  {
   "cell_type": "code",
   "execution_count": null,
   "metadata": {
    "ExecuteTime": {
     "end_time": "2018-05-13T20:50:00.479157Z",
     "start_time": "2018-05-13T20:50:00.444610Z"
    }
   },
   "outputs": [],
   "source": [
    "def visualize_top_n(df, stats, n):\n",
    "    \n",
    "    for stat in stats:\n",
    "        \n",
    "        data = []\n",
    "        \n",
    "        colors = cl.scales['11']['qual']['Paired']\n",
    "        positions = list(set(df['Pos']))\n",
    "        pos_color = {}\n",
    "        \n",
    "        for i, pos in enumerate(positions):\n",
    "            pos_color[pos] = colors[i]\n",
    "        \n",
    "        \n",
    "        df_stat = df.sort_values(by=stat, ascending=False).drop_duplicates(subset='Name').reset_index(drop=True).head(n)\n",
    "        \n",
    "        bar = go.Bar(x=df_stat['Name'],\n",
    "                     y=df_stat[stat],\n",
    "                     marker={'color': [pos_color[pos] for pos in df_stat['Pos']]},\n",
    "                     text=[pos for pos in df_stat['Pos']]\n",
    "                    )\n",
    "            \n",
    "        data.append(bar)\n",
    "\n",
    "        layout = go.Layout(\n",
    "            title = 'Top 10 in {}'.format(stat),\n",
    "            legend = {'x':1, 'y':1, 'borderwidth': 1},\n",
    "            hovermode = 'closest',\n",
    "            yaxis = {'title':'{}'.format(stat)},\n",
    "        )\n",
    "\n",
    "        fig = go.Figure(data=data, layout=layout)\n",
    "        plotly.offline.iplot(fig)"
   ]
  },
  {
   "cell_type": "code",
   "execution_count": null,
   "metadata": {
    "ExecuteTime": {
     "end_time": "2018-05-13T20:50:01.941057Z",
     "start_time": "2018-05-13T20:50:01.704212Z"
    },
    "scrolled": false
   },
   "outputs": [],
   "source": [
    "visualize_top_n(df, ['PTS','3P','AST','TRB','STL','BLK'], 10)"
   ]
  }
 ],
 "metadata": {
  "kernelspec": {
   "display_name": "Python 3",
   "language": "python",
   "name": "python3"
  },
  "language_info": {
   "codemirror_mode": {
    "name": "ipython",
    "version": 3
   },
   "file_extension": ".py",
   "mimetype": "text/x-python",
   "name": "python",
   "nbconvert_exporter": "python",
   "pygments_lexer": "ipython3",
   "version": "3.6.3"
  },
  "varInspector": {
   "cols": {
    "lenName": 16,
    "lenType": 16,
    "lenVar": 40
   },
   "kernels_config": {
    "python": {
     "delete_cmd_postfix": "",
     "delete_cmd_prefix": "del ",
     "library": "var_list.py",
     "varRefreshCmd": "print(var_dic_list())"
    },
    "r": {
     "delete_cmd_postfix": ") ",
     "delete_cmd_prefix": "rm(",
     "library": "var_list.r",
     "varRefreshCmd": "cat(var_dic_list()) "
    }
   },
   "types_to_exclude": [
    "module",
    "function",
    "builtin_function_or_method",
    "instance",
    "_Feature"
   ],
   "window_display": false
  }
 },
 "nbformat": 4,
 "nbformat_minor": 2
}
