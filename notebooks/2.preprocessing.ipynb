{
 "cells": [
  {
   "cell_type": "markdown",
   "metadata": {
    "ExecuteTime": {
     "end_time": "2018-04-01T13:44:04.014284Z",
     "start_time": "2018-04-01T13:44:03.293233Z"
    },
    "scrolled": false
   },
   "source": [
    "## Data Preprocessing\n",
    "\n",
    "- Concatenate files into one dataframe for each\n",
    "- Calculate FPTS\n",
    "- Resolve name inconsistency"
   ]
  },
  {
   "cell_type": "code",
   "execution_count": 2,
   "metadata": {
    "ExecuteTime": {
     "end_time": "2019-04-09T15:50:03.696596Z",
     "start_time": "2019-04-09T15:50:03.689523Z"
    }
   },
   "outputs": [],
   "source": [
    "import os\n",
    "import glob\n",
    "import time\n",
    "import pickle\n",
    "import numpy as np\n",
    "import pandas as pd\n",
    "from tqdm import tqdm_notebook as tqdm\n",
    "from datetime        import datetime\n",
    "from urllib.request  import urlopen\n",
    "from bs4             import BeautifulSoup\n",
    "\n",
    "pd.set_option(\"display.max_columns\",40)"
   ]
  },
  {
   "cell_type": "code",
   "execution_count": 9,
   "metadata": {
    "ExecuteTime": {
     "end_time": "2019-02-13T23:16:14.744615Z",
     "start_time": "2019-02-13T23:16:14.741627Z"
    }
   },
   "outputs": [],
   "source": [
    "cwd = os.getcwd().replace('/notebooks','')\n",
    "data_dir = os.path.join(cwd, 'data')\n",
    "season = '2018-19'"
   ]
  },
  {
   "cell_type": "markdown",
   "metadata": {},
   "source": [
    "### Game Data from Basketball Reference"
   ]
  },
  {
   "cell_type": "code",
   "execution_count": 10,
   "metadata": {
    "ExecuteTime": {
     "end_time": "2019-02-13T23:16:15.827326Z",
     "start_time": "2019-02-13T23:16:15.819474Z"
    },
    "scrolled": false
   },
   "outputs": [],
   "source": [
    "#Concatenate all csv files under a directory\n",
    "def csv_concatenate(folder_path):\n",
    "    files = glob.glob(folder_path + \"/*.csv\")\n",
    "    df_list = []\n",
    "    for file in tqdm(files):\n",
    "        df_list.append(pd.read_csv(file, parse_dates=True, infer_datetime_format=True))\n",
    "    #Fill nan with 0s as some values are empty for percentage points\n",
    "    df = pd.concat(df_list).fillna(0).reset_index(drop=True)\n",
    "    return df"
   ]
  },
  {
   "cell_type": "code",
   "execution_count": 11,
   "metadata": {
    "ExecuteTime": {
     "end_time": "2019-02-13T23:16:16.443450Z",
     "start_time": "2019-02-13T23:16:16.437524Z"
    },
    "scrolled": false
   },
   "outputs": [],
   "source": [
    "def calculate_FPTS(df):\n",
    "    #Scoring rules based on https://www.draftkings.co.uk/help/rules/4\n",
    "    multipliers = {'PTS':1, '3P': 0.5, 'TRB':1.25, 'AST':1.5, 'STL':2, 'BLK':2, 'TOV':-0.5}\n",
    "\n",
    "    fpts_list = []\n",
    "    \n",
    "    for i in tqdm(range(df.shape[0])):\n",
    "        fpts = 0\n",
    "        doubles_count = 0\n",
    "        for stat, multiplier in multipliers.items():\n",
    "            if stat in ['PTS', 'TRB', 'AST', 'STL', 'BLK']:\n",
    "                if df.loc[i, stat] >= 10:\n",
    "                    doubles_count += 1\n",
    "            fpts += df.loc[i, stat]*multiplier\n",
    "        \n",
    "        if doubles_count >= 2:\n",
    "            fpts += 1.5\n",
    "            \n",
    "        if doubles_count >= 3:\n",
    "            fpts += 3\n",
    "            \n",
    "        fpts_list.append(fpts) \n",
    "        \n",
    "    return fpts_list"
   ]
  },
  {
   "cell_type": "code",
   "execution_count": 12,
   "metadata": {
    "ExecuteTime": {
     "end_time": "2019-02-13T23:16:17.016902Z",
     "start_time": "2019-02-13T23:16:17.010516Z"
    }
   },
   "outputs": [],
   "source": [
    "def add_doubles(df):\n",
    "    \n",
    "    dd = [0 for i in range(df.shape[0])]\n",
    "    td = [0 for i in range(df.shape[0])]\n",
    "    \n",
    "    for i in tqdm(range(df.shape[0])):\n",
    "        doubles_count = 0\n",
    "        check_doubles = ['PTS','TRB', 'AST', 'STL', 'BLK']\n",
    "        \n",
    "        for stat in check_doubles:\n",
    "            if df.loc[i, stat] >= 10:\n",
    "                doubles_count += 1\n",
    "        \n",
    "        if doubles_count >= 2:\n",
    "            dd[i] = 1\n",
    "        if doubles_count >= 3:\n",
    "            td[i] = 1\n",
    "   \n",
    "    df['DD'] = dd\n",
    "    df['TD'] = td"
   ]
  },
  {
   "cell_type": "code",
   "execution_count": 13,
   "metadata": {
    "ExecuteTime": {
     "end_time": "2019-02-13T23:16:32.660662Z",
     "start_time": "2019-02-13T23:16:17.561005Z"
    },
    "scrolled": false
   },
   "outputs": [
    {
     "data": {
      "application/vnd.jupyter.widget-view+json": {
       "model_id": "9827661a46ba46b1b5a05ad1c2188c4e",
       "version_major": 2,
       "version_minor": 0
      },
      "text/plain": [
       "HBox(children=(IntProgress(value=0, max=1704), HTML(value='')))"
      ]
     },
     "metadata": {},
     "output_type": "display_data"
    },
    {
     "name": "stdout",
     "output_type": "stream",
     "text": [
      "\n"
     ]
    },
    {
     "data": {
      "application/vnd.jupyter.widget-view+json": {
       "model_id": "1cfcd6dcb05644238b1eaa5666e79ca6",
       "version_major": 2,
       "version_minor": 0
      },
      "text/plain": [
       "HBox(children=(IntProgress(value=0, max=21081), HTML(value='')))"
      ]
     },
     "metadata": {},
     "output_type": "display_data"
    },
    {
     "name": "stdout",
     "output_type": "stream",
     "text": [
      "\n"
     ]
    },
    {
     "data": {
      "application/vnd.jupyter.widget-view+json": {
       "model_id": "9f1c7a6eddb343958d87d8611518e0f5",
       "version_major": 2,
       "version_minor": 0
      },
      "text/plain": [
       "HBox(children=(IntProgress(value=0, max=21081), HTML(value='')))"
      ]
     },
     "metadata": {},
     "output_type": "display_data"
    },
    {
     "name": "stdout",
     "output_type": "stream",
     "text": [
      "\n"
     ]
    }
   ],
   "source": [
    "df_games = csv_concatenate(os.path.join(data_dir, 'Games', season))\n",
    "df_games['FPTS'] = calculate_FPTS(df_games)\n",
    "add_doubles(df_games)\n",
    "columns = ['Name', 'Date', 'Team',  'FPTS', 'Home','W', 'W_PTS', 'L', 'L_PTS', 'MP',\n",
    "           'FG', 'FGA', 'FG_perc', '3P', '3PA', '3P_perc', 'FT', 'FTA', 'FT_perc',\n",
    "           'ORB', 'DRB', 'TRB', 'AST', 'STL', 'BLK', 'TOV', 'PF', 'PTS', 'DD', 'TD', \n",
    "           'USG_perc','DRtg','ORtg','AST_perc','DRB_perc','ORB_perc','BLK_perc','TOV_perc','STL_perc','eFG_perc']\n",
    "df_games = df_games.loc[:, columns]"
   ]
  },
  {
   "cell_type": "markdown",
   "metadata": {
    "ExecuteTime": {
     "end_time": "2018-03-13T16:06:50.196829Z",
     "start_time": "2018-03-13T16:06:50.193649Z"
    },
    "collapsed": true
   },
   "source": [
    "### Name Standardization "
   ]
  },
  {
   "cell_type": "code",
   "execution_count": 15,
   "metadata": {
    "ExecuteTime": {
     "end_time": "2019-02-13T23:16:34.149447Z",
     "start_time": "2019-02-13T23:16:34.141844Z"
    }
   },
   "outputs": [],
   "source": [
    "def parse_name(term):\n",
    "    search_url = 'https://www.basketball-reference.com/search/search.fcgi?hint=&search={term}&pid=&idx='\n",
    "    name_url = search_url.format(term=term.replace(' ','+'))\n",
    "    soup = BeautifulSoup(urlopen(name_url),'html5lib')\n",
    "    \n",
    "    #Check if there is ambiguity in the name\n",
    "    if soup.find('h1').get_text() != 'Search Results':\n",
    "        return soup.find('h1').get_text()\n",
    "    \n",
    "    \n",
    "    elif (soup.find('div', id='players', class_='current') == None):\n",
    "        if (len(term.split(' ')) > 2) or ('.' in term):\n",
    "            #Parse again without periods and with first two names\n",
    "            new_term = ' '.join(term.replace('.','').split(' ')[:2])\n",
    "            return parse_name(new_term)\n",
    "        else:\n",
    "            return np.nan\n",
    "                    \n",
    "    else:        \n",
    "        items = soup.find('div', id='players', class_='current').find_all('div', class_='search-item-name')\n",
    "        current_years = (int(season[:4]), int(season[:2]+season[-2:]))\n",
    "        candidates = []\n",
    "        \n",
    "        for item in items:\n",
    "            name = item.find('a').get_text()\n",
    "\n",
    "            if '(' not in name:\n",
    "                candidates.append(name)\n",
    "\n",
    "            else:\n",
    "                career = name[name.find('(')+1:name.find(')')].split('-')\n",
    "                if len(career) == 1:\n",
    "                    if int(career[0]) in current_years:\n",
    "                        candidates.append(name[:name.find(' (')])\n",
    "                else:\n",
    "                    start = int(career[0])\n",
    "                    end = int(career[1])\n",
    "\n",
    "                    for year in current_years: \n",
    "                        if year in range(start, end+1):\n",
    "                            candidates.append(name[:name.find(' (')])\n",
    "                            break\n",
    "                            \n",
    "        if len(candidates) != 0:\n",
    "            for candidate in candidates:\n",
    "                if term in candidate:\n",
    "                    return candidate\n",
    "            return candidates[0]\n",
    "        \n",
    "        else:\n",
    "            return np.nan\n",
    "      "
   ]
  },
  {
   "cell_type": "code",
   "execution_count": 16,
   "metadata": {
    "ExecuteTime": {
     "end_time": "2019-02-13T23:16:35.115108Z",
     "start_time": "2019-02-13T23:16:35.109455Z"
    }
   },
   "outputs": [],
   "source": [
    "def generate_standard_names(df):\n",
    "    names = list(set(df['Name']))\n",
    "    standard_names = []\n",
    "    \n",
    "    for i, name in enumerate(names):\n",
    "        standard_name = parse_name(name)\n",
    "        print(i, standard_name)\n",
    "        standard_names.append(standard_name)\n",
    "        time.sleep(1)\n",
    "    \n",
    "    return standard_names"
   ]
  },
  {
   "cell_type": "code",
   "execution_count": 17,
   "metadata": {
    "ExecuteTime": {
     "end_time": "2019-02-13T23:16:35.726469Z",
     "start_time": "2019-02-13T23:16:35.720173Z"
    }
   },
   "outputs": [],
   "source": [
    "def standardize_names(df, standard_names):\n",
    "    names = list(set(df['Name']))\n",
    "    \n",
    "    df = df.dropna().reset_index(drop=True)\n",
    "    \n",
    "    diff = [name for name in names if name not in standard_names]\n",
    "    print('{} items are standardized ...'.format(len(diff)))\n",
    "    \n",
    "    names_conversion = {}\n",
    "    \n",
    "    for name in tqdm(names):\n",
    "        if name in diff:\n",
    "            names_conversion[name] = parse_name(name)\n",
    "            time.sleep(1)\n",
    "    \n",
    "    for i in range(df.shape[0]):\n",
    "        name = df.loc[i,'Name']\n",
    "        if name in names_conversion.keys():\n",
    "            df.loc[i,'Name'] = names_conversion[name]\n",
    "            "
   ]
  },
  {
   "cell_type": "code",
   "execution_count": 18,
   "metadata": {
    "ExecuteTime": {
     "end_time": "2019-02-13T23:16:36.378186Z",
     "start_time": "2019-02-13T23:16:36.372060Z"
    }
   },
   "outputs": [],
   "source": [
    "def generate_name_pos(df):\n",
    "    \n",
    "    name_pos = {}\n",
    "    \n",
    "    for name in set(df['Name']):\n",
    "        pos = df.loc[(df['Name']==name) & (df['Pos']!=0), 'Pos'].mode()\n",
    "        if len(pos) != 0:\n",
    "            name_pos[name] = pos[0]\n",
    "    \n",
    "    return name_pos"
   ]
  },
  {
   "cell_type": "code",
   "execution_count": 19,
   "metadata": {
    "ExecuteTime": {
     "end_time": "2019-02-13T23:16:36.987596Z",
     "start_time": "2019-02-13T23:16:36.978058Z"
    }
   },
   "outputs": [],
   "source": [
    "def fill_pos(df):\n",
    "    \n",
    "    name_pos = generate_name_pos(df)\n",
    "    \n",
    "    for i in tqdm(range(df.shape[0])):\n",
    "        if df.loc[i, 'Pos'] == 0:\n",
    "            name = df.loc[i, 'Name']\n",
    "            if name in name_pos.keys():\n",
    "                #print(df.loc[i,'Date'], name)\n",
    "                df.loc[i, 'Pos'] = name_pos[name]"
   ]
  },
  {
   "cell_type": "code",
   "execution_count": 20,
   "metadata": {
    "ExecuteTime": {
     "end_time": "2019-02-13T23:16:38.000536Z",
     "start_time": "2019-02-13T23:16:37.583923Z"
    }
   },
   "outputs": [
    {
     "data": {
      "application/vnd.jupyter.widget-view+json": {
       "model_id": "a85bd0f8652c4f7ba43d5e2412589c90",
       "version_major": 2,
       "version_minor": 0
      },
      "text/plain": [
       "HBox(children=(IntProgress(value=0, max=118), HTML(value='')))"
      ]
     },
     "metadata": {},
     "output_type": "display_data"
    },
    {
     "name": "stdout",
     "output_type": "stream",
     "text": [
      "\n"
     ]
    }
   ],
   "source": [
    "df_salary = csv_concatenate(os.path.join(data_dir, 'DKSalary', season))"
   ]
  },
  {
   "cell_type": "code",
   "execution_count": 21,
   "metadata": {
    "ExecuteTime": {
     "end_time": "2019-02-13T23:42:48.698954Z",
     "start_time": "2019-02-13T23:16:38.729979Z"
    }
   },
   "outputs": [
    {
     "name": "stdout",
     "output_type": "stream",
     "text": [
      "0 Kevon Looney\n",
      "1 Victor Oladipo\n",
      "2 Marcin Gortat\n",
      "3 Jabari Bird\n",
      "4 Patty Mills\n",
      "5 Vince Edwards\n",
      "6 Kent Bazemore\n",
      "7 Stanley Johnson\n",
      "8 Jalen Jones\n",
      "9 Deandre Ayton\n",
      "10 Mario Hezonja\n",
      "11 Isaiah Hicks\n",
      "12 Ben Moore\n",
      "13 Dwight Howard\n",
      "14 T.J. McConnell\n",
      "15 Taj Gibson\n",
      "16 Luke Kennard\n",
      "17 Alex Abrines\n",
      "18 Ivica Zubac\n",
      "19 Omri Casspi\n",
      "20 Matthew Dellavedova\n",
      "21 Gordon Hayward\n",
      "22 Reggie Bullock\n",
      "23 Jonas Jerebko\n",
      "24 Brandon Sampson\n",
      "25 Thomas Bryant\n",
      "26 Jusuf Nurkic\n",
      "27 Markelle Fultz\n",
      "28 Jerome Robinson\n",
      "29 Robin Lopez\n",
      "30 Dragan Bender\n",
      "31 Tyler Cavanaugh\n",
      "32 Mike Scott\n",
      "33 Angel Delgado\n",
      "34 Damyean Dotson\n",
      "35 Frank Jackson\n",
      "36 R.J. Hunter\n",
      "37 Troy Williams\n",
      "38 Ben Simmons\n",
      "39 Terry Rozier\n",
      "40 Jordan McRae\n",
      "41 Dante Exum\n",
      "42 Serge Ibaka\n",
      "43 Denzel Valentine\n",
      "44 Isaiah Hartenstein\n",
      "45 Donte DiVincenzo\n",
      "46 Andre Iguodala\n",
      "47 Devin Harris\n",
      "48 Nicolas Batum\n",
      "49 Sviatoslav Mykhailiuk\n",
      "50 Bogdan Bogdanovic\n",
      "51 Damian Jones\n",
      "52 Udonis Haslem\n",
      "53 DeMarre Carroll\n",
      "54 Ryan Arcidiacono\n",
      "55 Gary Payton II\n",
      "56 Darren Collison\n",
      "57 Timofey Mozgov\n",
      "58 Nick Young\n",
      "59 Salah Mejri\n",
      "60 Troy Brown Jr.\n",
      "61 Mitchell Robinson\n",
      "62 Thomas Welsh\n",
      "63 Amile Jefferson\n",
      "64 Eric Moreland\n",
      "65 Vince Carter\n",
      "66 Shaquille Harrison\n",
      "67 Rawle Alkins\n",
      "68 Shaun Livingston\n",
      "69 Tobias Harris\n",
      "70 Justin Jackson\n",
      "71 Jamal Murray\n",
      "72 Trey Lyles\n",
      "73 Al Horford\n",
      "74 Troy Daniels\n",
      "75 Willie Cauley-Stein\n",
      "76 D'Angelo Russell\n",
      "77 Kenneth Faried\n",
      "78 Willy Hernangomez\n",
      "79 Dewayne Dedmon\n",
      "80 DeMar DeRozan\n",
      "81 Evan Fournier\n",
      "82 Wesley Matthews\n",
      "83 Quincy Pondexter\n",
      "84 Derrick Jones Jr.\n",
      "85 Kyle Korver\n",
      "86 Malcolm Brogdon\n",
      "87 Frank Kaminsky\n",
      "88 LeBron James\n",
      "89 Kemba Walker\n",
      "90 Nemanja Bjelica\n",
      "91 Gary Harris\n",
      "92 Haywood Highsmith\n",
      "93 Lorenzo Brown\n",
      "94 Keenan Evans\n",
      "95 T.J. Warren\n",
      "96 Kevin Love\n",
      "97 Cameron Payne\n",
      "98 Lonzo Ball\n",
      "99 Nikola Jokic\n",
      "100 Andre Roberson\n",
      "101 Amir Johnson\n",
      "102 Sterling Brown\n",
      "103 Dennis Smith Jr.\n",
      "104 Noah Vonleh\n",
      "105 Brad Wanamaker\n",
      "106 Mike Conley\n",
      "107 D.J. Wilson\n",
      "108 Dillon Brooks\n",
      "109 DeVaughn Akoon-Purcell\n",
      "110 Kyle Lowry\n",
      "111 Gorgui Dieng\n",
      "112 Miles Bridges\n",
      "113 Daryl Macon\n",
      "114 Semi Ojeleye\n",
      "115 Justise Winslow\n",
      "116 Anfernee Simons\n",
      "117 John Collins\n",
      "118 Davon Reed\n",
      "119 Caris LeVert\n",
      "120 Andrew Wiggins\n",
      "121 Landry Shamet\n",
      "122 Julian Washburn\n",
      "123 Zach Lofton\n",
      "124 Melvin Frazier\n",
      "125 Patrick Beverley\n",
      "126 Tyler Johnson\n",
      "127 Jeremy Lamb\n",
      "128 Trevon Duval\n",
      "129 Pascal Siakam\n",
      "130 Blake Griffin\n",
      "131 Lauri Markkanen\n",
      "132 Aaron Holiday\n",
      "133 Duncan Robinson\n",
      "134 Ike Anigbogu\n",
      "135 Joe Chealey\n",
      "136 Chandler Parsons\n",
      "137 Grayson Allen\n",
      "138 D.J. Augustin\n",
      "139 Shelvin Mack\n",
      "140 James Harden\n",
      "141 Trevon Bluiett\n",
      "142 Reggie Jackson\n",
      "143 Tyler Davis\n",
      "144 Jahlil Okafor\n",
      "145 Devonte' Graham\n",
      "146 Marvin Williams\n",
      "147 Luke Kornet\n",
      "148 Ante Zizic\n",
      "149 Elie Okobo\n",
      "150 Michael Carter-Williams\n",
      "151 Miles Plumlee\n",
      "152 Kevin Huerter\n",
      "153 Kosta Koufos\n",
      "154 Kyle O'Quinn\n",
      "155 DeMarcus Cousins\n",
      "156 Michael Porter Jr.\n",
      "157 Thabo Sefolosha\n",
      "158 Mitch Creek\n",
      "159 LaMarcus Aldridge\n",
      "160 Zach Collins\n",
      "161 Robert Williams\n",
      "162 De'Anthony Melton\n",
      "163 Jrue Holiday\n",
      "164 Skal Labissiere\n",
      "165 Pat Connaughton\n",
      "166 Tim Hardaway Jr.\n",
      "167 Tomas Satoransky\n",
      "168 Jeff Green\n",
      "169 Joe Harris\n",
      "170 Goran Dragic\n",
      "171 Bryn Forbes\n",
      "172 Marcus Smart\n",
      "173 Marvin Bagley III\n",
      "174 Luol Deng\n",
      "175 Jacob Evans\n",
      "176 Kelly Oubre Jr.\n",
      "177 Isaiah Thomas\n",
      "178 Stephen Curry\n",
      "179 Gary Clark\n",
      "180 Alan Williams\n",
      "181 Trae Young\n",
      "182 James Ennis\n",
      "183 Michael Beasley\n",
      "184 Patrick Patterson\n",
      "185 Quincy Acy\n",
      "186 Ian Mahinmi\n",
      "187 Spencer Dinwiddie\n",
      "188 Markieff Morris\n",
      "189 Ryan Anderson\n",
      "190 nan\n",
      "191 Enes Kanter\n",
      "192 Mohamed Bamba\n",
      "193 Deonte Burton\n",
      "194 Rondae Hollis-Jefferson\n",
      "195 Timothe Luwawu-Cabarrot\n",
      "196 J.R. Smith\n",
      "197 Kyrie Irving\n",
      "198 Jonathon Simmons\n",
      "199 Daniel Theis\n",
      "200 Hassan Whiteside\n",
      "201 Furkan Korkmaz\n",
      "202 Nene\n",
      "203 Terrance Ferguson\n",
      "204 Jaylen Morris\n",
      "205 J.P. Macura\n",
      "206 Jarred Vanderbilt\n",
      "207 Gary Trent Jr.\n",
      "208 Jon Leuer\n",
      "209 Alex Poythress\n",
      "210 Jeff Teague\n",
      "211 Frank Mason III\n",
      "212 Donovan Mitchell\n",
      "213 Hamidou Diallo\n",
      "214 Rodney McGruder\n",
      "215 Frank Ntilikina\n",
      "216 Jakob Poeltl\n",
      "217 D.J. Stephens\n",
      "218 Lou Williams\n",
      "219 Wayne Selden\n",
      "220 Torrey Craig\n",
      "221 Kevin Knox\n",
      "222 Alfonzo McKinnie\n",
      "223 Elfrid Payton\n",
      "224 Derrick Favors\n",
      "225 Khem Birch\n",
      "226 Shake Milton\n",
      "227 Giannis Antetokounmpo\n",
      "228 Allen Crabbe\n",
      "229 Josh Okogie\n",
      "230 Wayne Ellington\n",
      "231 Aaron Gordon\n",
      "232 Kristaps Porzingis\n",
      "233 Billy Preston\n",
      "234 Mike Muscala\n",
      "235 Raymond Felton\n",
      "236 Terrence Ross\n",
      "237 Jaren Jackson Jr.\n",
      "238 OG Anunoby\n",
      "239 Marcus Morris\n",
      "240 Channing Frye\n",
      "241 Brandon Ingram\n",
      "242 Tyus Jones\n",
      "243 Wenyen Gabriel\n",
      "244 Brandon Knight\n",
      "245 Naz Mitrou-Long\n",
      "246 Jordan Loyd\n",
      "247 JaMychal Green\n",
      "248 Wesley Johnson\n",
      "249 Tony Parker\n",
      "250 Antonio Blakeney\n",
      "251 Thon Maker\n",
      "252 Jerami Grant\n",
      "253 Drew Eubanks\n",
      "254 Jonathan Isaac\n",
      "255 Jared Terrell\n",
      "256 Ish Smith\n",
      "257 Emmanuel Mudiay\n",
      "258 Delon Wright\n",
      "259 Cody Zeller\n",
      "260 Jae Crowder\n",
      "261 C.J. McCollum G-League Stats\n",
      "262 Chimezie Metu\n",
      "263 Domantas Sabonis\n",
      "264 Nik Stauskas\n",
      "265 Jodie Meeks\n",
      "266 Rodney Hood\n",
      "267 Zach Randolph\n",
      "268 Theo Pinson\n",
      "269 Bobby Portis\n",
      "270 Treveon Graham\n",
      "271 Wesley Iwundu\n",
      "272 Travis Wear\n",
      "273 Quinn Cook\n",
      "274 Luka Doncic\n",
      "275 George King\n",
      "276 Ian Clark\n",
      "277 Eric Gordon\n",
      "278 Russell Westbrook\n",
      "279 Fred VanVleet\n",
      "280 Marco Belinelli\n",
      "281 Jevon Carter\n",
      "282 Joe Ingles\n",
      "283 Isaac Bonga\n",
      "284 Nikola Mirotic\n",
      "285 Corey Brewer\n",
      "286 Langston Galloway\n",
      "287 Jose Calderon\n",
      "288 Evan Turner\n",
      "289 Chris Boucher\n",
      "290 Jason Smith\n",
      "291 Malachi Richardson\n",
      "292 Tristan Thompson\n",
      "293 Danny Green\n",
      "294 Solomon Hill\n",
      "295 Al-Farouq Aminu\n",
      "296 Paul Millsap\n",
      "297 Cristiano Felicio\n",
      "298 Jaylen Adams\n",
      "299 Alex Len\n",
      "300 Raul Neto\n",
      "301 Jordan Bell\n",
      "302 Bojan Bogdanovic\n",
      "303 Derrick White\n",
      "304 Larry Nance Jr.\n",
      "305 Maurice Harkless\n",
      "306 Anthony Tolliver\n",
      "307 Will Barton\n",
      "308 Yuta Watanabe\n",
      "309 Emanuel Terry\n",
      "310 Danuel House\n",
      "311 Cedi Osman\n",
      "312 Guerschon Yabusele\n",
      "313 Juan Hernangomez\n",
      "314 Kenrich Williams\n",
      "315 Jarell Martin\n",
      "316 Kyle Kuzma\n",
      "317 Steven Adams\n",
      "318 Georges Niang\n",
      "319 Jaylen Brown\n",
      "320 Ivan Rabb\n",
      "321 Avery Bradley\n",
      "322 Doug McDermott\n",
      "323 Dejounte Murray\n",
      "324 Damion Lee\n",
      "325 Henry Ellenson\n",
      "326 Rajon Rondo\n",
      "327 Jonas Valanciunas\n",
      "328 John Henson\n",
      "329 Johnathan Williams\n",
      "330 Ricky Rubio\n",
      "331 Marquese Chriss\n",
      "332 Jonah Bolden\n",
      "333 Iman Shumpert\n",
      "334 Joel Embiid\n",
      "335 Monte Morris\n",
      "336 Thaddeus Young\n",
      "337 Aron Baynes\n",
      "338 Shabazz Napier\n",
      "339 Anthony Davis\n",
      "340 Jeremy Lin\n",
      "341 Joakim Noah\n",
      "342 Nerlens Noel\n",
      "343 Troy Caupain\n",
      "344 Ekpe Udoh\n",
      "345 Johnathan Motley\n",
      "346 Khyri Thomas\n",
      "347 Tyreke Evans\n",
      "348 Zaza Pachulia\n",
      "349 Kelly Olynyk\n",
      "350 Ron Baker\n",
      "351 Okaro White\n",
      "352 Deng Adel\n",
      "353 James Nunnally\n",
      "354 Kyle Anderson\n",
      "355 Walter Lemon Jr. Europe Stats\n",
      "356 Harrison Barnes\n",
      "357 Jarrett Allen\n",
      "358 E'Twaun Moore\n",
      "359 Dwight Powell\n",
      "360 Otto Porter\n",
      "361 J.J. Redick\n",
      "362 Wendell Carter Jr.\n",
      "363 Jake Layman\n",
      "364 Brandon Goodwin\n",
      "365 Devin Booker\n",
      "366 Moritz Wagner\n",
      "367 Austin Rivers\n",
      "368 Jawun Evans\n",
      "369 Darius Miller\n",
      "370 Ersan Ilyasova\n",
      "371 Isaiah Whitehead\n",
      "372 Ryan Broekhoff\n",
      "373 Tony Snell\n",
      "374 Sam Dekker\n",
      "375 Bruno Caboclo\n",
      "376 Klay Thompson\n",
      "377 Trey Burke\n",
      "378 Caleb Swanigan\n",
      "379 Tyler Ulis\n",
      "380 Paul George\n",
      "381 Courtney Lee\n",
      "382 Lance Stephenson\n",
      "383 Montrezl Harrell\n",
      "384 John Jenkins\n",
      "385 Dion Waiters\n",
      "386 Justin Holiday\n",
      "387 Kris Dunn\n",
      "388 Ray Spalding\n",
      "389 Harry Giles\n",
      "390 Robert Covington\n",
      "391 Malik Monk\n",
      "392 Wilson Chandler\n",
      "393 Carmelo Anthony\n",
      "394 Dwyane Wade\n",
      "395 Garrett Temple\n",
      "396 James Johnson\n",
      "397 John Wall\n",
      "398 Pau Gasol\n",
      "399 Cory Joseph\n",
      "400 Zach LaVine\n",
      "401 Tyson Chandler\n",
      "402 Omer Asik\n",
      "403 David Nwaba\n",
      "404 Andrew Harrison\n",
      "405 Karl-Anthony Towns\n",
      "406 Davis Bertans\n",
      "407 Donte Grantham\n",
      "408 Jamal Crawford\n",
      "409 Rudy Gay\n",
      "410 Boban Marjanovic\n",
      "411 Jaron Blossomgame\n",
      "412 MarShon Brooks\n",
      "413 Jordan Clarkson\n",
      "414 Christian Wood\n",
      "415 Norman Powell\n",
      "416 Kobi Simmons\n",
      "417 Damian Lillard\n",
      "418 Bam Adebayo\n",
      "419 Luc Mbah a Moute\n",
      "420 DeAndre Jordan\n",
      "421 Marc Gasol\n",
      "422 Jalen Brunson\n",
      "423 Kadeem Allen\n",
      "424 Eric Bledsoe\n",
      "425 Mason Plumlee\n",
      "426 Dante Cunningham\n",
      "427 Brook Lopez\n",
      "428 Omari Spellman\n",
      "429 Josh Hart\n",
      "430 Bradley Beal\n",
      "431 Michael Kidd-Gilchrist\n",
      "432 Tyrone Wallace\n",
      "433 Josh Richardson\n",
      "434 Rudy Gobert\n",
      "435 Jared Dudley\n",
      "436 Keita Bates-Diop\n",
      "437 Dwayne Bacon\n",
      "438 Julius Randle\n",
      "439 Ben McLemore\n",
      "440 nan\n",
      "441 Kalin Lucas\n",
      "442 Draymond Green\n",
      "443 Tony Bradley\n",
      "444 Shai Gilgeous-Alexander\n",
      "445 Greg Monroe\n",
      "446 Danilo Gallinari\n",
      "447 Justin Anderson\n",
      "448 Derrick Rose\n",
      "449 T.J. Leaf\n",
      "450 JaVale McGee\n",
      "451 C.J. Williams\n",
      "452 John Holland\n",
      "453 Bonzie Colson\n",
      "454 Jerian Grant\n",
      "455 Daniel Hamilton\n",
      "456 Nikola Vucevic\n",
      "457 Demetrius Jackson\n",
      "458 Alec Burks\n"
     ]
    },
    {
     "name": "stdout",
     "output_type": "stream",
     "text": [
      "459 Isaiah Canaan\n",
      "460 Yante Maten\n",
      "461 Justin Patton\n",
      "462 Kostas Antetokounmpo\n",
      "463 Josh Jackson\n",
      "464 Collin Sexton\n",
      "465 Alex Caruso\n",
      "466 Myles Turner\n",
      "467 Dirk Nowitzki\n",
      "468 Tyler Dorsey\n",
      "469 PJ Dozier\n",
      "470 Kentavious Caldwell-Pope\n",
      "471 Dorian Finney-Smith\n",
      "472 Chandler Hutchison\n",
      "473 Malik Beasley\n",
      "474 Meyers Leonard\n",
      "475 Jerryd Bayless\n",
      "476 Tim Frazier\n",
      "477 Royce O'Neale\n",
      "478 Ed Davis\n",
      "479 Glenn Robinson III\n",
      "480 Sindarius Thornwell\n",
      "481 Edmond Sumner\n",
      "482 Stephan Hicks\n",
      "483 George Hill\n",
      "484 Maxi Kleber\n",
      "485 Kawhi Leonard\n",
      "486 Dzanan Musa\n",
      "487 Gerald Green\n",
      "488 Yogi Ferrell\n",
      "489 Bruce Brown\n",
      "490 Isaiah Briscoe\n",
      "491 De'Aaron Fox\n",
      "492 Jayson Tatum\n",
      "493 Chasson Randle\n",
      "494 Lance Thomas\n",
      "495 Devin Robinson\n",
      "496 Taurean Prince\n",
      "497 Jimmy Butler\n",
      "498 C.J. Miles\n",
      "499 P.J. Tucker\n",
      "500 DeAndre' Bembry\n",
      "501 Wade Baldwin\n",
      "502 Clint Capela\n",
      "503 Tyler Lydon\n",
      "504 Andre Drummond\n",
      "505 Chris Paul\n",
      "506 Marcus Derrickson\n",
      "507 Khris Middleton\n",
      "508 Alize Johnson\n",
      "509 Kevin Durant\n",
      "510 Richaun Holmes\n",
      "511 Rodions Kurucs\n",
      "512 Lonnie Walker\n",
      "513 Allonzo Trier\n",
      "514 Zhou Qi\n",
      "515 Zhaire Smith\n",
      "516 Milos Teodosic\n",
      "517 Dario Saric\n",
      "518 Seth Curry\n",
      "519 Cheick Diallo\n",
      "520 J.J. Barea\n",
      "521 Trevor Ariza\n",
      "522 Abdel Nader\n",
      "523 Bismack Biyombo\n",
      "524 Mikal Bridges\n",
      "525 Jabari Parker\n",
      "526 Buddy Hield\n",
      "527 Patrick McCaw\n",
      "528 Dennis Schroder\n"
     ]
    }
   ],
   "source": [
    "#Takes about 30 mins\n",
    "\n",
    "standard_names = generate_standard_names(df_salary)\n",
    "with open(os.path.join(data_dir, 'standard_names','{}.npy'.format(season)), \"wb\") as fp:\n",
    "    pickle.dump(standard_names, fp) "
   ]
  },
  {
   "cell_type": "code",
   "execution_count": 22,
   "metadata": {
    "ExecuteTime": {
     "end_time": "2019-02-13T23:42:48.706355Z",
     "start_time": "2019-02-13T23:42:48.701532Z"
    }
   },
   "outputs": [],
   "source": [
    "with open(os.path.join(data_dir, 'standard_names', '{}.npy'.format(season)), \"rb\") as fp:\n",
    "    standard_names = pickle.load(fp)"
   ]
  },
  {
   "cell_type": "code",
   "execution_count": 23,
   "metadata": {
    "ExecuteTime": {
     "end_time": "2019-02-13T23:43:54.035920Z",
     "start_time": "2019-02-13T23:42:48.708781Z"
    }
   },
   "outputs": [
    {
     "name": "stdout",
     "output_type": "stream",
     "text": [
      "24 items are standardized ...\n"
     ]
    },
    {
     "data": {
      "application/vnd.jupyter.widget-view+json": {
       "model_id": "5767dfee633742348e1d1ce92bbb54d7",
       "version_major": 2,
       "version_minor": 0
      },
      "text/plain": [
       "HBox(children=(IntProgress(value=0, max=529), HTML(value='')))"
      ]
     },
     "metadata": {},
     "output_type": "display_data"
    },
    {
     "name": "stdout",
     "output_type": "stream",
     "text": [
      "\n"
     ]
    }
   ],
   "source": [
    "standardize_names(df_salary, standard_names)"
   ]
  },
  {
   "cell_type": "code",
   "execution_count": 24,
   "metadata": {
    "ExecuteTime": {
     "end_time": "2019-02-13T23:44:47.126201Z",
     "start_time": "2019-02-13T23:43:54.038980Z"
    }
   },
   "outputs": [
    {
     "name": "stdout",
     "output_type": "stream",
     "text": [
      "17 items are standardized ...\n"
     ]
    },
    {
     "data": {
      "application/vnd.jupyter.widget-view+json": {
       "model_id": "d7571a3eb6084e02b0e603cae0f23f58",
       "version_major": 2,
       "version_minor": 0
      },
      "text/plain": [
       "HBox(children=(IntProgress(value=0, max=508), HTML(value='')))"
      ]
     },
     "metadata": {},
     "output_type": "display_data"
    },
    {
     "name": "stdout",
     "output_type": "stream",
     "text": [
      "\n"
     ]
    }
   ],
   "source": [
    "standardize_names(df_games, standard_names)"
   ]
  },
  {
   "cell_type": "code",
   "execution_count": 25,
   "metadata": {
    "ExecuteTime": {
     "end_time": "2019-02-13T23:44:52.019793Z",
     "start_time": "2019-02-13T23:44:47.128511Z"
    }
   },
   "outputs": [
    {
     "data": {
      "application/vnd.jupyter.widget-view+json": {
       "model_id": "2f5d4d5c786a44e598e850c95d750cac",
       "version_major": 2,
       "version_minor": 0
      },
      "text/plain": [
       "HBox(children=(IntProgress(value=0, max=27706), HTML(value='')))"
      ]
     },
     "metadata": {},
     "output_type": "display_data"
    },
    {
     "name": "stdout",
     "output_type": "stream",
     "text": [
      "\n"
     ]
    }
   ],
   "source": [
    "fill_pos(df_salary)"
   ]
  },
  {
   "cell_type": "code",
   "execution_count": 26,
   "metadata": {
    "ExecuteTime": {
     "end_time": "2019-02-13T23:44:52.185029Z",
     "start_time": "2019-02-13T23:44:52.024831Z"
    }
   },
   "outputs": [],
   "source": [
    "df = pd.merge(df_salary.drop('Team', axis=1), df_games, on=['Name', 'Date'], how='inner')\n",
    "df = df[df['Pos']!=0].sort_values(by=['Date','Team']).reset_index(drop=True)"
   ]
  },
  {
   "cell_type": "code",
   "execution_count": 27,
   "metadata": {
    "ExecuteTime": {
     "end_time": "2019-02-13T23:44:52.335013Z",
     "start_time": "2019-02-13T23:44:52.188667Z"
    }
   },
   "outputs": [],
   "source": [
    "# Add Value variable\n",
    "df['Value'] = df['FPTS']/(df['Salary']/1000)\n",
    "df['Value'] = df['Value'].replace(np.inf, 0).replace(-np.inf, 0)"
   ]
  },
  {
   "cell_type": "code",
   "execution_count": 28,
   "metadata": {
    "ExecuteTime": {
     "end_time": "2019-02-13T23:44:53.513185Z",
     "start_time": "2019-02-13T23:44:52.337312Z"
    }
   },
   "outputs": [],
   "source": [
    "columns = ['Name', 'Pos', 'Date', 'Team', 'FPTS', 'Value', 'Home', 'W', 'W_PTS', 'L', 'L_PTS', 'MP',\n",
    "           'FG', 'FGA', 'FG_perc', '3P', '3PA', '3P_perc', 'FT', 'FTA', 'FT_perc', \n",
    "           'ORB', 'DRB', 'TRB', 'AST', 'STL', 'BLK', 'TOV', 'PF', 'PTS', 'DD', 'TD', \n",
    "           'USG_perc','DRtg','ORtg','AST_perc','DRB_perc','ORB_perc','BLK_perc','TOV_perc','STL_perc','eFG_perc']\n",
    "\n",
    "columns = columns[:3] + ['Salary', 'Starter'] + columns[3:]\n",
    "\n",
    "df = df.loc[:, columns]\n",
    "\n",
    "df.to_csv(os.path.join(data_dir, 'Dataframes', 'clean','df_{}.csv'.format(season)), index=False)"
   ]
  }
 ],
 "metadata": {
  "kernelspec": {
   "display_name": "Python 3",
   "language": "python",
   "name": "python3"
  },
  "language_info": {
   "codemirror_mode": {
    "name": "ipython",
    "version": 3
   },
   "file_extension": ".py",
   "mimetype": "text/x-python",
   "name": "python",
   "nbconvert_exporter": "python",
   "pygments_lexer": "ipython3",
   "version": "3.7.1"
  },
  "varInspector": {
   "cols": {
    "lenName": 16,
    "lenType": 16,
    "lenVar": 40
   },
   "kernels_config": {
    "python": {
     "delete_cmd_postfix": "",
     "delete_cmd_prefix": "del ",
     "library": "var_list.py",
     "varRefreshCmd": "print(var_dic_list())"
    },
    "r": {
     "delete_cmd_postfix": ") ",
     "delete_cmd_prefix": "rm(",
     "library": "var_list.r",
     "varRefreshCmd": "cat(var_dic_list()) "
    }
   },
   "types_to_exclude": [
    "module",
    "function",
    "builtin_function_or_method",
    "instance",
    "_Feature"
   ],
   "window_display": false
  }
 },
 "nbformat": 4,
 "nbformat_minor": 2
}
