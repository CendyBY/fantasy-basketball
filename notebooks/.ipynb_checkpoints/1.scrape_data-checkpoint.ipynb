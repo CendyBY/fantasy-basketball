{
 "cells": [
  {
   "cell_type": "markdown",
   "metadata": {
    "ExecuteTime": {
     "end_time": "2018-03-31T05:53:12.252482Z",
     "start_time": "2018-03-31T05:53:12.248119Z"
    }
   },
   "source": [
    "### Data Scraping"
   ]
  },
  {
   "cell_type": "code",
   "execution_count": 4,
   "metadata": {
    "ExecuteTime": {
     "end_time": "2019-02-13T15:05:48.283094Z",
     "start_time": "2019-02-13T15:05:48.275798Z"
    }
   },
   "outputs": [],
   "source": [
    "import os\n",
    "import re\n",
    "import pickle\n",
    "import time\n",
    "import numpy as np\n",
    "import pandas as pd\n",
    "from tqdm import tqdm_notebook as tqdm\n",
    "from urllib.request  import urlopen\n",
    "from bs4             import BeautifulSoup"
   ]
  },
  {
   "cell_type": "code",
   "execution_count": 5,
   "metadata": {
    "ExecuteTime": {
     "end_time": "2019-02-13T15:05:48.867023Z",
     "start_time": "2019-02-13T15:05:48.863076Z"
    }
   },
   "outputs": [],
   "source": [
    "cwd = os.getcwd().replace('/notebooks','')\n",
    "data_dir = os.path.join(cwd, 'data')"
   ]
  },
  {
   "cell_type": "markdown",
   "metadata": {},
   "source": [
    "### Scraping Historical Game Data"
   ]
  },
  {
   "cell_type": "code",
   "execution_count": null,
   "metadata": {
    "ExecuteTime": {
     "end_time": "2018-05-25T15:11:14.624771Z",
     "start_time": "2018-05-25T15:11:14.618700Z"
    }
   },
   "outputs": [],
   "source": [
    "#2018-19\n",
    "#Done: [20181006-20190213]\n",
    "\n",
    "#2017-18\n",
    "#Done: [20171017-20180412]\n",
    "\n",
    "#2016-17\n",
    "#Done: [20161025-20170412]\n",
    "\n",
    "#2015-16\n",
    "#Done: [20151025-20150413]\n",
    "\n",
    "#2014-15\n",
    "#[20151018-20150425]\n",
    "\n",
    "#2013-14\n",
    "#[20131029-20140416]"
   ]
  },
  {
   "cell_type": "code",
   "execution_count": 7,
   "metadata": {
    "ExecuteTime": {
     "end_time": "2019-02-13T15:06:23.437918Z",
     "start_time": "2019-02-13T15:06:23.432825Z"
    }
   },
   "outputs": [],
   "source": [
    "start_date = '20181006'\n",
    "end_date = '20190213'\n",
    "season = '2018-19'\n",
    "date_list = [d.strftime('%Y%m%d') for d in pd.date_range(start_date,end_date)]"
   ]
  },
  {
   "cell_type": "code",
   "execution_count": null,
   "metadata": {
    "ExecuteTime": {
     "start_time": "2019-02-13T15:07:11.126Z"
    },
    "scrolled": true
   },
   "outputs": [
    {
     "data": {
      "application/vnd.jupyter.widget-view+json": {
       "model_id": "6417adaa2aba4b12bf8fb32d68e12183",
       "version_major": 2,
       "version_minor": 0
      },
      "text/plain": [
       "HBox(children=(IntProgress(value=0, max=131), HTML(value='')))"
      ]
     },
     "metadata": {},
     "output_type": "display_data"
    },
    {
     "name": "stdout",
     "output_type": "stream",
     "text": [
      "20181006\n",
      "20181007\n",
      "20181008\n",
      "20181009\n",
      "20181010\n",
      "20181011\n",
      "20181012\n",
      "20181013\n",
      "20181014\n",
      "20181015\n",
      "20181016\n",
      "20181017\n"
     ]
    }
   ],
   "source": [
    "url_parent = \"https://www.basketball-reference.com\"\n",
    "url_boxscore = \"https://www.basketball-reference.com/boxscores/?month={month}&day={day}&year={year}\"\n",
    "\n",
    "for date in tqdm(date_list):\n",
    "    \n",
    "    url_summaries = url_boxscore.format(month=date[4:6],day=date[6:8],year=date[0:4])\n",
    "    soup_summaries = BeautifulSoup(urlopen(url_summaries),'html5lib')\n",
    "    games = soup_summaries.find_all('div',class_='game_summary expanded nohover')\n",
    "    \n",
    "    print(date)\n",
    "    \n",
    "    for game in games:\n",
    "        summary = {}\n",
    "        \n",
    "        host = game.find_all('table')[1].find_all('a')[1]['href'][7:10]\n",
    "        \n",
    "        winner = game.find('tr',class_='winner').find_all('td')\n",
    "        loser = game.find('tr',class_='loser').find_all('td')\n",
    "        \n",
    "        summary['winner'] = [winner[0].find('a')['href'][7:10],int(winner[1].get_text())]\n",
    "        summary['loser'] = [loser[0].find('a')['href'][7:10],int(loser[1].get_text())]\n",
    "        \n",
    "\n",
    "        url_game = url_parent+game.find('a',text='Box Score')['href']\n",
    "        soup_game = BeautifulSoup(urlopen(url_game),'html5lib')\n",
    "        \n",
    "        \n",
    "        tables = soup_game.find_all('table',limit=4)[2:]\n",
    "        \n",
    "        columns_basic = [th.get_text() for th in tables[0].find('thead').find_all('tr')[1].find_all('th')][1:]\n",
    "        columns_advanced = [th.get_text() for th in tables[1].find('thead').find_all('tr')[1].find_all('th')][2:]\n",
    "        \n",
    "        game_columns = ['Name','Date','Team','Home','W','W_PTS','L','L_PTS']\n",
    "        column_headers = game_columns + columns_basic + columns_advanced\n",
    "        \n",
    "        teams = ['winner','loser']\n",
    "        basic_stat_template = 'box_{team}_basic'\n",
    "        advanced_stat_template = 'box_{team}_advanced'\n",
    "\n",
    "        for team in teams:\n",
    "            \n",
    "            if summary[team][0] == host:\n",
    "                home = 1\n",
    "            else:\n",
    "                home = 0\n",
    "            \n",
    "            basic_stat = basic_stat_template.format(team=summary[team][0].lower())\n",
    "            advanced_stat = advanced_stat_template.format(team=summary[team][0].lower())\n",
    "            \n",
    "            game_data = [date, summary[team][0], home,summary['winner'][0],\n",
    "                         summary['winner'][1], summary['loser'][0],summary['loser'][1]]\n",
    "            \n",
    "            data_basic = soup_game.find('table',id=basic_stat).find('tbody').find_all('tr',class_=None)\n",
    "            data_advanced = soup_game.find('table',id=advanced_stat).find('tbody').find_all('tr',class_=None)\n",
    "            \n",
    "            n = len(data_basic)\n",
    "            \n",
    "            player_names = [data_basic[i].find('a').get_text() for i in range(n)]\n",
    "            \n",
    "            player_data = []\n",
    "            injury_keywords = ['Did Not Dress', 'Not With Team']\n",
    "    \n",
    "            for i in range(n):\n",
    "                if data_basic[i].find('td').get_text() not in injury_keywords:\n",
    "                    data = [player_names[i]] + game_data + \\\n",
    "                           [td.get_text() for td in data_basic[i].find_all('td')] + \\\n",
    "                           [td.get_text() for td in data_advanced[i].find_all('td')[1:]]\n",
    "                            \n",
    "                    player_data.append(data)\n",
    "            \n",
    "            df = pd.DataFrame(player_data,columns=column_headers)\n",
    "            df.columns = df.columns.str.replace('%','_perc').str.replace('/','')\n",
    "            df = df.fillna(0)\n",
    "            df.loc[:,'FG':'+-'] = df.loc[:,'FG':'+-'].apply(pd.to_numeric)\n",
    "            df['MP'] = [0.00 if ':' not in t else round(int(t.split(':')[0])+int(t.split(':')[1])/60, 2) for t in df['MP']] \n",
    "            df.to_csv(os.path.join(*[data_dir, 'Games', season, date+'-'+summary[team][0]+'.csv']), index=False)\n",
    "            \n",
    "        time.sleep(1)\n"
   ]
  },
  {
   "cell_type": "markdown",
   "metadata": {},
   "source": [
    "### Scraping Historical Salary Data from RotoGuru"
   ]
  },
  {
   "cell_type": "code",
   "execution_count": null,
   "metadata": {
    "ExecuteTime": {
     "end_time": "2018-05-20T13:34:58.181663Z",
     "start_time": "2018-05-20T13:34:58.173850Z"
    }
   },
   "outputs": [],
   "source": [
    "start_date = '20181006'\n",
    "end_date = '20190213'\n",
    "season = '2018-19'\n",
    "date_list = [d.strftime('%Y%m%d') for d in pd.date_range(start_date,end_date,index=False)]"
   ]
  },
  {
   "cell_type": "code",
   "execution_count": null,
   "metadata": {
    "ExecuteTime": {
     "end_time": "2018-05-26T02:23:46.666507Z",
     "start_time": "2018-05-26T02:23:46.660609Z"
    }
   },
   "outputs": [],
   "source": [
    "url_roto = \"http://rotoguru1.com/cgi-bin/hyday.pl?mon={month}&day={day}&year={year}&game=dk\""
   ]
  },
  {
   "cell_type": "code",
   "execution_count": null,
   "metadata": {
    "ExecuteTime": {
     "end_time": "2018-05-26T02:23:48.708232Z",
     "start_time": "2018-05-26T02:23:47.520582Z"
    }
   },
   "outputs": [],
   "source": [
    "for date in tqdm(date_list):\n",
    "    teams, positions, players, starters, salaries = [], [], [], [], []\n",
    "    \n",
    "    url_date = url_roto.format(month=date[4:6],day=date[6:8],year=date[0:4])\n",
    "    soup = BeautifulSoup(urlopen(url_date),'html5lib')\n",
    "    \n",
    "    #Check if there were any games on a given date\n",
    "    soup_table = soup.find('body').find('table', border=\"0\", cellspacing=\"5\")\n",
    "    \n",
    "    if soup_table.find('tbody') != None:\n",
    "        soup_rows = soup_table.find('tbody').find_all('tr')\n",
    "        \n",
    "        for row in soup_rows:\n",
    "            if row.find('td').has_attr('colspan') == False:\n",
    "                if row.find('a').get_text() != '':\n",
    "                    \n",
    "                    position = row.find_all('td')[0].get_text()\n",
    "                    \n",
    "                    player_tmp = row.find('a').get_text().split(\", \")\n",
    "                    player = player_tmp[1] + ' ' + player_tmp[0]\n",
    "                    \n",
    "                    starter_tmp = row.find_all('td')[1].get_text()\n",
    "                    if '^' in starter_tmp:\n",
    "                        starter = 1\n",
    "                    else:\n",
    "                        starter =0\n",
    "                        \n",
    "                    salary_tmp = row.find_all('td')[3].get_text()\n",
    "                    salary = re.sub('[$,]', '', salary_tmp)\n",
    "                    \n",
    "                    team = row.find_all('td')[4].get_text()\n",
    "\n",
    "                    positions.append(position)\n",
    "                    players.append(player)\n",
    "                    starters.append(starter)\n",
    "                    salaries.append(salary)\n",
    "                    teams.append(team)\n",
    "                \n",
    "        df = pd.DataFrame({'Date': [date for i in range(len(players))], \n",
    "                           'Team': [team.upper() for team in teams],\n",
    "                           'Starter': starters,\n",
    "                           'Pos': positions,\n",
    "                           'Name': players,\n",
    "                           'Salary': salaries})\n",
    "        \n",
    "        df = df.loc[:,['Date','Team','Pos','Name','Starter','Salary']]\n",
    "        \n",
    "        df.to_csv(os.path.join(data_dir, 'DKSalary', season, 'salary_'+date+'.csv'), index=False)\n",
    "        \n",
    "    time.sleep(1)\n",
    "    "
   ]
  }
 ],
 "metadata": {
  "kernelspec": {
   "display_name": "Python 3",
   "language": "python",
   "name": "python3"
  },
  "language_info": {
   "codemirror_mode": {
    "name": "ipython",
    "version": 3
   },
   "file_extension": ".py",
   "mimetype": "text/x-python",
   "name": "python",
   "nbconvert_exporter": "python",
   "pygments_lexer": "ipython3",
   "version": "3.6.6"
  },
  "varInspector": {
   "cols": {
    "lenName": 16,
    "lenType": 16,
    "lenVar": 40
   },
   "kernels_config": {
    "python": {
     "delete_cmd_postfix": "",
     "delete_cmd_prefix": "del ",
     "library": "var_list.py",
     "varRefreshCmd": "print(var_dic_list())"
    },
    "r": {
     "delete_cmd_postfix": ") ",
     "delete_cmd_prefix": "rm(",
     "library": "var_list.r",
     "varRefreshCmd": "cat(var_dic_list()) "
    }
   },
   "types_to_exclude": [
    "module",
    "function",
    "builtin_function_or_method",
    "instance",
    "_Feature"
   ],
   "window_display": false
  }
 },
 "nbformat": 4,
 "nbformat_minor": 2
}
