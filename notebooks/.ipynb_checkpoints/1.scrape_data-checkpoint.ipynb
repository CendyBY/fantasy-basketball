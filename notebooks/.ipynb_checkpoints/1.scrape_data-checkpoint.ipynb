{
 "cells": [
  {
   "cell_type": "markdown",
   "metadata": {
    "ExecuteTime": {
     "end_time": "2018-03-31T05:53:12.252482Z",
     "start_time": "2018-03-31T05:53:12.248119Z"
    }
   },
   "source": [
    "### Data Scraping"
   ]
  },
  {
   "cell_type": "code",
   "execution_count": 18,
   "metadata": {
    "ExecuteTime": {
     "end_time": "2019-04-09T15:59:45.346365Z",
     "start_time": "2019-04-09T15:59:45.338612Z"
    }
   },
   "outputs": [],
   "source": [
    "import os\n",
    "import re\n",
    "import pickle\n",
    "import time\n",
    "import numpy as np\n",
    "import pandas as pd\n",
    "from tqdm import tqdm_notebook as tqdm\n",
    "from urllib.request  import urlopen\n",
    "from bs4             import BeautifulSoup"
   ]
  },
  {
   "cell_type": "code",
   "execution_count": 19,
   "metadata": {
    "ExecuteTime": {
     "end_time": "2019-04-09T15:59:47.880967Z",
     "start_time": "2019-04-09T15:59:47.875886Z"
    }
   },
   "outputs": [],
   "source": [
    "cwd = os.getcwd().replace('/notebooks','')\n",
    "data_dir = os.path.join(cwd, 'data')"
   ]
  },
  {
   "cell_type": "markdown",
   "metadata": {},
   "source": [
    "### Scraping Historical Game Data"
   ]
  },
  {
   "cell_type": "code",
   "execution_count": 8,
   "metadata": {
    "ExecuteTime": {
     "end_time": "2019-04-09T15:58:23.244523Z",
     "start_time": "2019-04-09T15:58:23.240715Z"
    }
   },
   "outputs": [],
   "source": [
    "#2018-19\n",
    "#Done: [20181016-20190213]\n",
    "\n",
    "#2017-18\n",
    "#Done: [20171017-20180412]\n",
    "\n",
    "#2016-17\n",
    "#Done: [20161025-20170412]\n",
    "\n",
    "#2015-16\n",
    "#Done: [20151025-20150413]\n",
    "\n",
    "#2014-15\n",
    "#[20151018-20150425]\n",
    "\n",
    "#2013-14\n",
    "#[20131029-20140416]"
   ]
  },
  {
   "cell_type": "code",
   "execution_count": 20,
   "metadata": {
    "ExecuteTime": {
     "end_time": "2019-04-09T15:59:49.537959Z",
     "start_time": "2019-04-09T15:59:49.526431Z"
    }
   },
   "outputs": [],
   "source": [
    "start_date = '20190213'\n",
    "end_date = '20190410'\n",
    "season = '2018-19'\n",
    "date_list = [d.strftime('%Y%m%d') for d in pd.date_range(start_date,end_date)]"
   ]
  },
  {
   "cell_type": "code",
   "execution_count": 28,
   "metadata": {
    "ExecuteTime": {
     "end_time": "2019-04-09T16:09:21.300118Z",
     "start_time": "2019-04-09T16:09:19.824232Z"
    },
    "scrolled": true
   },
   "outputs": [
    {
     "data": {
      "application/vnd.jupyter.widget-view+json": {
       "model_id": "90e95abe42a8446aa2b521f013399ad2",
       "version_major": 2,
       "version_minor": 0
      },
      "text/plain": [
       "HBox(children=(IntProgress(value=0, max=57), HTML(value='')))"
      ]
     },
     "metadata": {},
     "output_type": "display_data"
    },
    {
     "ename": "FeatureNotFound",
     "evalue": "Couldn't find a tree builder with the features you requested: html5. Do you need to install a parser library?",
     "output_type": "error",
     "traceback": [
      "\u001b[0;31m---------------------------------------------------------------------------\u001b[0m",
      "\u001b[0;31mFeatureNotFound\u001b[0m                           Traceback (most recent call last)",
      "\u001b[0;32m<ipython-input-28-883d117dd3b4>\u001b[0m in \u001b[0;36m<module>\u001b[0;34m\u001b[0m\n\u001b[1;32m      5\u001b[0m \u001b[0;34m\u001b[0m\u001b[0m\n\u001b[1;32m      6\u001b[0m     \u001b[0murl_summaries\u001b[0m \u001b[0;34m=\u001b[0m \u001b[0murl_boxscore\u001b[0m\u001b[0;34m.\u001b[0m\u001b[0mformat\u001b[0m\u001b[0;34m(\u001b[0m\u001b[0mmonth\u001b[0m\u001b[0;34m=\u001b[0m\u001b[0mdate\u001b[0m\u001b[0;34m[\u001b[0m\u001b[0;36m4\u001b[0m\u001b[0;34m:\u001b[0m\u001b[0;36m6\u001b[0m\u001b[0;34m]\u001b[0m\u001b[0;34m,\u001b[0m\u001b[0mday\u001b[0m\u001b[0;34m=\u001b[0m\u001b[0mdate\u001b[0m\u001b[0;34m[\u001b[0m\u001b[0;36m6\u001b[0m\u001b[0;34m:\u001b[0m\u001b[0;36m8\u001b[0m\u001b[0;34m]\u001b[0m\u001b[0;34m,\u001b[0m\u001b[0myear\u001b[0m\u001b[0;34m=\u001b[0m\u001b[0mdate\u001b[0m\u001b[0;34m[\u001b[0m\u001b[0;36m0\u001b[0m\u001b[0;34m:\u001b[0m\u001b[0;36m4\u001b[0m\u001b[0;34m]\u001b[0m\u001b[0;34m)\u001b[0m\u001b[0;34m\u001b[0m\u001b[0;34m\u001b[0m\u001b[0m\n\u001b[0;32m----> 7\u001b[0;31m     \u001b[0msoup_summaries\u001b[0m \u001b[0;34m=\u001b[0m \u001b[0mBeautifulSoup\u001b[0m\u001b[0;34m(\u001b[0m\u001b[0murlopen\u001b[0m\u001b[0;34m(\u001b[0m\u001b[0murl_summaries\u001b[0m\u001b[0;34m)\u001b[0m\u001b[0;34m,\u001b[0m\u001b[0;34m'html5'\u001b[0m\u001b[0;34m)\u001b[0m\u001b[0;34m\u001b[0m\u001b[0;34m\u001b[0m\u001b[0m\n\u001b[0m\u001b[1;32m      8\u001b[0m     \u001b[0mgames\u001b[0m \u001b[0;34m=\u001b[0m \u001b[0msoup_summaries\u001b[0m\u001b[0;34m.\u001b[0m\u001b[0mfind_all\u001b[0m\u001b[0;34m(\u001b[0m\u001b[0;34m'div'\u001b[0m\u001b[0;34m,\u001b[0m\u001b[0mclass_\u001b[0m\u001b[0;34m=\u001b[0m\u001b[0;34m'game_summary expanded nohover'\u001b[0m\u001b[0;34m)\u001b[0m\u001b[0;34m\u001b[0m\u001b[0;34m\u001b[0m\u001b[0m\n\u001b[1;32m      9\u001b[0m \u001b[0;34m\u001b[0m\u001b[0m\n",
      "\u001b[0;32m~/miniconda3/lib/python3.7/site-packages/bs4/__init__.py\u001b[0m in \u001b[0;36m__init__\u001b[0;34m(self, markup, features, builder, parse_only, from_encoding, exclude_encodings, **kwargs)\u001b[0m\n\u001b[1;32m    194\u001b[0m                     \u001b[0;34m\"Couldn't find a tree builder with the features you \"\u001b[0m\u001b[0;34m\u001b[0m\u001b[0;34m\u001b[0m\u001b[0m\n\u001b[1;32m    195\u001b[0m                     \u001b[0;34m\"requested: %s. Do you need to install a parser library?\"\u001b[0m\u001b[0;34m\u001b[0m\u001b[0;34m\u001b[0m\u001b[0m\n\u001b[0;32m--> 196\u001b[0;31m                     % \",\".join(features))\n\u001b[0m\u001b[1;32m    197\u001b[0m             \u001b[0mbuilder\u001b[0m \u001b[0;34m=\u001b[0m \u001b[0mbuilder_class\u001b[0m\u001b[0;34m(\u001b[0m\u001b[0;34m)\u001b[0m\u001b[0;34m\u001b[0m\u001b[0;34m\u001b[0m\u001b[0m\n\u001b[1;32m    198\u001b[0m             if not (original_features == builder.NAME or\n",
      "\u001b[0;31mFeatureNotFound\u001b[0m: Couldn't find a tree builder with the features you requested: html5. Do you need to install a parser library?"
     ]
    }
   ],
   "source": [
    "url_parent = \"https://www.basketball-reference.com\"\n",
    "url_boxscore = \"https://www.basketball-reference.com/boxscores/?month={month}&day={day}&year={year}\"\n",
    "\n",
    "for date in tqdm(date_list):\n",
    "    \n",
    "    url_summaries = url_boxscore.format(month=date[4:6],day=date[6:8],year=date[0:4])\n",
    "    soup_summaries = BeautifulSoup(urlopen(url_summaries),'html5lib')\n",
    "    games = soup_summaries.find_all('div',class_='game_summary expanded nohover')\n",
    "    \n",
    "    print(date)\n",
    "    \n",
    "    for game in games:\n",
    "        summary = {}\n",
    "        \n",
    "        host = game.find_all('table')[1].find_all('a')[1]['href'][7:10]\n",
    "        \n",
    "        winner = game.find('tr',class_='winner').find_all('td')\n",
    "        loser = game.find('tr',class_='loser').find_all('td')\n",
    "        \n",
    "        summary['winner'] = [winner[0].find('a')['href'][7:10],int(winner[1].get_text())]\n",
    "        summary['loser'] = [loser[0].find('a')['href'][7:10],int(loser[1].get_text())]\n",
    "        \n",
    "\n",
    "        url_game = url_parent+game.find('a',text='Box Score')['href']\n",
    "        soup_game = BeautifulSoup(urlopen(url_game),'html5lib')\n",
    "        \n",
    "        \n",
    "        tables = soup_game.find_all('table',limit=4)[2:]\n",
    "        \n",
    "        columns_basic = [th.get_text() for th in tables[0].find('thead').find_all('tr')[1].find_all('th')][1:]\n",
    "        columns_advanced = [th.get_text() for th in tables[1].find('thead').find_all('tr')[1].find_all('th')][2:]\n",
    "        \n",
    "        game_columns = ['Name','Date','Team','Home','W','W_PTS','L','L_PTS']\n",
    "        column_headers = game_columns + columns_basic + columns_advanced\n",
    "        \n",
    "        teams = ['winner','loser']\n",
    "        basic_stat_template = 'box_{team}_basic'\n",
    "        advanced_stat_template = 'box_{team}_advanced'\n",
    "\n",
    "        for team in teams:\n",
    "            \n",
    "            if summary[team][0] == host:\n",
    "                home = 1\n",
    "            else:\n",
    "                home = 0\n",
    "            \n",
    "            basic_stat = basic_stat_template.format(team=summary[team][0].lower())\n",
    "            advanced_stat = advanced_stat_template.format(team=summary[team][0].lower())\n",
    "            \n",
    "            game_data = [date, summary[team][0], home,summary['winner'][0],\n",
    "                         summary['winner'][1], summary['loser'][0],summary['loser'][1]]\n",
    "            \n",
    "            data_basic = soup_game.find('table',id=basic_stat).find('tbody').find_all('tr',class_=None)\n",
    "            data_advanced = soup_game.find('table',id=advanced_stat).find('tbody').find_all('tr',class_=None)\n",
    "            \n",
    "            n = len(data_basic)\n",
    "            \n",
    "            player_names = [data_basic[i].find('a').get_text() for i in range(n)]\n",
    "            \n",
    "            player_data = []\n",
    "            injury_keywords = ['Did Not Dress', 'Not With Team']\n",
    "    \n",
    "            for i in range(n):\n",
    "                if data_basic[i].find('td').get_text() not in injury_keywords:\n",
    "                    data = [player_names[i]] + game_data + \\\n",
    "                           [td.get_text() for td in data_basic[i].find_all('td')] + \\\n",
    "                           [td.get_text() for td in data_advanced[i].find_all('td')[1:]]\n",
    "                            \n",
    "                    player_data.append(data)\n",
    "            \n",
    "            df = pd.DataFrame(player_data,columns=column_headers)\n",
    "            df.columns = df.columns.str.replace('%','_perc').str.replace('/','')\n",
    "            df = df.fillna(0)\n",
    "            df.loc[:,'FG':'+-'] = df.loc[:,'FG':'+-'].apply(pd.to_numeric)\n",
    "            df['MP'] = [0.00 if ':' not in t else round(int(t.split(':')[0])+int(t.split(':')[1])/60, 2) for t in df['MP']] \n",
    "            df.to_csv(os.path.join(*[data_dir, 'Games', season, date+'-'+summary[team][0]+'.csv']), index=False)\n",
    "            \n",
    "        time.sleep(1)\n"
   ]
  },
  {
   "cell_type": "markdown",
   "metadata": {},
   "source": [
    "### Scraping Historical Salary Data from RotoGuru"
   ]
  },
  {
   "cell_type": "code",
   "execution_count": null,
   "metadata": {
    "ExecuteTime": {
     "end_time": "2019-04-09T16:06:28.485567Z",
     "start_time": "2019-04-09T16:04:33.245Z"
    }
   },
   "outputs": [],
   "source": [
    "start_date = '20190213'\n",
    "end_date = '20190410'\n",
    "season = '2018-19'\n",
    "date_list = [d.strftime('%Y%m%d') for d in pd.date_range(start_date,end_date)]"
   ]
  },
  {
   "cell_type": "code",
   "execution_count": 16,
   "metadata": {
    "ExecuteTime": {
     "end_time": "2019-02-13T18:46:26.410872Z",
     "start_time": "2019-02-13T18:46:26.405012Z"
    }
   },
   "outputs": [],
   "source": [
    "url_roto = \"http://rotoguru1.com/cgi-bin/hyday.pl?mon={month}&day={day}&year={year}&game=dk\""
   ]
  },
  {
   "cell_type": "code",
   "execution_count": 17,
   "metadata": {
    "ExecuteTime": {
     "end_time": "2019-02-13T18:50:47.414183Z",
     "start_time": "2019-02-13T18:46:27.001777Z"
    }
   },
   "outputs": [
    {
     "data": {
      "application/vnd.jupyter.widget-view+json": {
       "model_id": "7625450421d644ae9457584ffdbe01ab",
       "version_major": 2,
       "version_minor": 0
      },
      "text/plain": [
       "HBox(children=(IntProgress(value=0, max=121), HTML(value='')))"
      ]
     },
     "metadata": {},
     "output_type": "display_data"
    }
   ],
   "source": [
    "for date in tqdm(date_list):\n",
    "    teams, positions, players, starters, salaries = [], [], [], [], []\n",
    "    \n",
    "    url_date = url_roto.format(month=date[4:6],day=date[6:8],year=date[0:4])\n",
    "    soup = BeautifulSoup(urlopen(url_date),'lxml.html')\n",
    "    \n",
    "    #Check if there were any games on a given date\n",
    "    soup_table = soup.find('body').find('table', border=\"0\", cellspacing=\"5\")\n",
    "    \n",
    "    if soup_table.find('tbody') != None:\n",
    "        soup_rows = soup_table.find('tbody').find_all('tr')\n",
    "        \n",
    "        for row in soup_rows:\n",
    "            if row.find('td').has_attr('colspan') == False:\n",
    "                if row.find('a').get_text() != '':\n",
    "                    \n",
    "                    position = row.find_all('td')[0].get_text()\n",
    "                    \n",
    "                    player_tmp = row.find('a').get_text().split(\", \")\n",
    "                    player = player_tmp[1] + ' ' + player_tmp[0]\n",
    "                    \n",
    "                    starter_tmp = row.find_all('td')[1].get_text()\n",
    "                    if '^' in starter_tmp:\n",
    "                        starter = 1\n",
    "                    else:\n",
    "                        starter =0\n",
    "                        \n",
    "                    salary_tmp = row.find_all('td')[3].get_text()\n",
    "                    salary = re.sub('[$,]', '', salary_tmp)\n",
    "                    \n",
    "                    team = row.find_all('td')[4].get_text()\n",
    "\n",
    "                    positions.append(position)\n",
    "                    players.append(player)\n",
    "                    starters.append(starter)\n",
    "                    salaries.append(salary)\n",
    "                    teams.append(team)\n",
    "                \n",
    "        df = pd.DataFrame({'Date': [date for i in range(len(players))], \n",
    "                           'Team': [team.upper() for team in teams],\n",
    "                           'Starter': starters,\n",
    "                           'Pos': positions,\n",
    "                           'Name': players,\n",
    "                           'Salary': salaries})\n",
    "        \n",
    "        df = df.loc[:,['Date','Team','Pos','Name','Starter','Salary']]\n",
    "        \n",
    "        df.to_csv(os.path.join(data_dir, 'DKSalary', season, 'salary_'+date+'.csv'), index=False)\n",
    "        \n",
    "    time.sleep(1)\n",
    "    "
   ]
  }
 ],
 "metadata": {
  "kernelspec": {
   "display_name": "Python 3",
   "language": "python",
   "name": "python3"
  },
  "language_info": {
   "codemirror_mode": {
    "name": "ipython",
    "version": 3
   },
   "file_extension": ".py",
   "mimetype": "text/x-python",
   "name": "python",
   "nbconvert_exporter": "python",
   "pygments_lexer": "ipython3",
   "version": "3.7.1"
  },
  "varInspector": {
   "cols": {
    "lenName": 16,
    "lenType": 16,
    "lenVar": 40
   },
   "kernels_config": {
    "python": {
     "delete_cmd_postfix": "",
     "delete_cmd_prefix": "del ",
     "library": "var_list.py",
     "varRefreshCmd": "print(var_dic_list())"
    },
    "r": {
     "delete_cmd_postfix": ") ",
     "delete_cmd_prefix": "rm(",
     "library": "var_list.r",
     "varRefreshCmd": "cat(var_dic_list()) "
    }
   },
   "types_to_exclude": [
    "module",
    "function",
    "builtin_function_or_method",
    "instance",
    "_Feature"
   ],
   "window_display": false
  }
 },
 "nbformat": 4,
 "nbformat_minor": 2
}
