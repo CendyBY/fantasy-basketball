{
 "cells": [
  {
   "cell_type": "markdown",
   "metadata": {
    "ExecuteTime": {
     "end_time": "2018-03-31T05:53:12.252482Z",
     "start_time": "2018-03-31T05:53:12.248119Z"
    }
   },
   "source": [
    "### Data Scraping"
   ]
  },
  {
   "cell_type": "code",
   "execution_count": 1,
   "metadata": {
    "ExecuteTime": {
     "end_time": "2018-04-16T18:31:27.110474Z",
     "start_time": "2018-04-16T18:31:26.411336Z"
    }
   },
   "outputs": [],
   "source": [
    "import os\n",
    "import re\n",
    "import pickle\n",
    "import time\n",
    "import numpy as np\n",
    "import pandas as pd\n",
    "from tqdm import tqdm_notebook as tqdm\n",
    "from urllib.request  import urlopen\n",
    "from bs4             import BeautifulSoup"
   ]
  },
  {
   "cell_type": "code",
   "execution_count": 7,
   "metadata": {
    "ExecuteTime": {
     "end_time": "2018-04-16T18:33:37.760638Z",
     "start_time": "2018-04-16T18:33:37.756948Z"
    }
   },
   "outputs": [],
   "source": [
    "cwd = os.getcwd().replace('/notebooks','')\n",
    "data_dir = os.path.join(cwd, 'data')"
   ]
  },
  {
   "cell_type": "markdown",
   "metadata": {},
   "source": [
    "### Scraping Historical Game Data"
   ]
  },
  {
   "cell_type": "code",
   "execution_count": null,
   "metadata": {
    "ExecuteTime": {
     "end_time": "2018-04-11T12:59:18.737314Z",
     "start_time": "2018-04-11T12:59:18.732954Z"
    }
   },
   "outputs": [],
   "source": [
    "#2017-18\n",
    "#Done: [20171017-20180412]\n",
    "\n",
    "#2016-17\n",
    "#Done: [20161025-20170412]\n",
    "\n",
    "#2015-16\n",
    "#Done: [20151025-20150413]"
   ]
  },
  {
   "cell_type": "code",
   "execution_count": 10,
   "metadata": {
    "ExecuteTime": {
     "end_time": "2018-04-16T18:33:53.252589Z",
     "start_time": "2018-04-16T18:33:53.248081Z"
    }
   },
   "outputs": [],
   "source": [
    "start_date = '20180409'\n",
    "end_date = '20180412'\n",
    "season = '2017-18'\n",
    "date_list = [d.strftime('%Y%m%d') for d in pd.date_range(start_date,end_date,index=False)]"
   ]
  },
  {
   "cell_type": "code",
   "execution_count": 11,
   "metadata": {
    "ExecuteTime": {
     "end_time": "2018-04-16T18:35:37.191310Z",
     "start_time": "2018-04-16T18:33:55.259731Z"
    }
   },
   "outputs": [
    {
     "data": {
      "application/vnd.jupyter.widget-view+json": {
       "model_id": "8c4d0876cfd1449cb5bbc43333dae271",
       "version_major": 2,
       "version_minor": 0
      },
      "text/html": [
       "<p>Failed to display Jupyter Widget of type <code>HBox</code>.</p>\n",
       "<p>\n",
       "  If you're reading this message in the Jupyter Notebook or JupyterLab Notebook, it may mean\n",
       "  that the widgets JavaScript is still loading. If this message persists, it\n",
       "  likely means that the widgets JavaScript library is either not installed or\n",
       "  not enabled. See the <a href=\"https://ipywidgets.readthedocs.io/en/stable/user_install.html\">Jupyter\n",
       "  Widgets Documentation</a> for setup instructions.\n",
       "</p>\n",
       "<p>\n",
       "  If you're reading this message in another frontend (for example, a static\n",
       "  rendering on GitHub or <a href=\"https://nbviewer.jupyter.org/\">NBViewer</a>),\n",
       "  it may mean that your frontend doesn't currently support widgets.\n",
       "</p>\n"
      ],
      "text/plain": [
       "HBox(children=(IntProgress(value=0, max=4), HTML(value='')))"
      ]
     },
     "metadata": {},
     "output_type": "display_data"
    },
    {
     "name": "stdout",
     "output_type": "stream",
     "text": [
      "20180409\n",
      "20180410\n",
      "20180411\n",
      "20180412\n",
      "\n"
     ]
    }
   ],
   "source": [
    "url_parent = \"https://www.basketball-reference.com\"\n",
    "url_boxscore = \"https://www.basketball-reference.com/boxscores/?month={month}&day={day}&year={year}\"\n",
    "\n",
    "for date in tqdm(date_list):\n",
    "    \n",
    "    url_summaries = url_boxscore.format(month=date[4:6],day=date[6:8],year=date[0:4])\n",
    "    soup_summaries = BeautifulSoup(urlopen(url_summaries),'html5lib')\n",
    "    games = soup_summaries.find_all('div',class_='game_summary expanded nohover')\n",
    "    \n",
    "    print(date)\n",
    "    \n",
    "    for game in games:\n",
    "        summary = {}\n",
    "        \n",
    "        host = game.find_all('table')[1].find_all('a')[1]['href'][7:10]\n",
    "        \n",
    "        winner = game.find('tr',class_='winner').find_all('td')\n",
    "        loser = game.find('tr',class_='loser').find_all('td')\n",
    "        \n",
    "        summary['winner'] = [winner[0].find('a')['href'][7:10],int(winner[1].get_text())]\n",
    "        summary['loser'] = [loser[0].find('a')['href'][7:10],int(loser[1].get_text())]\n",
    "        \n",
    "\n",
    "        url_game = url_parent+game.find('a',text='Box Score')['href']\n",
    "        soup_game = BeautifulSoup(urlopen(url_game),'html5lib')\n",
    "        \n",
    "        \n",
    "        tables = soup_game.find_all('table',limit=4)[2:]\n",
    "        \n",
    "        columns_basic = [th.get_text() for th in tables[0].find('thead').find_all('tr')[1].find_all('th')][1:]\n",
    "        columns_advanced = [th.get_text() for th in tables[1].find('thead').find_all('tr')[1].find_all('th')][2:]\n",
    "        \n",
    "        game_columns = ['Name','Date','Team','Home','W','W_PTS','L','L_PTS']\n",
    "        column_headers = game_columns + columns_basic + columns_advanced\n",
    "        \n",
    "        teams = ['winner','loser']\n",
    "        basic_stat_template = 'box_{team}_basic'\n",
    "        advanced_stat_template = 'box_{team}_advanced'\n",
    "\n",
    "        for team in teams:\n",
    "            \n",
    "            if summary[team][0] == host:\n",
    "                home = 1\n",
    "            else:\n",
    "                home = 0\n",
    "            \n",
    "            basic_stat = basic_stat_template.format(team=summary[team][0].lower())\n",
    "            advanced_stat = advanced_stat_template.format(team=summary[team][0].lower())\n",
    "            \n",
    "            game_data = [date, summary[team][0], home,summary['winner'][0],\n",
    "                         summary['winner'][1], summary['loser'][0],summary['loser'][1]]\n",
    "            \n",
    "            data_basic = soup_game.find('table',id=basic_stat).find('tbody').find_all('tr',class_=None)\n",
    "            data_advanced = soup_game.find('table',id=advanced_stat).find('tbody').find_all('tr',class_=None)\n",
    "            \n",
    "            n = len(data_basic)\n",
    "            \n",
    "            player_names = [data_basic[i].find('a').get_text() for i in range(n)]\n",
    "            \n",
    "            player_data = []\n",
    "            injury_keywords = ['Did Not Dress', 'Not With Team']\n",
    "    \n",
    "            for i in range(n):\n",
    "                if data_basic[i].find('td').get_text() not in injury_keywords:\n",
    "                    data = [player_names[i]] + game_data + \\\n",
    "                           [td.get_text() for td in data_basic[i].find_all('td')] + \\\n",
    "                           [td.get_text() for td in data_advanced[i].find_all('td')[1:]]\n",
    "                            \n",
    "                    player_data.append(data)\n",
    "            \n",
    "            df = pd.DataFrame(player_data,columns=column_headers)\n",
    "            df.columns = df.columns.str.replace('%','_perc').str.replace('/','')\n",
    "            df = df.fillna(0)\n",
    "            df.loc[:,'FG':'+-'] = df.loc[:,'FG':'+-'].apply(pd.to_numeric)\n",
    "            df['MP'] = [0.00 if ':' not in t else round(int(t.split(':')[0])+int(t.split(':')[1])/60, 2) for t in df['MP']] \n",
    "            df.to_csv(os.path.join(*[data_dir, 'Games', season, date+'-'+summary[team][0]+'.csv']), index=False)\n",
    "            \n",
    "        time.sleep(1)\n"
   ]
  },
  {
   "cell_type": "markdown",
   "metadata": {},
   "source": [
    "### Scraping Historical Salary Data from RotoGuru"
   ]
  },
  {
   "cell_type": "code",
   "execution_count": 15,
   "metadata": {
    "ExecuteTime": {
     "end_time": "2018-04-16T18:35:50.209408Z",
     "start_time": "2018-04-16T18:35:50.203903Z"
    }
   },
   "outputs": [],
   "source": [
    "start_date = '20180403'\n",
    "end_date = '20180413'\n",
    "season = '2017-18'\n",
    "date_list = [d.strftime('%Y%m%d') for d in pd.date_range(start_date,end_date,index=False)]"
   ]
  },
  {
   "cell_type": "code",
   "execution_count": 16,
   "metadata": {
    "ExecuteTime": {
     "end_time": "2018-04-16T18:35:52.707385Z",
     "start_time": "2018-04-16T18:35:52.703826Z"
    }
   },
   "outputs": [],
   "source": [
    "url_roto = \"http://rotoguru1.com/cgi-bin/hyday.pl?mon={month}&day={day}&year={year}&game=dk\""
   ]
  },
  {
   "cell_type": "code",
   "execution_count": 17,
   "metadata": {
    "ExecuteTime": {
     "end_time": "2018-04-16T18:36:19.534738Z",
     "start_time": "2018-04-16T18:35:53.357292Z"
    }
   },
   "outputs": [
    {
     "data": {
      "application/vnd.jupyter.widget-view+json": {
       "model_id": "b1d285b470bb41f8ba8cdf0ede9467b4",
       "version_major": 2,
       "version_minor": 0
      },
      "text/html": [
       "<p>Failed to display Jupyter Widget of type <code>HBox</code>.</p>\n",
       "<p>\n",
       "  If you're reading this message in the Jupyter Notebook or JupyterLab Notebook, it may mean\n",
       "  that the widgets JavaScript is still loading. If this message persists, it\n",
       "  likely means that the widgets JavaScript library is either not installed or\n",
       "  not enabled. See the <a href=\"https://ipywidgets.readthedocs.io/en/stable/user_install.html\">Jupyter\n",
       "  Widgets Documentation</a> for setup instructions.\n",
       "</p>\n",
       "<p>\n",
       "  If you're reading this message in another frontend (for example, a static\n",
       "  rendering on GitHub or <a href=\"https://nbviewer.jupyter.org/\">NBViewer</a>),\n",
       "  it may mean that your frontend doesn't currently support widgets.\n",
       "</p>\n"
      ],
      "text/plain": [
       "HBox(children=(IntProgress(value=0, max=11), HTML(value='')))"
      ]
     },
     "metadata": {},
     "output_type": "display_data"
    },
    {
     "name": "stdout",
     "output_type": "stream",
     "text": [
      "\n"
     ]
    }
   ],
   "source": [
    "for date in tqdm(date_list):\n",
    "    teams, positions, players, starters, salaries = [], [], [], [], []\n",
    "    \n",
    "    url_date = url_roto.format(month=date[4:6],day=date[6:8],year=date[0:4])\n",
    "    soup = BeautifulSoup(urlopen(url_date),'html5lib')\n",
    "    \n",
    "    #Check if there were any games on a given date\n",
    "    soup_table = soup.find('body').find('table', border=\"0\", cellspacing=\"5\")\n",
    "    \n",
    "    if soup_table.find('tbody') != None:\n",
    "        soup_rows = soup_table.find('tbody').find_all('tr')\n",
    "        \n",
    "        for row in soup_rows:\n",
    "            if row.find('td').has_attr('colspan') == False:\n",
    "                if row.find('a').get_text() != '':\n",
    "                    \n",
    "                    position = row.find_all('td')[0].get_text()\n",
    "                    \n",
    "                    player_tmp = row.find('a').get_text().split(\", \")\n",
    "                    player = player_tmp[1] + ' ' + player_tmp[0]\n",
    "                    \n",
    "                    starter_tmp = row.find_all('td')[1].get_text()\n",
    "                    if '^' in starter_tmp:\n",
    "                        starter = 1\n",
    "                    else:\n",
    "                        starter =0\n",
    "                        \n",
    "                    salary_tmp = row.find_all('td')[3].get_text()\n",
    "                    salary = re.sub('[$,]', '', salary_tmp)\n",
    "                    \n",
    "                    team = row.find_all('td')[4].get_text()\n",
    "\n",
    "                    positions.append(position)\n",
    "                    players.append(player)\n",
    "                    starters.append(starter)\n",
    "                    salaries.append(salary)\n",
    "                    teams.append(team)\n",
    "                \n",
    "        df = pd.DataFrame({'Date': [date for i in range(len(players))], \n",
    "                           'Team': [team.upper() for team in teams],\n",
    "                           'Starter': starters,\n",
    "                           'Pos': positions,\n",
    "                           'Name': players,\n",
    "                           'Salary': salaries})\n",
    "        \n",
    "        df = df.loc[:,['Date','Team','Pos','Name','Starter','Salary']]\n",
    "        \n",
    "        df.to_csv(os.path.join(data_dir, 'DKSalary', season, 'salary_'+date+'.csv'), index=False)\n",
    "        \n",
    "    time.sleep(1)\n",
    "    "
   ]
  },
  {
   "cell_type": "markdown",
   "metadata": {
    "heading_collapsed": true
   },
   "source": [
    "### Scraping Injury Report from Pro Sports Transactions"
   ]
  },
  {
   "cell_type": "code",
   "execution_count": null,
   "metadata": {
    "hidden": true
   },
   "outputs": [],
   "source": [
    "def standardize_teams(df):\n",
    "    teams_conversion = {'Mavericks':'DAL',\n",
    "                        'Hawks':'ATL',\n",
    "                        'Celtics':'BOS',\n",
    "                        'Raptors':'TOR',\n",
    "                        'Bulls':'CHI',\n",
    "                        'Magic':'ORL',\n",
    "                        'Pelicans':'NOP',\n",
    "                        'Suns':'PHO',\n",
    "                        'Jazz':'UTA',\n",
    "                        'Hornets':'CHA',\n",
    "                        'Grizzlies':'MEM',\n",
    "                        'Cavaliers':'CLE',\n",
    "                        'Rockets':'HOU',\n",
    "                        'Clippers':'LAC',\n",
    "                        'Nuggets':'DEN',\n",
    "                        'Knicks':'NYK',\n",
    "                        'Heat':'MIA',\n",
    "                        'Nets':'BRK',\n",
    "                        'Kings':'SAC',\n",
    "                        'Pacers':'IND',\n",
    "                        'Blazers':'POR',\n",
    "                        'Timberwolves':'MIN',\n",
    "                        'Thunder':'OKC',\n",
    "                        'Pistons':'DET',\n",
    "                        'Bucks':'MIL',\n",
    "                        'Wizards':'WAS',\n",
    "                        'Warriors':'GSW',\n",
    "                        'Lakers':'LAL',\n",
    "                        'Spurs':'SAS',\n",
    "                        '76ers':'PHI'\n",
    "                       }\n",
    "    for team in df['Team']:\n",
    "        if team in teams_conversion.keys():\n",
    "            df.loc[df['Team']==team, 'Team'] = teams_conversion[team]\n",
    "            "
   ]
  },
  {
   "cell_type": "code",
   "execution_count": null,
   "metadata": {
    "hidden": true
   },
   "outputs": [],
   "source": [
    "start = '2017-10-17'\n",
    "end = '2018-04-04'"
   ]
  },
  {
   "cell_type": "code",
   "execution_count": null,
   "metadata": {
    "hidden": true
   },
   "outputs": [],
   "source": [
    "url_injury_parent = 'https://www.prosportstransactions.com/basketball/Search/SearchResults.php?Player=&Team=&BeginDate={start}&EndDate={end}&ILChkBx=yes&Submit=Search&start=0'"
   ]
  },
  {
   "cell_type": "code",
   "execution_count": null,
   "metadata": {
    "hidden": true
   },
   "outputs": [],
   "source": [
    "url_injury = url_injury_parent.format(start=start, end=end)\n",
    "soup = BeautifulSoup(urlopen(url_injury),'html5lib')\n",
    "urls = soup.find('table', align='center').find_all('td')[2].find('p').find_all('a')\n",
    "urls = [url_injury] + ['http://www.prosportstransactions.com/basketball/Search/' + url['href'] for url in urls]"
   ]
  },
  {
   "cell_type": "code",
   "execution_count": null,
   "metadata": {
    "hidden": true
   },
   "outputs": [],
   "source": [
    "Date, Team, In, Out, Note = [], [], [], [], []\n",
    "\n",
    "for url in tqdm(urls):\n",
    "    soup = BeautifulSoup(urlopen(url),'html5lib')\n",
    "    soup_table = soup.find('body').find('table')\n",
    "    soup_rows = soup_table.find_all('tr', align='left')\n",
    "\n",
    "    for row in soup_rows:\n",
    "        td = row.find_all('td')\n",
    "        Date.append(td[0].get_text().replace('-',''))\n",
    "        Team.append(td[1].get_text().replace(' ', ''))\n",
    "        In.append(td[2].get_text().replace(' • ','').replace('(a)',''))\n",
    "        Out.append(td[3].get_text().replace(' • ','').replace('(a)',''))\n",
    "        \n",
    "        if 'placed on IL' in td[4].get_text():\n",
    "            Note.append('placed')\n",
    "        elif 'activated from IL' in td[4].get_text():\n",
    "            Note.append('activated')\n",
    "        else:\n",
    "            Note.append(np.nan)\n",
    "        \n",
    "    time.sleep(1)\n",
    "    \n",
    "df = pd.DataFrame({'Date':Date, 'Team':Team, 'In':In, 'Out':Out, 'Note':Note})\n",
    "\n",
    "df['Name'] = df['In'] + df['Out']\n",
    "\n",
    "for name in list(set(df['Name'])):\n",
    "    if name[0] == ' ':\n",
    "        df.loc[df['Name']==name, ['Name']] = name[1:]\n",
    "    elif name[-1] == ' ':\n",
    "        df.loc[df['Name']==name, ['Name']] = name[:-1]\n",
    "        "
   ]
  },
  {
   "cell_type": "code",
   "execution_count": null,
   "metadata": {
    "hidden": true
   },
   "outputs": [],
   "source": [
    "df = df.loc[:,['Date','Team','Name','Note']]\n",
    "standardize_teams(df)\n",
    "df.to_csv(os.path.join(*[data_dir, 'Injury', season+'.csv']), index=False)"
   ]
  }
 ],
 "metadata": {
  "kernelspec": {
   "display_name": "Python 3",
   "language": "python",
   "name": "python3"
  },
  "language_info": {
   "codemirror_mode": {
    "name": "ipython",
    "version": 3
   },
   "file_extension": ".py",
   "mimetype": "text/x-python",
   "name": "python",
   "nbconvert_exporter": "python",
   "pygments_lexer": "ipython3",
   "version": "3.6.3"
  },
  "varInspector": {
   "cols": {
    "lenName": 16,
    "lenType": 16,
    "lenVar": 40
   },
   "kernels_config": {
    "python": {
     "delete_cmd_postfix": "",
     "delete_cmd_prefix": "del ",
     "library": "var_list.py",
     "varRefreshCmd": "print(var_dic_list())"
    },
    "r": {
     "delete_cmd_postfix": ") ",
     "delete_cmd_prefix": "rm(",
     "library": "var_list.r",
     "varRefreshCmd": "cat(var_dic_list()) "
    }
   },
   "types_to_exclude": [
    "module",
    "function",
    "builtin_function_or_method",
    "instance",
    "_Feature"
   ],
   "window_display": false
  }
 },
 "nbformat": 4,
 "nbformat_minor": 2
}
