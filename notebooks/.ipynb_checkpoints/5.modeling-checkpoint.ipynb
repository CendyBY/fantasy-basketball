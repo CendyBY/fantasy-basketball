{
 "cells": [
  {
   "cell_type": "markdown",
   "metadata": {
    "ExecuteTime": {
     "end_time": "2018-05-20T12:28:32.643440Z",
     "start_time": "2018-05-20T12:28:32.606527Z"
    }
   },
   "source": [
    "### Model Construction and Evaluation"
   ]
  },
  {
   "cell_type": "code",
   "execution_count": null,
   "metadata": {},
   "outputs": [],
   "source": [
    "import os\n",
    "import glob\n",
    "import numpy as np\n",
    "import pandas as pd\n",
    "import pandas_profiling\n",
    "import matplotlib.pyplot as plt\n",
    "\n",
    "from tqdm import tqdm_notebook as tqdm\n",
    "from datetime import datetime\n",
    "from sklearn.ensemble import GradientBoostingRegressor\n",
    "from sklearn.linear_model import LinearRegression\n",
    "from sklearn.linear_model import Lasso\n",
    "from sklearn.model_selection import train_test_split\n",
    "from sklearn.preprocessing import MinMaxScaler\n",
    "from sklearn.metrics import mean_squared_error\n",
    "from sklearn.model_selection import cross_val_score"
   ]
  },
  {
   "cell_type": "code",
   "execution_count": null,
   "metadata": {
    "ExecuteTime": {
     "end_time": "2018-05-20T12:27:41.829217Z",
     "start_time": "2018-05-20T12:27:41.824995Z"
    }
   },
   "outputs": [],
   "source": [
    "cwd = os.getcwd().replace('/notebooks','')\n",
    "data_dir = os.path.join(cwd, 'data')\n",
    "np.random.seed(6)"
   ]
  },
  {
   "cell_type": "code",
   "execution_count": null,
   "metadata": {
    "ExecuteTime": {
     "end_time": "2018-05-20T12:27:42.287838Z",
     "start_time": "2018-05-20T12:27:42.281086Z"
    }
   },
   "outputs": [],
   "source": [
    "%matplotlib inline"
   ]
  },
  {
   "cell_type": "code",
   "execution_count": null,
   "metadata": {
    "ExecuteTime": {
     "end_time": "2018-05-20T12:27:42.744410Z",
     "start_time": "2018-05-20T12:27:42.737621Z"
    },
    "code_folding": []
   },
   "outputs": [],
   "source": [
    "#Concatenate all csv files under a directory\n",
    "def csv_concatenate(folder_path):\n",
    "    files = glob.glob(folder_path + \"/*.csv\")\n",
    "    df_list = []\n",
    "    for file in tqdm(files):\n",
    "        df_list.append(pd.read_csv(file, parse_dates=True, infer_datetime_format=True))\n",
    "    #Fill nan with 0s as some values are empty for percentage points\n",
    "    df = pd.concat(df_list).fillna(0).reset_index(drop=True)\n",
    "    return df"
   ]
  },
  {
   "cell_type": "code",
   "execution_count": null,
   "metadata": {
    "ExecuteTime": {
     "end_time": "2018-05-20T12:27:43.224653Z",
     "start_time": "2018-05-20T12:27:43.219383Z"
    },
    "code_folding": []
   },
   "outputs": [],
   "source": [
    "def calculate_MAE(pred, true):\n",
    "    n = len(pred)\n",
    "    abs_error = 0 \n",
    "    for i in range(n):\n",
    "        abs_error += abs(pred[i] - true[i])\n",
    "    mae = abs_error/n\n",
    "    return mae"
   ]
  },
  {
   "cell_type": "code",
   "execution_count": null,
   "metadata": {
    "ExecuteTime": {
     "end_time": "2018-05-20T09:50:45.800147Z",
     "start_time": "2018-05-20T09:50:45.797102Z"
    },
    "code_folding": []
   },
   "outputs": [],
   "source": [
    "def calculate_RMSE(pred, true):\n",
    "    return np.sqrt(mean_squared_error(pred, true))"
   ]
  },
  {
   "cell_type": "code",
   "execution_count": null,
   "metadata": {
    "ExecuteTime": {
     "end_time": "2018-05-20T09:50:46.591317Z",
     "start_time": "2018-05-20T09:50:46.555563Z"
    },
    "code_folding": []
   },
   "outputs": [],
   "source": [
    "def calculate_FPTS(df):\n",
    "    #Scoring rules based on https://www.draftkings.co.uk/help/rules/4\n",
    "    multipliers = {'PTS':1, '3P': 0.5, 'TRB':1.25, 'AST':1.5, 'STL':2, 'BLK':2, 'TOV':-0.5}\n",
    "    \n",
    "    indices = len(df)\n",
    "    fpts_list = []\n",
    "    \n",
    "    for i in tqdm(range(indices)):\n",
    "        fpts = 0\n",
    "        doubles = 0\n",
    "        for stat, multiplier in multipliers.items():\n",
    "            if stat in ['PTS', 'TRB', 'AST', 'STL', 'BLK']:\n",
    "                if df.loc[i, stat] >= 10:\n",
    "                    doubles += 1\n",
    "            fpts += df.loc[i, stat]*multiplier\n",
    "        if doubles >= 2:\n",
    "            fpts += 1.5\n",
    "        if doubles >= 3:\n",
    "            fpts += 3\n",
    "        fpts_list.append(fpts) \n",
    "        \n",
    "    return fpts_list"
   ]
  },
  {
   "cell_type": "code",
   "execution_count": null,
   "metadata": {
    "ExecuteTime": {
     "end_time": "2018-05-20T09:50:47.088291Z",
     "start_time": "2018-05-20T09:50:47.027052Z"
    },
    "code_folding": []
   },
   "outputs": [],
   "source": [
    "def cross_val(reg_base, X, y, show_train=False):\n",
    "    mae_results_train = []\n",
    "    rmse_results_train = []\n",
    "    \n",
    "    mae_results_test = []\n",
    "    rmse_results_test = []\n",
    "    \n",
    "    for k in tqdm(range(5)):\n",
    "        X_train, X_test, y_train, y_test = train_test_split(X, y, test_size=0.2, shuffle=True, random_state=k)\n",
    "        reg = reg_base\n",
    "        \n",
    "        reg.fit(X_train, y_train)\n",
    "        \n",
    "        y_pred_train = reg.predict(X_train)\n",
    "        \n",
    "        mae_results_train.append(calculate_MAE(y_pred_train, y_train))\n",
    "        rmse_results_train.append(calculate_RMSE(y_pred_train, y_train))\n",
    "        \n",
    "        y_pred_test = reg.predict(X_test)\n",
    "        \n",
    "        mae_results_test.append(calculate_MAE(y_pred_test, y_test))\n",
    "        rmse_results_test.append(calculate_RMSE(y_pred_test, y_test))\n",
    "    \n",
    "    if show_train==True:\n",
    "        print('[TRAIN]')\n",
    "        print('MAE:', np.mean(mae_results_train))\n",
    "        print('RSME:', np.mean(rmse_results_train))\n",
    "        print('\\n[TEST]')\n",
    "    \n",
    "    print('MAE:', np.mean(mae_results_test))\n",
    "    print('RSME:', np.mean(rmse_results_test))\n",
    "    return rmse_results_test"
   ]
  },
  {
   "cell_type": "markdown",
   "metadata": {},
   "source": [
    "### 1. Baseline - Simple Average"
   ]
  },
  {
   "cell_type": "code",
   "execution_count": null,
   "metadata": {
    "ExecuteTime": {
     "end_time": "2018-05-20T09:50:59.359491Z",
     "start_time": "2018-05-20T09:50:47.885878Z"
    }
   },
   "outputs": [],
   "source": [
    "df_baseline = csv_concatenate(os.path.join(data_dir, 'Dataframes','modelling', 'baseline'))\n",
    "df_baseline['FPTS_pred'] = calculate_FPTS(df_baseline)"
   ]
  },
  {
   "cell_type": "code",
   "execution_count": null,
   "metadata": {
    "ExecuteTime": {
     "end_time": "2018-05-20T09:54:49.391288Z",
     "start_time": "2018-05-20T09:54:47.521935Z"
    }
   },
   "outputs": [],
   "source": [
    "print('MAE:', calculate_MAE(df_baseline['FPTS_pred'], df_baseline['FPTS']))\n",
    "print('RMSE:', calculate_RMSE(df_baseline['FPTS_pred'], df_baseline['FPTS']))"
   ]
  },
  {
   "cell_type": "markdown",
   "metadata": {
    "ExecuteTime": {
     "end_time": "2018-04-09T13:16:34.494233Z",
     "start_time": "2018-04-09T13:16:33.368260Z"
    }
   },
   "source": [
    "### Linear Regression with basic 9 variables "
   ]
  },
  {
   "cell_type": "code",
   "execution_count": null,
   "metadata": {
    "ExecuteTime": {
     "end_time": "2018-05-20T09:54:51.478143Z",
     "start_time": "2018-05-20T09:54:51.322665Z"
    }
   },
   "outputs": [],
   "source": [
    "df_baseline = df_baseline.sort_values(by=['Date','Name']).reset_index(drop=True)"
   ]
  },
  {
   "cell_type": "code",
   "execution_count": null,
   "metadata": {
    "ExecuteTime": {
     "end_time": "2018-05-20T09:54:52.569278Z",
     "start_time": "2018-05-20T09:54:52.565074Z"
    }
   },
   "outputs": [],
   "source": [
    "basic =  ['PTS','3P','AST','TRB','STL','BLK','TOV', 'DD', 'TD']"
   ]
  },
  {
   "cell_type": "code",
   "execution_count": null,
   "metadata": {
    "ExecuteTime": {
     "end_time": "2018-05-20T12:28:45.451188Z",
     "start_time": "2018-05-20T12:28:44.701452Z"
    }
   },
   "outputs": [],
   "source": [
    "X = df_baseline.loc[:, basic]\n",
    "X = MinMaxScaler().fit_transform(X)\n",
    "y = df_baseline['FPTS'].values.reshape(-1,1).flatten()\n",
    "\n",
    "reg = LinearRegression()\n",
    "cross_val(reg, X, y)"
   ]
  },
  {
   "cell_type": "markdown",
   "metadata": {
    "ExecuteTime": {
     "end_time": "2018-04-09T13:28:27.367757Z",
     "start_time": "2018-04-09T13:28:27.364972Z"
    }
   },
   "source": [
    "### 3. Weighted Model"
   ]
  },
  {
   "cell_type": "markdown",
   "metadata": {
    "ExecuteTime": {
     "end_time": "2018-04-09T15:22:03.411890Z",
     "start_time": "2018-04-09T15:22:00.140237Z"
    }
   },
   "source": [
    "Choose weighting scheme"
   ]
  },
  {
   "cell_type": "code",
   "execution_count": null,
   "metadata": {
    "ExecuteTime": {
     "end_time": "2018-05-20T09:54:56.264418Z",
     "start_time": "2018-05-20T09:54:56.257529Z"
    }
   },
   "outputs": [],
   "source": [
    "original_stats = ['SG', 'F', 'C', 'PTS', '3P', 'AST', 'TRB', 'STL', 'BLK', 'TOV', 'DD', 'TD', 'MP', 'FT',\n",
    "                  'FTA', 'FGA', '3PA', 'DRB', 'ORB', 'USG_perc', 'DRtg', 'ORtg', 'AST_perc', 'DRB_perc',\n",
    "                  'ORB_perc', 'BLK_perc', 'TOV_perc', 'STL_perc', 'eFG_perc', 'FG_perc', '3P_perc', 'FT_perc']\n",
    "len(original_stats)"
   ]
  },
  {
   "cell_type": "markdown",
   "metadata": {},
   "source": [
    "### Choosing the best weighting scheme"
   ]
  },
  {
   "cell_type": "code",
   "execution_count": null,
   "metadata": {
    "ExecuteTime": {
     "end_time": "2018-05-20T12:29:37.604576Z",
     "start_time": "2018-05-20T12:29:27.818954Z"
    }
   },
   "outputs": [],
   "source": [
    "for weighting in ['sqrt', 'linear', 'quad']:\n",
    "    df_features = csv_concatenate(os.path.join(data_dir, 'Dataframes','modelling', 'features', weighting))  \n",
    "    \n",
    "    X = df_features.loc[:, original_stats]\n",
    "    X = MinMaxScaler().fit_transform(X)\n",
    "    y = df_features['FPTS'].values.reshape(-1,1).flatten()\n",
    "\n",
    "    reg = LinearRegression()\n",
    "    cross_val(reg, X, y)"
   ]
  },
  {
   "cell_type": "code",
   "execution_count": null,
   "metadata": {
    "ExecuteTime": {
     "end_time": "2018-05-20T09:55:12.164359Z",
     "start_time": "2018-05-20T09:55:12.139403Z"
    }
   },
   "outputs": [],
   "source": [
    "pd.DataFrame({'Square Root':[7.252586715071312, 9.582256361344033],\n",
    "              'Linear':[7.212408190947604, 9.543677566513761],\n",
    "              'Quadratic':[7.196346318159108, 9.535559958416505]},\n",
    "             index=['MAE', 'RMSE']).loc[:,['Square Root', 'Linear', 'Quadratic']]"
   ]
  },
  {
   "cell_type": "code",
   "execution_count": null,
   "metadata": {
    "ExecuteTime": {
     "end_time": "2018-05-20T09:55:28.026364Z",
     "start_time": "2018-05-20T09:55:15.271145Z"
    }
   },
   "outputs": [],
   "source": [
    "weighting = 'quad'\n",
    "\n",
    "df_features = csv_concatenate(os.path.join(data_dir, 'Dataframes','modelling', 'features', weighting))\n",
    "df_features['FPTS_pred'] = calculate_FPTS(df_features)\n",
    "\n",
    "print('MAE:', calculate_MAE(df_features['FPTS_pred'], df_features['FPTS']))\n",
    "print('RMSE:', calculate_RMSE(df_features['FPTS_pred'], df_features['FPTS']))"
   ]
  },
  {
   "cell_type": "markdown",
   "metadata": {},
   "source": [
    "### Linear Regression with basic 9 variables "
   ]
  },
  {
   "cell_type": "code",
   "execution_count": null,
   "metadata": {
    "ExecuteTime": {
     "end_time": "2018-05-20T12:29:52.374556Z",
     "start_time": "2018-05-20T12:29:51.583472Z"
    }
   },
   "outputs": [],
   "source": [
    "X = df_features.loc[:, basic]\n",
    "X = MinMaxScaler().fit_transform(X)\n",
    "y = df_features['FPTS'].values.reshape(-1,1).flatten()\n",
    "\n",
    "reg = LinearRegression()\n",
    "cross_val(reg, X, y)"
   ]
  },
  {
   "cell_type": "markdown",
   "metadata": {},
   "source": [
    "### Feature Selection with Correlation Matrix and Feature Importances"
   ]
  },
  {
   "cell_type": "code",
   "execution_count": null,
   "metadata": {
    "ExecuteTime": {
     "end_time": "2018-05-20T09:56:57.690023Z",
     "start_time": "2018-05-20T09:56:57.681069Z"
    }
   },
   "outputs": [],
   "source": [
    "numerical = ['Salary', 'Starter', 'Rest', 'Rota_All', 'Rota_Pos', 'Home', 'SG', 'F', 'C', 'Value', 'FPTS_std',\n",
    "             'PTS', '3P', 'AST', 'TRB', 'STL', 'BLK', 'TOV', 'DD', 'TD', 'MP', 'FT', 'FTA', 'FGA', '3PA', 'DRB',\n",
    "             'ORB', 'USG_perc', 'DRtg', 'ORtg', 'AST_perc', 'DRB_perc', 'ORB_perc', 'BLK_perc', 'TOV_perc', \n",
    "             'STL_perc', 'eFG_perc', 'FG_perc', '3P_perc', 'FT_perc']\n",
    "len(numerical)"
   ]
  },
  {
   "cell_type": "code",
   "execution_count": null,
   "metadata": {
    "ExecuteTime": {
     "end_time": "2018-05-18T18:14:47.408030Z",
     "start_time": "2018-05-18T18:14:29.972980Z"
    },
    "scrolled": true
   },
   "outputs": [],
   "source": [
    "pandas_profiling.ProfileReport(df_features.loc[:, numerical], correlation_threshold=0.9)"
   ]
  },
  {
   "cell_type": "code",
   "execution_count": null,
   "metadata": {
    "ExecuteTime": {
     "end_time": "2018-05-20T09:57:00.296502Z",
     "start_time": "2018-05-20T09:57:00.167638Z"
    }
   },
   "outputs": [],
   "source": [
    "features = ['Salary', 'Starter', 'Rest', 'Rota_All', 'Rota_Pos', 'Home', 'SG', 'F', 'C', 'Value',\n",
    "            'FPTS_std', 'PTS', '3P', 'AST', 'TRB', 'STL', 'BLK', 'TOV', 'DD', 'TD', 'MP', 'FT', 'ORB',\n",
    "            'USG_perc', 'DRtg', 'AST_perc', 'DRB_perc', 'ORB_perc', 'BLK_perc', 'TOV_perc', 'STL_perc',\n",
    "            'eFG_perc', '3P_perc', 'FT_perc']\n",
    "\n",
    "print(len(features))\n",
    "X = df_features.loc[:,features]\n",
    "X = MinMaxScaler().fit_transform(X)"
   ]
  },
  {
   "cell_type": "code",
   "execution_count": null,
   "metadata": {
    "ExecuteTime": {
     "end_time": "2018-05-20T09:57:25.636759Z",
     "start_time": "2018-05-20T09:57:01.464858Z"
    }
   },
   "outputs": [],
   "source": [
    "model = GradientBoostingRegressor()\n",
    "model.fit(X, y)"
   ]
  },
  {
   "cell_type": "code",
   "execution_count": null,
   "metadata": {
    "ExecuteTime": {
     "end_time": "2018-05-20T09:57:25.973772Z",
     "start_time": "2018-05-20T09:57:25.843998Z"
    }
   },
   "outputs": [],
   "source": [
    "top_features = pd.Series(model.feature_importances_, index = features).sort_values()\n",
    "top_features.plot(kind = \"barh\", figsize=(15,10) ,title='Top Features')\n",
    "plt.show()"
   ]
  },
  {
   "cell_type": "code",
   "execution_count": null,
   "metadata": {
    "ExecuteTime": {
     "end_time": "2018-05-20T09:57:26.176538Z",
     "start_time": "2018-05-20T09:57:26.171172Z"
    }
   },
   "outputs": [],
   "source": [
    "selected = list(top_features[5:].index)\n",
    "len(top_features[5:])"
   ]
  },
  {
   "cell_type": "markdown",
   "metadata": {
    "ExecuteTime": {
     "end_time": "2018-04-09T13:29:55.985615Z",
     "start_time": "2018-04-09T13:29:55.982597Z"
    }
   },
   "source": [
    "### Linear Regression with Selected Features"
   ]
  },
  {
   "cell_type": "code",
   "execution_count": null,
   "metadata": {
    "ExecuteTime": {
     "end_time": "2018-05-20T12:30:10.172781Z",
     "start_time": "2018-05-20T12:30:08.434661Z"
    }
   },
   "outputs": [],
   "source": [
    "X = df_features.loc[:, selected]\n",
    "X = MinMaxScaler().fit_transform(X)\n",
    "\n",
    "reg = LinearRegression()\n",
    "\n",
    "reg.fit(X, y)\n",
    "cross_val(reg, X, y)"
   ]
  },
  {
   "cell_type": "markdown",
   "metadata": {},
   "source": [
    "### XGBoost"
   ]
  },
  {
   "cell_type": "code",
   "execution_count": null,
   "metadata": {
    "ExecuteTime": {
     "end_time": "2018-05-20T09:57:32.823811Z",
     "start_time": "2018-05-20T09:57:32.348105Z"
    }
   },
   "outputs": [],
   "source": [
    "from skopt.space import Real, Integer\n",
    "from skopt.utils import use_named_args\n",
    "from skopt import gp_minimize\n",
    "from sklearn.model_selection import cross_val_score\n",
    "import xgboost as xgb"
   ]
  },
  {
   "cell_type": "code",
   "execution_count": null,
   "metadata": {
    "ExecuteTime": {
     "end_time": "2018-05-20T09:58:22.642339Z",
     "start_time": "2018-05-20T09:57:33.303577Z"
    }
   },
   "outputs": [],
   "source": [
    "reg = xgb.XGBRegressor()\n",
    "cross_val(reg, X, y, show_train=True)"
   ]
  },
  {
   "cell_type": "code",
   "execution_count": null,
   "metadata": {
    "ExecuteTime": {
     "end_time": "2018-05-17T15:58:28.186593Z",
     "start_time": "2018-05-17T15:58:28.145501Z"
    }
   },
   "outputs": [],
   "source": [
    "# The list of hyper-parameters we want to optimize. For each one we define the bounds,\n",
    "# the corresponding scikit-learn parameter name, as well as how to sample values\n",
    "# from that dimension (`'log-uniform' for the learning rate)\n",
    "\n",
    "reg = xgb.XGBRegressor()\n",
    "\n",
    "space  = [Integer(5, 50, name='max_depth'),\n",
    "          Integer(100, 500, name='n_estimators'),\n",
    "          Integer(0,5, name='min_child_weight'),\n",
    "          Real(0.7, 1.0, name='colsample_bytree'), \n",
    "          Real(0.7, 1.0, name='colsample_bylevel'),\n",
    "          Real(0.8, 1.0, name='subsample'),\n",
    "          Real(0.0, 1.0, name='gamma'),\n",
    "          Real(0.001, 0.999, \"log-uniform\", name='learning_rate'),\n",
    "         ]\n",
    "\n",
    "# this decorator allows your objective function to receive a the parameters as\n",
    "# keyword arguments. This is particularly convenient when you want to set scikit-learn\n",
    "# estimator parameters\n",
    "\n",
    "@use_named_args(space)\n",
    "def objective(**params):\n",
    "    reg.set_params(**params)\n",
    "\n",
    "    return np.sqrt(-np.mean(cross_val_score(reg, X, y, cv=5, n_jobs=-1, scoring=\"neg_mean_squared_error\")))"
   ]
  },
  {
   "cell_type": "code",
   "execution_count": null,
   "metadata": {
    "ExecuteTime": {
     "end_time": "2018-05-17T17:55:21.959356Z",
     "start_time": "2018-05-17T15:58:49.970416Z"
    },
    "scrolled": true
   },
   "outputs": [],
   "source": [
    "res_gp = gp_minimize(objective, space, n_calls=50, random_state=514, n_random_starts=5, verbose=2)"
   ]
  },
  {
   "cell_type": "code",
   "execution_count": null,
   "metadata": {
    "ExecuteTime": {
     "end_time": "2018-05-18T08:01:12.164782Z",
     "start_time": "2018-05-18T08:01:12.151236Z"
    }
   },
   "outputs": [],
   "source": [
    "print(\"[Best parameters]\")\n",
    "print(\n",
    "\"\"\"'max_depth':{}, 'n_estimators':{}, 'min_child_weight':{}, 'colsample_bytree':{},\n",
    "'colsample_bylevel':{}, 'subsample':{}, 'gamma':{}, 'learning_rate':{}\"\"\".format(\n",
    "res_gp.x[0], res_gp.x[1], res_gp.x[2], res_gp.x[3],\n",
    "res_gp.x[4], res_gp.x[5], res_gp.x[6], res_gp.x[7]))"
   ]
  },
  {
   "cell_type": "code",
   "execution_count": null,
   "metadata": {
    "ExecuteTime": {
     "end_time": "2018-05-18T08:01:15.086227Z",
     "start_time": "2018-05-18T08:01:14.315682Z"
    }
   },
   "outputs": [],
   "source": [
    "from skopt.plots import plot_convergence\n",
    "\n",
    "plot_convergence(res_gp);"
   ]
  },
  {
   "cell_type": "code",
   "execution_count": null,
   "metadata": {
    "ExecuteTime": {
     "end_time": "2018-05-20T10:02:10.496022Z",
     "start_time": "2018-05-20T10:00:28.657885Z"
    }
   },
   "outputs": [],
   "source": [
    "best_parameters = {'max_depth':5, 'n_estimators':500, 'min_child_weight':0, 'colsample_bytree':0.7744934433163122,\n",
    "                   'colsample_bylevel':0.7, 'subsample':0.7, 'gamma':0.8, 'learning_rate':0.010185577044747623}\n",
    "\n",
    "best_parameters = {'max_depth':5, 'n_estimators':500, 'min_child_weight':0, 'colsample_bytree':0.9087552779394614,\n",
    "                   'colsample_bylevel':0.7, 'subsample':0.8, 'gamma':0.0, 'learning_rate':0.013402721880461977\n",
    "                   }\n",
    "#MAE: 6.852755706901883, RSME: 8.963593652669738\n",
    "\n",
    "best_parameters = {'max_depth':5, 'n_estimators':500, 'min_child_weight':5, 'colsample_bytree':0.7,\n",
    "                   'colsample_bylevel':0.7, 'subsample':0.9397637802105351, 'gamma':0.0,\n",
    "                   'learning_rate':0.015427690378899695}\n",
    "\n",
    "#MAE: 6.8531269778653465 RSME: 8.964306564892905\n",
    "\n",
    "best_parameters = {'max_depth':5, 'n_estimators':354, 'min_child_weight':0, 'colsample_bytree':1.0,\n",
    "                   'colsample_bylevel':0.7, 'subsample':0.7, 'gamma':0.8, 'learning_rate':0.015256854802380305}\n",
    "#MAE: 6.850690569710392 RSME: 8.966229735232426\n",
    "\n",
    "best_parameters = {'max_depth':6, 'n_estimators':250, 'min_child_weight':4, 'colsample_bytree':0.6, \n",
    "                   'colsample_bylevel':0.7, 'subsample':1.0, 'gamma':0.0, 'learning_rate':0.026944654231987667}\n",
    "\n",
    "#MAE: 6.848631675865012, RSME: 8.958142274893145\n",
    "                \n",
    "reg = xgb.XGBRegressor(**best_parameters)\n",
    "cross_val(reg, X, y, show_train=True)"
   ]
  },
  {
   "cell_type": "markdown",
   "metadata": {},
   "source": [
    "###  Neural Network"
   ]
  },
  {
   "cell_type": "code",
   "execution_count": null,
   "metadata": {
    "ExecuteTime": {
     "end_time": "2018-05-20T10:03:01.639473Z",
     "start_time": "2018-05-20T10:02:55.099663Z"
    }
   },
   "outputs": [],
   "source": [
    "from keras.models import Sequential\n",
    "from keras.layers import Dense, Dropout\n",
    "from keras.optimizers import *\n",
    "from keras.wrappers.scikit_learn import KerasRegressor\n",
    "from sklearn.model_selection import cross_val_score\n",
    "from sklearn.model_selection import KFold\n",
    "from keras.callbacks import EarlyStopping "
   ]
  },
  {
   "cell_type": "code",
   "execution_count": null,
   "metadata": {
    "ExecuteTime": {
     "end_time": "2018-05-20T10:03:01.793458Z",
     "start_time": "2018-05-20T10:03:01.786402Z"
    }
   },
   "outputs": [],
   "source": [
    "es_cb = EarlyStopping(monitor='val_loss', patience=5, verbose=1, mode='auto')"
   ]
  },
  {
   "cell_type": "code",
   "execution_count": null,
   "metadata": {
    "ExecuteTime": {
     "end_time": "2018-05-20T10:03:01.952300Z",
     "start_time": "2018-05-20T10:03:01.942460Z"
    }
   },
   "outputs": [],
   "source": [
    "def model_1():\n",
    "    model = Sequential()\n",
    "    model.add(Dense(X.shape[1], input_dim=X.shape[1], activation='relu'))\n",
    "    model.add(Dense(64, activation='relu'))\n",
    "    model.add(Dense(32, activation='relu'))\n",
    "    model.add(Dense(1))\n",
    "    model.compile(loss='mse', optimizer='adam')\n",
    "    model.summary()\n",
    "    return model"
   ]
  },
  {
   "cell_type": "code",
   "execution_count": null,
   "metadata": {
    "ExecuteTime": {
     "end_time": "2018-05-20T11:27:05.047681Z",
     "start_time": "2018-05-20T11:27:05.034739Z"
    }
   },
   "outputs": [],
   "source": [
    "def model_2():\n",
    "    model = Sequential()\n",
    "    model.add(Dense(X.shape[1], input_dim=X.shape[1], activation='relu'))\n",
    "    model.add(Dense(64, activation='relu'))\n",
    "    model.add(Dense(128, activation='relu'))\n",
    "    model.add(Dense(32, activation='relu'))\n",
    "    model.add(Dropout(0.2))\n",
    "    model.add(Dense(1))\n",
    "    model.compile(loss='mse', optimizer='adam')\n",
    "    model.summary()\n",
    "    return model"
   ]
  },
  {
   "cell_type": "code",
   "execution_count": null,
   "metadata": {
    "ExecuteTime": {
     "end_time": "2018-05-20T12:30:29.369732Z",
     "start_time": "2018-05-20T12:30:29.352065Z"
    }
   },
   "outputs": [],
   "source": [
    "def model_3():\n",
    "    model = Sequential()\n",
    "    model.add(Dense(X.shape[1], input_dim=X.shape[1], activation='relu'))\n",
    "    model.add(Dense(64, activation='relu'))\n",
    "    model.add(Dense(32, activation='relu'))\n",
    "    model.add(Dropout(0.2))\n",
    "    model.add(Dense(1))\n",
    "    model.compile(loss='mse', optimizer='adam')\n",
    "    model.summary()\n",
    "    return model"
   ]
  },
  {
   "cell_type": "code",
   "execution_count": null,
   "metadata": {
    "ExecuteTime": {
     "end_time": "2018-05-20T11:33:50.147944Z",
     "start_time": "2018-05-20T11:30:38.529823Z"
    },
    "scrolled": true
   },
   "outputs": [],
   "source": [
    "model = KerasRegressor(build_fn=model_1,\n",
    "                       epochs=30,\n",
    "                       batch_size=32,\n",
    "                       validation_split=0.2,\n",
    "                       shuffle=True,\n",
    "                       verbose=1)\n",
    "h1 = model.fit(X, y)"
   ]
  },
  {
   "cell_type": "code",
   "execution_count": null,
   "metadata": {
    "ExecuteTime": {
     "end_time": "2018-05-20T11:34:10.773336Z",
     "start_time": "2018-05-20T11:34:10.589421Z"
    }
   },
   "outputs": [],
   "source": [
    "plt.plot(h1.history['loss'])  \n",
    "plt.plot(h1.history['val_loss'])  \n",
    "plt.title('Model Loss')  \n",
    "plt.ylabel('Loss')  \n",
    "plt.xlabel('Epoch')  \n",
    "plt.legend(['Train', 'Validation'], loc='upper right')  \n",
    "plt.show()"
   ]
  },
  {
   "cell_type": "code",
   "execution_count": null,
   "metadata": {
    "ExecuteTime": {
     "end_time": "2018-05-20T11:28:49.944704Z",
     "start_time": "2018-05-20T11:27:50.780885Z"
    },
    "scrolled": true
   },
   "outputs": [],
   "source": [
    "model = KerasRegressor(build_fn=model_2,\n",
    "                       epochs=30,\n",
    "                       batch_size=32,\n",
    "                       validation_split=0.2,\n",
    "                       shuffle=True,\n",
    "                       verbose=1)\n",
    "\n",
    "h2 = model.fit(X, y)"
   ]
  },
  {
   "cell_type": "code",
   "execution_count": null,
   "metadata": {
    "ExecuteTime": {
     "end_time": "2018-05-20T11:25:24.387087Z",
     "start_time": "2018-05-20T11:23:08.519946Z"
    }
   },
   "outputs": [],
   "source": [
    "model = KerasRegressor(build_fn=model_3,\n",
    "                       epochs=30,\n",
    "                       batch_size=32,\n",
    "                       validation_split=0.2,\n",
    "                       shuffle=True,\n",
    "                       verbose=1)\n",
    "\n",
    "h3 = model.fit(X, y)"
   ]
  },
  {
   "cell_type": "code",
   "execution_count": null,
   "metadata": {
    "ExecuteTime": {
     "end_time": "2018-05-20T11:22:57.485295Z",
     "start_time": "2018-05-20T11:22:56.809725Z"
    },
    "scrolled": true
   },
   "outputs": [],
   "source": [
    "for hist in [h1, h3]:\n",
    "    plt.subplot(111)  \n",
    "    plt.plot(hist.history['loss'])  \n",
    "    plt.plot(hist.history['val_loss'])  \n",
    "    plt.title('Model Loss')  \n",
    "    plt.ylabel('Loss')  \n",
    "    plt.xlabel('Epoch')  \n",
    "    plt.legend(['Train', 'Validation'], loc='upper right')  \n",
    "    plt.show()"
   ]
  },
  {
   "cell_type": "code",
   "execution_count": null,
   "metadata": {
    "ExecuteTime": {
     "end_time": "2018-05-20T11:37:28.418069Z",
     "start_time": "2018-05-20T11:37:28.411126Z"
    }
   },
   "outputs": [],
   "source": [
    "model = KerasRegressor(build_fn=model_1,\n",
    "                       epochs=30,\n",
    "                       batch_size=32,\n",
    "                       validation_split=0.2,\n",
    "                       shuffle=True,\n",
    "                       verbose=1)\n",
    "\n",
    "kfold = KFold(n_splits=5, shuffle=True)"
   ]
  },
  {
   "cell_type": "code",
   "execution_count": null,
   "metadata": {
    "ExecuteTime": {
     "end_time": "2018-05-20T12:00:06.622886Z",
     "start_time": "2018-05-20T11:37:29.333628Z"
    },
    "scrolled": true
   },
   "outputs": [],
   "source": [
    "results_MAE = cross_val_score(model, X, y, cv=kfold, n_jobs=1, scoring='neg_mean_absolute_error')\n",
    "results_RMSE = cross_val_score(model, X, y, cv=kfold, n_jobs=1, scoring='neg_mean_squared_error')"
   ]
  },
  {
   "cell_type": "code",
   "execution_count": null,
   "metadata": {
    "ExecuteTime": {
     "end_time": "2018-05-20T12:04:30.761662Z",
     "start_time": "2018-05-20T12:04:30.755042Z"
    }
   },
   "outputs": [],
   "source": [
    "print(np.sqrt(-results_RMSE))\n",
    "print(\"Results: %.4f RMSE\" % np.sqrt(np.mean(-results_RMSE)))\n",
    "\n",
    "print(np.sqrt(-results_MAE))\n",
    "print(\"Results: %.4f MAE\" % np.mean(-results_MAE))"
   ]
  },
  {
   "cell_type": "code",
   "execution_count": null,
   "metadata": {
    "ExecuteTime": {
     "end_time": "2018-05-20T12:06:09.862568Z",
     "start_time": "2018-05-20T12:06:09.853650Z"
    }
   },
   "outputs": [],
   "source": [
    "model = KerasRegressor(build_fn=model_3,\n",
    "                       epochs=15,\n",
    "                       batch_size=32,\n",
    "                       validation_split=0.2,\n",
    "                       shuffle=True,\n",
    "                       verbose=1)\n",
    "\n",
    "kfold = KFold(n_splits=5, shuffle=True)"
   ]
  },
  {
   "cell_type": "code",
   "execution_count": null,
   "metadata": {
    "ExecuteTime": {
     "end_time": "2018-05-20T12:18:23.105532Z",
     "start_time": "2018-05-20T12:06:11.835479Z"
    }
   },
   "outputs": [],
   "source": [
    "results_MAE = cross_val_score(model, X, y, cv=kfold, n_jobs=1, scoring='neg_mean_absolute_error')\n",
    "results_RMSE = cross_val_score(model, X, y, cv=kfold, n_jobs=1, scoring='neg_mean_squared_error')"
   ]
  },
  {
   "cell_type": "code",
   "execution_count": null,
   "metadata": {
    "ExecuteTime": {
     "end_time": "2018-05-20T12:27:06.254825Z",
     "start_time": "2018-05-20T12:27:06.245242Z"
    }
   },
   "outputs": [],
   "source": [
    "print(np.sqrt(-results_RMSE))\n",
    "print(\"Results: %.4f RMSE\" % np.sqrt(np.mean(-results_RMSE)))\n",
    "\n",
    "print(np.sqrt(-results_MAE))\n",
    "print(\"Results: %.4f MAE\" % np.mean(-results_MAE))"
   ]
  },
  {
   "cell_type": "markdown",
   "metadata": {},
   "source": [
    "### Prediction"
   ]
  },
  {
   "cell_type": "code",
   "execution_count": null,
   "metadata": {
    "ExecuteTime": {
     "end_time": "2018-05-20T17:17:35.708116Z",
     "start_time": "2018-05-20T17:17:35.496723Z"
    }
   },
   "outputs": [],
   "source": [
    "### Train Test Split\n",
    "X = df_features.sort_values(by=['Date','Name']).reset_index(drop=True)\n",
    "\n",
    "target_month = 201803\n",
    "\n",
    "df_features['Date']\n",
    "\n",
    "start = 20180301\n",
    "end = 20180331\n",
    "\n",
    "test_indices = (df_features['Date'] >= start) & (df_features['Date'] <= end)\n",
    "train_indices = [not value for value in test_indices]\n",
    "\n",
    "X_train = df_features.loc[train_indices, selected]\n",
    "X_test = df_features.loc[test_indices, selected]\n",
    "\n",
    "y_train = df_features.loc[train_indices, 'FPTS'].values.reshape(-1,1).flatten()\n",
    "y_test = df_features.loc[test_indices, 'FPTS'].values.reshape(-1,1).flatten()\n",
    "\n",
    "X_train = MinMaxScaler().fit_transform(X_train)\n",
    "X_test = MinMaxScaler().fit_transform(X_test)"
   ]
  },
  {
   "cell_type": "code",
   "execution_count": null,
   "metadata": {
    "ExecuteTime": {
     "end_time": "2018-05-20T17:17:38.267862Z",
     "start_time": "2018-05-20T17:17:38.114439Z"
    }
   },
   "outputs": [],
   "source": [
    "pred_baseline = df_baseline.loc[(df_baseline['Date'] >= start) & (df_baseline['Date'] <= end), 'FPTS_pred'].reset_index(drop=True)\n",
    "actual = df_baseline.loc[(df_baseline['Date'] >= start) & (df_baseline['Date'] <= end), 'FPTS'].reset_index(drop=True)\n",
    "print(calculate_MAE(pred_baseline, actual))\n",
    "print(calculate_RMSE(pred_baseline, actual))"
   ]
  },
  {
   "cell_type": "code",
   "execution_count": null,
   "metadata": {
    "ExecuteTime": {
     "end_time": "2018-05-20T17:17:39.698296Z",
     "start_time": "2018-05-20T17:17:39.307869Z"
    }
   },
   "outputs": [],
   "source": [
    "reg = LinearRegression()\n",
    "reg.fit(X_train, y_train)\n",
    "pred_lm = reg.predict(X_test)\n",
    "print(calculate_MAE(pred_lm, y_test))\n",
    "print(calculate_RMSE(pred_lm, y_test))"
   ]
  },
  {
   "cell_type": "code",
   "execution_count": null,
   "metadata": {
    "ExecuteTime": {
     "end_time": "2018-05-20T17:18:25.979853Z",
     "start_time": "2018-05-20T17:17:43.543552Z"
    }
   },
   "outputs": [],
   "source": [
    "#best_parameters = {'max_depth':5, 'n_estimators':500, 'min_child_weight':0, 'colsample_bytree':0.7744934433163122,\n",
    "#                   'colsample_bylevel':0.7, 'subsample':0.7, 'gamma':0.8, 'learning_rate':0.010185577044747623}\n",
    "#9.358073767342875\n",
    "\n",
    "best_parameters = {'max_depth':5, 'n_estimators':354, 'min_child_weight':0, 'colsample_bytree':1.0,\n",
    "                   'colsample_bylevel':0.7, 'subsample':0.7, 'gamma':0.8, 'learning_rate':0.015256854802380305}\n",
    "#6.993397555914223 9.152592657777618\n",
    "\n",
    "reg = xgb.XGBRegressor(**best_parameters)\n",
    "reg.fit(X_train, y_train, verbose=1)\n",
    "pred_xgb = reg.predict(X_test)\n",
    "print(calculate_MAE(pred_xgb, y_test))\n",
    "print(calculate_RMSE(pred_xgb, y_test))"
   ]
  },
  {
   "cell_type": "code",
   "execution_count": null,
   "metadata": {
    "ExecuteTime": {
     "end_time": "2018-05-19T00:43:26.782079Z",
     "start_time": "2018-05-19T00:43:26.764125Z"
    }
   },
   "outputs": [],
   "source": [
    "def baseline_model():\n",
    "    model = Sequential()\n",
    "    model.add(Dense(X_train.shape[1], input_dim=X_train.shape[1], activation='relu'))\n",
    "    model.add(Dense(128, activation='relu'))\n",
    "    model.add(Dense(64, activation='relu'))\n",
    "    model.add(Dense(1))\n",
    "    model.compile(loss='mse', optimizer='adam')\n",
    "    model.summary()\n",
    "    return model"
   ]
  },
  {
   "cell_type": "code",
   "execution_count": null,
   "metadata": {
    "ExecuteTime": {
     "end_time": "2018-05-19T01:00:22.863086Z",
     "start_time": "2018-05-19T01:00:22.836865Z"
    }
   },
   "outputs": [],
   "source": [
    "def advanced_model():\n",
    "    model = Sequential()\n",
    "    model.add(Dense(X_train.shape[1], input_dim=X_train.shape[1], activation='relu'))\n",
    "    model.add(Dropout(0.2))\n",
    "    model.add(Dense(128, activation='relu'))\n",
    "    model.add(Dropout(0.2))\n",
    "    model.add(Dense(256, activation='relu'))\n",
    "    model.add(Dense(64, activation='relu'))\n",
    "    #model.add(Dropout(0.2))\n",
    "    model.add(Dense(32, activation='relu'))\n",
    "    #model.add(Dropout(0.2))\n",
    "    model.add(Dense(1))\n",
    "    model.compile(loss='mse', optimizer='adam')\n",
    "    return model"
   ]
  },
  {
   "cell_type": "code",
   "execution_count": null,
   "metadata": {
    "ExecuteTime": {
     "end_time": "2018-05-19T00:51:33.923491Z",
     "start_time": "2018-05-19T00:48:51.892462Z"
    },
    "scrolled": true
   },
   "outputs": [],
   "source": [
    "model = KerasRegressor(build_fn=baseline_model,\n",
    "                       epochs=30,\n",
    "                       batch_size=64,\n",
    "                       validation_split=0.2,\n",
    "                       shuffle=True,\n",
    "                       verbose=1)\n",
    "\n",
    "h = model.fit(X_train, y_train)"
   ]
  },
  {
   "cell_type": "code",
   "execution_count": null,
   "metadata": {
    "ExecuteTime": {
     "end_time": "2018-05-19T00:27:09.547490Z",
     "start_time": "2018-05-19T00:27:08.874568Z"
    }
   },
   "outputs": [],
   "source": [
    "pred_nn = model.predict(X_test)\n",
    "print(calculate_MAE(pred_nn, y_test))\n",
    "print(calculate_RMSE(pred_nn, y_test))"
   ]
  },
  {
   "cell_type": "markdown",
   "metadata": {},
   "source": [
    "### Write prediction into csv"
   ]
  },
  {
   "cell_type": "code",
   "execution_count": null,
   "metadata": {
    "ExecuteTime": {
     "end_time": "2018-05-20T17:22:29.721216Z",
     "start_time": "2018-05-20T17:22:29.710440Z"
    }
   },
   "outputs": [],
   "source": [
    "df_pred = df_features.loc[test_indices, ['Date', 'Name', 'Team', 'FPTS', 'Pos', 'Salary']]\n",
    "df_pred['Pred'] = pred_xgb"
   ]
  },
  {
   "cell_type": "code",
   "execution_count": null,
   "metadata": {
    "ExecuteTime": {
     "end_time": "2018-05-20T17:22:32.576788Z",
     "start_time": "2018-05-20T17:22:32.366620Z"
    }
   },
   "outputs": [],
   "source": [
    "df_pred.to_csv(os.path.join(data_dir, 'Prediction/20180514.csv'), index=False)"
   ]
  }
 ],
 "metadata": {
  "kernelspec": {
   "display_name": "Python 3",
   "language": "python",
   "name": "python3"
  },
  "language_info": {
   "codemirror_mode": {
    "name": "ipython",
    "version": 3
   },
   "file_extension": ".py",
   "mimetype": "text/x-python",
   "name": "python",
   "nbconvert_exporter": "python",
   "pygments_lexer": "ipython3",
   "version": "3.6.3"
  },
  "varInspector": {
   "cols": {
    "lenName": 16,
    "lenType": 16,
    "lenVar": 40
   },
   "kernels_config": {
    "python": {
     "delete_cmd_postfix": "",
     "delete_cmd_prefix": "del ",
     "library": "var_list.py",
     "varRefreshCmd": "print(var_dic_list())"
    },
    "r": {
     "delete_cmd_postfix": ") ",
     "delete_cmd_prefix": "rm(",
     "library": "var_list.r",
     "varRefreshCmd": "cat(var_dic_list()) "
    }
   },
   "types_to_exclude": [
    "module",
    "function",
    "builtin_function_or_method",
    "instance",
    "_Feature"
   ],
   "window_display": false
  }
 },
 "nbformat": 4,
 "nbformat_minor": 2
}
