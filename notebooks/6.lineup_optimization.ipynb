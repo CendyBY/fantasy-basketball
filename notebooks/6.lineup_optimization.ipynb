{
 "cells": [
  {
   "cell_type": "markdown",
   "metadata": {
    "ExecuteTime": {
     "end_time": "2018-05-20T20:04:30.237206Z",
     "start_time": "2018-05-20T20:04:30.233027Z"
    }
   },
   "source": [
    "### Lineup Optimisation with Genetic Algorithms"
   ]
  },
  {
   "cell_type": "code",
   "execution_count": 1,
   "metadata": {
    "ExecuteTime": {
     "end_time": "2018-05-21T02:10:38.643170Z",
     "start_time": "2018-05-21T02:10:35.049838Z"
    }
   },
   "outputs": [],
   "source": [
    "import os\n",
    "import glob\n",
    "import random\n",
    "import numpy as np\n",
    "import pandas as pd\n",
    "from tqdm import tqdm_notebook as tqdm\n",
    "from sklearn.metrics import mean_squared_error"
   ]
  },
  {
   "cell_type": "code",
   "execution_count": null,
   "metadata": {
    "ExecuteTime": {
     "end_time": "2018-05-20T20:00:26.682354Z",
     "start_time": "2018-05-20T20:00:26.679795Z"
    }
   },
   "outputs": [],
   "source": [
    "import warnings\n",
    "warnings.filterwarnings('ignore')"
   ]
  },
  {
   "cell_type": "code",
   "execution_count": null,
   "metadata": {
    "ExecuteTime": {
     "end_time": "2018-05-20T20:01:53.845586Z",
     "start_time": "2018-05-20T20:01:53.838765Z"
    },
    "code_folding": [
     1
    ]
   },
   "outputs": [],
   "source": [
    "#Concatenate all csv files under a directory\n",
    "def csv_concatenate(folder_path):\n",
    "    files = glob.glob(folder_path + \"/*.csv\")\n",
    "    df_list = []\n",
    "    for file in tqdm(files):\n",
    "        df_list.append(pd.read_csv(file, parse_dates=True, infer_datetime_format=True))\n",
    "    #Fill nan with 0s as some values are empty for percentage points\n",
    "    df = pd.concat(df_list).fillna(0).reset_index(drop=True)\n",
    "    return df"
   ]
  },
  {
   "cell_type": "code",
   "execution_count": null,
   "metadata": {
    "ExecuteTime": {
     "end_time": "2018-05-20T20:00:26.867779Z",
     "start_time": "2018-05-20T20:00:26.688244Z"
    },
    "code_folding": [
     0
    ]
   },
   "outputs": [],
   "source": [
    "def calculate_MAE(pred, true):\n",
    "    n = len(pred)\n",
    "    abs_error = 0 \n",
    "    for i in range(n):\n",
    "        abs_error += abs(pred[i] - true[i])\n",
    "    mae = abs_error/n\n",
    "    return mae"
   ]
  },
  {
   "cell_type": "code",
   "execution_count": null,
   "metadata": {
    "ExecuteTime": {
     "end_time": "2018-05-20T20:00:26.967460Z",
     "start_time": "2018-05-20T20:00:26.876470Z"
    },
    "code_folding": [
     0
    ]
   },
   "outputs": [],
   "source": [
    "def calculate_RMSE(pred, true):\n",
    "    return np.sqrt(mean_squared_error(pred, true))"
   ]
  },
  {
   "cell_type": "code",
   "execution_count": null,
   "metadata": {
    "ExecuteTime": {
     "end_time": "2018-05-20T20:00:27.099862Z",
     "start_time": "2018-05-20T20:00:26.977696Z"
    },
    "code_folding": [
     0
    ]
   },
   "outputs": [],
   "source": [
    "def calculate_FPTS(df):\n",
    "    #Scoring rules based on https://www.draftkings.co.uk/help/rules/4\n",
    "    multipliers = {'PTS':1, '3P': 0.5, 'TRB':1.25, 'AST':1.5, 'STL':2, 'BLK':2, 'TOV':-0.5}\n",
    "    \n",
    "    indices = len(df)\n",
    "    fpts_list = []\n",
    "    \n",
    "    for i in tqdm(range(indices)):\n",
    "        fpts = 0\n",
    "        doubles = 0\n",
    "        for stat, multiplier in multipliers.items():\n",
    "            if stat in ['PTS', 'TRB', 'AST', 'STL', 'BLK']:\n",
    "                if df.loc[i, stat] >= 10:\n",
    "                    doubles += 1\n",
    "            fpts += df.loc[i, stat]*multiplier\n",
    "        if doubles >= 2:\n",
    "            fpts += 1.5\n",
    "        if doubles >= 3:\n",
    "            fpts += 3\n",
    "        fpts_list.append(fpts) \n",
    "        \n",
    "    return fpts_list"
   ]
  },
  {
   "cell_type": "code",
   "execution_count": null,
   "metadata": {
    "ExecuteTime": {
     "end_time": "2018-05-20T20:00:30.133210Z",
     "start_time": "2018-05-20T20:00:30.120291Z"
    },
    "code_folding": [
     0
    ]
   },
   "outputs": [],
   "source": [
    "def add_positions(df):\n",
    "    \n",
    "    pos = {'PG':[], 'SG':[], 'SF':[], 'PF':[], 'C':[], 'G':[], 'F':[]}\n",
    "    \n",
    "    for i in range(df.shape[0]):\n",
    "        for key in pos.keys():\n",
    "            if key in df.loc[i, 'Pos']:\n",
    "                pos[key].append(1)\n",
    "            else:\n",
    "                pos[key].append(0)\n",
    "    \n",
    "    for key in pos.keys():\n",
    "        df[key] = pos[key]"
   ]
  },
  {
   "cell_type": "code",
   "execution_count": null,
   "metadata": {
    "ExecuteTime": {
     "end_time": "2018-05-20T21:35:42.968566Z",
     "start_time": "2018-05-20T21:35:42.947889Z"
    },
    "code_folding": [
     1
    ]
   },
   "outputs": [],
   "source": [
    "#return a list of lineups with indices in df_target\n",
    "def create_random_lineups(df, num_lineups):\n",
    "    lineups = {'PG':[], 'SG':[], 'SF':[], 'PF':[], 'C':[], 'G':[], 'F':[], 'Util':[]}\n",
    "    n = df.shape[0]\n",
    "    \n",
    "    for i in range(num_lineups):\n",
    "        for key in list(lineups.keys())[:7]:\n",
    "            lineups[key].append(df[df[key]==1].sample(1).index[0])\n",
    "        \n",
    "        lineups['Util'].append(df.sample(1).index[0])\n",
    "    \n",
    "    df_lineups = pd.DataFrame(lineups).loc[:,['PG', 'SG', 'SF', 'PF', 'C', 'G', 'F', 'Util']]\n",
    "    \n",
    "    return df_lineups "
   ]
  },
  {
   "cell_type": "code",
   "execution_count": null,
   "metadata": {
    "ExecuteTime": {
     "end_time": "2018-05-20T21:35:43.690879Z",
     "start_time": "2018-05-20T21:35:43.663279Z"
    },
    "code_folding": [
     0
    ]
   },
   "outputs": [],
   "source": [
    "def calculate_fitness(df_lineups):\n",
    "    fitness = []\n",
    "    \n",
    "    for i in range(df_lineups.shape[0]):\n",
    "        \n",
    "        salary = df_target.loc[df_lineups.loc[i,:].values, 'Salary'].sum()\n",
    "        total_FPTS = df_target.loc[df_lineups.loc[i,:].values, 'Pred'].sum()\n",
    "        \n",
    "        #Check for duplicates\n",
    "        if len(set(df_lineups.loc[i,:].values)) < 8:\n",
    "            fitness.append(0)\n",
    "        \n",
    "        #Check for Salary Caps\n",
    "        elif salary >= salary_cap:\n",
    "            fitness.append(0)\n",
    "            \n",
    "        #Calculate the cumulative predicted FPTS\n",
    "        else:\n",
    "            fitness.append(total_FPTS)\n",
    "        \n",
    "    return fitness"
   ]
  },
  {
   "cell_type": "code",
   "execution_count": null,
   "metadata": {
    "ExecuteTime": {
     "end_time": "2018-05-20T21:35:44.202878Z",
     "start_time": "2018-05-20T21:35:44.160782Z"
    },
    "code_folding": [
     0
    ]
   },
   "outputs": [],
   "source": [
    "def breed(df_lineups):\n",
    "    \n",
    "    df_parents = df_lineups\n",
    "    positions = list(df_lineups.columns)[:-1]\n",
    "    df_children = pd.DataFrame([], columns=positions)\n",
    "    \n",
    "    df_fit = df_lineups.sort_values(by='Fitness', ascending=False).reset_index(drop=True)\n",
    "    parents = df_fit.head(2)\n",
    "\n",
    "    #Prevent breeding betwee two same lineups\n",
    "    if all(parents.loc[0,:] != parents.loc[1,:]):\n",
    "        next_index = 2\n",
    "\n",
    "        while all(parents.loc[0,:] == parents.loc[1,:]):\n",
    "            rows = [0, next_index]\n",
    "            parents = df_fit.loc[rows]\n",
    "            parents = parents.reset_index(drop=True)\n",
    "            next_index += 1\n",
    "            \n",
    "    parents = parents.loc[:, positions]\n",
    "\n",
    "    for pos in positions:\n",
    "        #Add parents and swap each items position by position, creating 16 lineups\n",
    "        df_children = df_children.append(parents, ignore_index=True)\n",
    "        df_children.loc[df_children.shape[0]-2, pos] = parents.loc[1, pos]\n",
    "        df_children.loc[df_children.shape[0]-1, pos] = parents.loc[0, pos]\n",
    "    \n",
    "    #Add parents for a total of 18 lineups\n",
    "    df_children = df_children.append(parents).reset_index(drop=True)\n",
    "    return df_children"
   ]
  },
  {
   "cell_type": "code",
   "execution_count": null,
   "metadata": {
    "ExecuteTime": {
     "end_time": "2018-05-20T21:35:44.845171Z",
     "start_time": "2018-05-20T21:35:44.823107Z"
    },
    "code_folding": [
     0
    ]
   },
   "outputs": [],
   "source": [
    "def mutate(df_lineups, df_original, num_mutations):\n",
    "    positions = list(df_lineups.columns)[:-1]\n",
    "    df_mutants = pd.DataFrame([], columns=positions)\n",
    "    df_parent = df_lineups.sort_values(by='Fitness', ascending=False).head(1).loc[:,positions]\n",
    "    \n",
    "    #Append the original\n",
    "    df_mutants = df_mutants.append(df_parent)\n",
    "    \n",
    "    #Append the original and then mutate it by replacing it with a random sample for a random position\n",
    "    for i in range(num_mutations):\n",
    "        pos_to_swap = random.choice(positions)\n",
    "        mutant_index = df_original.sample(1).index[0]\n",
    "        \n",
    "        df_mutants = df_mutants.append(df_parent, ignore_index=True)\n",
    "        current_index = df_mutants.shape[0]-1\n",
    "        df_mutants.loc[current_index, pos_to_swap] = df_original.loc[mutant_index, pos_to_swap]\n",
    "        \n",
    "    return df_mutants"
   ]
  },
  {
   "cell_type": "code",
   "execution_count": null,
   "metadata": {
    "ExecuteTime": {
     "end_time": "2018-05-20T21:35:45.307813Z",
     "start_time": "2018-05-20T21:35:45.294012Z"
    },
    "code_folding": [
     0
    ]
   },
   "outputs": [],
   "source": [
    "def evolution(df_random_lineups, num_mutations, num_generations):\n",
    "    \n",
    "    df_init = df_random_lineups\n",
    "\n",
    "    for i in range(num_generations):\n",
    "    \n",
    "        df_children = breed(df_init)\n",
    "        df_children['Fitness'] = calculate_fitness(df_children)\n",
    "        \n",
    "        df_mutants = mutate(df_children, df_random_lineups, num_mutations)\n",
    "        df_mutants['Fitness'] = calculate_fitness(df_mutants)\n",
    "        \n",
    "        df_init = df_mutants\n",
    "    \n",
    "    df_init['Fitness'] = calculate_fitness(df_init.drop('Fitness', axis=1))\n",
    "    df_final = df_init.sort_values(by='Fitness', ascending=False).reset_index(drop=True)\n",
    "    \n",
    "    return df_final"
   ]
  },
  {
   "cell_type": "code",
   "execution_count": null,
   "metadata": {
    "ExecuteTime": {
     "end_time": "2018-05-20T21:35:45.787758Z",
     "start_time": "2018-05-20T21:35:45.770572Z"
    },
    "code_folding": [
     0
    ]
   },
   "outputs": [],
   "source": [
    "def compounding_evolution(population_size=200, num_mutations=50, num_generations=20, num_compounding=5):\n",
    "\n",
    "    optimal_lineups = []\n",
    "    \n",
    "    for i in tqdm(range(num_compounding)):\n",
    "        df_random_lineups = create_random_lineups(df_target, population_size)\n",
    "        df_random_lineups['Fitness'] = calculate_fitness(df_random_lineups)\n",
    "        \n",
    "        optimal = evolution(df_random_lineups, num_mutations, num_generations)\n",
    "        \n",
    "        optimal_lineups.append(list(optimal.loc[0,:].values[:-1].astype(int)))\n",
    "        \n",
    "    return optimal_lineups"
   ]
  },
  {
   "cell_type": "code",
   "execution_count": null,
   "metadata": {
    "ExecuteTime": {
     "end_time": "2018-05-20T20:00:34.407616Z",
     "start_time": "2018-05-20T20:00:33.902573Z"
    }
   },
   "outputs": [],
   "source": [
    "cwd = os.getcwd().replace('/notebooks','')\n",
    "data_dir = os.path.join(cwd, 'data')\n",
    "np.random.seed(8)\n",
    "salary_cap = 50000\n",
    "\n",
    "df_pred = pd.read_csv(os.path.join(data_dir, 'Prediction', '20180514.csv'))\n",
    "\n",
    "add_positions(df_pred)"
   ]
  },
  {
   "cell_type": "code",
   "execution_count": null,
   "metadata": {
    "ExecuteTime": {
     "end_time": "2018-05-20T20:00:35.531241Z",
     "start_time": "2018-05-20T20:00:35.504859Z"
    }
   },
   "outputs": [],
   "source": [
    "df_cashline = pd.read_csv(os.path.join(data_dir, 'Contests', 'cashline.csv'))\n",
    "df_cashline.head(5)"
   ]
  },
  {
   "cell_type": "code",
   "execution_count": null,
   "metadata": {
    "ExecuteTime": {
     "end_time": "2018-05-14T12:44:42.324587Z",
     "start_time": "2018-05-14T12:03:21.269872Z"
    },
    "scrolled": true
   },
   "outputs": [],
   "source": [
    "date = []\n",
    "pred = []\n",
    "actual = []\n",
    "cashline = []\n",
    "win = []\n",
    "earnings = []\n",
    "\n",
    "\n",
    "df_cashline = pd.read_csv(os.path.join(data_dir, 'cashline2.csv'))\n",
    "df_cashline.head(5)\n",
    "\n",
    "for i in tqdm(range(df_cashline.shape[0])):\n",
    "    df_target = df_pred.loc[(df_pred['Salary']!=0)&(df_pred['Date']==df_cashline.loc[i, 'Date'])].reset_index(drop=True)\n",
    "    \n",
    "    optimal_lineups = compounding_evolution(population_size=200, num_mutations=50,\n",
    "                                            num_generations=100, num_compounding=5)\n",
    "    \n",
    "    top_lineups = {'Lineup':[], 'Pred':[], 'Actual':[]}\n",
    "\n",
    "    for j, indices in enumerate(optimal_lineups):\n",
    "        top_lineups['Lineup'].append(j)\n",
    "        top_lineups['Pred'].append(df_target.loc[indices, 'Pred'].sum())\n",
    "        top_lineups['Actual'].append(df_target.loc[indices, 'FPTS'].sum())\n",
    "\n",
    "\n",
    "    df_lineups = pd.DataFrame(top_lineups).sort_values(by='Pred', ascending=False).reset_index(drop=True)\n",
    "    df_lineups = df_lineups.loc[:, ['Lineup', 'Pred', 'Actual']]\n",
    "\n",
    "    rows = optimal_lineups[df_lineups.loc[0, 'Lineup']]\n",
    "    df_best = df_target.loc[rows,:]\n",
    "    display(df_best.loc[:,['Date', 'Name', 'Team', 'Pos', 'FPTS', 'Pred', 'Salary']])\n",
    "    print('Salary:', df_target.loc[rows,'Salary'].sum())\n",
    "    print('Predicted:', df_target.loc[rows,'Pred'].sum())\n",
    "    print('Actual:', df_target.loc[rows,'FPTS'].sum())\n",
    "    print('Cashline:', df_cashline.loc[i, 'Cashline'])\n",
    "    \n",
    "    pred.append(df_target.loc[rows,'Pred'].sum())\n",
    "    actual.append(df_target.loc[rows,'FPTS'].sum())\n",
    "    cashline.append(df_cashline.loc[i, 'Cashline'])\n",
    "    \n",
    "    if df_target.loc[rows, 'FPTS'].sum() >= df_cashline.loc[i, 'Cashline']:\n",
    "        print('Win:', df_cashline.loc[i, 'Fee'])\n",
    "        win.append(1)\n",
    "        earnings.append(df_cashline.loc[i, 'Fee'])\n",
    "    else:\n",
    "        print('Lose:', df_cashline.loc[i, 'Fee'])\n",
    "        win.append(0)\n",
    "        earnings.append(-df_cashline.loc[i, 'Fee'])\n",
    "    "
   ]
  },
  {
   "cell_type": "code",
   "execution_count": null,
   "metadata": {
    "ExecuteTime": {
     "end_time": "2018-05-14T12:45:58.144824Z",
     "start_time": "2018-05-14T12:45:58.141121Z"
    }
   },
   "outputs": [],
   "source": [
    "print(sum(win)/len(win))\n",
    "print(sum(earnings))"
   ]
  },
  {
   "cell_type": "code",
   "execution_count": null,
   "metadata": {
    "ExecuteTime": {
     "end_time": "2018-05-14T12:46:38.681459Z",
     "start_time": "2018-05-14T12:46:38.661357Z"
    }
   },
   "outputs": [],
   "source": [
    "date = list(set(df_cashline['Date'].values))\n",
    "df_result = pd.DataFrame({'Date': date,\n",
    "                          'Predicted':pred,\n",
    "                          'Actual': actual,\n",
    "                          'Cashline': cashline,\n",
    "                          'Win':win,\n",
    "                          'Earnings': earnings\n",
    "                         })\n",
    "\n",
    "df_result.loc[:,['Date', 'Predicted', 'Actual', 'Cashline', 'Win', 'Earnings']]"
   ]
  },
  {
   "cell_type": "markdown",
   "metadata": {},
   "source": [
    "### Baseline - random 10,000"
   ]
  },
  {
   "cell_type": "code",
   "execution_count": null,
   "metadata": {
    "ExecuteTime": {
     "end_time": "2018-05-14T12:46:34.437346Z",
     "start_time": "2018-05-14T12:46:34.409881Z"
    }
   },
   "outputs": [],
   "source": [
    "df_result.loc[:,['Date', 'Predicted', 'Actual', 'Cashline', 'Win', 'Earnings']]"
   ]
  },
  {
   "cell_type": "code",
   "execution_count": null,
   "metadata": {
    "ExecuteTime": {
     "end_time": "2018-05-14T10:57:12.380710Z",
     "start_time": "2018-05-14T10:57:01.258Z"
    }
   },
   "outputs": [],
   "source": [
    "df_random_lineups = create_random_lineups(df_target, 200)\n",
    "df_random_lineups['Fitness'] = calculate_fitness(df_random_lineups)\n",
    "df_random_lineups.sort_values(by='Fitness', ascending=False).head(10)"
   ]
  },
  {
   "cell_type": "markdown",
   "metadata": {},
   "source": [
    "### Visualisation"
   ]
  },
  {
   "cell_type": "code",
   "execution_count": null,
   "metadata": {
    "ExecuteTime": {
     "end_time": "2018-05-20T20:09:20.800207Z",
     "start_time": "2018-05-20T20:09:11.462910Z"
    }
   },
   "outputs": [],
   "source": [
    "df_baseline = csv_concatenate(os.path.join(data_dir, data_dir, 'Dataframes', 'modelling', 'baseline'))\n",
    "df_baseline['Baseline'] = calculate_FPTS(df_baseline)"
   ]
  },
  {
   "cell_type": "code",
   "execution_count": null,
   "metadata": {
    "ExecuteTime": {
     "end_time": "2018-05-20T21:43:48.133875Z",
     "start_time": "2018-05-20T21:43:48.125291Z"
    }
   },
   "outputs": [],
   "source": [
    "#target_date = 20180310\n",
    "target_date = 20180326"
   ]
  },
  {
   "cell_type": "code",
   "execution_count": null,
   "metadata": {
    "ExecuteTime": {
     "end_time": "2018-05-20T21:47:55.388888Z",
     "start_time": "2018-05-20T21:46:25.603512Z"
    },
    "scrolled": true
   },
   "outputs": [],
   "source": [
    "df_target = df_pred.loc[(df_pred['Salary']!=0)&(df_pred['Date']==target_date)].reset_index(drop=True)\n",
    "    \n",
    "optimal_lineups = compounding_evolution(population_size=200, num_mutations=50,\n",
    "                                        num_generations=100, num_compounding=5)\n",
    "\n",
    "top_lineups = {'Lineup':[], 'Pred':[], 'Actual':[]}\n",
    "\n",
    "for j, indices in enumerate(optimal_lineups):\n",
    "    top_lineups['Lineup'].append(j)\n",
    "    top_lineups['Pred'].append(df_target.loc[indices, 'Pred'].sum())\n",
    "    top_lineups['Actual'].append(df_target.loc[indices, 'FPTS'].sum())\n",
    "\n",
    "\n",
    "df_lineups = pd.DataFrame(top_lineups).sort_values(by='Pred', ascending=False).reset_index(drop=True)\n",
    "df_lineups = df_lineups.loc[:, ['Lineup', 'Pred', 'Actual']]\n",
    "\n",
    "rows = optimal_lineups[df_lineups.loc[0, 'Lineup']]\n",
    "df_best = df_target.loc[rows,:]\n",
    "display(df_best.loc[:,['Date', 'Name', 'Team', 'Pos', 'FPTS', 'Pred', 'Salary']])\n",
    "print('Salary:', df_target.loc[rows,'Salary'].sum())\n",
    "print('Predicted:', df_target.loc[rows,'Pred'].sum())\n",
    "print('Actual:', df_target.loc[rows,'FPTS'].sum())\n",
    "print('Cashline:', int(df_cashline.loc[df_cashline['Date']==target_date, 'Cashline'].values))"
   ]
  },
  {
   "cell_type": "code",
   "execution_count": null,
   "metadata": {
    "ExecuteTime": {
     "end_time": "2018-05-20T21:48:16.641745Z",
     "start_time": "2018-05-20T21:48:16.634422Z"
    }
   },
   "outputs": [],
   "source": [
    "print(calculate_MAE(df_best['FPTS'].values, df_best['Pred'].values))\n",
    "print(calculate_RMSE(df_best['FPTS'], df_best['Pred']))"
   ]
  },
  {
   "cell_type": "code",
   "execution_count": null,
   "metadata": {
    "ExecuteTime": {
     "end_time": "2018-05-20T21:48:20.028831Z",
     "start_time": "2018-05-20T21:48:20.011036Z"
    }
   },
   "outputs": [],
   "source": [
    "df_best"
   ]
  },
  {
   "cell_type": "code",
   "execution_count": null,
   "metadata": {
    "ExecuteTime": {
     "end_time": "2018-05-20T21:48:22.156463Z",
     "start_time": "2018-05-20T21:48:22.069346Z"
    }
   },
   "outputs": [],
   "source": [
    "Baseline = []\n",
    "\n",
    "for i in range(df_best.shape[0]):\n",
    "    df_best = df_best.reset_index(drop=True)\n",
    "    Baseline.append(df_baseline.loc[(df_baseline['Name']==df_best.loc[i, 'Name'])&(df_baseline['Date']==df_best.loc[i,'Date']), 'Baseline'])"
   ]
  },
  {
   "cell_type": "code",
   "execution_count": null,
   "metadata": {
    "ExecuteTime": {
     "end_time": "2018-05-20T21:48:51.556949Z",
     "start_time": "2018-05-20T21:48:48.909234Z"
    }
   },
   "outputs": [],
   "source": [
    "import plotly.plotly as py\n",
    "import plotly.graph_objs as go\n",
    "\n",
    "names = [name.split(' ')[0][:1] + '. '+ name.split(' ')[1] for name in df_best['Name']]\n",
    "positions = ['(PG)', '(SG)', '(SF)','(PF)','(C)','(G)','(F)','(Utility)']\n",
    "\n",
    "names = [names[i]+'\\n'+positions[i] for i in range(8)]\n",
    "\n",
    "trace1 = go.Bar(\n",
    "    x=names,\n",
    "    y=df_best['FPTS'],\n",
    "    name='Actual FPTS'\n",
    ")\n",
    "\n",
    "trace2 = go.Bar(\n",
    "    x=names,\n",
    "    y=df_best['Pred'],\n",
    "    name='Prediction'\n",
    ")\n",
    "\n",
    "trace3 = go.Bar(\n",
    "    x=names,\n",
    "    y=Baseline,\n",
    "    name='Baseline'\n",
    ")\n",
    "\n",
    "\n",
    "data = [trace1, trace2, trace3]\n",
    "layout = go.Layout(\n",
    "    \n",
    ")\n",
    "\n",
    "layout = go.Layout(\n",
    "        title = 'FPTS: Actual and Predicted',\n",
    "        barmode='group',\n",
    "        legend = {\"x\":0.85, 'y':0.95, 'borderwidth': 1},\n",
    "        yaxis = {\"title\":\"FPTS\"},\n",
    "    )\n",
    "\n",
    "config={'showLink': False}\n",
    "\n",
    "fig = go.Figure(data=data, layout=layout)\n",
    "plot_url = py.plot(fig, filename='prediction0326')\n",
    "py.iplot(fig, filename='prediction0326')"
   ]
  }
 ],
 "metadata": {
  "kernelspec": {
   "display_name": "Python 3",
   "language": "python",
   "name": "python3"
  },
  "language_info": {
   "codemirror_mode": {
    "name": "ipython",
    "version": 3
   },
   "file_extension": ".py",
   "mimetype": "text/x-python",
   "name": "python",
   "nbconvert_exporter": "python",
   "pygments_lexer": "ipython3",
   "version": "3.6.3"
  },
  "varInspector": {
   "cols": {
    "lenName": 16,
    "lenType": 16,
    "lenVar": 40
   },
   "kernels_config": {
    "python": {
     "delete_cmd_postfix": "",
     "delete_cmd_prefix": "del ",
     "library": "var_list.py",
     "varRefreshCmd": "print(var_dic_list())"
    },
    "r": {
     "delete_cmd_postfix": ") ",
     "delete_cmd_prefix": "rm(",
     "library": "var_list.r",
     "varRefreshCmd": "cat(var_dic_list()) "
    }
   },
   "types_to_exclude": [
    "module",
    "function",
    "builtin_function_or_method",
    "instance",
    "_Feature"
   ],
   "window_display": false
  }
 },
 "nbformat": 4,
 "nbformat_minor": 2
}
