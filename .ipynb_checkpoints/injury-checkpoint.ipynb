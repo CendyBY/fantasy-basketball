{
 "cells": [
  {
   "cell_type": "code",
   "execution_count": null,
   "metadata": {},
   "outputs": [],
   "source": [
    "df_salary = df_salary[df_salary['Salary']!=0].reset_index(drop=True)"
   ]
  },
  {
   "cell_type": "code",
   "execution_count": null,
   "metadata": {},
   "outputs": [],
   "source": [
    "df_out = pd.DataFrame({'Out': [0 for i in range(df_salary.shape[0])]})\n",
    "df_IL = pd.concat([df_salary, df_out], axis=1)\n",
    "df_IL = df_IL.loc[:,['Date','Team','Pos','Name','Salary','Starter','Out']].sort_values(by='Date').reset_index(drop=True)"
   ]
  },
  {
   "cell_type": "code",
   "execution_count": null,
   "metadata": {},
   "outputs": [],
   "source": [
    "df_injury = pd.read_csv(os.path.join(data_dir,'Injury','2017-18.csv'))\n",
    "standardize_names(df_injury, standard_names)\n",
    "df_injury = df_injury.dropna().reset_index(drop=True)\n",
    "names = list(set(df_injury['Name']))"
   ]
  },
  {
   "cell_type": "code",
   "execution_count": null,
   "metadata": {},
   "outputs": [],
   "source": [
    "updates = df_injury.loc[df_injury['Name']=='Jabari Parker'].reset_index(drop=True)\n",
    "updates.loc[0,'Note']"
   ]
  },
  {
   "cell_type": "code",
   "execution_count": null,
   "metadata": {},
   "outputs": [],
   "source": [
    "for name in tqdm(names):\n",
    "    updates = df_injury.loc[df_injury['Name']==name].reset_index(drop=True)\n",
    "    \n",
    "    if len(updates) == 1:\n",
    "        if updates.loc[0,'Note'] == 'placed':\n",
    "            start = str(updates.loc[0,'Date'])\n",
    "            end = str(df_IL.loc[df_IL.shape[0]-1, 'Date'])\n",
    "            for date in pd.date_range(start, end, closed='left'):\n",
    "                date_int = int(date.strftime('%Y-%m-%d').replace('-',''))\n",
    "                df_IL.loc[(df_IL['Date']==date_int) & (df_IL['Name']==name),'Out'] = 1\n",
    "    \n",
    "    else:\n",
    "        for i in range(updates.shape[0]):\n",
    "            if i+1 == updates.shape[0]:\n",
    "                if updates.shape[0] >= 2:\n",
    "                    if (updates.loc[i,'Note'] == 'placed') & (updates.loc[i,'Team'] == updates.loc[i-1,'Team']):\n",
    "                        start = str(updates.loc[i,'Date'])\n",
    "                        end = str(df_IL.loc[df_IL.shape[0]-1,'Date'])\n",
    "\n",
    "                        for date in pd.date_range(start, end, closed='left'):\n",
    "                            date_int = int(date.strftime('%Y-%m-%d').replace('-',''))\n",
    "                            df_IL.loc[(df_IL['Date']==date_int) & (df_IL['Name']==name),'Out'] = 1\n",
    "                    break               \n",
    "            \n",
    "            elif (updates.loc[i,'Note'] == 'placed') & (updates.loc[i+1,'Note'] == 'activated'):\n",
    "                start = str(updates.loc[i,'Date'])\n",
    "                end = str(updates.loc[i+1,'Date'])\n",
    "            \n",
    "                for date in pd.date_range(start, end, closed='left'):\n",
    "                    date_int = int(date.strftime('%Y-%m-%d').replace('-',''))\n",
    "                    df_IL.loc[(df_IL['Date']==date_int) & (df_IL['Name']==name),'Out'] = 1\n",
    "                    "
   ]
  },
  {
   "cell_type": "code",
   "execution_count": null,
   "metadata": {},
   "outputs": [],
   "source": [
    "df_IL['Rota_All'] = [0 for i in range(df_IL.shape[0])]\n",
    "df_IL['Rota_Pos'] = [0 for i in range(df_IL.shape[0])]"
   ]
  }
 ],
 "metadata": {
  "kernelspec": {
   "display_name": "Python 3",
   "language": "python",
   "name": "python3"
  },
  "language_info": {
   "codemirror_mode": {
    "name": "ipython",
    "version": 3
   },
   "file_extension": ".py",
   "mimetype": "text/x-python",
   "name": "python",
   "nbconvert_exporter": "python",
   "pygments_lexer": "ipython3",
   "version": "3.6.3"
  },
  "varInspector": {
   "cols": {
    "lenName": 16,
    "lenType": 16,
    "lenVar": 40
   },
   "kernels_config": {
    "python": {
     "delete_cmd_postfix": "",
     "delete_cmd_prefix": "del ",
     "library": "var_list.py",
     "varRefreshCmd": "print(var_dic_list())"
    },
    "r": {
     "delete_cmd_postfix": ") ",
     "delete_cmd_prefix": "rm(",
     "library": "var_list.r",
     "varRefreshCmd": "cat(var_dic_list()) "
    }
   },
   "types_to_exclude": [
    "module",
    "function",
    "builtin_function_or_method",
    "instance",
    "_Feature"
   ],
   "window_display": false
  }
 },
 "nbformat": 4,
 "nbformat_minor": 2
}
