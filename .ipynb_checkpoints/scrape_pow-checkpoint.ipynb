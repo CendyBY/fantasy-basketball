{
 "cells": [
  {
   "cell_type": "code",
   "execution_count": null,
   "metadata": {},
   "outputs": [],
   "source": [
    "import os\n",
    "import pickle\n",
    "import time\n",
    "import pandas as pd\n",
    "from urllib.request  import urlopen\n",
    "from bs4             import BeautifulSoup"
   ]
  },
  {
   "cell_type": "code",
   "execution_count": null,
   "metadata": {},
   "outputs": [],
   "source": [
    "cwd = os.getcwd()\n",
    "data_dir = os.path.join(cwd, 'data')\n",
    "url_parent = \"https://www.basketball-reference.com\""
   ]
  },
  {
   "cell_type": "code",
   "execution_count": null,
   "metadata": {},
   "outputs": [],
   "source": [
    "def convert_date(season, date):\n",
    "    months = {'Jan':'01','Feb':'02','Mar':'03','Apr':'04','May':'05','Jun':'06',\n",
    "              'Jul':'07','Aug':'08','Sep':'09','Oct':'10','Nov':'11','Dec':'12'}\n",
    "    for key in months.keys():\n",
    "        if key in date:\n",
    "            if key in ['Sep','Oct','Nov','Dec']:\n",
    "                year = season[0:4]\n",
    "            else:\n",
    "                if season == '1999-00':\n",
    "                    year = '2000'\n",
    "                else:\n",
    "                    year = season[0:2]+season[5:7]\n",
    "            date_numeric = year+'-'+date.replace(key,months[key]).replace(' ','-')\n",
    "    return date_numeric"
   ]
  },
  {
   "cell_type": "code",
   "execution_count": null,
   "metadata": {},
   "outputs": [],
   "source": [
    "convert_date('1999-00','May 25')"
   ]
  },
  {
   "cell_type": "code",
   "execution_count": null,
   "metadata": {},
   "outputs": [],
   "source": [
    "def generate_target_weekdays(date):\n",
    "    date_dt = pd.to_datetime(date,format='%Y-%m-%d')\n",
    "    start = date_dt - pd.DateOffset(7) \n",
    "    end = date_dt - pd.DateOffset(1)\n",
    "    weekdays = [date.strftime(format='%Y-%m-%d') for date in pd.date_range(start,end)]\n",
    "    return weekdays"
   ]
  },
  {
   "cell_type": "code",
   "execution_count": null,
   "metadata": {},
   "outputs": [],
   "source": [
    "def scrape_column_headers():\n",
    "    soup = BeautifulSoup(urlopen(url_parent+'/players/j/jamesle01/gamelog/2017/'),'html5lib')\n",
    "    player_table = soup.find('table',id='pgl_basic')\n",
    "    column_headers = ['Name','PoW'] + [th.getText()for th in player_table.find('thead').findAll('th')][1:]\n",
    "    column_headers[6] = 'Home'\n",
    "    column_headers[8] = 'Result'\n",
    "    return column_headers"
   ]
  },
  {
   "cell_type": "code",
   "execution_count": null,
   "metadata": {},
   "outputs": [],
   "source": [
    "print(generate_target_weekdays('2016-11-11'))"
   ]
  },
  {
   "cell_type": "code",
   "execution_count": null,
   "metadata": {},
   "outputs": [],
   "source": [
    "column_headers = scrape_column_headers()\n",
    "player_data = []\n",
    "errors = []\n",
    "\n",
    "url_pow = 'https://www.basketball-reference.com/awards/pow.html'\n",
    "soup_pow = BeautifulSoup(urlopen(url_pow),'html5lib')\n",
    "pow_seasons = soup_pow.find('body').find('div',id='content').find('div',id='div_').findAll(\"div\",class_=\"data_grid_group\")\n",
    "\n",
    "for pow_season in pow_seasons:\n",
    "    award_season = pow_season.find('h3').getText()\n",
    "    pow_months = pow_season.findAll('div',class_='data_grid_box')\n",
    "    for pow_month in pow_months:\n",
    "        pow_days = pow_month.find('div',class_=None).findAll('p')\n",
    "        for pow_day in pow_days:\n",
    "            award_date = convert_date(award_season, pow_day.find('strong').getText())\n",
    "            print(award_date)\n",
    "            pow_conferences = pow_day.findAll('a')\n",
    "            try:\n",
    "                for pow_conference in pow_conferences:\n",
    "                    player_link = url_parent+pow_conference['href']\n",
    "                    soup_player_all_seasons = BeautifulSoup(urlopen(player_link),'html5lib')\n",
    "                    player_name = ' '.join(soup_player_all_seasons.find('div',id='info',class_='players').find('h1').getText().split(' ')[:2])\n",
    "                    print(player_name)\n",
    "                    player_seasons = soup_player_all_seasons.find('body').find('div',id='all_per_game').find('tbody').findAll('th')\n",
    "                    for player_season in player_seasons:\n",
    "                        if player_season.find('a').getText() == award_season:\n",
    "                            player_season_link = url_parent+player_season.find('a')['href']\n",
    "                            soup_player_season = BeautifulSoup(urlopen(player_season_link),'html5lib')\n",
    "                            player_table = soup_player_season.find('table',id='pgl_basic')\n",
    "                            data_rows = player_table.find('tbody').findAll('tr',class_=False)\n",
    "                            target_weekdays = generate_target_weekdays(award_date)\n",
    "                            for data_row in data_rows:\n",
    "                                game_date = data_row.find('td',class_='left ').find('a').getText()\n",
    "                                if game_date in target_weekdays:\n",
    "                                    player_data.append([player_name,award_date] + [td.getText() for td in data_row.findAll('td')])\n",
    "            except:\n",
    "                errors.append([award_date,player_link])\n",
    "                print('[ERROR]'+award_date+':'+player_link)\n",
    "df = pd.DataFrame(player_data,columns=column_headers)\n",
    "df.columns = df.columns.str.replace('%','_perc').str.replace('/','')\n",
    "df = df.loc[:,['Name','PoW','Date','Tm','Opp','Result','MP','FG','FGA','FG_perc','3P','3PA','3P_perc',\n",
    "               'FT','FTA','FT_perc','ORB','DRB','TRB','AST','STL','BLK','TOV','PF','PTS','+-']]\n",
    "df.to_pickle('/home/kengo/NBA/data/training_data_2.p')"
   ]
  },
  {
   "cell_type": "code",
   "execution_count": null,
   "metadata": {},
   "outputs": [],
   "source": [
    "pd.DataFrame(player_data,columns=column_headers).sort_values(by='Date',ascending=False)"
   ]
  },
  {
   "cell_type": "code",
   "execution_count": null,
   "metadata": {},
   "outputs": [],
   "source": [
    "pd.set_option(\"display.max_columns\", 33)"
   ]
  },
  {
   "cell_type": "code",
   "execution_count": null,
   "metadata": {},
   "outputs": [],
   "source": [
    "df = pd.read_pickle('/home/kengo/NBA/data/training_data_2.p')"
   ]
  },
  {
   "cell_type": "code",
   "execution_count": null,
   "metadata": {},
   "outputs": [],
   "source": [
    "df.columns = df.columns.str.replace('%','_perc').str.replace('/','')\n",
    "df = df.fillna(0)\n",
    "df.loc[:,'FG':'+-'] = df.loc[:,'FG':'+-'].apply(pd.to_numeric)"
   ]
  },
  {
   "cell_type": "code",
   "execution_count": null,
   "metadata": {},
   "outputs": [],
   "source": [
    "df.sort_values(by=['Name','PoW'])\n",
    "df_count = df.drop_duplicates(subset=['Name','PoW'])\n",
    "df_count['Name']"
   ]
  },
  {
   "cell_type": "code",
   "execution_count": null,
   "metadata": {},
   "outputs": [],
   "source": [
    "sorted(pow_count.items(), key=lambda x: x[1])"
   ]
  },
  {
   "cell_type": "code",
   "execution_count": null,
   "metadata": {},
   "outputs": [],
   "source": [
    "pow_count = {}\n",
    "pow_week = {}\n",
    "for i in range(len(df)):\n",
    "    if df['Name'][i] in pow_dic.keys():\n",
    "        if df['PoW'][i] not in pow_week[df['Name'][i]]:\n",
    "            pow_dic[df['Name'][i]] += 1   \n",
    "    else:\n",
    "        pow_dic[df['Name'][i]] = 1\n",
    "        pow_week[df['Name'][i]] = [df['PoW'][i]]"
   ]
  }
 ],
 "metadata": {
  "kernelspec": {
   "display_name": "Python 3",
   "language": "python",
   "name": "python3"
  },
  "language_info": {
   "codemirror_mode": {
    "name": "ipython",
    "version": 3
   },
   "file_extension": ".py",
   "mimetype": "text/x-python",
   "name": "python",
   "nbconvert_exporter": "python",
   "pygments_lexer": "ipython3",
   "version": "3.6.3"
  },
  "varInspector": {
   "cols": {
    "lenName": 16,
    "lenType": 16,
    "lenVar": 40
   },
   "kernels_config": {
    "python": {
     "delete_cmd_postfix": "",
     "delete_cmd_prefix": "del ",
     "library": "var_list.py",
     "varRefreshCmd": "print(var_dic_list())"
    },
    "r": {
     "delete_cmd_postfix": ") ",
     "delete_cmd_prefix": "rm(",
     "library": "var_list.r",
     "varRefreshCmd": "cat(var_dic_list()) "
    }
   },
   "types_to_exclude": [
    "module",
    "function",
    "builtin_function_or_method",
    "instance",
    "_Feature"
   ],
   "window_display": false
  }
 },
 "nbformat": 4,
 "nbformat_minor": 2
}
