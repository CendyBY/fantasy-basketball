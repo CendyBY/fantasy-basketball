{
 "cells": [
  {
   "cell_type": "markdown",
   "metadata": {
    "code_folding": []
   },
   "source": [
    "### Predicting Salary from Stats"
   ]
  },
  {
   "cell_type": "code",
   "execution_count": null,
   "metadata": {},
   "outputs": [],
   "source": [
    "stats_mean = {'PTS':[], 'PTS10':[], 'AST':[], 'AST10':[], 'TRB':[], 'TRB10':[],\n",
    "              'STL':[], 'STL10':[], 'BLK':[], 'BLK10':[], 'TOV':[], 'TOV10':[]}\n",
    "\n",
    "for name in names_ref:\n",
    "    if name in diff:\n",
    "        df_tmp = df.loc[df['Name']==name]\n",
    "        df_tmp = df_tmp.sort_values(by='Date', ascending=False)\n",
    "        for key in stats_mean.keys():\n",
    "            if '5' in key:\n",
    "                stats_mean[key].append(df_tmp.head(log)[str(key)[:-1]].mean())\n",
    "            else:\n",
    "                stat_fp = df_tmp[str(key)].mean()\n",
    "                stats_mean[key].append(df_tmp[str(key)].mean())\n",
    "\n",
    "df_mean = pd.DataFrame(stats_mean)\n",
    "df_salary = pd.merge([df_salary, df_mean], axis=1)"
   ]
  },
  {
   "cell_type": "code",
   "execution_count": null,
   "metadata": {},
   "outputs": [],
   "source": [
    "df_salary = df_salary.loc[df_salary['Salary'] > 4000].reset_index(drop=True)\n",
    "df_salary.head(200)"
   ]
  },
  {
   "cell_type": "code",
   "execution_count": null,
   "metadata": {},
   "outputs": [],
   "source": [
    "from sklearn.linear_model import LinearRegression\n",
    "\n",
    "X = df_salary.loc[:, list(stats_mean.keys())].values.reshape(-1,12)\n",
    "y = df_salary['Salary'].values.reshape(-1,1)\n",
    "\n",
    "reg = LinearRegression()\n",
    "reg.fit(X, y)"
   ]
  },
  {
   "cell_type": "code",
   "execution_count": null,
   "metadata": {},
   "outputs": [],
   "source": [
    "print(reg.coef_)\n",
    "print(reg.intercept_)\n",
    "\n",
    "#print('Salary = {:.2f} + {:.2f} * FPPG'.format(float(reg.intercept_), float(reg.coef_)))\n",
    "\n",
    "reg.score(X, y)"
   ]
  },
  {
   "cell_type": "code",
   "execution_count": null,
   "metadata": {},
   "outputs": [],
   "source": [
    "df_lebron = df.loc[(df['Name'] == 'LeBron James') & (df['MP'] > 0)].sort_values(by='Date')\n",
    "np.std(df_lebron['FPP'])"
   ]
  },
  {
   "cell_type": "code",
   "execution_count": null,
   "metadata": {},
   "outputs": [],
   "source": [
    "sns.lmplot(x='PTS', y='Salary', data=df_salary, size=15)"
   ]
  }
 ],
 "metadata": {
  "kernelspec": {
   "display_name": "Python 3",
   "language": "python",
   "name": "python3"
  },
  "language_info": {
   "codemirror_mode": {
    "name": "ipython",
    "version": 3
   },
   "file_extension": ".py",
   "mimetype": "text/x-python",
   "name": "python",
   "nbconvert_exporter": "python",
   "pygments_lexer": "ipython3",
   "version": "3.6.3"
  },
  "varInspector": {
   "cols": {
    "lenName": 16,
    "lenType": 16,
    "lenVar": 40
   },
   "kernels_config": {
    "python": {
     "delete_cmd_postfix": "",
     "delete_cmd_prefix": "del ",
     "library": "var_list.py",
     "varRefreshCmd": "print(var_dic_list())"
    },
    "r": {
     "delete_cmd_postfix": ") ",
     "delete_cmd_prefix": "rm(",
     "library": "var_list.r",
     "varRefreshCmd": "cat(var_dic_list()) "
    }
   },
   "types_to_exclude": [
    "module",
    "function",
    "builtin_function_or_method",
    "instance",
    "_Feature"
   ],
   "window_display": false
  }
 },
 "nbformat": 4,
 "nbformat_minor": 2
}
