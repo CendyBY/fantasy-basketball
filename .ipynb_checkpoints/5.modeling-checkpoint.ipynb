{
 "cells": [
  {
   "cell_type": "code",
   "execution_count": 488,
   "metadata": {
    "ExecuteTime": {
     "end_time": "2018-04-11T17:35:41.394677Z",
     "start_time": "2018-04-11T17:35:41.383021Z"
    }
   },
   "outputs": [],
   "source": [
    "import os\n",
    "import glob\n",
    "import numpy as np\n",
    "import pandas as pd\n",
    "import matplotlib.pyplot as plt\n",
    "from tqdm import tqdm_notebook as tqdm\n",
    "from datetime import datetime\n",
    "from sklearn.linear_model import LinearRegression\n",
    "from sklearn.linear_model import Ridge\n",
    "from sklearn.model_selection import train_test_split"
   ]
  },
  {
   "cell_type": "code",
   "execution_count": 515,
   "metadata": {
    "ExecuteTime": {
     "end_time": "2018-04-11T17:46:55.773833Z",
     "start_time": "2018-04-11T17:46:55.766611Z"
    }
   },
   "outputs": [],
   "source": [
    "cwd = os.getcwd()\n",
    "data_dir = os.path.join(cwd, 'data')\n",
    "season = '2015-16'\n",
    "weighting = 'linear'\n",
    "np.random.seed(8)"
   ]
  },
  {
   "cell_type": "code",
   "execution_count": 516,
   "metadata": {
    "ExecuteTime": {
     "end_time": "2018-04-11T17:46:56.643452Z",
     "start_time": "2018-04-11T17:46:56.628547Z"
    }
   },
   "outputs": [],
   "source": [
    "%matplotlib inline"
   ]
  },
  {
   "cell_type": "code",
   "execution_count": 517,
   "metadata": {
    "ExecuteTime": {
     "end_time": "2018-04-11T17:46:57.270803Z",
     "start_time": "2018-04-11T17:46:57.257838Z"
    }
   },
   "outputs": [],
   "source": [
    "#Concatenate all csv files under a directory\n",
    "def csv_concatenate(folder_path):\n",
    "    files = glob.glob(folder_path + \"/*.csv\")\n",
    "    df_list = []\n",
    "    for file in tqdm(files):\n",
    "        df_list.append(pd.read_csv(file, parse_dates=True, infer_datetime_format=True))\n",
    "    #Fill nan with 0s as some values are empty for percentage points\n",
    "    df = pd.concat(df_list).fillna(0).reset_index(drop=True)\n",
    "    return df"
   ]
  },
  {
   "cell_type": "code",
   "execution_count": 518,
   "metadata": {
    "ExecuteTime": {
     "end_time": "2018-04-11T17:46:57.959904Z",
     "start_time": "2018-04-11T17:46:57.950497Z"
    },
    "code_folding": []
   },
   "outputs": [],
   "source": [
    "def calculate_MAE(pred, true):\n",
    "    n = len(pred)\n",
    "    abs_error = 0 \n",
    "    for i in range(n):\n",
    "        abs_error += abs(pred[i] - true[i])\n",
    "    mae = abs_error/n\n",
    "    return mae"
   ]
  },
  {
   "cell_type": "code",
   "execution_count": 519,
   "metadata": {
    "ExecuteTime": {
     "end_time": "2018-04-11T17:46:58.795311Z",
     "start_time": "2018-04-11T17:46:58.785783Z"
    },
    "code_folding": []
   },
   "outputs": [],
   "source": [
    "def calculate_RMSE(pred, true):\n",
    "    sq_error = 0\n",
    "    n = len(pred)\n",
    "    for i in range(n):\n",
    "        sq_error += np.power(pred[i] - true[i], 2)\n",
    "    rmse = np.sqrt(sq_error/n)\n",
    "    return rmse"
   ]
  },
  {
   "cell_type": "code",
   "execution_count": 520,
   "metadata": {
    "ExecuteTime": {
     "end_time": "2018-04-11T17:46:59.471983Z",
     "start_time": "2018-04-11T17:46:59.447808Z"
    },
    "code_folding": []
   },
   "outputs": [],
   "source": [
    "def calculate_FPTS(df):\n",
    "    #Scoring rules based on https://www.draftkings.co.uk/help/rules/4\n",
    "    multipliers = {'PTS':1, '3P': 0.5, 'TRB':1.25, 'AST':1.5, 'STL':2, 'BLK':2, 'TOV':-0.5}\n",
    "    \n",
    "    indices = len(df)\n",
    "    fpts_list = []\n",
    "    \n",
    "    for i in tqdm(range(indices)):\n",
    "        fpts = 0\n",
    "        doubles = 0\n",
    "        for stat, multiplier in multipliers.items():\n",
    "            if stat in ['PTS', 'TRB', 'AST', 'STL', 'BLK']:\n",
    "                if df.loc[i, stat] >= 10:\n",
    "                    doubles += 1\n",
    "            fpts += df.loc[i, stat]*multiplier\n",
    "        if doubles >= 2:\n",
    "            fpts += 1.5\n",
    "        if doubles >= 3:\n",
    "            fpts += 3\n",
    "        fpts_list.append(fpts) \n",
    "        \n",
    "    return fpts_list"
   ]
  },
  {
   "cell_type": "code",
   "execution_count": 549,
   "metadata": {
    "ExecuteTime": {
     "end_time": "2018-04-12T04:32:44.732476Z",
     "start_time": "2018-04-12T04:32:44.688657Z"
    },
    "code_folding": []
   },
   "outputs": [],
   "source": [
    "def cross_val(reg_base, X, y, show_train=False):\n",
    "    mae_results_train = []\n",
    "    rmse_results_train = []\n",
    "    \n",
    "    mae_results_test = []\n",
    "    rmse_results_test = []\n",
    "    \n",
    "    for k in tqdm(range(10)):\n",
    "        X_train, X_test, y_train, y_test = train_test_split(X, y, test_size=0.2, random_state=k)\n",
    "        reg = reg_base\n",
    "        reg.fit(X_train, y_train)\n",
    "        \n",
    "        y_pred_train = reg.predict(X_train)\n",
    "        \n",
    "        mae_results_train.append(calculate_MAE(y_pred_train, y_train))\n",
    "        rmse_results_train.append(calculate_RMSE(y_pred_train, y_train))\n",
    "        \n",
    "        y_pred_test = reg.predict(X_test)\n",
    "        \n",
    "        mae_results_test.append(calculate_MAE(y_pred_test, y_test))\n",
    "        rmse_results_test.append(calculate_RMSE(y_pred_test, y_test))\n",
    "    \n",
    "    if show_train==True:\n",
    "        print('[TRAIN]')\n",
    "        print('MAE:', np.mean(mae_results_train))\n",
    "        print('RSME:', np.mean(rmse_results_train))\n",
    "        print('\\n[TEST]')\n",
    "    \n",
    "    #print('\\n[TEST]')\n",
    "    print('MAE:', np.mean(mae_results_test))\n",
    "    print('RSME:', np.mean(rmse_results_test))\n",
    "    return None"
   ]
  },
  {
   "cell_type": "markdown",
   "metadata": {},
   "source": [
    "### 1. Baseline"
   ]
  },
  {
   "cell_type": "code",
   "execution_count": 522,
   "metadata": {
    "ExecuteTime": {
     "end_time": "2018-04-11T17:47:08.596516Z",
     "start_time": "2018-04-11T17:47:01.922317Z"
    }
   },
   "outputs": [
    {
     "data": {
      "application/vnd.jupyter.widget-view+json": {
       "model_id": "5447a82ecc04490b9a3aa378cebd48e2",
       "version_major": 2,
       "version_minor": 0
      },
      "text/html": [
       "<p>Failed to display Jupyter Widget of type <code>HBox</code>.</p>\n",
       "<p>\n",
       "  If you're reading this message in the Jupyter Notebook or JupyterLab Notebook, it may mean\n",
       "  that the widgets JavaScript is still loading. If this message persists, it\n",
       "  likely means that the widgets JavaScript library is either not installed or\n",
       "  not enabled. See the <a href=\"https://ipywidgets.readthedocs.io/en/stable/user_install.html\">Jupyter\n",
       "  Widgets Documentation</a> for setup instructions.\n",
       "</p>\n",
       "<p>\n",
       "  If you're reading this message in another frontend (for example, a static\n",
       "  rendering on GitHub or <a href=\"https://nbviewer.jupyter.org/\">NBViewer</a>),\n",
       "  it may mean that your frontend doesn't currently support widgets.\n",
       "</p>\n"
      ],
      "text/plain": [
       "HBox(children=(IntProgress(value=0, max=3), HTML(value='')))"
      ]
     },
     "metadata": {},
     "output_type": "display_data"
    },
    {
     "name": "stdout",
     "output_type": "stream",
     "text": [
      "\n"
     ]
    },
    {
     "data": {
      "application/vnd.jupyter.widget-view+json": {
       "model_id": "00b261a15c9d4f4d825013aacad3650c",
       "version_major": 2,
       "version_minor": 0
      },
      "text/html": [
       "<p>Failed to display Jupyter Widget of type <code>HBox</code>.</p>\n",
       "<p>\n",
       "  If you're reading this message in the Jupyter Notebook or JupyterLab Notebook, it may mean\n",
       "  that the widgets JavaScript is still loading. If this message persists, it\n",
       "  likely means that the widgets JavaScript library is either not installed or\n",
       "  not enabled. See the <a href=\"https://ipywidgets.readthedocs.io/en/stable/user_install.html\">Jupyter\n",
       "  Widgets Documentation</a> for setup instructions.\n",
       "</p>\n",
       "<p>\n",
       "  If you're reading this message in another frontend (for example, a static\n",
       "  rendering on GitHub or <a href=\"https://nbviewer.jupyter.org/\">NBViewer</a>),\n",
       "  it may mean that your frontend doesn't currently support widgets.\n",
       "</p>\n"
      ],
      "text/plain": [
       "HBox(children=(IntProgress(value=0, max=61708), HTML(value='')))"
      ]
     },
     "metadata": {},
     "output_type": "display_data"
    },
    {
     "name": "stdout",
     "output_type": "stream",
     "text": [
      "\n"
     ]
    }
   ],
   "source": [
    "df_baseline = csv_concatenate(os.path.join(data_dir, 'Dataframes','modelling', 'baseline'))\n",
    "df_baseline['FPTS_pred'] = calculate_FPTS(df_baseline)"
   ]
  },
  {
   "cell_type": "code",
   "execution_count": 523,
   "metadata": {
    "ExecuteTime": {
     "end_time": "2018-04-11T17:47:11.321118Z",
     "start_time": "2018-04-11T17:47:08.963549Z"
    }
   },
   "outputs": [
    {
     "name": "stdout",
     "output_type": "stream",
     "text": [
      "MAE: 7.1343144324884085\n",
      "RMSE: 9.561695498479832\n"
     ]
    }
   ],
   "source": [
    "print('MAE:', calculate_MAE(df_baseline['FPTS_pred'], df_baseline['FPTS']))\n",
    "print('RMSE:', calculate_RMSE(df_baseline['FPTS_pred'], df_baseline['FPTS']))"
   ]
  },
  {
   "cell_type": "markdown",
   "metadata": {
    "ExecuteTime": {
     "end_time": "2018-04-09T13:16:34.494233Z",
     "start_time": "2018-04-09T13:16:33.368260Z"
    }
   },
   "source": [
    "### 2. Linear Regression with basic 9 variables "
   ]
  },
  {
   "cell_type": "code",
   "execution_count": 524,
   "metadata": {
    "ExecuteTime": {
     "end_time": "2018-04-11T17:47:11.690527Z",
     "start_time": "2018-04-11T17:47:11.667112Z"
    }
   },
   "outputs": [],
   "source": [
    "df_baseline = df_baseline.sort_values(by=['Date','Name']).reset_index(drop=True)"
   ]
  },
  {
   "cell_type": "code",
   "execution_count": 525,
   "metadata": {
    "ExecuteTime": {
     "end_time": "2018-04-11T17:47:12.032897Z",
     "start_time": "2018-04-11T17:47:12.030230Z"
    }
   },
   "outputs": [],
   "source": [
    "basic =  ['PTS','3P','AST','TRB','STL','BLK','TOV', 'DD', 'TD']"
   ]
  },
  {
   "cell_type": "code",
   "execution_count": 526,
   "metadata": {
    "ExecuteTime": {
     "end_time": "2018-04-11T17:47:15.509988Z",
     "start_time": "2018-04-11T17:47:12.350614Z"
    }
   },
   "outputs": [
    {
     "data": {
      "application/vnd.jupyter.widget-view+json": {
       "model_id": "56315434676245a5982dd523e48a0916",
       "version_major": 2,
       "version_minor": 0
      },
      "text/html": [
       "<p>Failed to display Jupyter Widget of type <code>HBox</code>.</p>\n",
       "<p>\n",
       "  If you're reading this message in the Jupyter Notebook or JupyterLab Notebook, it may mean\n",
       "  that the widgets JavaScript is still loading. If this message persists, it\n",
       "  likely means that the widgets JavaScript library is either not installed or\n",
       "  not enabled. See the <a href=\"https://ipywidgets.readthedocs.io/en/stable/user_install.html\">Jupyter\n",
       "  Widgets Documentation</a> for setup instructions.\n",
       "</p>\n",
       "<p>\n",
       "  If you're reading this message in another frontend (for example, a static\n",
       "  rendering on GitHub or <a href=\"https://nbviewer.jupyter.org/\">NBViewer</a>),\n",
       "  it may mean that your frontend doesn't currently support widgets.\n",
       "</p>\n"
      ],
      "text/plain": [
       "HBox(children=(IntProgress(value=0, max=10), HTML(value='')))"
      ]
     },
     "metadata": {},
     "output_type": "display_data"
    },
    {
     "name": "stdout",
     "output_type": "stream",
     "text": [
      "\n",
      "MAE: 7.203126281226662\n",
      "RSME: 9.480908965486563\n"
     ]
    }
   ],
   "source": [
    "X = df_baseline.loc[:, basic]\n",
    "y = df_baseline['FPTS'].values.reshape(-1,1).flatten()\n",
    "\n",
    "reg = LinearRegression()\n",
    "cross_val(reg, X, y)"
   ]
  },
  {
   "cell_type": "code",
   "execution_count": 527,
   "metadata": {
    "ExecuteTime": {
     "end_time": "2018-04-11T17:47:15.848115Z",
     "start_time": "2018-04-11T17:47:15.843030Z"
    }
   },
   "outputs": [
    {
     "name": "stdout",
     "output_type": "stream",
     "text": [
      "PTS 0.9583\n",
      "3P -0.0786\n",
      "AST 1.2627\n",
      "TRB 1.0454\n",
      "STL 1.4318\n",
      "BLK 1.61\n",
      "TOV 0.6246\n",
      "DD 1.0801\n",
      "TD 2.7819\n"
     ]
    }
   ],
   "source": [
    "for i in range(len(X.columns)):\n",
    "    print(list(X.columns)[i], round(list(reg.coef_)[i],4))"
   ]
  },
  {
   "cell_type": "markdown",
   "metadata": {
    "ExecuteTime": {
     "end_time": "2018-04-09T13:28:27.367757Z",
     "start_time": "2018-04-09T13:28:27.364972Z"
    }
   },
   "source": [
    "### 3. Weighted Model"
   ]
  },
  {
   "cell_type": "markdown",
   "metadata": {
    "ExecuteTime": {
     "end_time": "2018-04-09T15:22:03.411890Z",
     "start_time": "2018-04-09T15:22:00.140237Z"
    }
   },
   "source": [
    "Baseline"
   ]
  },
  {
   "cell_type": "code",
   "execution_count": 528,
   "metadata": {
    "ExecuteTime": {
     "end_time": "2018-04-11T17:47:27.738100Z",
     "start_time": "2018-04-11T17:47:16.179356Z"
    }
   },
   "outputs": [
    {
     "data": {
      "application/vnd.jupyter.widget-view+json": {
       "model_id": "cfb27014282c4ad7b47d06de2d5bb05e",
       "version_major": 2,
       "version_minor": 0
      },
      "text/html": [
       "<p>Failed to display Jupyter Widget of type <code>HBox</code>.</p>\n",
       "<p>\n",
       "  If you're reading this message in the Jupyter Notebook or JupyterLab Notebook, it may mean\n",
       "  that the widgets JavaScript is still loading. If this message persists, it\n",
       "  likely means that the widgets JavaScript library is either not installed or\n",
       "  not enabled. See the <a href=\"https://ipywidgets.readthedocs.io/en/stable/user_install.html\">Jupyter\n",
       "  Widgets Documentation</a> for setup instructions.\n",
       "</p>\n",
       "<p>\n",
       "  If you're reading this message in another frontend (for example, a static\n",
       "  rendering on GitHub or <a href=\"https://nbviewer.jupyter.org/\">NBViewer</a>),\n",
       "  it may mean that your frontend doesn't currently support widgets.\n",
       "</p>\n"
      ],
      "text/plain": [
       "HBox(children=(IntProgress(value=0, max=3), HTML(value='')))"
      ]
     },
     "metadata": {},
     "output_type": "display_data"
    },
    {
     "name": "stdout",
     "output_type": "stream",
     "text": [
      "\n"
     ]
    },
    {
     "data": {
      "application/vnd.jupyter.widget-view+json": {
       "model_id": "68329e554b10456c8b40ccb8a44864ab",
       "version_major": 2,
       "version_minor": 0
      },
      "text/html": [
       "<p>Failed to display Jupyter Widget of type <code>HBox</code>.</p>\n",
       "<p>\n",
       "  If you're reading this message in the Jupyter Notebook or JupyterLab Notebook, it may mean\n",
       "  that the widgets JavaScript is still loading. If this message persists, it\n",
       "  likely means that the widgets JavaScript library is either not installed or\n",
       "  not enabled. See the <a href=\"https://ipywidgets.readthedocs.io/en/stable/user_install.html\">Jupyter\n",
       "  Widgets Documentation</a> for setup instructions.\n",
       "</p>\n",
       "<p>\n",
       "  If you're reading this message in another frontend (for example, a static\n",
       "  rendering on GitHub or <a href=\"https://nbviewer.jupyter.org/\">NBViewer</a>),\n",
       "  it may mean that your frontend doesn't currently support widgets.\n",
       "</p>\n"
      ],
      "text/plain": [
       "HBox(children=(IntProgress(value=0, max=72557), HTML(value='')))"
      ]
     },
     "metadata": {},
     "output_type": "display_data"
    },
    {
     "name": "stdout",
     "output_type": "stream",
     "text": [
      "\n",
      "MAE: 7.024241505424594\n",
      "RMSE: 9.439604724745243\n"
     ]
    }
   ],
   "source": [
    "df_features = csv_concatenate(os.path.join(data_dir, 'Dataframes','modelling', 'features', weighting))\n",
    "df_features['FPTS_pred'] = calculate_FPTS(df_features)\n",
    "\n",
    "print('MAE:', calculate_MAE(df_features['FPTS_pred'], df_features['FPTS']))\n",
    "print('RMSE:', calculate_RMSE(df_features['FPTS_pred'], df_features['FPTS']))"
   ]
  },
  {
   "cell_type": "markdown",
   "metadata": {},
   "source": [
    "Linear Regression with basic 9 variables"
   ]
  },
  {
   "cell_type": "code",
   "execution_count": 529,
   "metadata": {
    "ExecuteTime": {
     "end_time": "2018-04-11T17:47:31.574692Z",
     "start_time": "2018-04-11T17:47:28.069870Z"
    }
   },
   "outputs": [
    {
     "data": {
      "application/vnd.jupyter.widget-view+json": {
       "model_id": "6c76f1c289344f2ba5a5033eb1dd5928",
       "version_major": 2,
       "version_minor": 0
      },
      "text/html": [
       "<p>Failed to display Jupyter Widget of type <code>HBox</code>.</p>\n",
       "<p>\n",
       "  If you're reading this message in the Jupyter Notebook or JupyterLab Notebook, it may mean\n",
       "  that the widgets JavaScript is still loading. If this message persists, it\n",
       "  likely means that the widgets JavaScript library is either not installed or\n",
       "  not enabled. See the <a href=\"https://ipywidgets.readthedocs.io/en/stable/user_install.html\">Jupyter\n",
       "  Widgets Documentation</a> for setup instructions.\n",
       "</p>\n",
       "<p>\n",
       "  If you're reading this message in another frontend (for example, a static\n",
       "  rendering on GitHub or <a href=\"https://nbviewer.jupyter.org/\">NBViewer</a>),\n",
       "  it may mean that your frontend doesn't currently support widgets.\n",
       "</p>\n"
      ],
      "text/plain": [
       "HBox(children=(IntProgress(value=0, max=10), HTML(value='')))"
      ]
     },
     "metadata": {},
     "output_type": "display_data"
    },
    {
     "name": "stdout",
     "output_type": "stream",
     "text": [
      "\n",
      "MAE: 7.084893431134148\n",
      "RSME: 9.335224286581106\n"
     ]
    }
   ],
   "source": [
    "X = df_features.loc[:, basic]\n",
    "y = df_features['FPTS'].values.reshape(-1,1).flatten()\n",
    "\n",
    "reg = LinearRegression()\n",
    "cross_val(reg, X, y)"
   ]
  },
  {
   "cell_type": "markdown",
   "metadata": {
    "ExecuteTime": {
     "end_time": "2018-04-09T13:29:55.985615Z",
     "start_time": "2018-04-09T13:29:55.982597Z"
    }
   },
   "source": [
    "Linear Regression with SD"
   ]
  },
  {
   "cell_type": "code",
   "execution_count": 530,
   "metadata": {
    "ExecuteTime": {
     "end_time": "2018-04-11T17:47:35.684993Z",
     "start_time": "2018-04-11T17:47:31.898279Z"
    }
   },
   "outputs": [
    {
     "data": {
      "application/vnd.jupyter.widget-view+json": {
       "model_id": "2a6b0394dc884bcbb37881541ccbb507",
       "version_major": 2,
       "version_minor": 0
      },
      "text/html": [
       "<p>Failed to display Jupyter Widget of type <code>HBox</code>.</p>\n",
       "<p>\n",
       "  If you're reading this message in the Jupyter Notebook or JupyterLab Notebook, it may mean\n",
       "  that the widgets JavaScript is still loading. If this message persists, it\n",
       "  likely means that the widgets JavaScript library is either not installed or\n",
       "  not enabled. See the <a href=\"https://ipywidgets.readthedocs.io/en/stable/user_install.html\">Jupyter\n",
       "  Widgets Documentation</a> for setup instructions.\n",
       "</p>\n",
       "<p>\n",
       "  If you're reading this message in another frontend (for example, a static\n",
       "  rendering on GitHub or <a href=\"https://nbviewer.jupyter.org/\">NBViewer</a>),\n",
       "  it may mean that your frontend doesn't currently support widgets.\n",
       "</p>\n"
      ],
      "text/plain": [
       "HBox(children=(IntProgress(value=0, max=10), HTML(value='')))"
      ]
     },
     "metadata": {},
     "output_type": "display_data"
    },
    {
     "name": "stdout",
     "output_type": "stream",
     "text": [
      "\n",
      "MAE: 7.0814009830071045\n",
      "RSME: 9.33559116089856\n"
     ]
    }
   ],
   "source": [
    "sd = [variable+'_std' for variable in basic]\n",
    "\n",
    "X = df_features.loc[:, basic+sd]\n",
    "\n",
    "reg = LinearRegression()\n",
    "cross_val(reg, X, y)"
   ]
  },
  {
   "cell_type": "markdown",
   "metadata": {
    "ExecuteTime": {
     "end_time": "2018-04-09T15:28:26.710796Z",
     "start_time": "2018-04-09T15:28:26.707000Z"
    }
   },
   "source": [
    "Linear Regression With Additional Statistics"
   ]
  },
  {
   "cell_type": "code",
   "execution_count": 531,
   "metadata": {
    "ExecuteTime": {
     "end_time": "2018-04-11T17:47:36.015113Z",
     "start_time": "2018-04-11T17:47:36.012516Z"
    }
   },
   "outputs": [],
   "source": [
    "add = ['FT', 'FTA', '3PA', 'FGA']"
   ]
  },
  {
   "cell_type": "code",
   "execution_count": 532,
   "metadata": {
    "ExecuteTime": {
     "end_time": "2018-04-11T17:47:51.497454Z",
     "start_time": "2018-04-11T17:47:36.338881Z"
    }
   },
   "outputs": [
    {
     "name": "stdout",
     "output_type": "stream",
     "text": [
      "With FT:\n"
     ]
    },
    {
     "data": {
      "application/vnd.jupyter.widget-view+json": {
       "model_id": "98258bec292c4536b83fbaef3b7cef5d",
       "version_major": 2,
       "version_minor": 0
      },
      "text/html": [
       "<p>Failed to display Jupyter Widget of type <code>HBox</code>.</p>\n",
       "<p>\n",
       "  If you're reading this message in the Jupyter Notebook or JupyterLab Notebook, it may mean\n",
       "  that the widgets JavaScript is still loading. If this message persists, it\n",
       "  likely means that the widgets JavaScript library is either not installed or\n",
       "  not enabled. See the <a href=\"https://ipywidgets.readthedocs.io/en/stable/user_install.html\">Jupyter\n",
       "  Widgets Documentation</a> for setup instructions.\n",
       "</p>\n",
       "<p>\n",
       "  If you're reading this message in another frontend (for example, a static\n",
       "  rendering on GitHub or <a href=\"https://nbviewer.jupyter.org/\">NBViewer</a>),\n",
       "  it may mean that your frontend doesn't currently support widgets.\n",
       "</p>\n"
      ],
      "text/plain": [
       "HBox(children=(IntProgress(value=0, max=10), HTML(value='')))"
      ]
     },
     "metadata": {},
     "output_type": "display_data"
    },
    {
     "name": "stdout",
     "output_type": "stream",
     "text": [
      "\n",
      "MAE: 7.0818595573274\n",
      "RSME: 9.33547051776513\n",
      "---\n",
      "With FTA:\n"
     ]
    },
    {
     "data": {
      "application/vnd.jupyter.widget-view+json": {
       "model_id": "4fc428ab8ee945c38607fa21d5195211",
       "version_major": 2,
       "version_minor": 0
      },
      "text/html": [
       "<p>Failed to display Jupyter Widget of type <code>HBox</code>.</p>\n",
       "<p>\n",
       "  If you're reading this message in the Jupyter Notebook or JupyterLab Notebook, it may mean\n",
       "  that the widgets JavaScript is still loading. If this message persists, it\n",
       "  likely means that the widgets JavaScript library is either not installed or\n",
       "  not enabled. See the <a href=\"https://ipywidgets.readthedocs.io/en/stable/user_install.html\">Jupyter\n",
       "  Widgets Documentation</a> for setup instructions.\n",
       "</p>\n",
       "<p>\n",
       "  If you're reading this message in another frontend (for example, a static\n",
       "  rendering on GitHub or <a href=\"https://nbviewer.jupyter.org/\">NBViewer</a>),\n",
       "  it may mean that your frontend doesn't currently support widgets.\n",
       "</p>\n"
      ],
      "text/plain": [
       "HBox(children=(IntProgress(value=0, max=10), HTML(value='')))"
      ]
     },
     "metadata": {},
     "output_type": "display_data"
    },
    {
     "name": "stdout",
     "output_type": "stream",
     "text": [
      "\n",
      "MAE: 7.081818324286097\n",
      "RSME: 9.33514470418404\n",
      "---\n",
      "With 3PA:\n"
     ]
    },
    {
     "data": {
      "application/vnd.jupyter.widget-view+json": {
       "model_id": "c9906d9c9ad2454b94db578ad993fdf2",
       "version_major": 2,
       "version_minor": 0
      },
      "text/html": [
       "<p>Failed to display Jupyter Widget of type <code>HBox</code>.</p>\n",
       "<p>\n",
       "  If you're reading this message in the Jupyter Notebook or JupyterLab Notebook, it may mean\n",
       "  that the widgets JavaScript is still loading. If this message persists, it\n",
       "  likely means that the widgets JavaScript library is either not installed or\n",
       "  not enabled. See the <a href=\"https://ipywidgets.readthedocs.io/en/stable/user_install.html\">Jupyter\n",
       "  Widgets Documentation</a> for setup instructions.\n",
       "</p>\n",
       "<p>\n",
       "  If you're reading this message in another frontend (for example, a static\n",
       "  rendering on GitHub or <a href=\"https://nbviewer.jupyter.org/\">NBViewer</a>),\n",
       "  it may mean that your frontend doesn't currently support widgets.\n",
       "</p>\n"
      ],
      "text/plain": [
       "HBox(children=(IntProgress(value=0, max=10), HTML(value='')))"
      ]
     },
     "metadata": {},
     "output_type": "display_data"
    },
    {
     "name": "stdout",
     "output_type": "stream",
     "text": [
      "\n",
      "MAE: 7.0627725440071725\n",
      "RSME: 9.317568859962586\n",
      "---\n",
      "With FGA:\n"
     ]
    },
    {
     "data": {
      "application/vnd.jupyter.widget-view+json": {
       "model_id": "5715b05a0ec04e6d953d7c2ecedc86c2",
       "version_major": 2,
       "version_minor": 0
      },
      "text/html": [
       "<p>Failed to display Jupyter Widget of type <code>HBox</code>.</p>\n",
       "<p>\n",
       "  If you're reading this message in the Jupyter Notebook or JupyterLab Notebook, it may mean\n",
       "  that the widgets JavaScript is still loading. If this message persists, it\n",
       "  likely means that the widgets JavaScript library is either not installed or\n",
       "  not enabled. See the <a href=\"https://ipywidgets.readthedocs.io/en/stable/user_install.html\">Jupyter\n",
       "  Widgets Documentation</a> for setup instructions.\n",
       "</p>\n",
       "<p>\n",
       "  If you're reading this message in another frontend (for example, a static\n",
       "  rendering on GitHub or <a href=\"https://nbviewer.jupyter.org/\">NBViewer</a>),\n",
       "  it may mean that your frontend doesn't currently support widgets.\n",
       "</p>\n"
      ],
      "text/plain": [
       "HBox(children=(IntProgress(value=0, max=10), HTML(value='')))"
      ]
     },
     "metadata": {},
     "output_type": "display_data"
    },
    {
     "name": "stdout",
     "output_type": "stream",
     "text": [
      "\n",
      "MAE: 7.0603745266718345\n",
      "RSME: 9.318459750575201\n",
      "---\n"
     ]
    }
   ],
   "source": [
    "for variable in add:\n",
    "    \n",
    "    X = df_features.loc[:, basic+sd+[variable]]\n",
    "\n",
    "    reg = LinearRegression()\n",
    "    print('With {}:'.format(variable))\n",
    "    cross_val(reg, X, y)\n",
    "    print('---')"
   ]
  },
  {
   "cell_type": "markdown",
   "metadata": {},
   "source": [
    "With all additional statistics"
   ]
  },
  {
   "cell_type": "code",
   "execution_count": 533,
   "metadata": {
    "ExecuteTime": {
     "end_time": "2018-04-11T17:47:55.428605Z",
     "start_time": "2018-04-11T17:47:51.837214Z"
    }
   },
   "outputs": [
    {
     "data": {
      "application/vnd.jupyter.widget-view+json": {
       "model_id": "ee7fd7e631ea437790d252699a1a96a6",
       "version_major": 2,
       "version_minor": 0
      },
      "text/html": [
       "<p>Failed to display Jupyter Widget of type <code>HBox</code>.</p>\n",
       "<p>\n",
       "  If you're reading this message in the Jupyter Notebook or JupyterLab Notebook, it may mean\n",
       "  that the widgets JavaScript is still loading. If this message persists, it\n",
       "  likely means that the widgets JavaScript library is either not installed or\n",
       "  not enabled. See the <a href=\"https://ipywidgets.readthedocs.io/en/stable/user_install.html\">Jupyter\n",
       "  Widgets Documentation</a> for setup instructions.\n",
       "</p>\n",
       "<p>\n",
       "  If you're reading this message in another frontend (for example, a static\n",
       "  rendering on GitHub or <a href=\"https://nbviewer.jupyter.org/\">NBViewer</a>),\n",
       "  it may mean that your frontend doesn't currently support widgets.\n",
       "</p>\n"
      ],
      "text/plain": [
       "HBox(children=(IntProgress(value=0, max=10), HTML(value='')))"
      ]
     },
     "metadata": {},
     "output_type": "display_data"
    },
    {
     "name": "stdout",
     "output_type": "stream",
     "text": [
      "\n",
      "MAE: 7.053965133651215\n",
      "RSME: 9.309979300142306\n"
     ]
    }
   ],
   "source": [
    "X = df_features.loc[:, basic+add]\n",
    "\n",
    "reg = LinearRegression()\n",
    "cross_val(reg, X, y)"
   ]
  },
  {
   "cell_type": "markdown",
   "metadata": {},
   "source": [
    "Linear Regression with all additional statistics and their SD"
   ]
  },
  {
   "cell_type": "code",
   "execution_count": 534,
   "metadata": {
    "ExecuteTime": {
     "end_time": "2018-04-11T17:47:59.848299Z",
     "start_time": "2018-04-11T17:47:55.778384Z"
    }
   },
   "outputs": [
    {
     "data": {
      "application/vnd.jupyter.widget-view+json": {
       "model_id": "1d697a01056a44009d16039b3bdc7c3b",
       "version_major": 2,
       "version_minor": 0
      },
      "text/html": [
       "<p>Failed to display Jupyter Widget of type <code>HBox</code>.</p>\n",
       "<p>\n",
       "  If you're reading this message in the Jupyter Notebook or JupyterLab Notebook, it may mean\n",
       "  that the widgets JavaScript is still loading. If this message persists, it\n",
       "  likely means that the widgets JavaScript library is either not installed or\n",
       "  not enabled. See the <a href=\"https://ipywidgets.readthedocs.io/en/stable/user_install.html\">Jupyter\n",
       "  Widgets Documentation</a> for setup instructions.\n",
       "</p>\n",
       "<p>\n",
       "  If you're reading this message in another frontend (for example, a static\n",
       "  rendering on GitHub or <a href=\"https://nbviewer.jupyter.org/\">NBViewer</a>),\n",
       "  it may mean that your frontend doesn't currently support widgets.\n",
       "</p>\n"
      ],
      "text/plain": [
       "HBox(children=(IntProgress(value=0, max=10), HTML(value='')))"
      ]
     },
     "metadata": {},
     "output_type": "display_data"
    },
    {
     "name": "stdout",
     "output_type": "stream",
     "text": [
      "\n",
      "MAE: 7.053574873958787\n",
      "RSME: 9.309770813232024\n"
     ]
    }
   ],
   "source": [
    "sd = [variable+'_std' for variable in basic+add]\n",
    "\n",
    "X = df_features.loc[:, basic+add+sd]\n",
    "\n",
    "reg = LinearRegression()\n",
    "cross_val(reg, X, y)"
   ]
  },
  {
   "cell_type": "markdown",
   "metadata": {},
   "source": [
    "Linear Regression with positions, roster availability, and starting lineup"
   ]
  },
  {
   "cell_type": "code",
   "execution_count": 535,
   "metadata": {
    "ExecuteTime": {
     "end_time": "2018-04-11T17:48:04.473789Z",
     "start_time": "2018-04-11T17:48:00.183983Z"
    }
   },
   "outputs": [
    {
     "data": {
      "application/vnd.jupyter.widget-view+json": {
       "model_id": "659dd51efca84267bbf885e84340c32d",
       "version_major": 2,
       "version_minor": 0
      },
      "text/html": [
       "<p>Failed to display Jupyter Widget of type <code>HBox</code>.</p>\n",
       "<p>\n",
       "  If you're reading this message in the Jupyter Notebook or JupyterLab Notebook, it may mean\n",
       "  that the widgets JavaScript is still loading. If this message persists, it\n",
       "  likely means that the widgets JavaScript library is either not installed or\n",
       "  not enabled. See the <a href=\"https://ipywidgets.readthedocs.io/en/stable/user_install.html\">Jupyter\n",
       "  Widgets Documentation</a> for setup instructions.\n",
       "</p>\n",
       "<p>\n",
       "  If you're reading this message in another frontend (for example, a static\n",
       "  rendering on GitHub or <a href=\"https://nbviewer.jupyter.org/\">NBViewer</a>),\n",
       "  it may mean that your frontend doesn't currently support widgets.\n",
       "</p>\n"
      ],
      "text/plain": [
       "HBox(children=(IntProgress(value=0, max=10), HTML(value='')))"
      ]
     },
     "metadata": {},
     "output_type": "display_data"
    },
    {
     "name": "stdout",
     "output_type": "stream",
     "text": [
      "\n",
      "MAE: 7.055282931104266\n",
      "RSME: 9.309331801748034\n"
     ]
    }
   ],
   "source": [
    "positions = ['PG', 'SG', 'F', 'C']\n",
    "\n",
    "X = df_features.loc[:, basic+add+sd+positions]\n",
    "\n",
    "reg = LinearRegression()\n",
    "cross_val(reg, X, y)\n",
    "\n",
    "#INCLUDE"
   ]
  },
  {
   "cell_type": "code",
   "execution_count": 536,
   "metadata": {
    "ExecuteTime": {
     "end_time": "2018-04-11T17:49:06.677139Z",
     "start_time": "2018-04-11T17:48:04.809989Z"
    }
   },
   "outputs": [
    {
     "name": "stdout",
     "output_type": "stream",
     "text": [
      "With Starter:\n"
     ]
    },
    {
     "data": {
      "application/vnd.jupyter.widget-view+json": {
       "model_id": "c7a483b54b17439c9538073ac33d1483",
       "version_major": 2,
       "version_minor": 0
      },
      "text/html": [
       "<p>Failed to display Jupyter Widget of type <code>HBox</code>.</p>\n",
       "<p>\n",
       "  If you're reading this message in the Jupyter Notebook or JupyterLab Notebook, it may mean\n",
       "  that the widgets JavaScript is still loading. If this message persists, it\n",
       "  likely means that the widgets JavaScript library is either not installed or\n",
       "  not enabled. See the <a href=\"https://ipywidgets.readthedocs.io/en/stable/user_install.html\">Jupyter\n",
       "  Widgets Documentation</a> for setup instructions.\n",
       "</p>\n",
       "<p>\n",
       "  If you're reading this message in another frontend (for example, a static\n",
       "  rendering on GitHub or <a href=\"https://nbviewer.jupyter.org/\">NBViewer</a>),\n",
       "  it may mean that your frontend doesn't currently support widgets.\n",
       "</p>\n"
      ],
      "text/plain": [
       "HBox(children=(IntProgress(value=0, max=10), HTML(value='')))"
      ]
     },
     "metadata": {},
     "output_type": "display_data"
    },
    {
     "name": "stdout",
     "output_type": "stream",
     "text": [
      "\n",
      "MAE: 6.956006167910435\n",
      "RSME: 9.122046517219939\n",
      "---\n",
      "With Rota_Pos:\n"
     ]
    },
    {
     "data": {
      "application/vnd.jupyter.widget-view+json": {
       "model_id": "4368bd4685ab49db94711e25c4eb7387",
       "version_major": 2,
       "version_minor": 0
      },
      "text/html": [
       "<p>Failed to display Jupyter Widget of type <code>HBox</code>.</p>\n",
       "<p>\n",
       "  If you're reading this message in the Jupyter Notebook or JupyterLab Notebook, it may mean\n",
       "  that the widgets JavaScript is still loading. If this message persists, it\n",
       "  likely means that the widgets JavaScript library is either not installed or\n",
       "  not enabled. See the <a href=\"https://ipywidgets.readthedocs.io/en/stable/user_install.html\">Jupyter\n",
       "  Widgets Documentation</a> for setup instructions.\n",
       "</p>\n",
       "<p>\n",
       "  If you're reading this message in another frontend (for example, a static\n",
       "  rendering on GitHub or <a href=\"https://nbviewer.jupyter.org/\">NBViewer</a>),\n",
       "  it may mean that your frontend doesn't currently support widgets.\n",
       "</p>\n"
      ],
      "text/plain": [
       "HBox(children=(IntProgress(value=0, max=10), HTML(value='')))"
      ]
     },
     "metadata": {},
     "output_type": "display_data"
    },
    {
     "name": "stdout",
     "output_type": "stream",
     "text": [
      "\n",
      "MAE: 7.043945929649537\n",
      "RSME: 9.297031076390883\n",
      "---\n",
      "With Rota_All:\n"
     ]
    },
    {
     "data": {
      "application/vnd.jupyter.widget-view+json": {
       "model_id": "9ac3917bde2a438295ea9d0ba6c4a313",
       "version_major": 2,
       "version_minor": 0
      },
      "text/html": [
       "<p>Failed to display Jupyter Widget of type <code>HBox</code>.</p>\n",
       "<p>\n",
       "  If you're reading this message in the Jupyter Notebook or JupyterLab Notebook, it may mean\n",
       "  that the widgets JavaScript is still loading. If this message persists, it\n",
       "  likely means that the widgets JavaScript library is either not installed or\n",
       "  not enabled. See the <a href=\"https://ipywidgets.readthedocs.io/en/stable/user_install.html\">Jupyter\n",
       "  Widgets Documentation</a> for setup instructions.\n",
       "</p>\n",
       "<p>\n",
       "  If you're reading this message in another frontend (for example, a static\n",
       "  rendering on GitHub or <a href=\"https://nbviewer.jupyter.org/\">NBViewer</a>),\n",
       "  it may mean that your frontend doesn't currently support widgets.\n",
       "</p>\n"
      ],
      "text/plain": [
       "HBox(children=(IntProgress(value=0, max=10), HTML(value='')))"
      ]
     },
     "metadata": {},
     "output_type": "display_data"
    },
    {
     "name": "stdout",
     "output_type": "stream",
     "text": [
      "\n",
      "MAE: 7.0416134906436225\n",
      "RSME: 9.295457424869968\n",
      "---\n",
      "With Rest:\n"
     ]
    },
    {
     "data": {
      "application/vnd.jupyter.widget-view+json": {
       "model_id": "59ea9d256fa54e309b0e51417290fbd1",
       "version_major": 2,
       "version_minor": 0
      },
      "text/html": [
       "<p>Failed to display Jupyter Widget of type <code>HBox</code>.</p>\n",
       "<p>\n",
       "  If you're reading this message in the Jupyter Notebook or JupyterLab Notebook, it may mean\n",
       "  that the widgets JavaScript is still loading. If this message persists, it\n",
       "  likely means that the widgets JavaScript library is either not installed or\n",
       "  not enabled. See the <a href=\"https://ipywidgets.readthedocs.io/en/stable/user_install.html\">Jupyter\n",
       "  Widgets Documentation</a> for setup instructions.\n",
       "</p>\n",
       "<p>\n",
       "  If you're reading this message in another frontend (for example, a static\n",
       "  rendering on GitHub or <a href=\"https://nbviewer.jupyter.org/\">NBViewer</a>),\n",
       "  it may mean that your frontend doesn't currently support widgets.\n",
       "</p>\n"
      ],
      "text/plain": [
       "HBox(children=(IntProgress(value=0, max=10), HTML(value='')))"
      ]
     },
     "metadata": {},
     "output_type": "display_data"
    },
    {
     "name": "stdout",
     "output_type": "stream",
     "text": [
      "\n",
      "MAE: 7.055267830973291\n",
      "RSME: 9.307208150378633\n",
      "---\n",
      "With USG_perc:\n"
     ]
    },
    {
     "data": {
      "application/vnd.jupyter.widget-view+json": {
       "model_id": "cb1b71c13bb347dcba572ef76d816285",
       "version_major": 2,
       "version_minor": 0
      },
      "text/html": [
       "<p>Failed to display Jupyter Widget of type <code>HBox</code>.</p>\n",
       "<p>\n",
       "  If you're reading this message in the Jupyter Notebook or JupyterLab Notebook, it may mean\n",
       "  that the widgets JavaScript is still loading. If this message persists, it\n",
       "  likely means that the widgets JavaScript library is either not installed or\n",
       "  not enabled. See the <a href=\"https://ipywidgets.readthedocs.io/en/stable/user_install.html\">Jupyter\n",
       "  Widgets Documentation</a> for setup instructions.\n",
       "</p>\n",
       "<p>\n",
       "  If you're reading this message in another frontend (for example, a static\n",
       "  rendering on GitHub or <a href=\"https://nbviewer.jupyter.org/\">NBViewer</a>),\n",
       "  it may mean that your frontend doesn't currently support widgets.\n",
       "</p>\n"
      ],
      "text/plain": [
       "HBox(children=(IntProgress(value=0, max=10), HTML(value='')))"
      ]
     },
     "metadata": {},
     "output_type": "display_data"
    },
    {
     "name": "stdout",
     "output_type": "stream",
     "text": [
      "\n",
      "MAE: 7.059182746324476\n",
      "RSME: 9.30602170409189\n",
      "---\n",
      "With eFG_perc:\n"
     ]
    },
    {
     "data": {
      "application/vnd.jupyter.widget-view+json": {
       "model_id": "59858fd447d446889092721043adfa49",
       "version_major": 2,
       "version_minor": 0
      },
      "text/html": [
       "<p>Failed to display Jupyter Widget of type <code>HBox</code>.</p>\n",
       "<p>\n",
       "  If you're reading this message in the Jupyter Notebook or JupyterLab Notebook, it may mean\n",
       "  that the widgets JavaScript is still loading. If this message persists, it\n",
       "  likely means that the widgets JavaScript library is either not installed or\n",
       "  not enabled. See the <a href=\"https://ipywidgets.readthedocs.io/en/stable/user_install.html\">Jupyter\n",
       "  Widgets Documentation</a> for setup instructions.\n",
       "</p>\n",
       "<p>\n",
       "  If you're reading this message in another frontend (for example, a static\n",
       "  rendering on GitHub or <a href=\"https://nbviewer.jupyter.org/\">NBViewer</a>),\n",
       "  it may mean that your frontend doesn't currently support widgets.\n",
       "</p>\n"
      ],
      "text/plain": [
       "HBox(children=(IntProgress(value=0, max=10), HTML(value='')))"
      ]
     },
     "metadata": {},
     "output_type": "display_data"
    },
    {
     "name": "stdout",
     "output_type": "stream",
     "text": [
      "\n",
      "MAE: 7.052828980413412\n",
      "RSME: 9.309248091665218\n",
      "---\n",
      "With STL_perc:\n"
     ]
    },
    {
     "data": {
      "application/vnd.jupyter.widget-view+json": {
       "model_id": "46df7bec60aa4f33b9d67a6991f016d5",
       "version_major": 2,
       "version_minor": 0
      },
      "text/html": [
       "<p>Failed to display Jupyter Widget of type <code>HBox</code>.</p>\n",
       "<p>\n",
       "  If you're reading this message in the Jupyter Notebook or JupyterLab Notebook, it may mean\n",
       "  that the widgets JavaScript is still loading. If this message persists, it\n",
       "  likely means that the widgets JavaScript library is either not installed or\n",
       "  not enabled. See the <a href=\"https://ipywidgets.readthedocs.io/en/stable/user_install.html\">Jupyter\n",
       "  Widgets Documentation</a> for setup instructions.\n",
       "</p>\n",
       "<p>\n",
       "  If you're reading this message in another frontend (for example, a static\n",
       "  rendering on GitHub or <a href=\"https://nbviewer.jupyter.org/\">NBViewer</a>),\n",
       "  it may mean that your frontend doesn't currently support widgets.\n",
       "</p>\n"
      ],
      "text/plain": [
       "HBox(children=(IntProgress(value=0, max=10), HTML(value='')))"
      ]
     },
     "metadata": {},
     "output_type": "display_data"
    },
    {
     "name": "stdout",
     "output_type": "stream",
     "text": [
      "\n",
      "MAE: 7.056389302994717\n",
      "RSME: 9.308576637653761\n",
      "---\n",
      "With TOV_perc:\n"
     ]
    },
    {
     "data": {
      "application/vnd.jupyter.widget-view+json": {
       "model_id": "527ecb66043c47599bca475c6cd78f5f",
       "version_major": 2,
       "version_minor": 0
      },
      "text/html": [
       "<p>Failed to display Jupyter Widget of type <code>HBox</code>.</p>\n",
       "<p>\n",
       "  If you're reading this message in the Jupyter Notebook or JupyterLab Notebook, it may mean\n",
       "  that the widgets JavaScript is still loading. If this message persists, it\n",
       "  likely means that the widgets JavaScript library is either not installed or\n",
       "  not enabled. See the <a href=\"https://ipywidgets.readthedocs.io/en/stable/user_install.html\">Jupyter\n",
       "  Widgets Documentation</a> for setup instructions.\n",
       "</p>\n",
       "<p>\n",
       "  If you're reading this message in another frontend (for example, a static\n",
       "  rendering on GitHub or <a href=\"https://nbviewer.jupyter.org/\">NBViewer</a>),\n",
       "  it may mean that your frontend doesn't currently support widgets.\n",
       "</p>\n"
      ],
      "text/plain": [
       "HBox(children=(IntProgress(value=0, max=10), HTML(value='')))"
      ]
     },
     "metadata": {},
     "output_type": "display_data"
    },
    {
     "name": "stdout",
     "output_type": "stream",
     "text": [
      "\n",
      "MAE: 7.056952850260913\n",
      "RSME: 9.30908826829354\n",
      "---\n",
      "With BLK_perc:\n"
     ]
    },
    {
     "data": {
      "application/vnd.jupyter.widget-view+json": {
       "model_id": "cf795fdd2d3f4008b08a09136dc3d6d5",
       "version_major": 2,
       "version_minor": 0
      },
      "text/html": [
       "<p>Failed to display Jupyter Widget of type <code>HBox</code>.</p>\n",
       "<p>\n",
       "  If you're reading this message in the Jupyter Notebook or JupyterLab Notebook, it may mean\n",
       "  that the widgets JavaScript is still loading. If this message persists, it\n",
       "  likely means that the widgets JavaScript library is either not installed or\n",
       "  not enabled. See the <a href=\"https://ipywidgets.readthedocs.io/en/stable/user_install.html\">Jupyter\n",
       "  Widgets Documentation</a> for setup instructions.\n",
       "</p>\n",
       "<p>\n",
       "  If you're reading this message in another frontend (for example, a static\n",
       "  rendering on GitHub or <a href=\"https://nbviewer.jupyter.org/\">NBViewer</a>),\n",
       "  it may mean that your frontend doesn't currently support widgets.\n",
       "</p>\n"
      ],
      "text/plain": [
       "HBox(children=(IntProgress(value=0, max=10), HTML(value='')))"
      ]
     },
     "metadata": {},
     "output_type": "display_data"
    },
    {
     "name": "stdout",
     "output_type": "stream",
     "text": [
      "\n",
      "MAE: 7.055611219603355\n",
      "RSME: 9.308740073670842\n",
      "---\n",
      "With DRB_perc:\n"
     ]
    },
    {
     "data": {
      "application/vnd.jupyter.widget-view+json": {
       "model_id": "05045527b160488b8b4706e6cb596c40",
       "version_major": 2,
       "version_minor": 0
      },
      "text/html": [
       "<p>Failed to display Jupyter Widget of type <code>HBox</code>.</p>\n",
       "<p>\n",
       "  If you're reading this message in the Jupyter Notebook or JupyterLab Notebook, it may mean\n",
       "  that the widgets JavaScript is still loading. If this message persists, it\n",
       "  likely means that the widgets JavaScript library is either not installed or\n",
       "  not enabled. See the <a href=\"https://ipywidgets.readthedocs.io/en/stable/user_install.html\">Jupyter\n",
       "  Widgets Documentation</a> for setup instructions.\n",
       "</p>\n",
       "<p>\n",
       "  If you're reading this message in another frontend (for example, a static\n",
       "  rendering on GitHub or <a href=\"https://nbviewer.jupyter.org/\">NBViewer</a>),\n",
       "  it may mean that your frontend doesn't currently support widgets.\n",
       "</p>\n"
      ],
      "text/plain": [
       "HBox(children=(IntProgress(value=0, max=10), HTML(value='')))"
      ]
     },
     "metadata": {},
     "output_type": "display_data"
    },
    {
     "name": "stdout",
     "output_type": "stream",
     "text": [
      "\n",
      "MAE: 7.056231691928535\n",
      "RSME: 9.30689087069579\n",
      "---\n",
      "With ORB_perc:\n"
     ]
    },
    {
     "data": {
      "application/vnd.jupyter.widget-view+json": {
       "model_id": "3f36e50e788a47a5af3a2ebc4dad5bab",
       "version_major": 2,
       "version_minor": 0
      },
      "text/html": [
       "<p>Failed to display Jupyter Widget of type <code>HBox</code>.</p>\n",
       "<p>\n",
       "  If you're reading this message in the Jupyter Notebook or JupyterLab Notebook, it may mean\n",
       "  that the widgets JavaScript is still loading. If this message persists, it\n",
       "  likely means that the widgets JavaScript library is either not installed or\n",
       "  not enabled. See the <a href=\"https://ipywidgets.readthedocs.io/en/stable/user_install.html\">Jupyter\n",
       "  Widgets Documentation</a> for setup instructions.\n",
       "</p>\n",
       "<p>\n",
       "  If you're reading this message in another frontend (for example, a static\n",
       "  rendering on GitHub or <a href=\"https://nbviewer.jupyter.org/\">NBViewer</a>),\n",
       "  it may mean that your frontend doesn't currently support widgets.\n",
       "</p>\n"
      ],
      "text/plain": [
       "HBox(children=(IntProgress(value=0, max=10), HTML(value='')))"
      ]
     },
     "metadata": {},
     "output_type": "display_data"
    },
    {
     "name": "stdout",
     "output_type": "stream",
     "text": [
      "\n",
      "MAE: 7.055999208992354\n",
      "RSME: 9.307477898237233\n",
      "---\n",
      "With AST_perc:\n"
     ]
    },
    {
     "data": {
      "application/vnd.jupyter.widget-view+json": {
       "model_id": "8ffe861cfba2479dab39cece0d639315",
       "version_major": 2,
       "version_minor": 0
      },
      "text/html": [
       "<p>Failed to display Jupyter Widget of type <code>HBox</code>.</p>\n",
       "<p>\n",
       "  If you're reading this message in the Jupyter Notebook or JupyterLab Notebook, it may mean\n",
       "  that the widgets JavaScript is still loading. If this message persists, it\n",
       "  likely means that the widgets JavaScript library is either not installed or\n",
       "  not enabled. See the <a href=\"https://ipywidgets.readthedocs.io/en/stable/user_install.html\">Jupyter\n",
       "  Widgets Documentation</a> for setup instructions.\n",
       "</p>\n",
       "<p>\n",
       "  If you're reading this message in another frontend (for example, a static\n",
       "  rendering on GitHub or <a href=\"https://nbviewer.jupyter.org/\">NBViewer</a>),\n",
       "  it may mean that your frontend doesn't currently support widgets.\n",
       "</p>\n"
      ],
      "text/plain": [
       "HBox(children=(IntProgress(value=0, max=10), HTML(value='')))"
      ]
     },
     "metadata": {},
     "output_type": "display_data"
    },
    {
     "name": "stdout",
     "output_type": "stream",
     "text": [
      "\n",
      "MAE: 7.055159943264148\n",
      "RSME: 9.307083962929775\n",
      "---\n",
      "With ORtg:\n"
     ]
    },
    {
     "data": {
      "application/vnd.jupyter.widget-view+json": {
       "model_id": "2f2513047c96476d9ede0fac26cceb90",
       "version_major": 2,
       "version_minor": 0
      },
      "text/html": [
       "<p>Failed to display Jupyter Widget of type <code>HBox</code>.</p>\n",
       "<p>\n",
       "  If you're reading this message in the Jupyter Notebook or JupyterLab Notebook, it may mean\n",
       "  that the widgets JavaScript is still loading. If this message persists, it\n",
       "  likely means that the widgets JavaScript library is either not installed or\n",
       "  not enabled. See the <a href=\"https://ipywidgets.readthedocs.io/en/stable/user_install.html\">Jupyter\n",
       "  Widgets Documentation</a> for setup instructions.\n",
       "</p>\n",
       "<p>\n",
       "  If you're reading this message in another frontend (for example, a static\n",
       "  rendering on GitHub or <a href=\"https://nbviewer.jupyter.org/\">NBViewer</a>),\n",
       "  it may mean that your frontend doesn't currently support widgets.\n",
       "</p>\n"
      ],
      "text/plain": [
       "HBox(children=(IntProgress(value=0, max=10), HTML(value='')))"
      ]
     },
     "metadata": {},
     "output_type": "display_data"
    },
    {
     "name": "stdout",
     "output_type": "stream",
     "text": [
      "\n",
      "MAE: 7.05429405572103\n",
      "RSME: 9.309421533923656\n",
      "---\n",
      "With DRtg:\n"
     ]
    },
    {
     "data": {
      "application/vnd.jupyter.widget-view+json": {
       "model_id": "ad0f4a4ce35e474293a7d1d06110a911",
       "version_major": 2,
       "version_minor": 0
      },
      "text/html": [
       "<p>Failed to display Jupyter Widget of type <code>HBox</code>.</p>\n",
       "<p>\n",
       "  If you're reading this message in the Jupyter Notebook or JupyterLab Notebook, it may mean\n",
       "  that the widgets JavaScript is still loading. If this message persists, it\n",
       "  likely means that the widgets JavaScript library is either not installed or\n",
       "  not enabled. See the <a href=\"https://ipywidgets.readthedocs.io/en/stable/user_install.html\">Jupyter\n",
       "  Widgets Documentation</a> for setup instructions.\n",
       "</p>\n",
       "<p>\n",
       "  If you're reading this message in another frontend (for example, a static\n",
       "  rendering on GitHub or <a href=\"https://nbviewer.jupyter.org/\">NBViewer</a>),\n",
       "  it may mean that your frontend doesn't currently support widgets.\n",
       "</p>\n"
      ],
      "text/plain": [
       "HBox(children=(IntProgress(value=0, max=10), HTML(value='')))"
      ]
     },
     "metadata": {},
     "output_type": "display_data"
    },
    {
     "name": "stdout",
     "output_type": "stream",
     "text": [
      "\n",
      "MAE: 7.052636447474624\n",
      "RSME: 9.309384165274228\n",
      "---\n"
     ]
    }
   ],
   "source": [
    "features = ['Starter', 'Rota_Pos', 'Rota_All', 'Rest',\n",
    "            'USG_perc','eFG_perc','STL_perc','TOV_perc', 'BLK_perc',\n",
    "            'DRB_perc', 'ORB_perc', 'AST_perc', 'ORtg', 'DRtg'\n",
    "           ]\n",
    "\n",
    "for variable in features:\n",
    "    \n",
    "    X = df_features.loc[:, basic+positions+add+sd+[variable]]\n",
    "\n",
    "    reg = LinearRegression()\n",
    "    print('With {}:'.format(variable))\n",
    "    cross_val(reg, X, y)\n",
    "    print('---')"
   ]
  },
  {
   "cell_type": "code",
   "execution_count": 537,
   "metadata": {
    "ExecuteTime": {
     "end_time": "2018-04-11T17:49:11.849190Z",
     "start_time": "2018-04-11T17:49:07.034850Z"
    }
   },
   "outputs": [
    {
     "data": {
      "application/vnd.jupyter.widget-view+json": {
       "model_id": "d2002644fe484fb8b12374788e1b9b13",
       "version_major": 2,
       "version_minor": 0
      },
      "text/html": [
       "<p>Failed to display Jupyter Widget of type <code>HBox</code>.</p>\n",
       "<p>\n",
       "  If you're reading this message in the Jupyter Notebook or JupyterLab Notebook, it may mean\n",
       "  that the widgets JavaScript is still loading. If this message persists, it\n",
       "  likely means that the widgets JavaScript library is either not installed or\n",
       "  not enabled. See the <a href=\"https://ipywidgets.readthedocs.io/en/stable/user_install.html\">Jupyter\n",
       "  Widgets Documentation</a> for setup instructions.\n",
       "</p>\n",
       "<p>\n",
       "  If you're reading this message in another frontend (for example, a static\n",
       "  rendering on GitHub or <a href=\"https://nbviewer.jupyter.org/\">NBViewer</a>),\n",
       "  it may mean that your frontend doesn't currently support widgets.\n",
       "</p>\n"
      ],
      "text/plain": [
       "HBox(children=(IntProgress(value=0, max=10), HTML(value='')))"
      ]
     },
     "metadata": {},
     "output_type": "display_data"
    },
    {
     "name": "stdout",
     "output_type": "stream",
     "text": [
      "\n",
      "MAE: 6.933963015870338\n",
      "RSME: 9.103480752127458\n"
     ]
    }
   ],
   "source": [
    "X = df_features.loc[:, basic+add+positions+features]\n",
    "\n",
    "reg = LinearRegression()\n",
    "cross_val(reg, X, y)"
   ]
  },
  {
   "cell_type": "code",
   "execution_count": 538,
   "metadata": {
    "ExecuteTime": {
     "end_time": "2018-04-11T17:49:19.462548Z",
     "start_time": "2018-04-11T17:49:12.218183Z"
    }
   },
   "outputs": [
    {
     "data": {
      "application/vnd.jupyter.widget-view+json": {
       "model_id": "ba443822ed7c470b8118efe8c17e745f",
       "version_major": 2,
       "version_minor": 0
      },
      "text/html": [
       "<p>Failed to display Jupyter Widget of type <code>HBox</code>.</p>\n",
       "<p>\n",
       "  If you're reading this message in the Jupyter Notebook or JupyterLab Notebook, it may mean\n",
       "  that the widgets JavaScript is still loading. If this message persists, it\n",
       "  likely means that the widgets JavaScript library is either not installed or\n",
       "  not enabled. See the <a href=\"https://ipywidgets.readthedocs.io/en/stable/user_install.html\">Jupyter\n",
       "  Widgets Documentation</a> for setup instructions.\n",
       "</p>\n",
       "<p>\n",
       "  If you're reading this message in another frontend (for example, a static\n",
       "  rendering on GitHub or <a href=\"https://nbviewer.jupyter.org/\">NBViewer</a>),\n",
       "  it may mean that your frontend doesn't currently support widgets.\n",
       "</p>\n"
      ],
      "text/plain": [
       "HBox(children=(IntProgress(value=0, max=10), HTML(value='')))"
      ]
     },
     "metadata": {},
     "output_type": "display_data"
    },
    {
     "name": "stdout",
     "output_type": "stream",
     "text": [
      "\n",
      "MAE: 6.929693367684155\n",
      "RSME: 9.101519612689993\n"
     ]
    }
   ],
   "source": [
    "sd = [variable+'_std' for variable in basic+add+features if variable not in ['Starter', 'Rota_Pos', 'Rota_All', 'Rest']]\n",
    "\n",
    "X = df_features.loc[:, basic+add+positions+sd+features]\n",
    "\n",
    "reg = LinearRegression()\n",
    "cross_val(reg, X, y)"
   ]
  },
  {
   "cell_type": "markdown",
   "metadata": {},
   "source": [
    "### XGBoost"
   ]
  },
  {
   "cell_type": "markdown",
   "metadata": {},
   "source": [
    "#### Parameters tested\n",
    "\n",
    "\n",
    "parameters = {'max_depth': [2,3,4,5,6],\n",
    "              'n_estimators': [50,100,200],\n",
    "              'subsample': [0.8, 0.85, 0.9, 0.95],\n",
    "              'learning_rate': [0.025, 0.05, 0.1]\n",
    "             }\n",
    "             \n",
    "@best_parameters = {'learning_rate': 0.025, 'max_depth': 6, 'n_estimators': 200, 'subsample': 0.9}\n",
    "\n",
    "\n",
    "parameters = {'max_depth': [6, 8, 10],\n",
    "              'n_estimators': [200],\n",
    "              'subsample': [0.9],\n",
    "              'learning_rate': [0.025],\n",
    "              'min_child_weight':[1,3,5],\n",
    "              'gamma':[i/10.0 for i in range(0,5)]\n",
    "             }"
   ]
  },
  {
   "cell_type": "code",
   "execution_count": 544,
   "metadata": {
    "ExecuteTime": {
     "end_time": "2018-04-12T03:46:24.201401Z",
     "start_time": "2018-04-12T03:04:29.536777Z"
    }
   },
   "outputs": [
    {
     "data": {
      "application/vnd.jupyter.widget-view+json": {
       "model_id": "720a5eb9be8a4c419bc14089503a057e",
       "version_major": 2,
       "version_minor": 0
      },
      "text/html": [
       "<p>Failed to display Jupyter Widget of type <code>HBox</code>.</p>\n",
       "<p>\n",
       "  If you're reading this message in the Jupyter Notebook or JupyterLab Notebook, it may mean\n",
       "  that the widgets JavaScript is still loading. If this message persists, it\n",
       "  likely means that the widgets JavaScript library is either not installed or\n",
       "  not enabled. See the <a href=\"https://ipywidgets.readthedocs.io/en/stable/user_install.html\">Jupyter\n",
       "  Widgets Documentation</a> for setup instructions.\n",
       "</p>\n",
       "<p>\n",
       "  If you're reading this message in another frontend (for example, a static\n",
       "  rendering on GitHub or <a href=\"https://nbviewer.jupyter.org/\">NBViewer</a>),\n",
       "  it may mean that your frontend doesn't currently support widgets.\n",
       "</p>\n"
      ],
      "text/plain": [
       "HBox(children=(IntProgress(value=0, max=10), HTML(value='')))"
      ]
     },
     "metadata": {},
     "output_type": "display_data"
    },
    {
     "name": "stdout",
     "output_type": "stream",
     "text": [
      "\n",
      "MAE: 3.4874410741698596\n",
      "RSME: 6.234854385831872\n"
     ]
    }
   ],
   "source": [
    "import xgboost as xgb\n",
    "from sklearn.model_selection import GridSearchCV\n",
    "from sklearn.metrics import mean_squared_error\n",
    "\n",
    "X_train, X_test, y_train, y_test = train_test_split(X, y, test_size=0.2, random_state=0)\n",
    "\n",
    "\n",
    "\"\"\"\n",
    "reg = xgb.XGBRegressor()\n",
    "\n",
    "parameters = {'max_depth': [6, 8, 10],\n",
    "              'n_estimators': [200],\n",
    "              'subsample': [0.9],\n",
    "              'learning_rate': [0.025],\n",
    "              'min_child_weight':[1,3,5],\n",
    "              'gamma':[i/10.0 for i in range(0,5)]\n",
    "             }\n",
    "\n",
    "\n",
    "reg_cv = GridSearchCV(reg, parameters, verbose=1)\n",
    "reg_cv.fit(X_train, y_train)\n",
    "\n",
    "print(reg_cv.best_params_, reg_cv.best_score_)\n",
    "\n",
    "reg = xgb.XGBRegressor(**reg_cv.best_params_)\n",
    "\n",
    "reg.fit(X_train, y_train)\n",
    "\"\"\"\n",
    "\n",
    "\n",
    "best_parameters = {'gamma': 0.4, 'learning_rate': 0.025, 'max_depth': 20, \n",
    "                   'min_child_weight': 1, 'n_estimators': 200, 'subsample': 0.9}\n",
    "\n",
    "\n",
    "reg = xgb.XGBRegressor(**best_parameters)\n",
    "\n",
    "cross_val(reg, X, y, show_train=True)\n",
    "\n",
    "# import pickle\n",
    "# pickle.dump(reg, open(\"model.pkl\", \"wb\"))\n",
    "# reg = pickle.load(open(\"model.pkl\", \"rb\"))"
   ]
  },
  {
   "cell_type": "code",
   "execution_count": 543,
   "metadata": {
    "ExecuteTime": {
     "end_time": "2018-04-12T02:44:41.824968Z",
     "start_time": "2018-04-12T02:44:40.731352Z"
    }
   },
   "outputs": [
    {
     "data": {
      "image/png": "[encoded data removed]",
      "text/plain": [
       "<Figure size 1080x720 with 1 Axes>"
      ]
     },
     "metadata": {},
     "output_type": "display_data"
    }
   ],
   "source": [
    "top_features = pd.Series(reg.feature_importances_, index = X.columns).sort_values()\n",
    "top_features.plot(kind = \"barh\", figsize=(15,10) ,title='Top Features')\n",
    "plt.show()"
   ]
  },
  {
   "cell_type": "code",
   "execution_count": 319,
   "metadata": {
    "ExecuteTime": {
     "end_time": "2018-04-11T14:03:29.268234Z",
     "start_time": "2018-04-11T14:03:29.265143Z"
    }
   },
   "outputs": [],
   "source": [
    "selected_features = list(top_features.sort_values(ascending=False).index[:13])"
   ]
  },
  {
   "cell_type": "markdown",
   "metadata": {},
   "source": [
    "###  Neural Network"
   ]
  },
  {
   "cell_type": "code",
   "execution_count": 325,
   "metadata": {
    "ExecuteTime": {
     "end_time": "2018-04-11T14:04:58.028463Z",
     "start_time": "2018-04-11T14:04:58.021281Z"
    }
   },
   "outputs": [],
   "source": [
    "X = df_features.loc[:, selected_features]"
   ]
  },
  {
   "cell_type": "code",
   "execution_count": 326,
   "metadata": {
    "ExecuteTime": {
     "end_time": "2018-04-11T14:05:00.264463Z",
     "start_time": "2018-04-11T14:05:00.256045Z"
    }
   },
   "outputs": [],
   "source": [
    "from keras.models import Sequential\n",
    "from keras.layers import Dense, Dropout\n",
    "from keras.optimizers import *\n",
    "from keras.wrappers.scikit_learn import KerasRegressor\n",
    "from sklearn.model_selection import cross_val_score\n",
    "from sklearn.model_selection import KFold\n",
    "from sklearn.preprocessing import StandardScaler\n",
    "from sklearn.pipeline import Pipeline"
   ]
  },
  {
   "cell_type": "code",
   "execution_count": 337,
   "metadata": {
    "ExecuteTime": {
     "end_time": "2018-04-11T15:13:40.669197Z",
     "start_time": "2018-04-11T15:13:40.651700Z"
    }
   },
   "outputs": [],
   "source": [
    "def baseline_model():\n",
    "    # create model\n",
    "    model = Sequential()\n",
    "    model.add(Dense(X.shape[1], input_dim=X.shape[1], kernel_initializer='normal', activation='relu'))\n",
    "    model.add(Dense(10, kernel_initializer='normal'))\n",
    "    model.add(Dense(1, kernel_initializer='normal'))\n",
    "    # Compile model\n",
    "    #adam = Adam(lr=0.0001)\n",
    "    model.compile(loss='mean_squared_error', optimizer='adam')\n",
    "    #print(model.summary())\n",
    "    return model"
   ]
  },
  {
   "cell_type": "code",
   "execution_count": 338,
   "metadata": {
    "ExecuteTime": {
     "end_time": "2018-04-11T15:13:41.413436Z",
     "start_time": "2018-04-11T15:13:41.404171Z"
    }
   },
   "outputs": [],
   "source": [
    "# evaluate model with standardized dataset\n",
    "estimator = KerasRegressor(build_fn=baseline_model,\n",
    "                           epochs=50,\n",
    "                           batch_size=128,\n",
    "                           validation_split=0,\n",
    "                           verbose=1)"
   ]
  },
  {
   "cell_type": "code",
   "execution_count": 339,
   "metadata": {
    "ExecuteTime": {
     "end_time": "2018-04-11T15:21:22.095571Z",
     "start_time": "2018-04-11T15:13:42.249435Z"
    }
   },
   "outputs": [
    {
     "name": "stdout",
     "output_type": "stream",
     "text": [
      "Epoch 1/50\n",
      "42940/42940 [==============================] - 1s 34us/step - loss: 194.6946\n",
      "Epoch 2/50\n",
      "42940/42940 [==============================] - 1s 20us/step - loss: 92.6976\n",
      "Epoch 3/50\n",
      "42940/42940 [==============================] - 1s 22us/step - loss: 88.3980\n",
      "Epoch 4/50\n",
      "42940/42940 [==============================] - 1s 22us/step - loss: 87.1865\n",
      "Epoch 5/50\n",
      "42940/42940 [==============================] - 1s 21us/step - loss: 86.4694\n",
      "Epoch 6/50\n",
      "42940/42940 [==============================] - 1s 22us/step - loss: 86.1590\n",
      "Epoch 7/50\n",
      "42940/42940 [==============================] - 1s 24us/step - loss: 85.6874\n",
      "Epoch 8/50\n",
      "42940/42940 [==============================] - 1s 25us/step - loss: 85.3948\n",
      "Epoch 9/50\n",
      "42940/42940 [==============================] - 1s 26us/step - loss: 85.3295\n",
      "Epoch 10/50\n",
      "42940/42940 [==============================] - 1s 21us/step - loss: 85.0512\n",
      "Epoch 11/50\n",
      "42940/42940 [==============================] - 1s 21us/step - loss: 84.9431\n",
      "Epoch 12/50\n",
      "42940/42940 [==============================] - 1s 22us/step - loss: 84.7851\n",
      "Epoch 13/50\n",
      "42940/42940 [==============================] - 1s 19us/step - loss: 84.6980\n",
      "Epoch 14/50\n",
      "42940/42940 [==============================] - 1s 20us/step - loss: 84.7008\n",
      "Epoch 15/50\n",
      "42940/42940 [==============================] - 1s 23us/step - loss: 84.6183\n",
      "Epoch 16/50\n",
      "42940/42940 [==============================] - 1s 21us/step - loss: 84.5242\n",
      "Epoch 17/50\n",
      "42940/42940 [==============================] - 1s 21us/step - loss: 84.5285\n",
      "Epoch 18/50\n",
      "42940/42940 [==============================] - 1s 24us/step - loss: 84.5231\n",
      "Epoch 19/50\n",
      "42940/42940 [==============================] - 1s 22us/step - loss: 84.4803\n",
      "Epoch 20/50\n",
      "42940/42940 [==============================] - 1s 20us/step - loss: 84.4666\n",
      "Epoch 21/50\n",
      "42940/42940 [==============================] - 1s 20us/step - loss: 84.4050\n",
      "Epoch 22/50\n",
      "42940/42940 [==============================] - 1s 21us/step - loss: 84.4330\n",
      "Epoch 23/50\n",
      "42940/42940 [==============================] - 1s 25us/step - loss: 84.3359\n",
      "Epoch 24/50\n",
      "42940/42940 [==============================] - 1s 26us/step - loss: 84.4627\n",
      "Epoch 25/50\n",
      "42940/42940 [==============================] - 1s 22us/step - loss: 84.4027\n",
      "Epoch 26/50\n",
      "42940/42940 [==============================] - 1s 23us/step - loss: 84.3990\n",
      "Epoch 27/50\n",
      "42940/42940 [==============================] - 1s 23us/step - loss: 84.3361\n",
      "Epoch 28/50\n",
      "42940/42940 [==============================] - 1s 23us/step - loss: 84.5569\n",
      "Epoch 29/50\n",
      "42940/42940 [==============================] - 1s 21us/step - loss: 84.4748\n",
      "Epoch 30/50\n",
      "42940/42940 [==============================] - 1s 22us/step - loss: 84.3657\n",
      "Epoch 31/50\n",
      "42940/42940 [==============================] - 1s 23us/step - loss: 84.3872\n",
      "Epoch 32/50\n",
      "42940/42940 [==============================] - 1s 24us/step - loss: 84.2779\n",
      "Epoch 33/50\n",
      "42940/42940 [==============================] - 1s 25us/step - loss: 84.2532\n",
      "Epoch 34/50\n",
      "42940/42940 [==============================] - 1s 24us/step - loss: 84.2293\n",
      "Epoch 35/50\n",
      "42940/42940 [==============================] - 1s 29us/step - loss: 84.2580\n",
      "Epoch 36/50\n",
      "42940/42940 [==============================] - 1s 24us/step - loss: 84.2608\n",
      "Epoch 37/50\n",
      "42940/42940 [==============================] - 1s 23us/step - loss: 84.1910\n",
      "Epoch 38/50\n",
      "42940/42940 [==============================] - 1s 26us/step - loss: 84.1843\n",
      "Epoch 39/50\n",
      "42940/42940 [==============================] - 1s 24us/step - loss: 84.1243\n",
      "Epoch 40/50\n",
      "42940/42940 [==============================] - 1s 25us/step - loss: 84.2551\n",
      "Epoch 41/50\n",
      "42940/42940 [==============================] - 1s 24us/step - loss: 83.9940\n",
      "Epoch 42/50\n",
      "42940/42940 [==============================] - 1s 23us/step - loss: 83.9141\n",
      "Epoch 43/50\n",
      "42940/42940 [==============================] - 1s 23us/step - loss: 83.9339\n",
      "Epoch 44/50\n",
      "42940/42940 [==============================] - 1s 24us/step - loss: 83.7415\n",
      "Epoch 45/50\n",
      "42940/42940 [==============================] - 1s 26us/step - loss: 83.6831\n",
      "Epoch 46/50\n",
      "42940/42940 [==============================] - 1s 23us/step - loss: 83.7369\n",
      "Epoch 47/50\n",
      "42940/42940 [==============================] - 1s 22us/step - loss: 83.8462\n",
      "Epoch 48/50\n",
      "42940/42940 [==============================] - 1s 21us/step - loss: 83.7171\n",
      "Epoch 49/50\n",
      "42940/42940 [==============================] - 1s 23us/step - loss: 83.6789\n",
      "Epoch 50/50\n",
      "42940/42940 [==============================] - 1s 23us/step - loss: 83.5817\n",
      "4772/4772 [==============================] - 0s 69us/step\n",
      "Epoch 1/50\n",
      "42940/42940 [==============================] - 2s 37us/step - loss: 192.9066\n",
      "Epoch 2/50\n",
      "42940/42940 [==============================] - 1s 21us/step - loss: 89.5273\n",
      "Epoch 3/50\n",
      "42940/42940 [==============================] - 1s 23us/step - loss: 86.8755\n",
      "Epoch 4/50\n",
      "42940/42940 [==============================] - 1s 25us/step - loss: 86.0465\n",
      "Epoch 5/50\n",
      "42940/42940 [==============================] - 1s 27us/step - loss: 85.5609\n",
      "Epoch 6/50\n",
      "42940/42940 [==============================] - 1s 28us/step - loss: 85.3915\n",
      "Epoch 7/50\n",
      "42940/42940 [==============================] - 1s 25us/step - loss: 85.1500\n",
      "Epoch 8/50\n",
      "42940/42940 [==============================] - 1s 21us/step - loss: 84.9388\n",
      "Epoch 9/50\n",
      "42940/42940 [==============================] - 1s 25us/step - loss: 84.8360\n",
      "Epoch 10/50\n",
      "42940/42940 [==============================] - 1s 24us/step - loss: 84.8014\n",
      "Epoch 11/50\n",
      "42940/42940 [==============================] - 1s 22us/step - loss: 84.6364\n",
      "Epoch 12/50\n",
      "42940/42940 [==============================] - 1s 23us/step - loss: 84.5948\n",
      "Epoch 13/50\n",
      "42940/42940 [==============================] - 1s 24us/step - loss: 84.5900\n",
      "Epoch 14/50\n",
      "42940/42940 [==============================] - 1s 25us/step - loss: 84.4832\n",
      "Epoch 15/50\n",
      "42940/42940 [==============================] - 1s 24us/step - loss: 84.5470\n",
      "Epoch 16/50\n",
      "42940/42940 [==============================] - 1s 25us/step - loss: 84.5727\n",
      "Epoch 17/50\n",
      "42940/42940 [==============================] - 1s 26us/step - loss: 84.5016\n",
      "Epoch 18/50\n",
      "42940/42940 [==============================] - 1s 22us/step - loss: 84.6070\n",
      "Epoch 19/50\n",
      "42940/42940 [==============================] - 1s 22us/step - loss: 84.5384\n",
      "Epoch 20/50\n",
      "42940/42940 [==============================] - 1s 24us/step - loss: 84.5269\n",
      "Epoch 21/50\n",
      "42940/42940 [==============================] - 1s 23us/step - loss: 84.4094\n",
      "Epoch 22/50\n",
      "42940/42940 [==============================] - 1s 24us/step - loss: 84.4253\n",
      "Epoch 23/50\n",
      "42940/42940 [==============================] - 1s 21us/step - loss: 84.4482\n",
      "Epoch 24/50\n",
      "42940/42940 [==============================] - 1s 22us/step - loss: 84.5525\n",
      "Epoch 25/50\n",
      "42940/42940 [==============================] - 1s 20us/step - loss: 84.4872\n",
      "Epoch 26/50\n",
      "42940/42940 [==============================] - 1s 24us/step - loss: 84.3837\n",
      "Epoch 27/50\n",
      "42940/42940 [==============================] - 1s 26us/step - loss: 84.4043\n",
      "Epoch 28/50\n",
      "42940/42940 [==============================] - 1s 27us/step - loss: 84.3495\n",
      "Epoch 29/50\n",
      "42940/42940 [==============================] - 1s 23us/step - loss: 84.3991 0s -\n",
      "Epoch 30/50\n",
      "42940/42940 [==============================] - 1s 24us/step - loss: 84.3952\n",
      "Epoch 31/50\n",
      "42940/42940 [==============================] - 1s 27us/step - loss: 84.5040\n",
      "Epoch 32/50\n",
      "42940/42940 [==============================] - 1s 22us/step - loss: 84.5141\n",
      "Epoch 33/50\n",
      "42940/42940 [==============================] - 1s 23us/step - loss: 84.3713\n",
      "Epoch 34/50\n",
      "42940/42940 [==============================] - 1s 23us/step - loss: 84.4586\n",
      "Epoch 35/50\n",
      "42940/42940 [==============================] - 1s 21us/step - loss: 84.4338\n",
      "Epoch 36/50\n",
      "42940/42940 [==============================] - 1s 25us/step - loss: 84.4832\n",
      "Epoch 37/50\n",
      "42940/42940 [==============================] - 1s 26us/step - loss: 84.3252\n",
      "Epoch 38/50\n",
      "42940/42940 [==============================] - 1s 23us/step - loss: 84.5385\n",
      "Epoch 39/50\n",
      "42940/42940 [==============================] - 1s 23us/step - loss: 84.4786\n",
      "Epoch 40/50\n",
      "42940/42940 [==============================] - 1s 25us/step - loss: 84.3823\n",
      "Epoch 41/50\n",
      "42940/42940 [==============================] - 1s 26us/step - loss: 84.3366\n",
      "Epoch 42/50\n",
      "42940/42940 [==============================] - 1s 22us/step - loss: 84.4118\n",
      "Epoch 43/50\n"
     ]
    },
    {
     "name": "stdout",
     "output_type": "stream",
     "text": [
      "42940/42940 [==============================] - 1s 20us/step - loss: 84.3087\n",
      "Epoch 44/50\n",
      "42940/42940 [==============================] - 1s 20us/step - loss: 84.3604\n",
      "Epoch 45/50\n",
      "42940/42940 [==============================] - 1s 20us/step - loss: 84.4145\n",
      "Epoch 46/50\n",
      "42940/42940 [==============================] - 1s 21us/step - loss: 84.4865\n",
      "Epoch 47/50\n",
      "42940/42940 [==============================] - 1s 20us/step - loss: 84.3758\n",
      "Epoch 48/50\n",
      "42940/42940 [==============================] - 1s 21us/step - loss: 84.2328\n",
      "Epoch 49/50\n",
      "42940/42940 [==============================] - 1s 20us/step - loss: 84.3394\n",
      "Epoch 50/50\n",
      "42940/42940 [==============================] - 1s 19us/step - loss: 84.3103\n",
      "4772/4772 [==============================] - 0s 71us/step\n",
      "Epoch 1/50\n",
      "42941/42941 [==============================] - 2s 38us/step - loss: 194.0901\n",
      "Epoch 2/50\n",
      "42941/42941 [==============================] - 1s 20us/step - loss: 88.8089\n",
      "Epoch 3/50\n",
      "42941/42941 [==============================] - 1s 21us/step - loss: 86.8772\n",
      "Epoch 4/50\n",
      "42941/42941 [==============================] - 1s 20us/step - loss: 85.8105\n",
      "Epoch 5/50\n",
      "42941/42941 [==============================] - 1s 21us/step - loss: 85.5267\n",
      "Epoch 6/50\n",
      "42941/42941 [==============================] - 1s 22us/step - loss: 85.1026\n",
      "Epoch 7/50\n",
      "42941/42941 [==============================] - 1s 22us/step - loss: 84.6890\n",
      "Epoch 8/50\n",
      "42941/42941 [==============================] - 1s 24us/step - loss: 84.5633\n",
      "Epoch 9/50\n",
      "42941/42941 [==============================] - 1s 22us/step - loss: 84.5668\n",
      "Epoch 10/50\n",
      "42941/42941 [==============================] - 1s 22us/step - loss: 84.4127\n",
      "Epoch 11/50\n",
      "42941/42941 [==============================] - 1s 21us/step - loss: 84.3469\n",
      "Epoch 12/50\n",
      "42941/42941 [==============================] - 1s 21us/step - loss: 84.3585\n",
      "Epoch 13/50\n",
      "42941/42941 [==============================] - 1s 20us/step - loss: 84.2709\n",
      "Epoch 14/50\n",
      "42941/42941 [==============================] - 1s 22us/step - loss: 84.2084\n",
      "Epoch 15/50\n",
      "42941/42941 [==============================] - 1s 22us/step - loss: 84.2527\n",
      "Epoch 16/50\n",
      "42941/42941 [==============================] - 1s 19us/step - loss: 84.0796\n",
      "Epoch 17/50\n",
      "42941/42941 [==============================] - 1s 20us/step - loss: 84.0032\n",
      "Epoch 18/50\n",
      "42941/42941 [==============================] - 1s 22us/step - loss: 83.9815\n",
      "Epoch 19/50\n",
      "42941/42941 [==============================] - 1s 22us/step - loss: 84.0461\n",
      "Epoch 20/50\n",
      "42941/42941 [==============================] - 1s 21us/step - loss: 83.9298\n",
      "Epoch 21/50\n",
      "42941/42941 [==============================] - 1s 19us/step - loss: 84.0123\n",
      "Epoch 22/50\n",
      "42941/42941 [==============================] - 1s 20us/step - loss: 83.9710\n",
      "Epoch 23/50\n",
      "42941/42941 [==============================] - 1s 28us/step - loss: 84.1341\n",
      "Epoch 24/50\n",
      "42941/42941 [==============================] - 1s 22us/step - loss: 83.9034\n",
      "Epoch 25/50\n",
      "42941/42941 [==============================] - 1s 22us/step - loss: 84.1158\n",
      "Epoch 26/50\n",
      "42941/42941 [==============================] - 1s 19us/step - loss: 83.9139\n",
      "Epoch 27/50\n",
      "42941/42941 [==============================] - 1s 20us/step - loss: 83.9381\n",
      "Epoch 28/50\n",
      "42941/42941 [==============================] - 1s 20us/step - loss: 83.8348\n",
      "Epoch 29/50\n",
      "42941/42941 [==============================] - 1s 20us/step - loss: 83.8165\n",
      "Epoch 30/50\n",
      "42941/42941 [==============================] - 1s 20us/step - loss: 83.7462\n",
      "Epoch 31/50\n",
      "42941/42941 [==============================] - 1s 18us/step - loss: 83.9404\n",
      "Epoch 32/50\n",
      "42941/42941 [==============================] - 1s 22us/step - loss: 83.7632\n",
      "Epoch 33/50\n",
      "42941/42941 [==============================] - 1s 21us/step - loss: 83.8314\n",
      "Epoch 34/50\n",
      "42941/42941 [==============================] - 1s 22us/step - loss: 83.8517\n",
      "Epoch 35/50\n",
      "42941/42941 [==============================] - 1s 20us/step - loss: 83.7638\n",
      "Epoch 36/50\n",
      "42941/42941 [==============================] - 1s 19us/step - loss: 83.6921\n",
      "Epoch 37/50\n",
      "42941/42941 [==============================] - 1s 22us/step - loss: 83.7274\n",
      "Epoch 38/50\n",
      "42941/42941 [==============================] - 1s 24us/step - loss: 83.6524\n",
      "Epoch 39/50\n",
      "42941/42941 [==============================] - 1s 30us/step - loss: 83.7510\n",
      "Epoch 40/50\n",
      "42941/42941 [==============================] - ETA: 0s - loss: 83.63 - 2s 35us/step - loss: 83.7790\n",
      "Epoch 41/50\n",
      "42941/42941 [==============================] - 1s 27us/step - loss: 83.5629\n",
      "Epoch 42/50\n",
      "42941/42941 [==============================] - 1s 26us/step - loss: 83.6497\n",
      "Epoch 43/50\n",
      "42941/42941 [==============================] - 1s 26us/step - loss: 83.6617\n",
      "Epoch 44/50\n",
      "42941/42941 [==============================] - 1s 26us/step - loss: 83.6327\n",
      "Epoch 45/50\n",
      "42941/42941 [==============================] - 1s 24us/step - loss: 83.5208\n",
      "Epoch 46/50\n",
      "42941/42941 [==============================] - 1s 27us/step - loss: 83.6382\n",
      "Epoch 47/50\n",
      "42941/42941 [==============================] - 1s 28us/step - loss: 83.4873\n",
      "Epoch 48/50\n",
      "42941/42941 [==============================] - 1s 27us/step - loss: 83.5714\n",
      "Epoch 49/50\n",
      "42941/42941 [==============================] - 1s 29us/step - loss: 83.4021\n",
      "Epoch 50/50\n",
      "42941/42941 [==============================] - 1s 28us/step - loss: 83.7514\n",
      "4771/4771 [==============================] - 0s 90us/step\n",
      "Epoch 1/50\n",
      "42941/42941 [==============================] - 2s 51us/step - loss: 179.0617\n",
      "Epoch 2/50\n",
      "42941/42941 [==============================] - 1s 28us/step - loss: 87.8515\n",
      "Epoch 3/50\n",
      "42941/42941 [==============================] - 1s 28us/step - loss: 86.1225\n",
      "Epoch 4/50\n",
      "42941/42941 [==============================] - 1s 26us/step - loss: 85.3386\n",
      "Epoch 5/50\n",
      "42941/42941 [==============================] - 1s 29us/step - loss: 84.9002\n",
      "Epoch 6/50\n",
      "42941/42941 [==============================] - 1s 27us/step - loss: 84.7995\n",
      "Epoch 7/50\n",
      "42941/42941 [==============================] - 1s 28us/step - loss: 84.5280\n",
      "Epoch 8/50\n",
      "42941/42941 [==============================] - 1s 28us/step - loss: 84.3317\n",
      "Epoch 9/50\n",
      "42941/42941 [==============================] - 1s 27us/step - loss: 84.1324\n",
      "Epoch 10/50\n",
      "42941/42941 [==============================] - 1s 26us/step - loss: 84.1172\n",
      "Epoch 11/50\n",
      "42941/42941 [==============================] - 1s 27us/step - loss: 83.9781\n",
      "Epoch 12/50\n",
      "42941/42941 [==============================] - 1s 25us/step - loss: 83.9497\n",
      "Epoch 13/50\n",
      "42941/42941 [==============================] - 1s 28us/step - loss: 84.1631\n",
      "Epoch 14/50\n",
      "42941/42941 [==============================] - 1s 27us/step - loss: 84.2208\n",
      "Epoch 15/50\n",
      "42941/42941 [==============================] - 1s 26us/step - loss: 84.0517\n",
      "Epoch 16/50\n",
      "42941/42941 [==============================] - 1s 28us/step - loss: 84.0235\n",
      "Epoch 17/50\n",
      "42941/42941 [==============================] - 1s 25us/step - loss: 83.9509\n",
      "Epoch 18/50\n",
      "42941/42941 [==============================] - 1s 27us/step - loss: 84.0411\n",
      "Epoch 19/50\n",
      "42941/42941 [==============================] - 1s 23us/step - loss: 83.8907\n",
      "Epoch 20/50\n",
      "42941/42941 [==============================] - 1s 23us/step - loss: 83.7668\n",
      "Epoch 21/50\n",
      "42941/42941 [==============================] - 1s 25us/step - loss: 84.0324\n",
      "Epoch 22/50\n",
      "42941/42941 [==============================] - 1s 26us/step - loss: 84.1475\n",
      "Epoch 23/50\n",
      "42941/42941 [==============================] - 1s 24us/step - loss: 83.9010\n",
      "Epoch 24/50\n",
      "42941/42941 [==============================] - 1s 22us/step - loss: 83.7870\n",
      "Epoch 25/50\n",
      "42941/42941 [==============================] - 1s 23us/step - loss: 83.8547\n",
      "Epoch 26/50\n",
      "42941/42941 [==============================] - 1s 31us/step - loss: 84.0154\n",
      "Epoch 27/50\n",
      "42941/42941 [==============================] - 1s 25us/step - loss: 83.7775\n",
      "Epoch 28/50\n",
      "42941/42941 [==============================] - 1s 26us/step - loss: 83.9230\n",
      "Epoch 29/50\n",
      "42941/42941 [==============================] - 1s 32us/step - loss: 83.8180\n",
      "Epoch 30/50\n",
      "42941/42941 [==============================] - 1s 26us/step - loss: 83.7992\n",
      "Epoch 31/50\n",
      "42941/42941 [==============================] - 1s 19us/step - loss: 83.8033\n",
      "Epoch 32/50\n",
      "42941/42941 [==============================] - 1s 35us/step - loss: 83.7491\n",
      "Epoch 33/50\n",
      "42941/42941 [==============================] - 1s 22us/step - loss: 83.8356\n",
      "Epoch 34/50\n"
     ]
    },
    {
     "name": "stdout",
     "output_type": "stream",
     "text": [
      "42941/42941 [==============================] - 1s 20us/step - loss: 83.7341\n",
      "Epoch 35/50\n",
      "42941/42941 [==============================] - 1s 24us/step - loss: 83.8471\n",
      "Epoch 36/50\n",
      "42941/42941 [==============================] - 1s 18us/step - loss: 83.7055\n",
      "Epoch 37/50\n",
      "42941/42941 [==============================] - 1s 18us/step - loss: 83.6338\n",
      "Epoch 38/50\n",
      "42941/42941 [==============================] - 1s 18us/step - loss: 83.6580\n",
      "Epoch 39/50\n",
      "42941/42941 [==============================] - 1s 20us/step - loss: 83.5644\n",
      "Epoch 40/50\n",
      "42941/42941 [==============================] - 1s 19us/step - loss: 83.7934\n",
      "Epoch 41/50\n",
      "42941/42941 [==============================] - 1s 20us/step - loss: 83.6895\n",
      "Epoch 42/50\n",
      "42941/42941 [==============================] - 1s 19us/step - loss: 83.5741\n",
      "Epoch 43/50\n",
      "42941/42941 [==============================] - 1s 18us/step - loss: 83.6794\n",
      "Epoch 44/50\n",
      "42941/42941 [==============================] - 1s 17us/step - loss: 83.6184\n",
      "Epoch 45/50\n",
      "42941/42941 [==============================] - 1s 18us/step - loss: 83.5494\n",
      "Epoch 46/50\n",
      "42941/42941 [==============================] - 1s 19us/step - loss: 83.7227\n",
      "Epoch 47/50\n",
      "42941/42941 [==============================] - 1s 20us/step - loss: 83.6147\n",
      "Epoch 48/50\n",
      "42941/42941 [==============================] - 1s 19us/step - loss: 83.5960\n",
      "Epoch 49/50\n",
      "42941/42941 [==============================] - 1s 18us/step - loss: 83.4617\n",
      "Epoch 50/50\n",
      "42941/42941 [==============================] - 1s 18us/step - loss: 83.5342\n",
      "4771/4771 [==============================] - 0s 89us/step\n",
      "Epoch 1/50\n",
      "42941/42941 [==============================] - 2s 39us/step - loss: 182.1385\n",
      "Epoch 2/50\n",
      "42941/42941 [==============================] - 1s 19us/step - loss: 89.3597\n",
      "Epoch 3/50\n",
      "42941/42941 [==============================] - 1s 19us/step - loss: 86.7010\n",
      "Epoch 4/50\n",
      "42941/42941 [==============================] - 1s 19us/step - loss: 85.5270\n",
      "Epoch 5/50\n",
      "42941/42941 [==============================] - 1s 19us/step - loss: 84.8830\n",
      "Epoch 6/50\n",
      "42941/42941 [==============================] - 1s 18us/step - loss: 84.4634\n",
      "Epoch 7/50\n",
      "42941/42941 [==============================] - 1s 17us/step - loss: 84.1694\n",
      "Epoch 8/50\n",
      "42941/42941 [==============================] - 1s 19us/step - loss: 84.0745\n",
      "Epoch 9/50\n",
      "42941/42941 [==============================] - 1s 18us/step - loss: 83.8837\n",
      "Epoch 10/50\n",
      "42941/42941 [==============================] - 1s 20us/step - loss: 83.9303\n",
      "Epoch 11/50\n",
      "42941/42941 [==============================] - 1s 19us/step - loss: 83.9894\n",
      "Epoch 12/50\n",
      "42941/42941 [==============================] - 1s 18us/step - loss: 83.9279\n",
      "Epoch 13/50\n",
      "42941/42941 [==============================] - 1s 20us/step - loss: 83.8319\n",
      "Epoch 14/50\n",
      "42941/42941 [==============================] - 1s 18us/step - loss: 83.7382\n",
      "Epoch 15/50\n",
      "42941/42941 [==============================] - 1s 18us/step - loss: 83.6188\n",
      "Epoch 16/50\n",
      "42941/42941 [==============================] - 1s 19us/step - loss: 83.5939\n",
      "Epoch 17/50\n",
      "42941/42941 [==============================] - 1s 17us/step - loss: 83.5550\n",
      "Epoch 18/50\n",
      "42941/42941 [==============================] - 1s 18us/step - loss: 83.7640\n",
      "Epoch 19/50\n",
      "42941/42941 [==============================] - 1s 18us/step - loss: 83.4849\n",
      "Epoch 20/50\n",
      "42941/42941 [==============================] - 1s 16us/step - loss: 83.6686\n",
      "Epoch 21/50\n",
      "42941/42941 [==============================] - 1s 17us/step - loss: 83.4538\n",
      "Epoch 22/50\n",
      "42941/42941 [==============================] - 1s 18us/step - loss: 83.3787\n",
      "Epoch 23/50\n",
      "42941/42941 [==============================] - 1s 17us/step - loss: 83.4041\n",
      "Epoch 24/50\n",
      "42941/42941 [==============================] - 1s 19us/step - loss: 83.3545\n",
      "Epoch 25/50\n",
      "42941/42941 [==============================] - 1s 18us/step - loss: 83.3961\n",
      "Epoch 26/50\n",
      "42941/42941 [==============================] - 1s 19us/step - loss: 83.3816\n",
      "Epoch 27/50\n",
      "42941/42941 [==============================] - 1s 19us/step - loss: 83.3442\n",
      "Epoch 28/50\n",
      "42941/42941 [==============================] - 1s 20us/step - loss: 83.3857\n",
      "Epoch 29/50\n",
      "42941/42941 [==============================] - 1s 18us/step - loss: 83.3056\n",
      "Epoch 30/50\n",
      "42941/42941 [==============================] - 1s 19us/step - loss: 83.1745\n",
      "Epoch 31/50\n",
      "42941/42941 [==============================] - 1s 18us/step - loss: 83.1927\n",
      "Epoch 32/50\n",
      "42941/42941 [==============================] - 1s 17us/step - loss: 83.2254\n",
      "Epoch 33/50\n",
      "42941/42941 [==============================] - 1s 19us/step - loss: 83.3604\n",
      "Epoch 34/50\n",
      "42941/42941 [==============================] - 1s 19us/step - loss: 83.1749\n",
      "Epoch 35/50\n",
      "42941/42941 [==============================] - 1s 19us/step - loss: 83.0979\n",
      "Epoch 36/50\n",
      "42941/42941 [==============================] - 1s 20us/step - loss: 83.2133\n",
      "Epoch 37/50\n",
      "42941/42941 [==============================] - 1s 19us/step - loss: 83.1857\n",
      "Epoch 38/50\n",
      "42941/42941 [==============================] - 1s 20us/step - loss: 82.9870\n",
      "Epoch 39/50\n",
      "42941/42941 [==============================] - 1s 19us/step - loss: 83.2247\n",
      "Epoch 40/50\n",
      "42941/42941 [==============================] - 1s 20us/step - loss: 83.0548\n",
      "Epoch 41/50\n",
      "42941/42941 [==============================] - 1s 19us/step - loss: 83.0569\n",
      "Epoch 42/50\n",
      "42941/42941 [==============================] - 1s 18us/step - loss: 82.9952\n",
      "Epoch 43/50\n",
      "42941/42941 [==============================] - 1s 17us/step - loss: 83.0382\n",
      "Epoch 44/50\n",
      "42941/42941 [==============================] - 1s 20us/step - loss: 83.1061\n",
      "Epoch 45/50\n",
      "42941/42941 [==============================] - 1s 19us/step - loss: 83.1306\n",
      "Epoch 46/50\n",
      "42941/42941 [==============================] - 1s 19us/step - loss: 82.9819\n",
      "Epoch 47/50\n",
      "42941/42941 [==============================] - 1s 20us/step - loss: 82.9992\n",
      "Epoch 48/50\n",
      "42941/42941 [==============================] - 1s 20us/step - loss: 82.9803\n",
      "Epoch 49/50\n",
      "42941/42941 [==============================] - 1s 20us/step - loss: 82.9600\n",
      "Epoch 50/50\n",
      "42941/42941 [==============================] - 1s 19us/step - loss: 83.0266\n",
      "4771/4771 [==============================] - 0s 87us/step\n",
      "Epoch 1/50\n",
      "42941/42941 [==============================] - 2s 41us/step - loss: 191.1273\n",
      "Epoch 2/50\n",
      "42941/42941 [==============================] - 1s 19us/step - loss: 90.7384\n",
      "Epoch 3/50\n",
      "42941/42941 [==============================] - 1s 19us/step - loss: 88.6633\n",
      "Epoch 4/50\n",
      "42941/42941 [==============================] - 1s 19us/step - loss: 87.0207\n",
      "Epoch 5/50\n",
      "42941/42941 [==============================] - 1s 19us/step - loss: 86.3357\n",
      "Epoch 6/50\n",
      "42941/42941 [==============================] - 1s 19us/step - loss: 86.0515\n",
      "Epoch 7/50\n",
      "42941/42941 [==============================] - 1s 19us/step - loss: 85.9096\n",
      "Epoch 8/50\n",
      "42941/42941 [==============================] - 1s 18us/step - loss: 85.5839\n",
      "Epoch 9/50\n",
      "42941/42941 [==============================] - 1s 18us/step - loss: 85.5983\n",
      "Epoch 10/50\n",
      "42941/42941 [==============================] - 1s 20us/step - loss: 85.5784\n",
      "Epoch 11/50\n",
      "42941/42941 [==============================] - 1s 19us/step - loss: 85.5153\n",
      "Epoch 12/50\n",
      "42941/42941 [==============================] - 1s 19us/step - loss: 85.2722\n",
      "Epoch 13/50\n",
      "42941/42941 [==============================] - 1s 18us/step - loss: 85.3997\n",
      "Epoch 14/50\n",
      "42941/42941 [==============================] - 1s 18us/step - loss: 85.3852\n",
      "Epoch 15/50\n",
      "42941/42941 [==============================] - 1s 18us/step - loss: 85.4612\n",
      "Epoch 16/50\n",
      "42941/42941 [==============================] - 1s 20us/step - loss: 85.3989\n",
      "Epoch 17/50\n",
      "42941/42941 [==============================] - 1s 18us/step - loss: 85.4064\n",
      "Epoch 18/50\n",
      "42941/42941 [==============================] - 1s 19us/step - loss: 85.3914\n",
      "Epoch 19/50\n",
      "42941/42941 [==============================] - 1s 19us/step - loss: 85.3878\n",
      "Epoch 20/50\n",
      "42941/42941 [==============================] - 1s 18us/step - loss: 85.2773\n",
      "Epoch 21/50\n",
      "42941/42941 [==============================] - 1s 19us/step - loss: 85.1564\n",
      "Epoch 22/50\n",
      "42941/42941 [==============================] - 1s 18us/step - loss: 85.2599\n",
      "Epoch 23/50\n",
      "42941/42941 [==============================] - 1s 19us/step - loss: 85.3342\n",
      "Epoch 24/50\n",
      "42941/42941 [==============================] - 1s 19us/step - loss: 85.2991\n",
      "Epoch 25/50\n",
      "42941/42941 [==============================] - 1s 18us/step - loss: 85.1709\n",
      "Epoch 26/50\n"
     ]
    },
    {
     "name": "stdout",
     "output_type": "stream",
     "text": [
      "42941/42941 [==============================] - 1s 18us/step - loss: 85.2474\n",
      "Epoch 27/50\n",
      "42941/42941 [==============================] - 1s 19us/step - loss: 85.1772\n",
      "Epoch 28/50\n",
      "42941/42941 [==============================] - 1s 19us/step - loss: 85.1668\n",
      "Epoch 29/50\n",
      "42941/42941 [==============================] - 1s 20us/step - loss: 84.9683\n",
      "Epoch 30/50\n",
      "42941/42941 [==============================] - 1s 22us/step - loss: 85.0331\n",
      "Epoch 31/50\n",
      "42941/42941 [==============================] - 1s 27us/step - loss: 84.9517\n",
      "Epoch 32/50\n",
      "42941/42941 [==============================] - 1s 20us/step - loss: 84.5649\n",
      "Epoch 33/50\n",
      "42941/42941 [==============================] - 1s 23us/step - loss: 84.6800\n",
      "Epoch 34/50\n",
      "42941/42941 [==============================] - 1s 21us/step - loss: 84.4106\n",
      "Epoch 35/50\n",
      "42941/42941 [==============================] - 1s 23us/step - loss: 84.5726\n",
      "Epoch 36/50\n",
      "42941/42941 [==============================] - 1s 19us/step - loss: 84.4569\n",
      "Epoch 37/50\n",
      "42941/42941 [==============================] - 1s 26us/step - loss: 84.4929\n",
      "Epoch 38/50\n",
      "42941/42941 [==============================] - 1s 21us/step - loss: 84.3496\n",
      "Epoch 39/50\n",
      "42941/42941 [==============================] - 1s 30us/step - loss: 84.2458\n",
      "Epoch 40/50\n",
      "42941/42941 [==============================] - 1s 27us/step - loss: 84.3420\n",
      "Epoch 41/50\n",
      "42941/42941 [==============================] - 1s 28us/step - loss: 84.1855\n",
      "Epoch 42/50\n",
      "42941/42941 [==============================] - 1s 25us/step - loss: 84.3946\n",
      "Epoch 43/50\n",
      "42941/42941 [==============================] - 1s 26us/step - loss: 84.2319\n",
      "Epoch 44/50\n",
      "42941/42941 [==============================] - 1s 25us/step - loss: 84.1488\n",
      "Epoch 45/50\n",
      "42941/42941 [==============================] - 1s 26us/step - loss: 84.3924\n",
      "Epoch 46/50\n",
      "42941/42941 [==============================] - 1s 26us/step - loss: 84.1135\n",
      "Epoch 47/50\n",
      "42941/42941 [==============================] - 1s 26us/step - loss: 84.1193\n",
      "Epoch 48/50\n",
      "42941/42941 [==============================] - 1s 25us/step - loss: 84.1428\n",
      "Epoch 49/50\n",
      "42941/42941 [==============================] - 1s 24us/step - loss: 84.0287\n",
      "Epoch 50/50\n",
      "42941/42941 [==============================] - 1s 25us/step - loss: 84.2069\n",
      "4771/4771 [==============================] - 0s 99us/step\n",
      "Epoch 1/50\n",
      "42941/42941 [==============================] - 2s 56us/step - loss: 168.5943\n",
      "Epoch 2/50\n",
      "42941/42941 [==============================] - 1s 26us/step - loss: 88.8297\n",
      "Epoch 3/50\n",
      "42941/42941 [==============================] - 1s 27us/step - loss: 86.7262\n",
      "Epoch 4/50\n",
      "42941/42941 [==============================] - 1s 24us/step - loss: 86.0908\n",
      "Epoch 5/50\n",
      "42941/42941 [==============================] - 1s 25us/step - loss: 85.6888\n",
      "Epoch 6/50\n",
      "42941/42941 [==============================] - 1s 23us/step - loss: 85.3601\n",
      "Epoch 7/50\n",
      "42941/42941 [==============================] - 1s 22us/step - loss: 85.3220\n",
      "Epoch 8/50\n",
      "42941/42941 [==============================] - 1s 25us/step - loss: 85.0886\n",
      "Epoch 9/50\n",
      "42941/42941 [==============================] - 1s 24us/step - loss: 85.1453\n",
      "Epoch 10/50\n",
      "42941/42941 [==============================] - 1s 25us/step - loss: 84.9706\n",
      "Epoch 11/50\n",
      "42941/42941 [==============================] - 1s 24us/step - loss: 84.9539\n",
      "Epoch 12/50\n",
      "42941/42941 [==============================] - 1s 23us/step - loss: 85.0212\n",
      "Epoch 13/50\n",
      "42941/42941 [==============================] - 1s 24us/step - loss: 84.9136\n",
      "Epoch 14/50\n",
      "42941/42941 [==============================] - 1s 22us/step - loss: 84.7569\n",
      "Epoch 15/50\n",
      "42941/42941 [==============================] - 1s 24us/step - loss: 85.0775\n",
      "Epoch 16/50\n",
      "42941/42941 [==============================] - 1s 23us/step - loss: 84.7830\n",
      "Epoch 17/50\n",
      "42941/42941 [==============================] - 1s 20us/step - loss: 84.9217\n",
      "Epoch 18/50\n",
      "42941/42941 [==============================] - 1s 17us/step - loss: 84.8576\n",
      "Epoch 19/50\n",
      "42941/42941 [==============================] - 1s 18us/step - loss: 84.9312\n",
      "Epoch 20/50\n",
      "42941/42941 [==============================] - 1s 17us/step - loss: 84.8134\n",
      "Epoch 21/50\n",
      "42941/42941 [==============================] - 1s 18us/step - loss: 85.0397\n",
      "Epoch 22/50\n",
      "42941/42941 [==============================] - 1s 17us/step - loss: 84.8990\n",
      "Epoch 23/50\n",
      "42941/42941 [==============================] - 1s 19us/step - loss: 85.0304\n",
      "Epoch 24/50\n",
      "42941/42941 [==============================] - 1s 19us/step - loss: 85.2028\n",
      "Epoch 25/50\n",
      "42941/42941 [==============================] - 1s 19us/step - loss: 85.1580\n",
      "Epoch 26/50\n",
      "42941/42941 [==============================] - 1s 19us/step - loss: 84.8972\n",
      "Epoch 27/50\n",
      "42941/42941 [==============================] - 1s 18us/step - loss: 84.8507\n",
      "Epoch 28/50\n",
      "42941/42941 [==============================] - 1s 18us/step - loss: 84.8745\n",
      "Epoch 29/50\n",
      "42941/42941 [==============================] - 1s 19us/step - loss: 84.8759\n",
      "Epoch 30/50\n",
      "42941/42941 [==============================] - 1s 18us/step - loss: 85.0632\n",
      "Epoch 31/50\n",
      "42941/42941 [==============================] - 1s 18us/step - loss: 84.8444\n",
      "Epoch 32/50\n",
      "42941/42941 [==============================] - 1s 19us/step - loss: 84.9200\n",
      "Epoch 33/50\n",
      "42941/42941 [==============================] - 1s 19us/step - loss: 84.9523\n",
      "Epoch 34/50\n",
      "42941/42941 [==============================] - 1s 18us/step - loss: 85.1481\n",
      "Epoch 35/50\n",
      "42941/42941 [==============================] - 1s 18us/step - loss: 84.8361\n",
      "Epoch 36/50\n",
      "42941/42941 [==============================] - 1s 19us/step - loss: 84.9426\n",
      "Epoch 37/50\n",
      "42941/42941 [==============================] - 1s 18us/step - loss: 85.0912\n",
      "Epoch 38/50\n",
      "42941/42941 [==============================] - 1s 18us/step - loss: 84.8821\n",
      "Epoch 39/50\n",
      "42941/42941 [==============================] - 1s 18us/step - loss: 84.7709\n",
      "Epoch 40/50\n",
      "42941/42941 [==============================] - 1s 18us/step - loss: 85.0728\n",
      "Epoch 41/50\n",
      "42941/42941 [==============================] - 1s 18us/step - loss: 84.8812\n",
      "Epoch 42/50\n",
      "42941/42941 [==============================] - 1s 19us/step - loss: 84.9647\n",
      "Epoch 43/50\n",
      "42941/42941 [==============================] - 1s 20us/step - loss: 84.7545\n",
      "Epoch 44/50\n",
      "42941/42941 [==============================] - 1s 18us/step - loss: 84.6775\n",
      "Epoch 45/50\n",
      "42941/42941 [==============================] - 1s 19us/step - loss: 84.9369\n",
      "Epoch 46/50\n",
      "42941/42941 [==============================] - 1s 18us/step - loss: 84.9818\n",
      "Epoch 47/50\n",
      "42941/42941 [==============================] - 1s 17us/step - loss: 84.8905\n",
      "Epoch 48/50\n",
      "42941/42941 [==============================] - 1s 19us/step - loss: 84.7900\n",
      "Epoch 49/50\n",
      "42941/42941 [==============================] - 1s 19us/step - loss: 84.8914\n",
      "Epoch 50/50\n",
      "42941/42941 [==============================] - 1s 19us/step - loss: 84.8877\n",
      "4771/4771 [==============================] - 0s 92us/step\n",
      "Epoch 1/50\n",
      "42941/42941 [==============================] - 2s 43us/step - loss: 192.4718\n",
      "Epoch 2/50\n",
      "42941/42941 [==============================] - 1s 20us/step - loss: 88.0960\n",
      "Epoch 3/50\n",
      "42941/42941 [==============================] - 1s 19us/step - loss: 86.2650\n",
      "Epoch 4/50\n",
      "42941/42941 [==============================] - 1s 18us/step - loss: 85.4965\n",
      "Epoch 5/50\n",
      "42941/42941 [==============================] - 1s 19us/step - loss: 85.0105\n",
      "Epoch 6/50\n",
      "42941/42941 [==============================] - 1s 19us/step - loss: 84.6449\n",
      "Epoch 7/50\n",
      "42941/42941 [==============================] - 1s 19us/step - loss: 84.5549\n",
      "Epoch 8/50\n",
      "42941/42941 [==============================] - 1s 18us/step - loss: 84.4201\n",
      "Epoch 9/50\n",
      "42941/42941 [==============================] - 1s 20us/step - loss: 84.3395\n",
      "Epoch 10/50\n",
      "42941/42941 [==============================] - 1s 19us/step - loss: 84.2215\n",
      "Epoch 11/50\n",
      "42941/42941 [==============================] - 1s 20us/step - loss: 84.2743\n",
      "Epoch 12/50\n",
      "42941/42941 [==============================] - 1s 19us/step - loss: 84.3012\n",
      "Epoch 13/50\n",
      "42941/42941 [==============================] - 1s 18us/step - loss: 84.1294\n",
      "Epoch 14/50\n",
      "42941/42941 [==============================] - 1s 19us/step - loss: 84.1865\n",
      "Epoch 15/50\n",
      "42941/42941 [==============================] - 1s 18us/step - loss: 84.0896\n",
      "Epoch 16/50\n",
      "42941/42941 [==============================] - 1s 17us/step - loss: 84.2753\n",
      "Epoch 17/50\n",
      "42941/42941 [==============================] - 1s 18us/step - loss: 84.0763\n",
      "Epoch 18/50\n"
     ]
    },
    {
     "name": "stdout",
     "output_type": "stream",
     "text": [
      "42941/42941 [==============================] - 1s 18us/step - loss: 84.1455\n",
      "Epoch 19/50\n",
      "42941/42941 [==============================] - 1s 18us/step - loss: 84.0322\n",
      "Epoch 20/50\n",
      "42941/42941 [==============================] - 1s 18us/step - loss: 84.2745\n",
      "Epoch 21/50\n",
      "42941/42941 [==============================] - 1s 19us/step - loss: 84.0565\n",
      "Epoch 22/50\n",
      "42941/42941 [==============================] - 1s 18us/step - loss: 84.2299\n",
      "Epoch 23/50\n",
      "42941/42941 [==============================] - 1s 18us/step - loss: 84.1502\n",
      "Epoch 24/50\n",
      "42941/42941 [==============================] - 1s 19us/step - loss: 84.1162\n",
      "Epoch 25/50\n",
      "42941/42941 [==============================] - 1s 18us/step - loss: 84.1413\n",
      "Epoch 26/50\n",
      "42941/42941 [==============================] - 1s 20us/step - loss: 84.0506\n",
      "Epoch 27/50\n",
      "42941/42941 [==============================] - 1s 19us/step - loss: 84.1024\n",
      "Epoch 28/50\n",
      "42941/42941 [==============================] - 1s 19us/step - loss: 84.0981\n",
      "Epoch 29/50\n",
      "42941/42941 [==============================] - 1s 19us/step - loss: 84.0906\n",
      "Epoch 30/50\n",
      "42941/42941 [==============================] - 1s 18us/step - loss: 84.1544\n",
      "Epoch 31/50\n",
      "42941/42941 [==============================] - 1s 19us/step - loss: 84.0413\n",
      "Epoch 32/50\n",
      "42941/42941 [==============================] - 1s 18us/step - loss: 84.1296\n",
      "Epoch 33/50\n",
      "42941/42941 [==============================] - 1s 18us/step - loss: 84.0352\n",
      "Epoch 34/50\n",
      "42941/42941 [==============================] - 1s 19us/step - loss: 84.0709\n",
      "Epoch 35/50\n",
      "42941/42941 [==============================] - 1s 19us/step - loss: 84.0255\n",
      "Epoch 36/50\n",
      "42941/42941 [==============================] - 1s 18us/step - loss: 84.0256\n",
      "Epoch 37/50\n",
      "42941/42941 [==============================] - 1s 18us/step - loss: 84.1387\n",
      "Epoch 38/50\n",
      "42941/42941 [==============================] - 1s 19us/step - loss: 84.0274\n",
      "Epoch 39/50\n",
      "42941/42941 [==============================] - 1s 18us/step - loss: 84.1514\n",
      "Epoch 40/50\n",
      "42941/42941 [==============================] - 1s 19us/step - loss: 84.1017\n",
      "Epoch 41/50\n",
      "42941/42941 [==============================] - 1s 18us/step - loss: 84.0400\n",
      "Epoch 42/50\n",
      "42941/42941 [==============================] - 1s 18us/step - loss: 84.0639\n",
      "Epoch 43/50\n",
      "42941/42941 [==============================] - 1s 20us/step - loss: 84.1260\n",
      "Epoch 44/50\n",
      "42941/42941 [==============================] - 1s 19us/step - loss: 84.0489\n",
      "Epoch 45/50\n",
      "42941/42941 [==============================] - 1s 19us/step - loss: 84.2652\n",
      "Epoch 46/50\n",
      "42941/42941 [==============================] - 1s 19us/step - loss: 84.0573\n",
      "Epoch 47/50\n",
      "42941/42941 [==============================] - 1s 19us/step - loss: 84.0486\n",
      "Epoch 48/50\n",
      "42941/42941 [==============================] - 1s 19us/step - loss: 84.0787\n",
      "Epoch 49/50\n",
      "42941/42941 [==============================] - 1s 20us/step - loss: 84.0138\n",
      "Epoch 50/50\n",
      "42941/42941 [==============================] - 1s 20us/step - loss: 84.0383\n",
      "4771/4771 [==============================] - 0s 100us/step\n",
      "Epoch 1/50\n",
      "42941/42941 [==============================] - 2s 42us/step - loss: 187.6094\n",
      "Epoch 2/50\n",
      "42941/42941 [==============================] - 1s 19us/step - loss: 89.1110\n",
      "Epoch 3/50\n",
      "42941/42941 [==============================] - 1s 20us/step - loss: 86.8758\n",
      "Epoch 4/50\n",
      "42941/42941 [==============================] - 1s 20us/step - loss: 86.2760\n",
      "Epoch 5/50\n",
      "42941/42941 [==============================] - 1s 19us/step - loss: 85.7618\n",
      "Epoch 6/50\n",
      "42941/42941 [==============================] - 1s 17us/step - loss: 85.4929\n",
      "Epoch 7/50\n",
      "42941/42941 [==============================] - 1s 20us/step - loss: 85.2624\n",
      "Epoch 8/50\n",
      "42941/42941 [==============================] - 1s 20us/step - loss: 85.0918\n",
      "Epoch 9/50\n",
      "42941/42941 [==============================] - 1s 19us/step - loss: 85.0433\n",
      "Epoch 10/50\n",
      "42941/42941 [==============================] - 1s 19us/step - loss: 85.0169\n",
      "Epoch 11/50\n",
      "42941/42941 [==============================] - 1s 20us/step - loss: 85.0723\n",
      "Epoch 12/50\n",
      "42941/42941 [==============================] - 1s 19us/step - loss: 84.9522\n",
      "Epoch 13/50\n",
      "42941/42941 [==============================] - 1s 20us/step - loss: 85.0334\n",
      "Epoch 14/50\n",
      "42941/42941 [==============================] - 1s 18us/step - loss: 84.9778\n",
      "Epoch 15/50\n",
      "42941/42941 [==============================] - 1s 19us/step - loss: 84.9886\n",
      "Epoch 16/50\n",
      "42941/42941 [==============================] - 1s 18us/step - loss: 84.8293\n",
      "Epoch 17/50\n",
      "42941/42941 [==============================] - 1s 18us/step - loss: 84.8322\n",
      "Epoch 18/50\n",
      "42941/42941 [==============================] - 1s 18us/step - loss: 84.9165\n",
      "Epoch 19/50\n",
      "42941/42941 [==============================] - 1s 18us/step - loss: 84.8587\n",
      "Epoch 20/50\n",
      "42941/42941 [==============================] - 1s 19us/step - loss: 84.6279\n",
      "Epoch 21/50\n",
      "42941/42941 [==============================] - 1s 18us/step - loss: 84.8179\n",
      "Epoch 22/50\n",
      "42941/42941 [==============================] - 1s 20us/step - loss: 84.8735\n",
      "Epoch 23/50\n",
      "42941/42941 [==============================] - 1s 24us/step - loss: 84.7703\n",
      "Epoch 24/50\n",
      "42941/42941 [==============================] - 1s 23us/step - loss: 84.7928\n",
      "Epoch 25/50\n",
      "42941/42941 [==============================] - 1s 17us/step - loss: 84.7903\n",
      "Epoch 26/50\n",
      "42941/42941 [==============================] - 1s 19us/step - loss: 84.8254\n",
      "Epoch 27/50\n",
      "42941/42941 [==============================] - 1s 19us/step - loss: 84.8901\n",
      "Epoch 28/50\n",
      "42941/42941 [==============================] - 1s 20us/step - loss: 84.8321\n",
      "Epoch 29/50\n",
      "42941/42941 [==============================] - 1s 18us/step - loss: 84.7536\n",
      "Epoch 30/50\n",
      "42941/42941 [==============================] - 1s 19us/step - loss: 84.9624\n",
      "Epoch 31/50\n",
      "42941/42941 [==============================] - 1s 19us/step - loss: 84.7808\n",
      "Epoch 32/50\n",
      "42941/42941 [==============================] - 1s 18us/step - loss: 84.8058\n",
      "Epoch 33/50\n",
      "42941/42941 [==============================] - 1s 18us/step - loss: 84.8551\n",
      "Epoch 34/50\n",
      "42941/42941 [==============================] - 1s 18us/step - loss: 84.6665\n",
      "Epoch 35/50\n",
      "42941/42941 [==============================] - 1s 19us/step - loss: 84.6772\n",
      "Epoch 36/50\n",
      "42941/42941 [==============================] - 1s 18us/step - loss: 84.8042\n",
      "Epoch 37/50\n",
      "42941/42941 [==============================] - 1s 17us/step - loss: 84.7390\n",
      "Epoch 38/50\n",
      "42941/42941 [==============================] - 1s 19us/step - loss: 84.7080\n",
      "Epoch 39/50\n",
      "42941/42941 [==============================] - 1s 20us/step - loss: 84.8552\n",
      "Epoch 40/50\n",
      "42941/42941 [==============================] - 1s 18us/step - loss: 84.7178\n",
      "Epoch 41/50\n",
      "42941/42941 [==============================] - 1s 20us/step - loss: 84.6781\n",
      "Epoch 42/50\n",
      "42941/42941 [==============================] - 1s 19us/step - loss: 84.6113\n",
      "Epoch 43/50\n",
      "42941/42941 [==============================] - 1s 23us/step - loss: 84.8330\n",
      "Epoch 44/50\n",
      "42941/42941 [==============================] - 1s 15us/step - loss: 84.6851\n",
      "Epoch 45/50\n",
      "42941/42941 [==============================] - 1s 15us/step - loss: 84.5155\n",
      "Epoch 46/50\n",
      "42941/42941 [==============================] - 1s 13us/step - loss: 84.6142\n",
      "Epoch 47/50\n",
      "42941/42941 [==============================] - 1s 15us/step - loss: 84.7120\n",
      "Epoch 48/50\n",
      "42941/42941 [==============================] - 1s 14us/step - loss: 84.7954\n",
      "Epoch 49/50\n",
      "42941/42941 [==============================] - 1s 15us/step - loss: 84.7222\n",
      "Epoch 50/50\n",
      "42941/42941 [==============================] - 1s 20us/step - loss: 84.5543\n",
      "4771/4771 [==============================] - 0s 94us/step\n",
      "Epoch 1/50\n",
      "42941/42941 [==============================] - 2s 39us/step - loss: 197.7007\n",
      "Epoch 2/50\n",
      "42941/42941 [==============================] - 1s 16us/step - loss: 86.7415\n",
      "Epoch 3/50\n",
      "42941/42941 [==============================] - 1s 15us/step - loss: 84.7065\n",
      "Epoch 4/50\n",
      "42941/42941 [==============================] - 1s 14us/step - loss: 84.1648\n",
      "Epoch 5/50\n",
      "42941/42941 [==============================] - 1s 16us/step - loss: 83.7135\n",
      "Epoch 6/50\n",
      "42941/42941 [==============================] - 1s 15us/step - loss: 83.6220\n",
      "Epoch 7/50\n",
      "42941/42941 [==============================] - 1s 19us/step - loss: 83.4059\n",
      "Epoch 8/50\n",
      "42941/42941 [==============================] - 1s 15us/step - loss: 83.3230\n",
      "Epoch 9/50\n",
      "42941/42941 [==============================] - 1s 15us/step - loss: 83.0444\n",
      "Epoch 10/50\n"
     ]
    },
    {
     "name": "stdout",
     "output_type": "stream",
     "text": [
      "42941/42941 [==============================] - 1s 15us/step - loss: 83.0776\n",
      "Epoch 11/50\n",
      "42941/42941 [==============================] - 1s 16us/step - loss: 83.1160\n",
      "Epoch 12/50\n",
      "42941/42941 [==============================] - 1s 17us/step - loss: 83.1726\n",
      "Epoch 13/50\n",
      "42941/42941 [==============================] - 1s 15us/step - loss: 82.9649\n",
      "Epoch 14/50\n",
      "42941/42941 [==============================] - 1s 15us/step - loss: 83.0286\n",
      "Epoch 15/50\n",
      "42941/42941 [==============================] - 1s 17us/step - loss: 82.9401\n",
      "Epoch 16/50\n",
      "42941/42941 [==============================] - 1s 15us/step - loss: 83.1154\n",
      "Epoch 17/50\n",
      "42941/42941 [==============================] - 1s 15us/step - loss: 83.0865\n",
      "Epoch 18/50\n",
      "42941/42941 [==============================] - 1s 15us/step - loss: 82.9572\n",
      "Epoch 19/50\n",
      "42941/42941 [==============================] - 1s 16us/step - loss: 82.9621\n",
      "Epoch 20/50\n",
      "42941/42941 [==============================] - 1s 14us/step - loss: 82.7743\n",
      "Epoch 21/50\n",
      "42941/42941 [==============================] - 1s 15us/step - loss: 82.9095\n",
      "Epoch 22/50\n",
      "42941/42941 [==============================] - 1s 15us/step - loss: 82.8467\n",
      "Epoch 23/50\n",
      "42941/42941 [==============================] - 1s 15us/step - loss: 83.0516\n",
      "Epoch 24/50\n",
      "42941/42941 [==============================] - 1s 17us/step - loss: 82.8500\n",
      "Epoch 25/50\n",
      "42941/42941 [==============================] - 1s 16us/step - loss: 82.6883\n",
      "Epoch 26/50\n",
      "42941/42941 [==============================] - 1s 16us/step - loss: 82.8557\n",
      "Epoch 27/50\n",
      "42941/42941 [==============================] - 1s 16us/step - loss: 82.7024\n",
      "Epoch 28/50\n",
      "42941/42941 [==============================] - 1s 16us/step - loss: 82.8467\n",
      "Epoch 29/50\n",
      "42941/42941 [==============================] - 1s 15us/step - loss: 82.7877\n",
      "Epoch 30/50\n",
      "42941/42941 [==============================] - 1s 16us/step - loss: 82.7670\n",
      "Epoch 31/50\n",
      "42941/42941 [==============================] - 1s 15us/step - loss: 82.6608\n",
      "Epoch 32/50\n",
      "42941/42941 [==============================] - 1s 17us/step - loss: 82.7400\n",
      "Epoch 33/50\n",
      "42941/42941 [==============================] - 1s 18us/step - loss: 82.5919\n",
      "Epoch 34/50\n",
      "42941/42941 [==============================] - 1s 16us/step - loss: 82.5278\n",
      "Epoch 35/50\n",
      "42941/42941 [==============================] - 1s 17us/step - loss: 82.7929\n",
      "Epoch 36/50\n",
      "42941/42941 [==============================] - 1s 16us/step - loss: 82.5891\n",
      "Epoch 37/50\n",
      "42941/42941 [==============================] - 1s 16us/step - loss: 82.4714\n",
      "Epoch 38/50\n",
      "42941/42941 [==============================] - 1s 16us/step - loss: 82.6415\n",
      "Epoch 39/50\n",
      "42941/42941 [==============================] - 1s 17us/step - loss: 82.5266\n",
      "Epoch 40/50\n",
      "42941/42941 [==============================] - 1s 15us/step - loss: 82.5620\n",
      "Epoch 41/50\n",
      "42941/42941 [==============================] - 1s 16us/step - loss: 82.5632\n",
      "Epoch 42/50\n",
      "42941/42941 [==============================] - 1s 17us/step - loss: 82.6717\n",
      "Epoch 43/50\n",
      "42941/42941 [==============================] - 1s 15us/step - loss: 82.4686\n",
      "Epoch 44/50\n",
      "42941/42941 [==============================] - 1s 15us/step - loss: 82.5117\n",
      "Epoch 45/50\n",
      "42941/42941 [==============================] - 1s 17us/step - loss: 82.6040\n",
      "Epoch 46/50\n",
      "42941/42941 [==============================] - 1s 16us/step - loss: 82.4699\n",
      "Epoch 47/50\n",
      "42941/42941 [==============================] - 1s 16us/step - loss: 82.3078\n",
      "Epoch 48/50\n",
      "42941/42941 [==============================] - 1s 16us/step - loss: 82.5048\n",
      "Epoch 49/50\n",
      "42941/42941 [==============================] - 1s 16us/step - loss: 82.3413\n",
      "Epoch 50/50\n",
      "42941/42941 [==============================] - 1s 16us/step - loss: 82.5311\n",
      "4771/4771 [==============================] - 1s 111us/step\n"
     ]
    }
   ],
   "source": [
    "kfold = KFold(n_splits=10, random_state=0)\n",
    "results = cross_val_score(estimator, X, y, cv=kfold)"
   ]
  },
  {
   "cell_type": "code",
   "execution_count": 340,
   "metadata": {
    "ExecuteTime": {
     "end_time": "2018-04-11T15:21:22.437947Z",
     "start_time": "2018-04-11T15:21:22.433979Z"
    }
   },
   "outputs": [
    {
     "name": "stdout",
     "output_type": "stream",
     "text": [
      "Results: 9.17 RMSE\n"
     ]
    }
   ],
   "source": [
    "print(\"Results: %.2f RMSE\" % (np.sqrt(-results.mean())))"
   ]
  },
  {
   "cell_type": "code",
   "execution_count": null,
   "metadata": {},
   "outputs": [],
   "source": [
    "estimators = []\n",
    "estimators.append(('standardize', StandardScaler()))\n",
    "estimators.append(('mlp', KerasRegressor(build_fn=baseline_model, epochs=100, batch_size=256, verbose=1)))\n",
    "pipeline = Pipeline(estimators)"
   ]
  },
  {
   "cell_type": "code",
   "execution_count": null,
   "metadata": {},
   "outputs": [],
   "source": [
    "kfold = KFold(n_splits=2, random_state=seed)\n",
    "results = cross_val_score(pipeline, X, y, cv=kfold)"
   ]
  },
  {
   "cell_type": "code",
   "execution_count": null,
   "metadata": {},
   "outputs": [],
   "source": [
    "print(\"Standardized: %.2f RMSE\" % (np.sqrt(-results.mean())))"
   ]
  }
 ],
 "metadata": {
  "kernelspec": {
   "display_name": "Python 3",
   "language": "python",
   "name": "python3"
  },
  "language_info": {
   "codemirror_mode": {
    "name": "ipython",
    "version": 3
   },
   "file_extension": ".py",
   "mimetype": "text/x-python",
   "name": "python",
   "nbconvert_exporter": "python",
   "pygments_lexer": "ipython3",
   "version": "3.6.3"
  },
  "varInspector": {
   "cols": {
    "lenName": 16,
    "lenType": 16,
    "lenVar": 40
   },
   "kernels_config": {
    "python": {
     "delete_cmd_postfix": "",
     "delete_cmd_prefix": "del ",
     "library": "var_list.py",
     "varRefreshCmd": "print(var_dic_list())"
    },
    "r": {
     "delete_cmd_postfix": ") ",
     "delete_cmd_prefix": "rm(",
     "library": "var_list.r",
     "varRefreshCmd": "cat(var_dic_list()) "
    }
   },
   "types_to_exclude": [
    "module",
    "function",
    "builtin_function_or_method",
    "instance",
    "_Feature"
   ],
   "window_display": false
  }
 },
 "nbformat": 4,
 "nbformat_minor": 2
}
