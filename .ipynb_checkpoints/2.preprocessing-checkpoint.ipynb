{
 "cells": [
  {
   "cell_type": "markdown",
   "metadata": {
    "ExecuteTime": {
     "end_time": "2018-04-01T13:44:04.014284Z",
     "start_time": "2018-04-01T13:44:03.293233Z"
    },
    "scrolled": false
   },
   "source": [
    "## Data Preprocessing\n",
    "\n",
    "- Concatenate files into one dataframe for each\n",
    "- Calculate FPTS\n",
    "- Resolve name inconsistency\n",
    "- Add injury information"
   ]
  },
  {
   "cell_type": "code",
   "execution_count": 29,
   "metadata": {
    "ExecuteTime": {
     "end_time": "2018-04-11T12:05:05.135725Z",
     "start_time": "2018-04-11T12:05:05.129005Z"
    }
   },
   "outputs": [],
   "source": [
    "import os\n",
    "import glob\n",
    "import time\n",
    "import pickle\n",
    "import numpy as np\n",
    "import pandas as pd\n",
    "from tqdm import tqdm_notebook as tqdm\n",
    "from datetime        import datetime\n",
    "from urllib.request  import urlopen\n",
    "from bs4             import BeautifulSoup\n",
    "\n",
    "pd.set_option(\"display.max_columns\",40)"
   ]
  },
  {
   "cell_type": "code",
   "execution_count": 51,
   "metadata": {
    "ExecuteTime": {
     "end_time": "2018-04-11T14:25:15.860539Z",
     "start_time": "2018-04-11T14:25:15.851916Z"
    }
   },
   "outputs": [],
   "source": [
    "cwd = os.getcwd()\n",
    "data_dir = os.path.join(cwd, 'data')\n",
    "season = '2015-16'"
   ]
  },
  {
   "cell_type": "markdown",
   "metadata": {},
   "source": [
    "### Game Data from Basketball Reference"
   ]
  },
  {
   "cell_type": "code",
   "execution_count": 52,
   "metadata": {
    "ExecuteTime": {
     "end_time": "2018-04-11T14:25:16.899537Z",
     "start_time": "2018-04-11T14:25:16.887301Z"
    },
    "scrolled": false
   },
   "outputs": [],
   "source": [
    "#Concatenate all csv files under a directory\n",
    "def csv_concatenate(folder_path):\n",
    "    files = glob.glob(folder_path + \"/*.csv\")\n",
    "    df_list = []\n",
    "    for file in tqdm(files):\n",
    "        df_list.append(pd.read_csv(file, parse_dates=True, infer_datetime_format=True))\n",
    "    #Fill nan with 0s as some values are empty for percentage points\n",
    "    df = pd.concat(df_list).fillna(0).reset_index(drop=True)\n",
    "    return df"
   ]
  },
  {
   "cell_type": "code",
   "execution_count": 53,
   "metadata": {
    "ExecuteTime": {
     "end_time": "2018-04-11T14:25:17.904755Z",
     "start_time": "2018-04-11T14:25:17.854738Z"
    },
    "scrolled": false
   },
   "outputs": [],
   "source": [
    "def calculate_FPTS(df):\n",
    "    #Scoring rules based on https://www.draftkings.co.uk/help/rules/4\n",
    "    multipliers = {'PTS':1, '3P': 0.5, 'TRB':1.25, 'AST':1.5, 'STL':2, 'BLK':2, 'TOV':-0.5}\n",
    "\n",
    "    fpts_list = []\n",
    "    \n",
    "    for i in tqdm(range(df.shape[0])):\n",
    "        fpts = 0\n",
    "        doubles_count = 0\n",
    "        for stat, multiplier in multipliers.items():\n",
    "            if stat in ['PTS', 'TRB', 'AST', 'STL', 'BLK']:\n",
    "                if df.loc[i, stat] >= 10:\n",
    "                    doubles_count += 1\n",
    "            fpts += df.loc[i, stat]*multiplier\n",
    "        \n",
    "        if doubles_count >= 2:\n",
    "            fpts += 1.5\n",
    "            \n",
    "        if doubles_count >= 3:\n",
    "            fpts += 3\n",
    "            \n",
    "        fpts_list.append(fpts) \n",
    "        \n",
    "    return fpts_list"
   ]
  },
  {
   "cell_type": "code",
   "execution_count": 54,
   "metadata": {
    "ExecuteTime": {
     "end_time": "2018-04-11T14:25:18.579398Z",
     "start_time": "2018-04-11T14:25:18.550478Z"
    }
   },
   "outputs": [],
   "source": [
    "def add_doubles(df):\n",
    "    \n",
    "    dd = [0 for i in range(df.shape[0])]\n",
    "    td = [0 for i in range(df.shape[0])]\n",
    "    \n",
    "    for i in tqdm(range(df.shape[0])):\n",
    "        doubles_count = 0\n",
    "        check_doubles = ['PTS','TRB', 'AST', 'STL', 'BLK']\n",
    "        \n",
    "        for stat in check_doubles:\n",
    "            if df.loc[i, stat] >= 10:\n",
    "                doubles_count += 1\n",
    "        \n",
    "        if doubles_count >= 2:\n",
    "            dd[i] = 1\n",
    "        if doubles_count >= 3:\n",
    "            td[i] = 1\n",
    "   \n",
    "    df['DD'] = dd\n",
    "    df['TD'] = td"
   ]
  },
  {
   "cell_type": "code",
   "execution_count": 55,
   "metadata": {
    "ExecuteTime": {
     "end_time": "2018-04-11T14:25:33.705750Z",
     "start_time": "2018-04-11T14:25:20.991869Z"
    },
    "scrolled": false
   },
   "outputs": [
    {
     "data": {
      "application/vnd.jupyter.widget-view+json": {
       "model_id": "1c6539bf996a4aafbfac505a0de75fc0",
       "version_major": 2,
       "version_minor": 0
      },
      "text/html": [
       "<p>Failed to display Jupyter Widget of type <code>HBox</code>.</p>\n",
       "<p>\n",
       "  If you're reading this message in the Jupyter Notebook or JupyterLab Notebook, it may mean\n",
       "  that the widgets JavaScript is still loading. If this message persists, it\n",
       "  likely means that the widgets JavaScript library is either not installed or\n",
       "  not enabled. See the <a href=\"https://ipywidgets.readthedocs.io/en/stable/user_install.html\">Jupyter\n",
       "  Widgets Documentation</a> for setup instructions.\n",
       "</p>\n",
       "<p>\n",
       "  If you're reading this message in another frontend (for example, a static\n",
       "  rendering on GitHub or <a href=\"https://nbviewer.jupyter.org/\">NBViewer</a>),\n",
       "  it may mean that your frontend doesn't currently support widgets.\n",
       "</p>\n"
      ],
      "text/plain": [
       "HBox(children=(IntProgress(value=0, max=1468), HTML(value='')))"
      ]
     },
     "metadata": {},
     "output_type": "display_data"
    },
    {
     "name": "stdout",
     "output_type": "stream",
     "text": [
      "\n"
     ]
    },
    {
     "data": {
      "application/vnd.jupyter.widget-view+json": {
       "model_id": "4e5f5b034ecd4c2383adffb652e89400",
       "version_major": 2,
       "version_minor": 0
      },
      "text/html": [
       "<p>Failed to display Jupyter Widget of type <code>HBox</code>.</p>\n",
       "<p>\n",
       "  If you're reading this message in the Jupyter Notebook or JupyterLab Notebook, it may mean\n",
       "  that the widgets JavaScript is still loading. If this message persists, it\n",
       "  likely means that the widgets JavaScript library is either not installed or\n",
       "  not enabled. See the <a href=\"https://ipywidgets.readthedocs.io/en/stable/user_install.html\">Jupyter\n",
       "  Widgets Documentation</a> for setup instructions.\n",
       "</p>\n",
       "<p>\n",
       "  If you're reading this message in another frontend (for example, a static\n",
       "  rendering on GitHub or <a href=\"https://nbviewer.jupyter.org/\">NBViewer</a>),\n",
       "  it may mean that your frontend doesn't currently support widgets.\n",
       "</p>\n"
      ],
      "text/plain": [
       "HBox(children=(IntProgress(value=0, max=18829), HTML(value='')))"
      ]
     },
     "metadata": {},
     "output_type": "display_data"
    },
    {
     "name": "stdout",
     "output_type": "stream",
     "text": [
      "\n"
     ]
    },
    {
     "data": {
      "application/vnd.jupyter.widget-view+json": {
       "model_id": "115b43d6693a4960894de87965c30730",
       "version_major": 2,
       "version_minor": 0
      },
      "text/html": [
       "<p>Failed to display Jupyter Widget of type <code>HBox</code>.</p>\n",
       "<p>\n",
       "  If you're reading this message in the Jupyter Notebook or JupyterLab Notebook, it may mean\n",
       "  that the widgets JavaScript is still loading. If this message persists, it\n",
       "  likely means that the widgets JavaScript library is either not installed or\n",
       "  not enabled. See the <a href=\"https://ipywidgets.readthedocs.io/en/stable/user_install.html\">Jupyter\n",
       "  Widgets Documentation</a> for setup instructions.\n",
       "</p>\n",
       "<p>\n",
       "  If you're reading this message in another frontend (for example, a static\n",
       "  rendering on GitHub or <a href=\"https://nbviewer.jupyter.org/\">NBViewer</a>),\n",
       "  it may mean that your frontend doesn't currently support widgets.\n",
       "</p>\n"
      ],
      "text/plain": [
       "HBox(children=(IntProgress(value=0, max=18829), HTML(value='')))"
      ]
     },
     "metadata": {},
     "output_type": "display_data"
    },
    {
     "name": "stdout",
     "output_type": "stream",
     "text": [
      "\n"
     ]
    }
   ],
   "source": [
    "df_games = csv_concatenate(os.path.join(data_dir, 'Games', season))\n",
    "df_games['FPTS'] = calculate_FPTS(df_games)\n",
    "add_doubles(df_games)\n",
    "columns = ['Name', 'Date', 'Team',  'FPTS', 'Home','W', 'W_PTS', 'L', 'L_PTS', 'MP',\n",
    "           'FG', 'FGA', 'FG_perc', '3P', '3PA', '3P_perc', 'FT', 'FTA', 'FT_perc',\n",
    "           'ORB', 'DRB', 'TRB', 'AST', 'STL', 'BLK', 'TOV', 'PF', 'PTS', 'DD', 'TD', \n",
    "           'USG_perc','DRtg','ORtg','AST_perc','DRB_perc','ORB_perc','BLK_perc','TOV_perc','STL_perc','eFG_perc']\n",
    "df_games = df_games.loc[:, columns]"
   ]
  },
  {
   "cell_type": "markdown",
   "metadata": {
    "ExecuteTime": {
     "end_time": "2018-03-13T16:06:50.196829Z",
     "start_time": "2018-03-13T16:06:50.193649Z"
    },
    "collapsed": true
   },
   "source": [
    "### Name Standardization "
   ]
  },
  {
   "cell_type": "code",
   "execution_count": 56,
   "metadata": {
    "ExecuteTime": {
     "end_time": "2018-04-11T14:25:34.124542Z",
     "start_time": "2018-04-11T14:25:33.999452Z"
    }
   },
   "outputs": [],
   "source": [
    "def parse_name(term):\n",
    "    search_url = 'https://www.basketball-reference.com/search/search.fcgi?hint=&search={term}&pid=&idx='\n",
    "    name_url = search_url.format(term=term.replace(' ','+'))\n",
    "    soup = BeautifulSoup(urlopen(name_url),'html5lib')\n",
    "    \n",
    "    #Check if there is ambiguity in the name\n",
    "    if soup.find('h1').get_text() != 'Search Results':\n",
    "        return soup.find('h1').get_text()\n",
    "    \n",
    "    \n",
    "    elif (soup.find('div', id='players', class_='current') == None):\n",
    "        if (len(term.split(' ')) > 2) or ('.' in term):\n",
    "            #Parse again without periods and with first two names\n",
    "            new_term = ' '.join(term.replace('.','').split(' ')[:2])\n",
    "            return parse_name(new_term)\n",
    "        else:\n",
    "            return np.nan\n",
    "                    \n",
    "    else:        \n",
    "        items = soup.find('div', id='players', class_='current').find_all('div', class_='search-item-name')\n",
    "        current_years = (int(season[:4]), int(season[:2]+season[-2:]))\n",
    "        candidates = []\n",
    "        \n",
    "        for item in items:\n",
    "            name = item.find('a').get_text()\n",
    "\n",
    "            if '(' not in name:\n",
    "                candidates.append(name)\n",
    "\n",
    "            else:\n",
    "                career = name[name.find('(')+1:name.find(')')].split('-')\n",
    "                if len(career) == 1:\n",
    "                    if int(career[0]) in current_years:\n",
    "                        candidates.append(name[:name.find(' (')])\n",
    "                else:\n",
    "                    start = int(career[0])\n",
    "                    end = int(career[1])\n",
    "\n",
    "                    for year in current_years: \n",
    "                        if year in range(start, end+1):\n",
    "                            candidates.append(name[:name.find(' (')])\n",
    "                            break\n",
    "                            \n",
    "        if len(candidates) != 0:\n",
    "            for candidate in candidates:\n",
    "                if term in candidate:\n",
    "                    return candidate\n",
    "            return candidates[0]\n",
    "        \n",
    "        else:\n",
    "            return np.nan\n",
    "      "
   ]
  },
  {
   "cell_type": "code",
   "execution_count": 57,
   "metadata": {
    "ExecuteTime": {
     "end_time": "2018-04-11T14:25:34.454858Z",
     "start_time": "2018-04-11T14:25:34.442879Z"
    }
   },
   "outputs": [],
   "source": [
    "def generate_standard_names(df):\n",
    "    names = list(set(df['Name']))\n",
    "    standard_names = []\n",
    "    \n",
    "    for i, name in enumerate(names):\n",
    "        standard_name = parse_name(name)\n",
    "        print(i, standard_name)\n",
    "        standard_names.append(standard_name)\n",
    "        time.sleep(1)\n",
    "    \n",
    "    return standard_names"
   ]
  },
  {
   "cell_type": "code",
   "execution_count": 58,
   "metadata": {
    "ExecuteTime": {
     "end_time": "2018-04-11T14:25:34.804453Z",
     "start_time": "2018-04-11T14:25:34.775184Z"
    }
   },
   "outputs": [],
   "source": [
    "def standardize_names(df, standard_names):\n",
    "    names = list(set(df['Name']))\n",
    "    \n",
    "    df = df.dropna().reset_index(drop=True)\n",
    "    \n",
    "    diff = [name for name in names if name not in standard_names]\n",
    "    print('{} items are standardized ...'.format(len(diff)))\n",
    "    \n",
    "    names_conversion = {}\n",
    "    \n",
    "    for name in tqdm(names):\n",
    "        if name in diff:\n",
    "            names_conversion[name] = parse_name(name)\n",
    "            time.sleep(1)\n",
    "    \n",
    "    for i in range(df.shape[0]):\n",
    "        name = df.loc[i,'Name']\n",
    "        if name in names_conversion.keys():\n",
    "            df.loc[i,'Name'] = names_conversion[name]\n",
    "            "
   ]
  },
  {
   "cell_type": "code",
   "execution_count": 59,
   "metadata": {
    "ExecuteTime": {
     "end_time": "2018-04-11T14:25:35.167922Z",
     "start_time": "2018-04-11T14:25:35.154713Z"
    }
   },
   "outputs": [],
   "source": [
    "def generate_name_pos(df):\n",
    "    \n",
    "    name_pos = {}\n",
    "    \n",
    "    for name in set(df['Name']):\n",
    "        pos = df.loc[(df['Name']==name) & (df['Pos']!=0), 'Pos'].mode()\n",
    "        if len(pos) != 0:\n",
    "            name_pos[name] = pos[0]\n",
    "    \n",
    "    return name_pos"
   ]
  },
  {
   "cell_type": "code",
   "execution_count": 60,
   "metadata": {
    "ExecuteTime": {
     "end_time": "2018-04-11T14:25:35.502724Z",
     "start_time": "2018-04-11T14:25:35.491157Z"
    }
   },
   "outputs": [],
   "source": [
    "def fill_pos(df):\n",
    "    \n",
    "    name_pos = generate_name_pos(df)\n",
    "    \n",
    "    for i in tqdm(range(df.shape[0])):\n",
    "        if df.loc[i, 'Pos'] == 0:\n",
    "            name = df.loc[i, 'Name']\n",
    "            if name in name_pos.keys():\n",
    "                #print(df.loc[i,'Date'], name)\n",
    "                df.loc[i, 'Pos'] = name_pos[name]"
   ]
  },
  {
   "cell_type": "code",
   "execution_count": 61,
   "metadata": {
    "ExecuteTime": {
     "end_time": "2018-04-11T14:25:38.192955Z",
     "start_time": "2018-04-11T14:25:37.650700Z"
    }
   },
   "outputs": [
    {
     "data": {
      "application/vnd.jupyter.widget-view+json": {
       "model_id": "33e991d54c98490a8088b99174c75b5d",
       "version_major": 2,
       "version_minor": 0
      },
      "text/html": [
       "<p>Failed to display Jupyter Widget of type <code>HBox</code>.</p>\n",
       "<p>\n",
       "  If you're reading this message in the Jupyter Notebook or JupyterLab Notebook, it may mean\n",
       "  that the widgets JavaScript is still loading. If this message persists, it\n",
       "  likely means that the widgets JavaScript library is either not installed or\n",
       "  not enabled. See the <a href=\"https://ipywidgets.readthedocs.io/en/stable/user_install.html\">Jupyter\n",
       "  Widgets Documentation</a> for setup instructions.\n",
       "</p>\n",
       "<p>\n",
       "  If you're reading this message in another frontend (for example, a static\n",
       "  rendering on GitHub or <a href=\"https://nbviewer.jupyter.org/\">NBViewer</a>),\n",
       "  it may mean that your frontend doesn't currently support widgets.\n",
       "</p>\n"
      ],
      "text/plain": [
       "HBox(children=(IntProgress(value=0, max=161), HTML(value='')))"
      ]
     },
     "metadata": {},
     "output_type": "display_data"
    },
    {
     "name": "stdout",
     "output_type": "stream",
     "text": [
      "\n"
     ]
    }
   ],
   "source": [
    "df_salary = csv_concatenate(os.path.join(data_dir, 'DKSalary', season))"
   ]
  },
  {
   "cell_type": "code",
   "execution_count": 62,
   "metadata": {
    "ExecuteTime": {
     "end_time": "2018-04-11T14:54:37.151272Z",
     "start_time": "2018-04-11T14:25:58.391449Z"
    }
   },
   "outputs": [
    {
     "name": "stdout",
     "output_type": "stream",
     "text": [
      "0 Ramon Sessions\n",
      "1 Emmanuel Mudiay\n",
      "2 Anthony Davis\n",
      "3 Ricky Rubio\n",
      "4 Dewayne Dedmon\n",
      "5 Devin Booker\n",
      "6 nan\n",
      "7 Bryce Cotton\n",
      "8 Nick Collison\n",
      "9 Jonas Jerebko\n",
      "10 Isaiah Canaan\n",
      "11 Thaddeus Young\n",
      "12 Dirk Nowitzki\n",
      "13 Shabazz Muhammad\n",
      "14 Raul Neto\n",
      "15 Brandon Knight\n",
      "16 Kendall Marshall\n",
      "17 Kirk Hinrich\n",
      "18 Gary Neal\n",
      "19 Lavoy Allen\n",
      "20 Kevin Martin\n",
      "21 C.J. Watson\n",
      "22 Willie Reed\n",
      "23 Isaiah Thomas\n",
      "24 Pablo Prigioni\n",
      "25 J.J. Hickson\n",
      "26 Mario Chalmers\n",
      "27 Sergey Karasev\n",
      "28 Shabazz Napier\n",
      "29 Kyrie Irving\n",
      "30 R.J. Hunter\n",
      "31 Willie Cauley-Stein\n",
      "32 Maurice Harkless\n",
      "33 Ryan Anderson\n",
      "34 Mike Conley\n",
      "35 J.J. Redick\n",
      "36 Gerald Green\n",
      "37 Steven Adams\n",
      "38 Chris Paul\n",
      "39 Chris Andersen\n",
      "40 Cory Jefferson\n",
      "41 Langston Galloway\n",
      "42 Glenn Robinson III\n",
      "43 Brandon Jennings\n",
      "44 Elfrid Payton\n",
      "45 Joe Ingles\n",
      "46 Frank Kaminsky\n",
      "47 J.R. Smith\n",
      "48 Nikola Jokic\n",
      "49 Al-Farouq Aminu\n",
      "50 Gorgui Dieng\n",
      "51 Nikola Mirotic\n",
      "52 Anthony Morrow\n",
      "53 Rajon Rondo\n",
      "54 Archie Goodwin\n",
      "55 Andrea Bargnani\n",
      "56 Michael Beasley\n",
      "57 Jimmy Butler\n",
      "58 Gerald Henderson\n",
      "59 Giannis Antetokounmpo\n",
      "60 Brandan Wright\n",
      "61 Anthony Tolliver\n",
      "62 Bryce Dejean-Jones\n",
      "63 Seth Curry\n",
      "64 Terrence Ross\n",
      "65 James Ennis\n",
      "66 E'Twaun Moore\n",
      "67 Terrence Jones\n",
      "68 Josh McRoberts\n",
      "69 Spencer Hawes\n",
      "70 Rodney Hood\n",
      "71 John Wall\n",
      "72 Mike Miller\n",
      "73 Otto Porter\n",
      "74 Jrue Holiday\n",
      "75 Amar'e Stoudemire\n",
      "76 Zach LaVine\n",
      "77 Kelly Oubre Jr.\n",
      "78 Jodie Meeks\n",
      "79 Jusuf Nurkic\n",
      "80 Dwyane Wade\n",
      "81 James Johnson\n",
      "82 Alex Len\n",
      "83 Chris Bosh\n",
      "84 Toney Douglas\n",
      "85 Devyn Marble\n",
      "86 Chris McCullough\n",
      "87 T.J. Warren\n",
      "88 Channing Frye\n",
      "89 Dahntay Jones\n",
      "90 Phil Pressey\n",
      "91 Marcin Gortat\n",
      "92 Tony Snell\n",
      "93 Wesley Matthews\n",
      "94 Kyle Korver\n",
      "95 O.J. Mayo\n",
      "96 Aron Baynes\n",
      "97 JaKarr Sampson\n",
      "98 Marcelo Huertas\n",
      "99 Chuck Hayes\n",
      "100 Ben McLemore\n",
      "101 DeAndre Jordan\n",
      "102 Enes Kanter\n",
      "103 Jimmer Fredette\n",
      "104 Alan Anderson\n",
      "105 Richaun Holmes\n",
      "106 Wesley Johnson\n",
      "107 Cory Joseph\n",
      "108 Montrezl Harrell\n",
      "109 Miles Plumlee\n",
      "110 Russ Smith\n",
      "111 Ian Mahinmi\n",
      "112 Matt Barnes\n",
      "113 Markel Brown\n",
      "114 Paul George\n",
      "115 Mario Hezonja\n",
      "116 Timofey Mozgov\n",
      "117 Jeff Ayres\n",
      "118 Justin Holiday\n",
      "119 P.J. Hairston\n",
      "120 Michael Carter-Williams\n",
      "121 P.J. Tucker\n",
      "122 Richard Jefferson\n",
      "123 Orlando Johnson\n",
      "124 Shelvin Mack\n",
      "125 Evan Turner\n",
      "126 Markieff Morris\n",
      "127 Tyler Ennis\n",
      "128 Marcus Thornton\n",
      "129 James Jones\n",
      "130 Greivis Vasquez\n",
      "131 Tim Frazier\n",
      "132 Derrick Williams\n",
      "133 Eric Bledsoe\n",
      "134 Donald Sloan\n",
      "135 K.J. McDaniels\n",
      "136 Drew Gooden\n",
      "137 Wilson Chandler\n",
      "138 Branden Dawson\n",
      "139 Doug McDermott\n",
      "140 Tibor Pleiss\n",
      "141 Matt Bonner\n",
      "142 Jerami Grant\n",
      "143 Hollis Thompson\n",
      "144 Pau Gasol\n",
      "145 Tyler Johnson\n",
      "146 Carmelo Anthony\n",
      "147 Hassan Whiteside\n",
      "148 Patrick Patterson\n",
      "149 Cameron Payne\n",
      "150 Tyus Jones\n",
      "151 Meyers Leonard\n",
      "152 Ryan Hollins\n",
      "153 Jarrett Jack\n",
      "154 Jeff Teague\n",
      "155 Andre Drummond\n",
      "156 Tony Allen\n",
      "157 Norman Powell\n",
      "158 Jordan Farmar\n",
      "159 Troy Daniels\n",
      "160 Edy Tavares\n",
      "161 Nemanja Bjelica\n",
      "162 Lance Thomas\n",
      "163 Chris Johnson\n",
      "164 Tobias Harris\n",
      "165 Russell Westbrook\n",
      "166 Jerian Grant\n",
      "167 Jeff Green\n",
      "168 Vince Carter\n",
      "169 Evan Fournier\n",
      "170 Rasual Butler\n",
      "171 Jordan McRae\n",
      "172 Marco Belinelli\n",
      "173 Kent Bazemore\n",
      "174 Mike Muscala\n",
      "175 Arron Afflalo\n",
      "176 Sean Kilpatrick\n",
      "177 Beno Udrih\n",
      "178 Iman Shumpert\n",
      "179 Marcus Morris\n",
      "180 Patrick Beverley\n",
      "181 Jae Crowder\n",
      "182 Tristan Thompson\n",
      "183 Rashad Vaughn\n",
      "184 Sasha Vujacic\n",
      "185 Jared Cunningham\n",
      "186 Shayne Whittington\n",
      "187 Harrison Barnes\n",
      "188 Derrick Rose\n",
      "189 Charlie Villanueva\n",
      "190 Kyle O'Quinn\n",
      "191 Lucas Nogueira\n",
      "192 Greg Monroe\n",
      "193 Anthony Bennett\n",
      "194 Julius Randle\n",
      "195 Austin Rivers\n",
      "196 Boban Marjanovic\n",
      "197 Justin Harper\n",
      "198 Jason Thompson\n",
      "199 Chase Budinger\n",
      "200 Kostas Papanikolaou\n",
      "201 Thomas Robinson\n",
      "202 Manu Ginobili\n",
      "203 Tyson Chandler\n",
      "204 Alex Stepheson\n",
      "205 Rodney Stuckey\n",
      "206 Jordan Hill\n",
      "207 Tyler Hansbrough\n",
      "208 Aaron Gordon\n",
      "209 Jorge Gutierrez\n",
      "210 Jamal Crawford\n",
      "211 James Harden\n",
      "212 Cristiano Felicio\n",
      "213 Henry Sims\n",
      "214 Quincy Acy\n",
      "215 Michael Kidd-Gilchrist\n",
      "216 Joel Embiid\n",
      "217 Jarell Eddie\n",
      "218 D'Angelo Russell\n",
      "219 Shaun Livingston\n",
      "220 Mirza Teletovic\n",
      "221 Andre Iguodala\n",
      "222 Joe Young\n",
      "223 Wayne Ellington\n",
      "224 Serge Ibaka\n",
      "225 Kevin Love\n",
      "226 Ty Lawson\n",
      "227 Brandon Rush\n",
      "228 Jerryd Bayless\n",
      "229 Jordan Hamilton\n",
      "230 Robert Covington\n",
      "231 Elton Brand\n",
      "232 Thabo Sefolosha\n",
      "233 Jeremy Lin\n",
      "234 Tarik Black\n",
      "235 C.J. McCollum\n",
      "236 Caron Butler\n",
      "237 Kevin Durant\n",
      "238 Jon Leuer\n",
      "239 Nikola Pekovic\n",
      "240 John Jenkins\n",
      "241 Quincy Pondexter\n",
      "242 Rudy Gobert\n",
      "243 Duje Dukan\n",
      "244 James Michael McAdoo\n",
      "245 Andrew Goudelock\n",
      "246 Steve Blake\n",
      "247 Udonis Haslem\n",
      "248 Jared Dudley\n",
      "249 Kawhi Leonard\n",
      "250 Josh Smith\n",
      "251 Damien Inglis\n",
      "252 Kendrick Perkins\n",
      "253 Devin Harris\n",
      "254 Carl Landry\n",
      "255 Klay Thompson\n",
      "256 Matthew Dellavedova\n",
      "257 James Young\n",
      "258 Jordan Clarkson\n",
      "259 Greg Smith\n",
      "260 Brandon Bass\n",
      "261 Anthony Brown\n",
      "262 DeMarre Carroll\n",
      "263 Joffrey Lauvergne\n",
      "264 Mason Plumlee\n",
      "265 Tony Wroten\n",
      "266 Nik Stauskas\n",
      "267 Steve Novak\n",
      "268 Bojan Bogdanovic\n",
      "269 Kyle Lowry\n",
      "270 Monta Ellis\n",
      "271 Jabari Parker\n",
      "272 Omri Casspi\n",
      "273 Axel Toupane\n",
      "274 Cole Aldrich\n",
      "275 Johnny O'Bryant\n",
      "276 Lou Amundson\n",
      "277 Jason Smith\n",
      "278 Goran Dragic\n",
      "279 Trey Lyles\n",
      "280 Jordan Adams\n",
      "281 Zach Randolph\n",
      "282 Gary Harris\n",
      "283 Draymond Green\n",
      "284 Gordon Hayward\n",
      "285 Tyreke Evans\n",
      "286 Lorenzo Brown\n",
      "287 Joe Harris\n",
      "288 Derrick Favors\n",
      "289 Ian Clark\n",
      "290 Nick Young\n",
      "291 Nicolas Batum\n",
      "292 Trevor Ariza\n",
      "293 Trevor Booker\n",
      "294 Jared Sullinger\n",
      "295 Mo Williams\n",
      "296 Sam Dekker\n",
      "297 Trey Burke\n",
      "298 Kevon Looney\n",
      "299 Bruno Caboclo\n",
      "300 Kelly Olynyk\n",
      "301 Courtney Lee\n",
      "302 Roy Hibbert\n",
      "303 Sasha Kaun\n",
      "304 DeMar DeRozan\n",
      "305 Briante Weber\n",
      "306 Garrett Temple\n",
      "307 J.J. O'Brien\n",
      "308 Martell Webster\n",
      "309 DeMarcus Cousins\n",
      "310 Jordan Mickey\n",
      "311 Marvin Williams\n",
      "312 Festus Ezeli\n",
      "313 Jose Calderon\n",
      "314 Spencer Dinwiddie\n",
      "315 Amir Johnson\n",
      "316 Khris Middleton\n",
      "317 Justin Anderson\n",
      "318 George Hill\n",
      "319 Aaron Brooks\n",
      "320 Reggie Bullock\n",
      "321 Myles Turner\n",
      "322 Dwight Howard\n",
      "323 Alonzo Gee\n",
      "324 Chris Copeland\n",
      "325 Terry Rozier\n",
      "326 Jarell Martin\n",
      "327 Marreese Speights\n",
      "328 Paul Millsap\n",
      "329 Nate Robinson\n",
      "330 Ish Smith\n",
      "331 Keith Appling\n",
      "332 Blake Griffin\n",
      "333 Robin Lopez\n",
      "334 Clint Capela\n",
      "335 Coty Clarke\n",
      "336 Stanley Johnson\n",
      "337 Aaron Harrison\n",
      "338 Christian Wood\n",
      "339 Rudy Gay\n",
      "340 Josh Richardson\n",
      "341 Dante Cunningham\n",
      "342 Thanasis Antetokounmpo\n",
      "343 Patty Mills\n",
      "344 J.J. Barea\n",
      "345 C.J. Wilcox\n",
      "346 Joakim Noah\n",
      "347 Lance Stephenson\n",
      "348 Adreian Payne\n",
      "349 Jahlil Okafor\n",
      "350 Marc Gasol\n",
      "351 LeBron James\n",
      "352 Dante Exum\n",
      "353 Robert Sacre\n",
      "354 Bismack Biyombo\n",
      "355 Darren Collison\n",
      "356 Alec Burks\n",
      "357 Kyle Singler\n",
      "358 Xavier Munford\n",
      "359 Kemba Walker\n",
      "360 David West\n",
      "361 Sonny Weems\n",
      "362 Deron Williams\n",
      "363 Erick Green\n",
      "364 Allen Crabbe\n",
      "365 Raymond Felton\n",
      "366 Kris Humphries\n",
      "367 C.J. Miles\n",
      "368 D.J. Augustin\n",
      "369 Darrell Arthur\n",
      "370 Delon Wright\n",
      "371 Danilo Gallinari\n",
      "372 Cliff Alexander\n",
      "373 Dion Waiters\n",
      "374 Luke Babbitt\n",
      "375 Jeremy Lamb\n",
      "376 Omer Asik\n",
      "377 Rakeem Christmas\n",
      "378 Stephen Curry\n",
      "379 Jameer Nelson\n",
      "380 Tayshaun Prince\n",
      "381 Joel Anthony\n",
      "382 Elijah Millsap\n",
      "383 Danny Green\n",
      "384 Norris Cole\n",
      "385 Brook Lopez\n",
      "386 Damian Lillard\n",
      "387 Randy Foye\n",
      "388 Kevin Garnett\n",
      "389 Nerlens Noel\n",
      "390 Bobby Portis\n",
      "391 Ersan Ilyasova\n",
      "392 Marcus Smart\n",
      "393 Boris Diaw\n",
      "394 Al Horford\n",
      "395 Pat Connaughton\n",
      "396 Luc Mbah a Moute\n",
      "397 Ronnie Price\n",
      "398 Jonathon Simmons\n",
      "399 Karl-Anthony Towns\n",
      "400 Josh Huestis\n",
      "401 Tony Parker\n",
      "402 Andrew Wiggins\n",
      "403 David Lee\n",
      "404 Larry Nance Jr.\n",
      "405 Bradley Beal\n",
      "406 Mike Scott\n",
      "407 Nazr Mohammed\n",
      "408 Ray McCallum\n",
      "409 Eric Gordon\n",
      "410 Chris Kaman\n",
      "411 Salah Mejri\n",
      "412 Andre Roberson\n",
      "413 John Henson\n",
      "414 Brian Roberts\n",
      "415 Cleanthony Early\n",
      "416 DeJuan Blair\n",
      "417 Dwight Powell\n",
      "418 Shane Larkin\n",
      "419 Cameron Bairstow\n",
      "420 Ryan Kelly\n",
      "421 Luis Montero\n",
      "422 Mitch McGary\n",
      "423 Damjan Rudez\n",
      "424 Solomon Hill\n",
      "425 Dennis Schroder\n",
      "426 Tiago Splitter\n",
      "427 Taj Gibson\n",
      "428 Lamar Patterson\n",
      "429 Joe Johnson\n",
      "430 T.J. McConnell\n",
      "431 Reggie Jackson\n",
      "432 Tim Duncan\n",
      "433 Al Jefferson\n",
      "434 Jonas Valanciunas\n",
      "435 Jason Terry\n",
      "436 Kenneth Faried\n",
      "437 Luol Deng\n",
      "438 Jarnell Stokes\n",
      "439 JaVale McGee\n",
      "440 Jeff Withey\n",
      "441 Metta World Peace\n",
      "442 Noah Vonleh\n",
      "443 Andrew Bogut\n",
      "444 Kentavious Caldwell-Pope\n",
      "445 Kyle Anderson\n",
      "446 Donatas Motiejunas\n",
      "447 James Anderson\n",
      "448 Darrun Hilliard\n",
      "449 Elliot Williams\n",
      "450 Chandler Parsons\n",
      "451 Jeremy Evans\n",
      "452 Lou Williams\n",
      "453 Zaza Pachulia\n",
      "454 Tim Hardaway\n",
      "455 Victor Oladipo\n",
      "456 Anderson Varejao\n",
      "457 JaMychal Green\n",
      "458 Tyler Zeller\n",
      "459 Ed Davis\n",
      "460 Andre Miller\n",
      "461 Alexis Ajinca\n",
      "462 Alan Williams\n",
      "463 Andrew Nicholson\n"
     ]
    },
    {
     "name": "stdout",
     "output_type": "stream",
     "text": [
      "464 Paul Pierce\n",
      "465 Leandro Barbosa\n",
      "466 Kristaps Porzingis\n",
      "467 Avery Bradley\n",
      "468 Nikola Vucevic\n",
      "469 Will Barton\n",
      "470 Cody Zeller\n",
      "471 Kosta Koufos\n",
      "472 Nene\n",
      "473 Justise Winslow\n",
      "474 Eric Moreland\n",
      "475 Kobe Bryant\n",
      "476 Corey Brewer\n",
      "477 Mike Dunleavy\n",
      "478 Luis Scola\n",
      "479 Kevin Seraphin\n",
      "480 Rondae Hollis-Jefferson\n",
      "481 LaMarcus Aldridge\n"
     ]
    }
   ],
   "source": [
    "#Takes about 30 mins\n",
    "\n",
    "#standard_names = generate_standard_names(df_salary)\n",
    "#with open(os.path.join(data_dir, 'standard_names','{}.npy'.format(season)), \"wb\") as fp:\n",
    "#    pickle.dump(standard_names, fp) "
   ]
  },
  {
   "cell_type": "code",
   "execution_count": 63,
   "metadata": {
    "ExecuteTime": {
     "end_time": "2018-04-11T14:57:40.394467Z",
     "start_time": "2018-04-11T14:57:40.374486Z"
    }
   },
   "outputs": [
    {
     "ename": "FileNotFoundError",
     "evalue": "[Errno 2] No such file or directory: '/home/kengo/Desktop/NBA/data/standard_names/2015-16.npy'",
     "output_type": "error",
     "traceback": [
      "\u001b[0;31m---------------------------------------------------------------------------\u001b[0m",
      "\u001b[0;31mFileNotFoundError\u001b[0m                         Traceback (most recent call last)",
      "\u001b[0;32m<ipython-input-63-cc6371c8053c>\u001b[0m in \u001b[0;36m<module>\u001b[0;34m()\u001b[0m\n\u001b[0;32m----> 1\u001b[0;31m \u001b[0;32mwith\u001b[0m \u001b[0mopen\u001b[0m\u001b[0;34m(\u001b[0m\u001b[0mos\u001b[0m\u001b[0;34m.\u001b[0m\u001b[0mpath\u001b[0m\u001b[0;34m.\u001b[0m\u001b[0mjoin\u001b[0m\u001b[0;34m(\u001b[0m\u001b[0mdata_dir\u001b[0m\u001b[0;34m,\u001b[0m \u001b[0;34m'standard_names'\u001b[0m\u001b[0;34m,\u001b[0m \u001b[0;34m'{}.npy'\u001b[0m\u001b[0;34m.\u001b[0m\u001b[0mformat\u001b[0m\u001b[0;34m(\u001b[0m\u001b[0mseason\u001b[0m\u001b[0;34m)\u001b[0m\u001b[0;34m)\u001b[0m\u001b[0;34m,\u001b[0m \u001b[0;34m\"rb\"\u001b[0m\u001b[0;34m)\u001b[0m \u001b[0;32mas\u001b[0m \u001b[0mfp\u001b[0m\u001b[0;34m:\u001b[0m\u001b[0;34m\u001b[0m\u001b[0m\n\u001b[0m\u001b[1;32m      2\u001b[0m     \u001b[0mstandard_names\u001b[0m \u001b[0;34m=\u001b[0m \u001b[0mpickle\u001b[0m\u001b[0;34m.\u001b[0m\u001b[0mload\u001b[0m\u001b[0;34m(\u001b[0m\u001b[0mfp\u001b[0m\u001b[0;34m)\u001b[0m\u001b[0;34m\u001b[0m\u001b[0m\n",
      "\u001b[0;31mFileNotFoundError\u001b[0m: [Errno 2] No such file or directory: '/home/kengo/Desktop/NBA/data/standard_names/2015-16.npy'"
     ]
    }
   ],
   "source": [
    "with open(os.path.join(data_dir, 'standard_names', '{}.npy'.format(season)), \"rb\") as fp:\n",
    "    standard_names = pickle.load(fp)"
   ]
  },
  {
   "cell_type": "code",
   "execution_count": 42,
   "metadata": {
    "ExecuteTime": {
     "end_time": "2018-04-11T12:07:09.998561Z",
     "start_time": "2018-04-11T12:05:48.301452Z"
    }
   },
   "outputs": [
    {
     "name": "stdout",
     "output_type": "stream",
     "text": [
      "18 items are standardized ...\n"
     ]
    },
    {
     "data": {
      "application/vnd.jupyter.widget-view+json": {
       "model_id": "bbe40fd00b314527a3c39cea7a0e6456",
       "version_major": 2,
       "version_minor": 0
      },
      "text/html": [
       "<p>Failed to display Jupyter Widget of type <code>HBox</code>.</p>\n",
       "<p>\n",
       "  If you're reading this message in the Jupyter Notebook or JupyterLab Notebook, it may mean\n",
       "  that the widgets JavaScript is still loading. If this message persists, it\n",
       "  likely means that the widgets JavaScript library is either not installed or\n",
       "  not enabled. See the <a href=\"https://ipywidgets.readthedocs.io/en/stable/user_install.html\">Jupyter\n",
       "  Widgets Documentation</a> for setup instructions.\n",
       "</p>\n",
       "<p>\n",
       "  If you're reading this message in another frontend (for example, a static\n",
       "  rendering on GitHub or <a href=\"https://nbviewer.jupyter.org/\">NBViewer</a>),\n",
       "  it may mean that your frontend doesn't currently support widgets.\n",
       "</p>\n"
      ],
      "text/plain": [
       "HBox(children=(IntProgress(value=0, max=493), HTML(value='')))"
      ]
     },
     "metadata": {},
     "output_type": "display_data"
    },
    {
     "name": "stdout",
     "output_type": "stream",
     "text": [
      "\n"
     ]
    }
   ],
   "source": [
    "standardize_names(df_salary, standard_names)"
   ]
  },
  {
   "cell_type": "code",
   "execution_count": 43,
   "metadata": {
    "ExecuteTime": {
     "end_time": "2018-04-11T12:07:49.935528Z",
     "start_time": "2018-04-11T12:07:10.295561Z"
    }
   },
   "outputs": [
    {
     "name": "stdout",
     "output_type": "stream",
     "text": [
      "7 items are standardized ...\n"
     ]
    },
    {
     "data": {
      "application/vnd.jupyter.widget-view+json": {
       "model_id": "84c7f25b1b804a52bdb8fe7faadea7c8",
       "version_major": 2,
       "version_minor": 0
      },
      "text/html": [
       "<p>Failed to display Jupyter Widget of type <code>HBox</code>.</p>\n",
       "<p>\n",
       "  If you're reading this message in the Jupyter Notebook or JupyterLab Notebook, it may mean\n",
       "  that the widgets JavaScript is still loading. If this message persists, it\n",
       "  likely means that the widgets JavaScript library is either not installed or\n",
       "  not enabled. See the <a href=\"https://ipywidgets.readthedocs.io/en/stable/user_install.html\">Jupyter\n",
       "  Widgets Documentation</a> for setup instructions.\n",
       "</p>\n",
       "<p>\n",
       "  If you're reading this message in another frontend (for example, a static\n",
       "  rendering on GitHub or <a href=\"https://nbviewer.jupyter.org/\">NBViewer</a>),\n",
       "  it may mean that your frontend doesn't currently support widgets.\n",
       "</p>\n"
      ],
      "text/plain": [
       "HBox(children=(IntProgress(value=0, max=487), HTML(value='')))"
      ]
     },
     "metadata": {},
     "output_type": "display_data"
    },
    {
     "name": "stdout",
     "output_type": "stream",
     "text": [
      "\n"
     ]
    }
   ],
   "source": [
    "standardize_names(df_games, standard_names)"
   ]
  },
  {
   "cell_type": "code",
   "execution_count": 18,
   "metadata": {
    "ExecuteTime": {
     "end_time": "2018-04-10T23:09:29.489167Z",
     "start_time": "2018-04-10T23:09:24.179449Z"
    }
   },
   "outputs": [
    {
     "data": {
      "application/vnd.jupyter.widget-view+json": {
       "model_id": "c6fc5d216cad48afa44129638d738dfb",
       "version_major": 2,
       "version_minor": 0
      },
      "text/html": [
       "<p>Failed to display Jupyter Widget of type <code>HBox</code>.</p>\n",
       "<p>\n",
       "  If you're reading this message in the Jupyter Notebook or JupyterLab Notebook, it may mean\n",
       "  that the widgets JavaScript is still loading. If this message persists, it\n",
       "  likely means that the widgets JavaScript library is either not installed or\n",
       "  not enabled. See the <a href=\"https://ipywidgets.readthedocs.io/en/stable/user_install.html\">Jupyter\n",
       "  Widgets Documentation</a> for setup instructions.\n",
       "</p>\n",
       "<p>\n",
       "  If you're reading this message in another frontend (for example, a static\n",
       "  rendering on GitHub or <a href=\"https://nbviewer.jupyter.org/\">NBViewer</a>),\n",
       "  it may mean that your frontend doesn't currently support widgets.\n",
       "</p>\n"
      ],
      "text/plain": [
       "HBox(children=(IntProgress(value=0, max=38362), HTML(value='')))"
      ]
     },
     "metadata": {},
     "output_type": "display_data"
    },
    {
     "name": "stdout",
     "output_type": "stream",
     "text": [
      "\n"
     ]
    }
   ],
   "source": [
    "fill_pos(df_salary)"
   ]
  },
  {
   "cell_type": "code",
   "execution_count": 45,
   "metadata": {
    "ExecuteTime": {
     "end_time": "2018-04-11T12:09:31.828962Z",
     "start_time": "2018-04-11T12:09:31.684055Z"
    }
   },
   "outputs": [],
   "source": [
    "df = pd.merge(df_salary.drop('Team', axis=1), df_games, on=['Name', 'Date'], how='inner')\n",
    "df = df[df['Pos']!=0].sort_values(by=['Date','Team']).reset_index(drop=True)"
   ]
  },
  {
   "cell_type": "code",
   "execution_count": 47,
   "metadata": {
    "ExecuteTime": {
     "end_time": "2018-04-11T12:09:56.689454Z",
     "start_time": "2018-04-11T12:09:56.682989Z"
    }
   },
   "outputs": [
    {
     "data": {
      "text/plain": [
       "Index(['Date', 'Pos', 'Name', 'Starter', 'Salary', 'Team', 'FPTS', 'Home', 'W',\n",
       "       'W_PTS', 'L', 'L_PTS', 'MP', 'FG', 'FGA', 'FG_perc', '3P', '3PA',\n",
       "       '3P_perc', 'FT', 'FTA', 'FT_perc', 'ORB', 'DRB', 'TRB', 'AST', 'STL',\n",
       "       'BLK', 'TOV', 'PF', 'PTS', 'DD', 'TD', 'USG_perc', 'DRtg', 'ORtg',\n",
       "       'AST_perc', 'DRB_perc', 'ORB_perc', 'BLK_perc', 'TOV_perc', 'STL_perc',\n",
       "       'eFG_perc'],\n",
       "      dtype='object')"
      ]
     },
     "execution_count": 47,
     "metadata": {},
     "output_type": "execute_result"
    }
   ],
   "source": [
    "df.columns"
   ]
  },
  {
   "cell_type": "code",
   "execution_count": 49,
   "metadata": {
    "ExecuteTime": {
     "end_time": "2018-04-11T12:10:51.251140Z",
     "start_time": "2018-04-11T12:10:50.007994Z"
    }
   },
   "outputs": [],
   "source": [
    "columns = ['Name', 'Date', 'Team', 'FPTS', 'Home', 'W', 'W_PTS', 'L', 'L_PTS', 'MP',\n",
    "           'FG', 'FGA', 'FG_perc', '3P', '3PA', '3P_perc', 'FT', 'FTA', 'FT_perc',\n",
    "           'ORB', 'DRB', 'TRB', 'AST', 'STL', 'BLK', 'TOV', 'PF', 'PTS', 'DD', 'TD', \n",
    "           'USG_perc','DRtg','ORtg','AST_perc','DRB_perc','ORB_perc','BLK_perc','TOV_perc','STL_perc','eFG_perc']\n",
    "\n",
    "columns = columns[:3] + ['Salary', 'Starter'] + columns[3:]\n",
    "\n",
    "df_games = df_games.loc[:, columns]\n",
    "\n",
    "df.to_csv(os.path.join(data_dir, 'Dataframes', 'clean','df_{}.csv'.format(season)), index=False)"
   ]
  },
  {
   "cell_type": "code",
   "execution_count": 50,
   "metadata": {
    "ExecuteTime": {
     "end_time": "2018-04-11T12:10:58.749370Z",
     "start_time": "2018-04-11T12:10:58.740968Z"
    }
   },
   "outputs": [
    {
     "data": {
      "text/plain": [
       "Index(['Date', 'Pos', 'Name', 'Starter', 'Salary', 'Team', 'FPTS', 'Home', 'W',\n",
       "       'W_PTS', 'L', 'L_PTS', 'MP', 'FG', 'FGA', 'FG_perc', '3P', '3PA',\n",
       "       '3P_perc', 'FT', 'FTA', 'FT_perc', 'ORB', 'DRB', 'TRB', 'AST', 'STL',\n",
       "       'BLK', 'TOV', 'PF', 'PTS', 'DD', 'TD', 'USG_perc', 'DRtg', 'ORtg',\n",
       "       'AST_perc', 'DRB_perc', 'ORB_perc', 'BLK_perc', 'TOV_perc', 'STL_perc',\n",
       "       'eFG_perc'],\n",
       "      dtype='object')"
      ]
     },
     "execution_count": 50,
     "metadata": {},
     "output_type": "execute_result"
    }
   ],
   "source": [
    "df.columns"
   ]
  }
 ],
 "metadata": {
  "kernelspec": {
   "display_name": "Python 3",
   "language": "python",
   "name": "python3"
  },
  "language_info": {
   "codemirror_mode": {
    "name": "ipython",
    "version": 3
   },
   "file_extension": ".py",
   "mimetype": "text/x-python",
   "name": "python",
   "nbconvert_exporter": "python",
   "pygments_lexer": "ipython3",
   "version": "3.6.3"
  },
  "varInspector": {
   "cols": {
    "lenName": 16,
    "lenType": 16,
    "lenVar": 40
   },
   "kernels_config": {
    "python": {
     "delete_cmd_postfix": "",
     "delete_cmd_prefix": "del ",
     "library": "var_list.py",
     "varRefreshCmd": "print(var_dic_list())"
    },
    "r": {
     "delete_cmd_postfix": ") ",
     "delete_cmd_prefix": "rm(",
     "library": "var_list.r",
     "varRefreshCmd": "cat(var_dic_list()) "
    }
   },
   "types_to_exclude": [
    "module",
    "function",
    "builtin_function_or_method",
    "instance",
    "_Feature"
   ],
   "window_display": false
  }
 },
 "nbformat": 4,
 "nbformat_minor": 2
}
