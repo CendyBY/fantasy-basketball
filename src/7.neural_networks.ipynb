{
 "cells": [
  {
   "cell_type": "markdown",
   "metadata": {
    "ExecuteTime": {
     "end_time": "2018-05-20T12:28:32.643440Z",
     "start_time": "2018-05-20T12:28:32.606527Z"
    }
   },
   "source": [
    "### Neural Networks"
   ]
  },
  {
   "cell_type": "code",
   "execution_count": 1,
   "metadata": {
    "ExecuteTime": {
     "end_time": "2019-05-28T23:14:18.387208Z",
     "start_time": "2019-05-28T23:14:15.371947Z"
    }
   },
   "outputs": [
    {
     "name": "stderr",
     "output_type": "stream",
     "text": [
      "Using TensorFlow backend.\n"
     ]
    }
   ],
   "source": [
    "import os\n",
    "import glob\n",
    "import warnings\n",
    "import numpy as np\n",
    "import pandas as pd\n",
    "import matplotlib.pyplot as plt\n",
    "\n",
    "from tqdm import tqdm_notebook as tqdm\n",
    "from sklearn.preprocessing import MinMaxScaler\n",
    "from sklearn.model_selection import KFold, cross_val_score\n",
    "from tensorflow import set_random_seed\n",
    "\n",
    "from keras import backend as K\n",
    "from keras.models import Sequential\n",
    "from keras.layers import Dense, Dropout\n",
    "from keras.wrappers.scikit_learn import KerasRegressor\n",
    "from keras.callbacks import ModelCheckpoint\n",
    "\n",
    "from constants import DATA_DIR\n",
    "from utils import csv_concatenate, calculate_FPTS, calculate_MAE, calculate_RMSE, cross_val, load_full_dataset"
   ]
  },
  {
   "cell_type": "code",
   "execution_count": 2,
   "metadata": {
    "ExecuteTime": {
     "end_time": "2019-05-28T23:14:18.412252Z",
     "start_time": "2019-05-28T23:14:18.389887Z"
    }
   },
   "outputs": [],
   "source": [
    "np.random.seed(23)\n",
    "set_random_seed(23)\n",
    "\n",
    "warnings.filterwarnings(\"ignore\")"
   ]
  },
  {
   "cell_type": "code",
   "execution_count": 16,
   "metadata": {
    "ExecuteTime": {
     "end_time": "2019-05-28T23:20:33.082174Z",
     "start_time": "2019-05-28T23:20:33.061509Z"
    }
   },
   "outputs": [],
   "source": [
    "def root_mean_squared_error(y_true, y_pred):\n",
    "    # Custom loss function for keras\n",
    "    return K.sqrt(K.mean(K.square(y_pred - y_true))) \n",
    "\n",
    "def get_modelcheckpoint_path(model_num):\n",
    "    #Create a file path for a model and save models in hdf5 files with datetime, validation losses and epochs\n",
    "    parent = DATA_DIR+\"/Models/NN/Model_{}/\".format(model_num)\n",
    "    child = pd.Timestamp.now().strftime('%Y%m%d-%Hh%Mm') + \"-model-epoch_{epoch:02d}-rmse_{val_loss:.5f}.hdf5\"\n",
    "    return parent + child \n",
    "\n",
    "def model_1():\n",
    "    model = Sequential()\n",
    "    model.add(Dense(X.shape[1], input_dim=X.shape[1], activation='relu'))\n",
    "    model.add(Dense(64, activation='relu'))\n",
    "    model.add(Dense(32, activation='relu'))\n",
    "    model.add(Dense(1))\n",
    "    model.compile(loss=root_mean_squared_error, optimizer='adam')\n",
    "    model.summary()\n",
    "    return model\n",
    "\n",
    "def model_2():\n",
    "    model = Sequential()\n",
    "    model.add(Dense(X.shape[1], input_dim=X.shape[1], activation='relu'))\n",
    "    model.add(Dense(64, activation='relu'))\n",
    "    model.add(Dense(128, activation='relu'))\n",
    "    model.add(Dense(32, activation='relu'))\n",
    "    model.add(Dropout(0.2))\n",
    "    model.add(Dense(1))\n",
    "    model.compile(loss=root_mean_squared_error, optimizer='adam')\n",
    "    model.summary()\n",
    "    return model\n",
    "\n",
    "def model_3():\n",
    "    model = Sequential()\n",
    "    model.add(Dense(X.shape[1], input_dim=X.shape[1], activation='relu'))\n",
    "    model.add(Dense(128, activation='relu'))\n",
    "    model.add(Dense(256, activation='relu'))\n",
    "    model.add(Dropout(0.2))\n",
    "    model.add(Dense(64, activation='relu'))\n",
    "    model.add(Dropout(0.2))\n",
    "    model.add(Dense(1))\n",
    "    model.compile(loss=root_mean_squared_error, optimizer='adam')\n",
    "    model.summary()\n",
    "    return model"
   ]
  },
  {
   "cell_type": "code",
   "execution_count": 17,
   "metadata": {
    "ExecuteTime": {
     "end_time": "2019-05-28T23:20:37.252003Z",
     "start_time": "2019-05-28T23:20:34.883558Z"
    }
   },
   "outputs": [],
   "source": [
    "X, y = load_full_dataset('quad')"
   ]
  },
  {
   "cell_type": "code",
   "execution_count": null,
   "metadata": {
    "ExecuteTime": {
     "start_time": "2019-05-28T23:20:59.483Z"
    },
    "hidden": true,
    "scrolled": false
   },
   "outputs": [
    {
     "name": "stdout",
     "output_type": "stream",
     "text": [
      "_________________________________________________________________\n",
      "Layer (type)                 Output Shape              Param #   \n",
      "=================================================================\n",
      "dense_13 (Dense)             (None, 41)                1722      \n",
      "_________________________________________________________________\n",
      "dense_14 (Dense)             (None, 64)                2688      \n",
      "_________________________________________________________________\n",
      "dense_15 (Dense)             (None, 32)                2080      \n",
      "_________________________________________________________________\n",
      "dense_16 (Dense)             (None, 1)                 33        \n",
      "=================================================================\n",
      "Total params: 6,523\n",
      "Trainable params: 6,523\n",
      "Non-trainable params: 0\n",
      "_________________________________________________________________\n",
      "Train on 96004 samples, validate on 24001 samples\n",
      "Epoch 1/50\n",
      "96004/96004 [==============================] - 10s 105us/step - loss: 9.4741 - val_loss: 9.4518\n",
      "Epoch 2/50\n",
      "96004/96004 [==============================] - 9s 94us/step - loss: 9.1609 - val_loss: 9.4213\n",
      "Epoch 3/50\n",
      "96004/96004 [==============================] - 9s 95us/step - loss: 9.1259 - val_loss: 9.3164\n",
      "Epoch 4/50\n",
      "96004/96004 [==============================] - 9s 98us/step - loss: 9.1010 - val_loss: 9.2695\n",
      "Epoch 5/50\n",
      "96004/96004 [==============================] - 9s 98us/step - loss: 9.0923 - val_loss: 9.2619\n",
      "Epoch 6/50\n",
      "96004/96004 [==============================] - 9s 99us/step - loss: 9.0854 - val_loss: 9.2639\n",
      "Epoch 7/50\n",
      "96004/96004 [==============================] - 9s 99us/step - loss: 9.0752 - val_loss: 9.3907\n",
      "Epoch 8/50\n",
      "96004/96004 [==============================] - 9s 92us/step - loss: 9.0714 - val_loss: 9.1849\n",
      "Epoch 9/50\n",
      "96004/96004 [==============================] - 10s 101us/step - loss: 9.0516 - val_loss: 9.1860\n",
      "Epoch 10/50\n",
      "96004/96004 [==============================] - 8s 80us/step - loss: 9.0505 - val_loss: 9.1823\n",
      "Epoch 11/50\n",
      "96004/96004 [==============================] - 6s 66us/step - loss: 9.0320 - val_loss: 9.2207\n",
      "Epoch 12/50\n",
      "96004/96004 [==============================] - 6s 62us/step - loss: 9.0274 - val_loss: 9.1258\n",
      "Epoch 13/50\n",
      "96004/96004 [==============================] - 6s 62us/step - loss: 9.0253 - val_loss: 9.1144\n",
      "Epoch 14/50\n",
      "96004/96004 [==============================] - 6s 62us/step - loss: 9.0216 - val_loss: 9.1117\n",
      "Epoch 15/50\n",
      "96004/96004 [==============================] - 6s 63us/step - loss: 9.0131 - val_loss: 9.1634\n",
      "Epoch 16/50\n",
      "96004/96004 [==============================] - 6s 60us/step - loss: 9.0164 - val_loss: 9.1588\n",
      "Epoch 17/50\n",
      "96004/96004 [==============================] - 6s 58us/step - loss: 9.0070 - val_loss: 9.0786\n",
      "Epoch 18/50\n",
      "96004/96004 [==============================] - 6s 60us/step - loss: 9.0088 - val_loss: 9.1299\n",
      "Epoch 19/50\n",
      "96004/96004 [==============================] - 6s 61us/step - loss: 9.0034 - val_loss: 9.1848\n",
      "Epoch 20/50\n",
      "96004/96004 [==============================] - 10s 102us/step - loss: 9.0030 - val_loss: 9.1214\n",
      "Epoch 21/50\n",
      "96004/96004 [==============================] - 10s 107us/step - loss: 8.9935 - val_loss: 9.1141\n",
      "Epoch 22/50\n",
      "96004/96004 [==============================] - 9s 93us/step - loss: 8.9959 - val_loss: 9.1118\n",
      "Epoch 23/50\n",
      "96004/96004 [==============================] - 5s 56us/step - loss: 8.9881 - val_loss: 9.0797\n",
      "Epoch 24/50\n",
      "96004/96004 [==============================] - 6s 62us/step - loss: 8.9943 - val_loss: 9.0818\n",
      "Epoch 25/50\n",
      "96004/96004 [==============================] - 8s 83us/step - loss: 8.9927 - val_loss: 9.0814\n",
      "Epoch 26/50\n",
      "96004/96004 [==============================] - 11s 115us/step - loss: 8.9794 - val_loss: 9.1143\n",
      "Epoch 27/50\n",
      "96004/96004 [==============================] - 8s 85us/step - loss: 8.9820 - val_loss: 9.1632\n",
      "Epoch 28/50\n",
      "96004/96004 [==============================] - 8s 79us/step - loss: 8.9843 - val_loss: 9.0639\n",
      "Epoch 29/50\n",
      "96004/96004 [==============================] - 8s 85us/step - loss: 8.9799 - val_loss: 9.0906\n",
      "Epoch 30/50\n",
      "96004/96004 [==============================] - 8s 82us/step - loss: 8.9763 - val_loss: 9.1655\n",
      "Epoch 31/50\n",
      "96004/96004 [==============================] - 11s 109us/step - loss: 8.9752 - val_loss: 9.0813\n",
      "Epoch 32/50\n",
      "96004/96004 [==============================] - 10s 101us/step - loss: 8.9748 - val_loss: 9.1123\n",
      "Epoch 33/50\n",
      "96004/96004 [==============================] - 10s 102us/step - loss: 8.9694 - val_loss: 9.0717\n",
      "Epoch 34/50\n",
      "96004/96004 [==============================] - 10s 104us/step - loss: 8.9586 - val_loss: 9.1209\n",
      "Epoch 35/50\n",
      "96004/96004 [==============================] - 9s 99us/step - loss: 8.9633 - val_loss: 9.0533\n",
      "Epoch 36/50\n",
      "96004/96004 [==============================] - 10s 100us/step - loss: 8.9654 - val_loss: 9.1095\n",
      "Epoch 37/50\n",
      "96004/96004 [==============================] - 10s 106us/step - loss: 8.9571 - val_loss: 9.1027\n",
      "Epoch 38/50\n",
      "96004/96004 [==============================] - 10s 103us/step - loss: 8.9599 - val_loss: 9.0779\n",
      "Epoch 39/50\n",
      "96004/96004 [==============================] - 10s 102us/step - loss: 8.9554 - val_loss: 9.0973\n",
      "Epoch 40/50\n",
      "96004/96004 [==============================] - 10s 108us/step - loss: 8.9497 - val_loss: 9.1228\n",
      "Epoch 41/50\n",
      "96004/96004 [==============================] - 10s 103us/step - loss: 8.9542 - val_loss: 9.0928\n",
      "Epoch 42/50\n",
      "96004/96004 [==============================] - 10s 100us/step - loss: 8.9540 - val_loss: 9.0579\n",
      "Epoch 43/50\n",
      "96004/96004 [==============================] - 10s 105us/step - loss: 8.9482 - val_loss: 9.1279\n",
      "Epoch 44/50\n",
      "96004/96004 [==============================] - 10s 100us/step - loss: 8.9536 - val_loss: 9.0801\n",
      "Epoch 45/50\n",
      "31872/96004 [========>.....................] - ETA: 5s - loss: 8.9938"
     ]
    }
   ],
   "source": [
    "model = KerasRegressor(build_fn=model_1,\n",
    "                       epochs=50,\n",
    "                       batch_size=32,\n",
    "                       validation_split=0.2,\n",
    "                       shuffle=True,\n",
    "                       verbose=1)\n",
    "\n",
    "filepath = get_modelcheckpoint_path(1)\n",
    "checkpoint = ModelCheckpoint(filepath, monitor='val_loss', save_best_only=False, verbose=0, mode='min')\n",
    "callbacks_list = [checkpoint]\n",
    "\n",
    "h1 = model.fit(X, y, callbacks=callbacks_list)"
   ]
  },
  {
   "cell_type": "code",
   "execution_count": null,
   "metadata": {
    "ExecuteTime": {
     "end_time": "2019-05-28T22:27:40.604187Z",
     "start_time": "2019-05-28T22:24:13.174Z"
    },
    "hidden": true
   },
   "outputs": [],
   "source": []
  },
  {
   "cell_type": "code",
   "execution_count": null,
   "metadata": {
    "ExecuteTime": {
     "end_time": "2019-05-28T22:27:40.607240Z",
     "start_time": "2019-05-28T22:24:16.020Z"
    },
    "hidden": true,
    "scrolled": true
   },
   "outputs": [],
   "source": [
    "model = KerasRegressor(build_fn=model_2,\n",
    "                       epochs=50,\n",
    "                       batch_size=32,\n",
    "                       validation_split=0.2,\n",
    "                       shuffle=True,\n",
    "                       verbose=1)\n",
    "\n",
    "filepath = get_modelcheckpoint_path(2)\n",
    "checkpoint = ModelCheckpoint(filepath, monitor='val_loss', save_best_only=False, verbose=0, mode='min')\n",
    "callbacks_list = [checkpoint]\n",
    "\n",
    "h2 = model.fit(X, y, callbacks=callbacks_list)"
   ]
  },
  {
   "cell_type": "code",
   "execution_count": null,
   "metadata": {
    "ExecuteTime": {
     "end_time": "2019-05-28T22:27:40.609436Z",
     "start_time": "2019-05-28T22:24:21.230Z"
    },
    "hidden": true,
    "scrolled": true
   },
   "outputs": [],
   "source": [
    "model = KerasRegressor(build_fn=model_3,\n",
    "                       epochs=50,\n",
    "                       batch_size=32,\n",
    "                       validation_split=0.2,\n",
    "                       shuffle=True,\n",
    "                       verbose=1)\n",
    "\n",
    "filepath = get_modelcheckpoint_path(3)\n",
    "checkpoint = ModelCheckpoint(filepath, monitor='val_loss', save_best_only=False, verbose=0, mode='min')\n",
    "callbacks_list = [checkpoint]\n",
    "\n",
    "h3 = model.fit(X, y, callbacks=callbacks_list)"
   ]
  },
  {
   "cell_type": "code",
   "execution_count": null,
   "metadata": {
    "ExecuteTime": {
     "end_time": "2019-05-27T14:15:47.529864Z",
     "start_time": "2019-05-27T14:15:47.080199Z"
    },
    "hidden": true,
    "scrolled": true
   },
   "outputs": [],
   "source": [
    "for i, hist in enumerate([h1, h2, h3]):\n",
    "    plt.subplot(1,3,i)  \n",
    "    plt.plot(hist.history['loss'])  \n",
    "    plt.plot(hist.history['val_loss'])  \n",
    "    plt.title('Model Loss')  \n",
    "    plt.ylabel('Loss')  \n",
    "    plt.xlabel('Epoch')  \n",
    "    plt.legend(['Train', 'Validation'], loc='upper right')  \n",
    "    plt.show()"
   ]
  },
  {
   "cell_type": "code",
   "execution_count": null,
   "metadata": {
    "ExecuteTime": {
     "end_time": "2019-05-27T14:15:51.061919Z",
     "start_time": "2019-05-27T14:15:51.057743Z"
    },
    "hidden": true
   },
   "outputs": [],
   "source": [
    "model = KerasRegressor(build_fn=model_1,\n",
    "                       epochs=30,\n",
    "                       batch_size=32,\n",
    "                       validation_split=0.2,\n",
    "                       shuffle=True,\n",
    "                       verbose=0)\n",
    "\n",
    "kfold = KFold(n_splits=5, shuffle=True)"
   ]
  },
  {
   "cell_type": "code",
   "execution_count": null,
   "metadata": {
    "ExecuteTime": {
     "end_time": "2019-05-27T14:34:55.346833Z",
     "start_time": "2019-05-27T14:15:54.100815Z"
    },
    "hidden": true,
    "scrolled": true
   },
   "outputs": [],
   "source": [
    "results_MAE = cross_val_score(model, X, y, cv=kfold, n_jobs=1, scoring='neg_mean_absolute_error')\n",
    "results_RMSE = cross_val_score(model, X, y, cv=kfold, n_jobs=1, scoring='neg_mean_squared_error')"
   ]
  },
  {
   "cell_type": "code",
   "execution_count": null,
   "metadata": {
    "ExecuteTime": {
     "end_time": "2019-05-27T14:34:59.524098Z",
     "start_time": "2019-05-27T14:34:59.518574Z"
    },
    "hidden": true
   },
   "outputs": [],
   "source": [
    "print(np.sqrt(-results_RMSE))\n",
    "print(\"Results: %.4f RMSE\" % np.sqrt(np.mean(-results_RMSE)))\n",
    "\n",
    "print(np.sqrt(-results_MAE))\n",
    "print(\"Results: %.4f MAE\" % np.mean(-results_MAE))"
   ]
  },
  {
   "cell_type": "code",
   "execution_count": null,
   "metadata": {
    "ExecuteTime": {
     "end_time": "2019-05-27T14:40:02.761425Z",
     "start_time": "2019-05-27T14:40:02.753910Z"
    },
    "hidden": true
   },
   "outputs": [],
   "source": [
    "model = KerasRegressor(build_fn=model_3,\n",
    "                       epochs=15,\n",
    "                       batch_size=32,\n",
    "                       validation_split=0.2,\n",
    "                       shuffle=True,\n",
    "                       verbose=2)\n",
    "\n",
    "kfold = KFold(n_splits=5, shuffle=True)"
   ]
  },
  {
   "cell_type": "code",
   "execution_count": null,
   "metadata": {
    "ExecuteTime": {
     "end_time": "2019-05-27T14:44:42.959763Z",
     "start_time": "2019-05-27T14:42:46.307952Z"
    },
    "hidden": true
   },
   "outputs": [],
   "source": [
    "results_MAE = cross_val_score(model, X, y, cv=kfold, n_jobs=1, scoring='neg_mean_absolute_error')\n",
    "results_RMSE = cross_val_score(model, X, y, cv=kfold, n_jobs=1, scoring='neg_mean_squared_error')"
   ]
  },
  {
   "cell_type": "code",
   "execution_count": null,
   "metadata": {
    "ExecuteTime": {
     "end_time": "2018-05-20T12:27:06.254825Z",
     "start_time": "2018-05-20T12:27:06.245242Z"
    },
    "hidden": true
   },
   "outputs": [],
   "source": [
    "print(np.sqrt(-results_RMSE))\n",
    "print(\"Results: %.4f RMSE\" % np.sqrt(np.mean(-results_RMSE)))\n",
    "\n",
    "print(np.sqrt(-results_MAE))\n",
    "print(\"Results: %.4f MAE\" % np.mean(-results_MAE))"
   ]
  },
  {
   "cell_type": "markdown",
   "metadata": {},
   "source": [
    "### Prediction"
   ]
  },
  {
   "cell_type": "code",
   "execution_count": null,
   "metadata": {
    "ExecuteTime": {
     "end_time": "2019-05-27T14:55:34.373874Z",
     "start_time": "2019-05-27T14:55:34.238741Z"
    }
   },
   "outputs": [],
   "source": [
    "### Train Test Split\n",
    "X = df_features.sort_values(by=['Date','Name']).reset_index(drop=True)\n",
    "\n",
    "target_month = 201903\n",
    "\n",
    "start = 20190301\n",
    "end = 20190331\n",
    "\n",
    "test_indices = (df_features['Date'] >= start) & (df_features['Date'] <= end)\n",
    "train_indices = [not value for value in test_indices]\n",
    "\n",
    "X_train = df_features.loc[train_indices, selected]\n",
    "X_test = df_features.loc[test_indices, selected]\n",
    "\n",
    "y_train = df_features.loc[train_indices, 'FPTS'].values.reshape(-1,1).flatten()\n",
    "y_test = df_features.loc[test_indices, 'FPTS'].values.reshape(-1,1).flatten()\n",
    "\n",
    "# X_train = MinMaxScaler().fit_transform(X_train)\n",
    "# X_test = MinMaxScaler().fit_transform(X_test)"
   ]
  },
  {
   "cell_type": "code",
   "execution_count": null,
   "metadata": {
    "ExecuteTime": {
     "end_time": "2019-05-27T14:55:35.026765Z",
     "start_time": "2019-05-27T14:55:35.021823Z"
    }
   },
   "outputs": [],
   "source": [
    "X_train.shape, X_test.shape"
   ]
  },
  {
   "cell_type": "code",
   "execution_count": null,
   "metadata": {
    "ExecuteTime": {
     "end_time": "2019-05-27T14:55:37.371547Z",
     "start_time": "2019-05-27T14:55:37.243441Z"
    }
   },
   "outputs": [],
   "source": [
    "pred_baseline = df_baseline.loc[(df_baseline['Date'] >= start) & (df_baseline['Date'] <= end), 'FPTS_pred'].reset_index(drop=True)\n",
    "actual = df_baseline.loc[(df_baseline['Date'] >= start) & (df_baseline['Date'] <= end), 'FPTS'].reset_index(drop=True)\n",
    "\n",
    "print(calculate_MAE(pred_baseline, actual))\n",
    "print(calculate_RMSE(pred_baseline, actual))"
   ]
  },
  {
   "cell_type": "code",
   "execution_count": null,
   "metadata": {
    "ExecuteTime": {
     "end_time": "2019-05-27T14:55:38.239973Z",
     "start_time": "2019-05-27T14:55:38.054908Z"
    }
   },
   "outputs": [],
   "source": [
    "reg = LinearRegression()\n",
    "reg.fit(X_train, y_train)\n",
    "pred_lm = reg.predict(X_test)\n",
    "\n",
    "print(calculate_MAE(pred_lm, y_test))\n",
    "print(calculate_RMSE(pred_lm, y_test))"
   ]
  },
  {
   "cell_type": "code",
   "execution_count": null,
   "metadata": {
    "ExecuteTime": {
     "end_time": "2019-05-27T14:59:04.006555Z",
     "start_time": "2019-05-27T14:57:31.950692Z"
    }
   },
   "outputs": [],
   "source": [
    "d_train = lgb.Dataset(X_train, label=y_train)\n",
    "d_test = lgb.Dataset(X_test, label=y_test)\n",
    "\n",
    "watchlist = [d_valid]\n",
    "\n",
    "opt_params = df_params.loc[0, 'params']\n",
    "\n",
    "model = lgb.train(opt_params, d_train, watchlist, verbose_eval=1)\n",
    "pred_gbm = model.predict(X_test)\n",
    "\n",
    "print(calculate_MAE(pred_gbm, y_test))\n",
    "print(calculate_RMSE(pred_gbm, y_test))"
   ]
  },
  {
   "cell_type": "code",
   "execution_count": null,
   "metadata": {
    "ExecuteTime": {
     "end_time": "2019-05-27T15:02:00.158790Z",
     "start_time": "2019-05-27T15:01:19.663640Z"
    }
   },
   "outputs": [],
   "source": [
    "best_parameters = {'max_depth':6, 'n_estimators':250, 'min_child_weight':4, 'colsample_bytree':0.6, \n",
    "                   'colsample_bylevel':0.7, 'subsample':1.0, 'gamma':0.0, 'learning_rate':0.026944654231987667}\n",
    "\n",
    "reg = xgb.XGBRegressor(**best_parameters)\n",
    "reg.fit(X_train, y_train, verbose=1)\n",
    "pred_xgb = reg.predict(X_test)\n",
    "\n",
    "print(calculate_MAE(pred_xgb, y_test))\n",
    "print(calculate_RMSE(pred_xgb, y_test))"
   ]
  },
  {
   "cell_type": "code",
   "execution_count": null,
   "metadata": {
    "ExecuteTime": {
     "end_time": "2019-05-27T15:04:47.955013Z",
     "start_time": "2019-05-27T15:04:47.947277Z"
    }
   },
   "outputs": [],
   "source": [
    "def advanced_model():\n",
    "    model = Sequential()\n",
    "    model.add(Dense(X_train.shape[1], input_dim=X_train.shape[1], activation='relu'))\n",
    "    model.add(Dropout(0.2))\n",
    "    model.add(Dense(128, activation='relu'))\n",
    "    model.add(Dropout(0.2))\n",
    "    model.add(Dense(256, activation='relu'))\n",
    "    model.add(Dense(64, activation='relu'))\n",
    "    #model.add(Dropout(0.2))\n",
    "    model.add(Dense(32, activation='relu'))\n",
    "    #model.add(Dropout(0.2))\n",
    "    model.add(Dense(1))\n",
    "    model.compile(loss='mse', optimizer='adam')\n",
    "    return model"
   ]
  },
  {
   "cell_type": "code",
   "execution_count": null,
   "metadata": {
    "ExecuteTime": {
     "end_time": "2019-05-27T15:07:30.926434Z",
     "start_time": "2019-05-27T15:04:54.585879Z"
    },
    "scrolled": true
   },
   "outputs": [],
   "source": [
    "model = KerasRegressor(build_fn=advanced_model,\n",
    "                       epochs=30,\n",
    "                       batch_size=64,\n",
    "                       validation_split=0.2,\n",
    "                       shuffle=True,\n",
    "                       verbose=1)\n",
    "\n",
    "h = model.fit(X_train, y_train)"
   ]
  },
  {
   "cell_type": "code",
   "execution_count": null,
   "metadata": {
    "ExecuteTime": {
     "end_time": "2019-05-27T15:08:10.612725Z",
     "start_time": "2019-05-27T15:08:10.150268Z"
    }
   },
   "outputs": [],
   "source": [
    "pred_nn = model.predict(X_test)\n",
    "print(calculate_MAE(pred_nn, y_test))\n",
    "print(calculate_RMSE(pred_nn, y_test))"
   ]
  },
  {
   "cell_type": "markdown",
   "metadata": {},
   "source": [
    "### Write prediction into csv"
   ]
  },
  {
   "cell_type": "code",
   "execution_count": null,
   "metadata": {
    "ExecuteTime": {
     "end_time": "2019-05-27T23:07:32.106449Z",
     "start_time": "2019-05-27T23:07:32.095584Z"
    }
   },
   "outputs": [],
   "source": [
    "df_pred = df_features.loc[test_indices, ['Date', 'Name', 'Team', 'FPTS', 'Pos', 'Salary']]\n",
    "df_pred['Pred'] = pred_gbm"
   ]
  },
  {
   "cell_type": "code",
   "execution_count": null,
   "metadata": {
    "ExecuteTime": {
     "end_time": "2019-05-27T23:07:34.511977Z",
     "start_time": "2019-05-27T23:07:34.463353Z"
    }
   },
   "outputs": [],
   "source": [
    "df_pred.to_csv(os.path.join(DATA_DIR, 'Predictions/{}.csv'.format(pd.Timestamp.now().strftime('%Y%m%d-%Hh%Mm'))), index=False)"
   ]
  }
 ],
 "metadata": {
  "kernelspec": {
   "display_name": "Python 3",
   "language": "python",
   "name": "python3"
  },
  "language_info": {
   "codemirror_mode": {
    "name": "ipython",
    "version": 3
   },
   "file_extension": ".py",
   "mimetype": "text/x-python",
   "name": "python",
   "nbconvert_exporter": "python",
   "pygments_lexer": "ipython3",
   "version": "3.7.1"
  },
  "varInspector": {
   "cols": {
    "lenName": 16,
    "lenType": 16,
    "lenVar": 40
   },
   "kernels_config": {
    "python": {
     "delete_cmd_postfix": "",
     "delete_cmd_prefix": "del ",
     "library": "var_list.py",
     "varRefreshCmd": "print(var_dic_list())"
    },
    "r": {
     "delete_cmd_postfix": ") ",
     "delete_cmd_prefix": "rm(",
     "library": "var_list.r",
     "varRefreshCmd": "cat(var_dic_list()) "
    }
   },
   "types_to_exclude": [
    "module",
    "function",
    "builtin_function_or_method",
    "instance",
    "_Feature"
   ],
   "window_display": false
  }
 },
 "nbformat": 4,
 "nbformat_minor": 2
}
