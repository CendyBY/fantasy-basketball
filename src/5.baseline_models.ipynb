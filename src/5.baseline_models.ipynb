{
 "cells": [
  {
   "cell_type": "markdown",
   "metadata": {
    "ExecuteTime": {
     "end_time": "2018-05-20T12:28:32.643440Z",
     "start_time": "2018-05-20T12:28:32.606527Z"
    }
   },
   "source": [
    "### Baseline models and Feature Selection"
   ]
  },
  {
   "cell_type": "code",
   "execution_count": 45,
   "metadata": {
    "ExecuteTime": {
     "end_time": "2019-05-28T13:59:32.032312Z",
     "start_time": "2019-05-28T13:59:32.027225Z"
    }
   },
   "outputs": [],
   "source": [
    "import os\n",
    "import glob\n",
    "import warnings\n",
    "import numpy as np\n",
    "import pandas as pd\n",
    "import matplotlib.pyplot as plt\n",
    "\n",
    "from datetime import datetime\n",
    "from tqdm import tqdm_notebook as tqdm\n",
    "from sklearn.ensemble import GradientBoostingRegressor\n",
    "from sklearn.linear_model import LinearRegression\n",
    "from sklearn.model_selection import train_test_split\n",
    "from sklearn.preprocessing import MinMaxScaler\n",
    "\n",
    "from sklearn.model_selection import cross_val_score\n",
    "\n",
    "from constants import DATA_DIR\n",
    "from utils import csv_concatenate, calculate_FPTS, calculate_MAE, calculate_RMSE, cross_val"
   ]
  },
  {
   "cell_type": "code",
   "execution_count": 100,
   "metadata": {
    "ExecuteTime": {
     "end_time": "2019-05-28T14:40:18.972458Z",
     "start_time": "2019-05-28T14:40:18.968326Z"
    }
   },
   "outputs": [],
   "source": [
    "np.random.seed(0)\n",
    "warnings.filterwarnings(\"ignore\")"
   ]
  },
  {
   "cell_type": "markdown",
   "metadata": {},
   "source": [
    "### Simple Season Average\n",
    "Baseline model - DraftKings shows season average in their data and interface"
   ]
  },
  {
   "cell_type": "code",
   "execution_count": 101,
   "metadata": {
    "ExecuteTime": {
     "end_time": "2019-05-28T14:40:45.543637Z",
     "start_time": "2019-05-28T14:40:20.668407Z"
    }
   },
   "outputs": [
    {
     "data": {
      "application/vnd.jupyter.widget-view+json": {
       "model_id": "2f7d271a8a094735bd45a7baedc53b4a",
       "version_major": 2,
       "version_minor": 0
      },
      "text/plain": [
       "HBox(children=(IntProgress(value=0, max=141206), HTML(value='')))"
      ]
     },
     "metadata": {},
     "output_type": "display_data"
    },
    {
     "name": "stdout",
     "output_type": "stream",
     "text": [
      "\n",
      " MAE |  7.472289544657329\n",
      "RMSE |  9.921164051956424\n"
     ]
    }
   ],
   "source": [
    "df_baseline = csv_concatenate(os.path.join(DATA_DIR, 'Dataframes','Modelling', 'Baseline'))\n",
    "df_baseline.sort_values(by=['Date','Name']).reset_index(drop=True, inplace=True)\n",
    "df_baseline['FPTS_pred'] = calculate_FPTS(df_baseline)\n",
    "\n",
    "# Season average\n",
    "print(' MAE | ', calculate_MAE(df_baseline['FPTS_pred'], df_baseline['FPTS']))\n",
    "print('RMSE | ', calculate_RMSE(df_baseline['FPTS_pred'], df_baseline['FPTS']))"
   ]
  },
  {
   "cell_type": "code",
   "execution_count": 102,
   "metadata": {
    "ExecuteTime": {
     "end_time": "2019-05-28T14:40:48.934438Z",
     "start_time": "2019-05-28T14:40:47.321385Z"
    }
   },
   "outputs": [
    {
     "data": {
      "application/vnd.jupyter.widget-view+json": {
       "model_id": "909e731e06304ac98c908f3c17e29fdb",
       "version_major": 2,
       "version_minor": 0
      },
      "text/plain": [
       "HBox(children=(IntProgress(value=0, max=5), HTML(value='')))"
      ]
     },
     "metadata": {},
     "output_type": "display_data"
    },
    {
     "name": "stdout",
     "output_type": "stream",
     "text": [
      "\n",
      "[Training Eror]\n",
      " MAE | Mean: 7.56774, SD: 0.00784\n",
      "RMSE | Mean: 9.86556, SD: 0.01144\n",
      "\n",
      "[Validation Error]\n",
      " MAE | Mean: 7.57319, SD: 0.03217\n",
      "RMSE | Mean: 9.85258, SD: 0.04571\n"
     ]
    }
   ],
   "source": [
    "# Linear Regression with basic 9 variables counted for fantasy points\n",
    "df_baseline = df_baseline\n",
    "basic =  ['PTS','3P','AST','TRB','STL','BLK','TOV', 'DD', 'TD']\n",
    "\n",
    "X = df_baseline.loc[:, basic]\n",
    "X = MinMaxScaler().fit_transform(X)\n",
    "y = df_baseline['FPTS'].values.reshape(-1,1).flatten()\n",
    "\n",
    "reg = LinearRegression()\n",
    "cross_val(reg, X, y, nfolds=5, verbose=1)"
   ]
  },
  {
   "cell_type": "markdown",
   "metadata": {
    "ExecuteTime": {
     "end_time": "2018-04-09T13:28:27.367757Z",
     "start_time": "2018-04-09T13:28:27.364972Z"
    }
   },
   "source": [
    "### Weighted Features\n",
    "Choose weighting scheme from linear, square root and quadratic"
   ]
  },
  {
   "cell_type": "code",
   "execution_count": 103,
   "metadata": {
    "ExecuteTime": {
     "end_time": "2019-05-28T14:41:07.235933Z",
     "start_time": "2019-05-28T14:41:07.227741Z"
    }
   },
   "outputs": [],
   "source": [
    "features = ['SG', 'F', 'C', 'PTS', '3P', 'AST', 'TRB', 'STL', 'BLK', 'TOV', 'DD', 'TD', 'MP', 'FT',\n",
    "            'FTA', 'FGA', '3PA', 'DRB', 'ORB', 'USG_perc', 'DRtg', 'ORtg', 'AST_perc', 'DRB_perc',\n",
    "            'ORB_perc', 'BLK_perc', 'TOV_perc', 'STL_perc', 'eFG_perc', 'FG_perc', '3P_perc', 'FT_perc']"
   ]
  },
  {
   "cell_type": "code",
   "execution_count": 104,
   "metadata": {
    "ExecuteTime": {
     "end_time": "2019-05-28T14:41:21.269972Z",
     "start_time": "2019-05-28T14:41:07.895987Z"
    }
   },
   "outputs": [
    {
     "name": "stdout",
     "output_type": "stream",
     "text": [
      "\n",
      "weighting sheme: sqrt\n"
     ]
    },
    {
     "data": {
      "application/vnd.jupyter.widget-view+json": {
       "model_id": "",
       "version_major": 2,
       "version_minor": 0
      },
      "text/plain": [
       "HBox(children=(IntProgress(value=0, max=5), HTML(value='')))"
      ]
     },
     "metadata": {},
     "output_type": "display_data"
    },
    {
     "name": "stdout",
     "output_type": "stream",
     "text": [
      "\n",
      "[Validation Error]\n",
      " MAE | Mean: 7.33355, SD: 0.04243\n",
      "RMSE | Mean: 9.61004, SD: 0.06262\n",
      "\n",
      "weighting sheme: linear\n"
     ]
    },
    {
     "data": {
      "application/vnd.jupyter.widget-view+json": {
       "model_id": "",
       "version_major": 2,
       "version_minor": 0
      },
      "text/plain": [
       "HBox(children=(IntProgress(value=0, max=5), HTML(value='')))"
      ]
     },
     "metadata": {},
     "output_type": "display_data"
    },
    {
     "name": "stdout",
     "output_type": "stream",
     "text": [
      "\n",
      "[Validation Error]\n",
      " MAE | Mean: 7.30567, SD: 0.04419\n",
      "RMSE | Mean: 9.58473, SD: 0.06456\n",
      "\n",
      "weighting sheme: quad\n"
     ]
    },
    {
     "data": {
      "application/vnd.jupyter.widget-view+json": {
       "model_id": "",
       "version_major": 2,
       "version_minor": 0
      },
      "text/plain": [
       "HBox(children=(IntProgress(value=0, max=5), HTML(value='')))"
      ]
     },
     "metadata": {},
     "output_type": "display_data"
    },
    {
     "name": "stdout",
     "output_type": "stream",
     "text": [
      "\n",
      "[Validation Error]\n",
      " MAE | Mean: 7.30426, SD: 0.04765\n",
      "RMSE | Mean: 9.59096, SD: 0.06601\n"
     ]
    }
   ],
   "source": [
    "for weighting in ['sqrt', 'linear', 'quad']:\n",
    "    print(\"\\nweighting sheme:\", weighting)\n",
    "    df_features = csv_concatenate(os.path.join(DATA_DIR, 'Dataframes','Modelling', 'Features', weighting))  \n",
    "    \n",
    "    X = df_features.loc[:, features]\n",
    "    X = MinMaxScaler().fit_transform(X)\n",
    "    y = df_features['FPTS'].values.reshape(-1,1).flatten()\n",
    "\n",
    "    reg = LinearRegression()\n",
    "    cross_val(reg, X, y, nfolds=5, verbose=0)"
   ]
  },
  {
   "cell_type": "markdown",
   "metadata": {},
   "source": [
    "### Feature Selection with Feature Importances"
   ]
  },
  {
   "cell_type": "code",
   "execution_count": 124,
   "metadata": {
    "ExecuteTime": {
     "end_time": "2019-05-28T15:25:32.176634Z",
     "start_time": "2019-05-28T15:25:30.702718Z"
    }
   },
   "outputs": [],
   "source": [
    "weighting = 'linear'\n",
    "df_features = csv_concatenate(os.path.join(DATA_DIR, 'Dataframes','Modelling', 'Features', weighting))  "
   ]
  },
  {
   "cell_type": "code",
   "execution_count": 120,
   "metadata": {
    "ExecuteTime": {
     "end_time": "2019-05-28T14:53:02.477413Z",
     "start_time": "2019-05-28T14:53:02.473156Z"
    }
   },
   "outputs": [],
   "source": [
    "_all = ['Salary', 'Rest', 'Rota_All', 'Rota_Pos', 'Home', 'SG', 'F', 'C', 'Value', 'FPTS_std',\n",
    "        'PTS', '3P', 'AST', 'TRB', 'STL', 'BLK', 'TOV', 'DD', 'TD', 'MP', 'FT', 'FTA', 'FGA', '3PA', 'DRB',\n",
    "        'ORB', 'USG_perc', 'DRtg', 'ORtg', 'AST_perc', 'DRB_perc', 'ORB_perc', 'BLK_perc', 'TOV_perc', \n",
    "        'STL_perc', 'eFG_perc', 'FG_perc', '3P_perc', 'FT_perc']"
   ]
  },
  {
   "cell_type": "code",
   "execution_count": 121,
   "metadata": {
    "ExecuteTime": {
     "end_time": "2019-05-28T14:54:15.458543Z",
     "start_time": "2019-05-28T14:53:03.219232Z"
    }
   },
   "outputs": [
    {
     "data": {
      "image/png": "[encoded data removed]",
      "text/plain": [
       "<Figure size 1080x720 with 1 Axes>"
      ]
     },
     "metadata": {
      "needs_background": "light"
     },
     "output_type": "display_data"
    }
   ],
   "source": [
    "X = df_features.loc[:, _all]\n",
    "X = MinMaxScaler().fit_transform(X)\n",
    "y = df_features['FPTS'].values.reshape(-1,1).flatten()\n",
    "\n",
    "# Takes 2 minutes\n",
    "model = GradientBoostingRegressor()\n",
    "model.fit(X, y)\n",
    "\n",
    "top_features = pd.Series(model.feature_importances_, index = _all).sort_values()\n",
    "top_features.plot(kind = \"barh\", figsize=(15,10) ,title='Top Features')\n",
    "plt.show()"
   ]
  },
  {
   "cell_type": "markdown",
   "metadata": {
    "ExecuteTime": {
     "end_time": "2018-04-09T13:29:55.985615Z",
     "start_time": "2018-04-09T13:29:55.982597Z"
    }
   },
   "source": [
    "### Linear Regression with All / Selected Features"
   ]
  },
  {
   "cell_type": "code",
   "execution_count": 128,
   "metadata": {
    "ExecuteTime": {
     "end_time": "2019-05-28T15:30:19.280869Z",
     "start_time": "2019-05-28T15:30:19.277620Z"
    }
   },
   "outputs": [],
   "source": [
    "omit_lowest = 10\n",
    "_selected = list(top_features[omit_lowest:].index)"
   ]
  },
  {
   "cell_type": "code",
   "execution_count": 129,
   "metadata": {
    "ExecuteTime": {
     "end_time": "2019-05-28T15:30:41.322347Z",
     "start_time": "2019-05-28T15:30:20.175836Z"
    }
   },
   "outputs": [
    {
     "name": "stdout",
     "output_type": "stream",
     "text": [
      "\n",
      "weighting sheme: sqrt\n"
     ]
    },
    {
     "data": {
      "application/vnd.jupyter.widget-view+json": {
       "model_id": "d9b1b5ba8fa142378e22081993ba1a71",
       "version_major": 2,
       "version_minor": 0
      },
      "text/plain": [
       "HBox(children=(IntProgress(value=0, max=5), HTML(value='')))"
      ]
     },
     "metadata": {},
     "output_type": "display_data"
    },
    {
     "name": "stdout",
     "output_type": "stream",
     "text": [
      "\n",
      "[Validation Error]\n",
      " MAE | Mean: 7.28797, SD: 0.04126\n",
      "RMSE | Mean: 9.54591, SD: 0.05979\n"
     ]
    },
    {
     "data": {
      "application/vnd.jupyter.widget-view+json": {
       "model_id": "3a843e41831e4b5185fc0eb7272868c5",
       "version_major": 2,
       "version_minor": 0
      },
      "text/plain": [
       "HBox(children=(IntProgress(value=0, max=5), HTML(value='')))"
      ]
     },
     "metadata": {},
     "output_type": "display_data"
    },
    {
     "name": "stdout",
     "output_type": "stream",
     "text": [
      "\n",
      "[Validation Error]\n",
      " MAE | Mean: 7.29712, SD: 0.0405\n",
      "RMSE | Mean: 9.55567, SD: 0.0598\n",
      "\n",
      "weighting sheme: linear\n"
     ]
    },
    {
     "data": {
      "application/vnd.jupyter.widget-view+json": {
       "model_id": "d1e6d7c09c86407f96efba95bc78b738",
       "version_major": 2,
       "version_minor": 0
      },
      "text/plain": [
       "HBox(children=(IntProgress(value=0, max=5), HTML(value='')))"
      ]
     },
     "metadata": {},
     "output_type": "display_data"
    },
    {
     "name": "stdout",
     "output_type": "stream",
     "text": [
      "\n",
      "[Validation Error]\n",
      " MAE | Mean: 7.25764, SD: 0.04189\n",
      "RMSE | Mean: 9.51487, SD: 0.06149\n"
     ]
    },
    {
     "data": {
      "application/vnd.jupyter.widget-view+json": {
       "model_id": "5fe2b5aaedf74e6b9595c09396491bbf",
       "version_major": 2,
       "version_minor": 0
      },
      "text/plain": [
       "HBox(children=(IntProgress(value=0, max=5), HTML(value='')))"
      ]
     },
     "metadata": {},
     "output_type": "display_data"
    },
    {
     "name": "stdout",
     "output_type": "stream",
     "text": [
      "\n",
      "[Validation Error]\n",
      " MAE | Mean: 7.26727, SD: 0.04137\n",
      "RMSE | Mean: 9.5256, SD: 0.06177\n",
      "\n",
      "weighting sheme: quad\n"
     ]
    },
    {
     "data": {
      "application/vnd.jupyter.widget-view+json": {
       "model_id": "7ade1c70832c4fcca0ae05a3b10c1169",
       "version_major": 2,
       "version_minor": 0
      },
      "text/plain": [
       "HBox(children=(IntProgress(value=0, max=5), HTML(value='')))"
      ]
     },
     "metadata": {},
     "output_type": "display_data"
    },
    {
     "name": "stdout",
     "output_type": "stream",
     "text": [
      "\n",
      "[Validation Error]\n",
      " MAE | Mean: 7.2352, SD: 0.04257\n",
      "RMSE | Mean: 9.49186, SD: 0.06223\n"
     ]
    },
    {
     "data": {
      "application/vnd.jupyter.widget-view+json": {
       "model_id": "ccc13c7aef874a199430c209aaf78360",
       "version_major": 2,
       "version_minor": 0
      },
      "text/plain": [
       "HBox(children=(IntProgress(value=0, max=5), HTML(value='')))"
      ]
     },
     "metadata": {},
     "output_type": "display_data"
    },
    {
     "name": "stdout",
     "output_type": "stream",
     "text": [
      "\n",
      "[Validation Error]\n",
      " MAE | Mean: 7.24544, SD: 0.04222\n",
      "RMSE | Mean: 9.50363, SD: 0.06278\n"
     ]
    }
   ],
   "source": [
    "for weighting in ['sqrt', 'linear', 'quad']:\n",
    "    print(\"\\nweighting sheme:\", weighting)\n",
    "    df_features = csv_concatenate(os.path.join(DATA_DIR, 'Dataframes','Modelling', 'Features', weighting))\n",
    "    \n",
    "    for feature_type in [_all, _selected]:\n",
    "        X = df_features.loc[:, feature_type]\n",
    "        X = MinMaxScaler().fit_transform(X)\n",
    "        y = df_features['FPTS'].values.reshape(-1,1).flatten()\n",
    "\n",
    "        reg = LinearRegression()\n",
    "\n",
    "        reg.fit(X, y)\n",
    "        cross_val(reg, X, y, verbose=0)"
   ]
  },
  {
   "cell_type": "markdown",
   "metadata": {},
   "source": [
    "### Season Average Baseline\n",
    "- MAE - 7.47229\n",
    "- RMSE - 9.92116\n",
    "\n",
    "### Linear Regression with Additional Features and Quadratic Weighting\n",
    "- MAE - Mean: 7.24544, SD: 0.04222\n",
    "- RMSE - Mean: 9.50363, SD: 0.06278\n"
   ]
  }
 ],
 "metadata": {
  "kernelspec": {
   "display_name": "Python 3",
   "language": "python",
   "name": "python3"
  },
  "language_info": {
   "codemirror_mode": {
    "name": "ipython",
    "version": 3
   },
   "file_extension": ".py",
   "mimetype": "text/x-python",
   "name": "python",
   "nbconvert_exporter": "python",
   "pygments_lexer": "ipython3",
   "version": "3.7.1"
  },
  "varInspector": {
   "cols": {
    "lenName": 16,
    "lenType": 16,
    "lenVar": 40
   },
   "kernels_config": {
    "python": {
     "delete_cmd_postfix": "",
     "delete_cmd_prefix": "del ",
     "library": "var_list.py",
     "varRefreshCmd": "print(var_dic_list())"
    },
    "r": {
     "delete_cmd_postfix": ") ",
     "delete_cmd_prefix": "rm(",
     "library": "var_list.r",
     "varRefreshCmd": "cat(var_dic_list()) "
    }
   },
   "types_to_exclude": [
    "module",
    "function",
    "builtin_function_or_method",
    "instance",
    "_Feature"
   ],
   "window_display": false
  }
 },
 "nbformat": 4,
 "nbformat_minor": 2
}
