{
 "cells": [
  {
   "cell_type": "markdown",
   "metadata": {
    "ExecuteTime": {
     "end_time": "2018-05-20T12:28:32.643440Z",
     "start_time": "2018-05-20T12:28:32.606527Z"
    }
   },
   "source": [
    "### LightGBM and Bayesian Optimization"
   ]
  },
  {
   "cell_type": "code",
   "execution_count": 1,
   "metadata": {
    "ExecuteTime": {
     "end_time": "2019-05-28T23:13:38.345356Z",
     "start_time": "2019-05-28T23:13:37.684770Z"
    }
   },
   "outputs": [],
   "source": [
    "import os\n",
    "import glob\n",
    "import warnings\n",
    "import numpy as np\n",
    "import pandas as pd\n",
    "\n",
    "from datetime import datetime\n",
    "from tqdm import tqdm_notebook as tqdm\n",
    "from sklearn.model_selection import train_test_split\n",
    "\n",
    "import lightgbm as lgb\n",
    "from bayes_opt import BayesianOptimization\n",
    "from bayes_opt.observer import JSONLogger\n",
    "from bayes_opt.event import Events\n",
    "\n",
    "from constants import DATA_DIR\n",
    "from utils import csv_concatenate, calculate_FPTS, calculate_MAE, calculate_RMSE, cross_val, load_full_dataset"
   ]
  },
  {
   "cell_type": "code",
   "execution_count": 2,
   "metadata": {
    "ExecuteTime": {
     "end_time": "2019-05-28T23:13:38.677721Z",
     "start_time": "2019-05-28T23:13:38.671457Z"
    }
   },
   "outputs": [],
   "source": [
    "np.random.seed(23)\n",
    "warnings.filterwarnings(\"ignore\")"
   ]
  },
  {
   "cell_type": "markdown",
   "metadata": {},
   "source": [
    "### LightGBM and Hyperparameter Tuning with Bayesian Optimization"
   ]
  },
  {
   "cell_type": "code",
   "execution_count": 3,
   "metadata": {
    "ExecuteTime": {
     "end_time": "2019-05-28T23:13:39.564022Z",
     "start_time": "2019-05-28T23:13:39.544996Z"
    }
   },
   "outputs": [],
   "source": [
    "def bayes_parameter_opt_lgb(X, y, init_round, opt_round, n_folds, random_seed):\n",
    "    train_data = lgb.Dataset(data=X, label=y)\n",
    "\n",
    "    def lgb_eval(feature_fraction, bagging_fraction, lambda_l1, lambda_l2, max_depth, num_leaves, \n",
    "                 min_split_gain, min_child_weight, learning_rate, n_estimators):\n",
    "        params = {\n",
    "            \"objective\" : \"regression\",\n",
    "            \"max_bin\": 255,\n",
    "            \"bagging_freq\": 1,\n",
    "            \"min_child_samples\": 20,\n",
    "            \"boosting\": \"gbdt\",\n",
    "            \"verbosity\": 1,\n",
    "            \"early_stopping_round\": 200,\n",
    "            \"metric\" : 'rmse'\n",
    "        }\n",
    "        \n",
    "        params['feature_fraction'] = max(min(feature_fraction, 1), 0)\n",
    "        params['bagging_fraction'] = max(min(bagging_fraction, 1), 0)\n",
    "        params['lambda_l1'] = max(lambda_l1, 0)\n",
    "        params['lambda_l2'] = max(lambda_l2, 0)\n",
    "        params['max_depth'] = int(round(max_depth))\n",
    "        params['num_leaves'] = int(round(num_leaves))\n",
    "        params['min_split_gain'] = min_split_gain\n",
    "        params['min_child_weight'] = min_child_weight\n",
    "        params['learning_rate'] = learning_rate\n",
    "        params['n_estimators'] = int(round(n_estimators))\n",
    "        \n",
    "        cv_result = lgb.cv(params, train_data, nfold=n_folds, seed=random_seed,\n",
    "                           verbose_eval=None, stratified=False)\n",
    "        \n",
    "        # Print RMSE for each round of lgbBO for rough tracking of the optimization process\n",
    "        min_index = cv_result['rmse-mean'].index(min(cv_result['rmse-mean']))\n",
    "        print(\"RMSE: {} +- {}\".format(round(cv_result['rmse-mean'][min_index],5),\n",
    "                                      round(cv_result['rmse-stdv'][min_index],5)))\n",
    "        \n",
    "        return (-1.0 * np.array(cv_result['rmse-mean'])).max()\n",
    "    \n",
    "    lgbBO = BayesianOptimization(lgb_eval, {'feature_fraction': (0.6, 0.9),\n",
    "                                            'bagging_fraction': (0.8, 1),\n",
    "                                            'lambda_l1': (0, 3),\n",
    "                                            'lambda_l2': (0, 3),\n",
    "                                            'max_depth': (5, 100),\n",
    "                                            'num_leaves' : (10, 300),\n",
    "                                            'min_split_gain': (0.001, 0.1),\n",
    "                                            'min_child_weight': (0, 1),\n",
    "                                            'learning_rate': (0.001, 0.1),\n",
    "                                            'n_estimators': (50, 5000)\n",
    "                                           },\n",
    "                                 random_state=random_seed)\n",
    "    \n",
    "    # Save progress for each round into a JSON file which can be monitored on a editor (i.e. VSCode)\n",
    "    # This somehow suppresses the terminal output (https://github.com/fmfn/BayesianOptimization/issues/167)\n",
    "    logger = JSONLogger(path=DATA_DIR+\"/Models/LightGBM/Params/{}.json\".format(pd.Timestamp.now().strftime('%Y%m%d-%Hh%Mm')))\n",
    "    lgbBO.subscribe(Events.OPTMIZATION_STEP, logger)\n",
    "    \n",
    "    lgbBO.maximize(init_points=init_round, n_iter=opt_round, acq='ei')\n",
    "    \n",
    "    return lgbBO.max['params']"
   ]
  },
  {
   "cell_type": "code",
   "execution_count": 4,
   "metadata": {
    "ExecuteTime": {
     "end_time": "2019-05-28T23:13:43.923929Z",
     "start_time": "2019-05-28T23:13:42.258753Z"
    }
   },
   "outputs": [],
   "source": [
    "X, y = load_full_dataset('quad')"
   ]
  },
  {
   "cell_type": "code",
   "execution_count": null,
   "metadata": {
    "ExecuteTime": {
     "start_time": "2019-05-28T23:13:45.195Z"
    },
    "code_folding": [],
    "scrolled": false
   },
   "outputs": [
    {
     "name": "stdout",
     "output_type": "stream",
     "text": [
      "RMSE: 9.08604 +- 0.04703\n",
      "RMSE: 9.09618 +- 0.04531\n",
      "RMSE: 9.10782 +- 0.04711\n",
      "RMSE: 9.08217 +- 0.0462\n",
      "RMSE: 9.09302 +- 0.04852\n",
      "RMSE: 9.08347 +- 0.04771\n",
      "RMSE: 9.09529 +- 0.04418\n",
      "RMSE: 9.08705 +- 0.04761\n",
      "RMSE: 9.09951 +- 0.04444\n",
      "RMSE: 9.09278 +- 0.04607\n"
     ]
    }
   ],
   "source": [
    "# Check DATA_DIR/Logs/{}.json for tuned parameters while optimising\n",
    "# Takes ~ 2 hrs for 50 rounds (20 init + 30 opt) on CPU\n",
    "opt_params = bayes_parameter_opt_lgb(X, y,\n",
    "                                     init_round=20,\n",
    "                                     opt_round=30,\n",
    "                                     n_folds=5,\n",
    "                                     random_seed=23)"
   ]
  },
  {
   "cell_type": "code",
   "execution_count": null,
   "metadata": {
    "ExecuteTime": {
     "end_time": "2019-05-28T19:08:08.811263Z",
     "start_time": "2019-05-28T19:08:08.778548Z"
    }
   },
   "outputs": [],
   "source": [
    "# Load the newest file in the logs directory, otherwise set manually\n",
    "path_params = sorted(glob.glob(DATA_DIR+'/Logs/*.json'))[-1]\n",
    "df_params = pd.read_json(path_params, lines=True)\n",
    "df_params = df_params.loc[:,['target', 'params']].sort_values(by='target', ascending=False).reset_index()"
   ]
  },
  {
   "cell_type": "code",
   "execution_count": null,
   "metadata": {
    "ExecuteTime": {
     "end_time": "2019-05-27T13:56:42.646443Z",
     "start_time": "2019-05-27T13:56:42.629956Z"
    }
   },
   "outputs": [],
   "source": [
    "df_params.head(5)"
   ]
  },
  {
   "cell_type": "code",
   "execution_count": null,
   "metadata": {
    "ExecuteTime": {
     "end_time": "2019-05-27T13:56:44.949376Z",
     "start_time": "2019-05-27T13:56:44.946277Z"
    }
   },
   "outputs": [],
   "source": [
    "if opt_params = None:\n",
    "    opt_params = df_params.loc[0, 'params']"
   ]
  },
  {
   "cell_type": "code",
   "execution_count": null,
   "metadata": {
    "ExecuteTime": {
     "end_time": "2019-05-27T13:56:45.674791Z",
     "start_time": "2019-05-27T13:56:45.669395Z"
    }
   },
   "outputs": [],
   "source": [
    "for key in opt_params.keys():\n",
    "    if key in ['max_depth', 'num_leaves', 'n_estimators']:\n",
    "        opt_params[key] = int(round(opt_params[key]))"
   ]
  },
  {
   "cell_type": "code",
   "execution_count": null,
   "metadata": {
    "ExecuteTime": {
     "end_time": "2019-05-27T14:02:37.511636Z",
     "start_time": "2019-05-27T13:57:03.030137Z"
    }
   },
   "outputs": [],
   "source": [
    "err_buf = []\n",
    "n_iters = 5\n",
    "\n",
    "for i in tqdm(range(n_iters)):\n",
    "    X_train, X_valid, y_train, y_valid = train_test_split(X, y, test_size=0.2, random_state=i)\n",
    "    d_train = lgb.Dataset(X_train, label=y_train)\n",
    "    d_valid = lgb.Dataset(X_valid, label=y_valid)\n",
    "    watchlist = [d_valid]\n",
    "    \n",
    "    model = lgb.train(opt_params, d_train, watchlist, verbose_eval=1)\n",
    "\n",
    "    preds = model.predict(X_valid)\n",
    "    err = calculate_RMSE(preds, y_valid)    \n",
    "    err_buf.append(err)\n",
    "    print('RMSE: ' + str(err))\n",
    "    \n",
    "print('\\nMean RMSE: ' + str(np.mean(err_buf)) + ' +/- ' + str(np.std(err_buf)))"
   ]
  },
  {
   "cell_type": "code",
   "execution_count": null,
   "metadata": {
    "ExecuteTime": {
     "end_time": "2019-05-27T14:06:24.670956Z",
     "start_time": "2019-05-27T14:02:43.039353Z"
    }
   },
   "outputs": [],
   "source": [
    "import xgboost as xgb\n",
    "\n",
    "opt_params_xgb = {'max_depth':6, 'n_estimators':250, 'min_child_weight':4, 'colsample_bytree':0.6, \n",
    "                  'colsample_bylevel':0.7, 'subsample':1.0, 'gamma':0.0, 'learning_rate':0.026944654231987667}\n",
    "\n",
    "reg = xgb.XGBRegressor(**opt_params_xgb)\n",
    "cross_val(reg, X, y, show_train=True)"
   ]
  }
 ],
 "metadata": {
  "kernelspec": {
   "display_name": "Python 3",
   "language": "python",
   "name": "python3"
  },
  "language_info": {
   "codemirror_mode": {
    "name": "ipython",
    "version": 3
   },
   "file_extension": ".py",
   "mimetype": "text/x-python",
   "name": "python",
   "nbconvert_exporter": "python",
   "pygments_lexer": "ipython3",
   "version": "3.7.1"
  },
  "varInspector": {
   "cols": {
    "lenName": 16,
    "lenType": 16,
    "lenVar": 40
   },
   "kernels_config": {
    "python": {
     "delete_cmd_postfix": "",
     "delete_cmd_prefix": "del ",
     "library": "var_list.py",
     "varRefreshCmd": "print(var_dic_list())"
    },
    "r": {
     "delete_cmd_postfix": ") ",
     "delete_cmd_prefix": "rm(",
     "library": "var_list.r",
     "varRefreshCmd": "cat(var_dic_list()) "
    }
   },
   "types_to_exclude": [
    "module",
    "function",
    "builtin_function_or_method",
    "instance",
    "_Feature"
   ],
   "window_display": false
  }
 },
 "nbformat": 4,
 "nbformat_minor": 2
}
