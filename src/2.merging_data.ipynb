{
 "cells": [
  {
   "cell_type": "markdown",
   "metadata": {
    "ExecuteTime": {
     "end_time": "2018-04-01T13:44:04.014284Z",
     "start_time": "2018-04-01T13:44:03.293233Z"
    },
    "scrolled": false
   },
   "source": [
    "## Data Preprocessing\n",
    "\n",
    "This notebook first generates standardized names from fantasy salary information by querying Basketball-Reference.com, and then merge two datasets while adding fantasy stats based on DraftKings rules. Position information is also modified and added from salary datasets."
   ]
  },
  {
   "cell_type": "code",
   "execution_count": 3,
   "metadata": {
    "ExecuteTime": {
     "end_time": "2019-05-25T18:35:59.638903Z",
     "start_time": "2019-05-25T18:35:59.110939Z"
    }
   },
   "outputs": [],
   "source": [
    "import os\n",
    "import glob\n",
    "import time\n",
    "import pickle\n",
    "import numpy as np\n",
    "import pandas as pd\n",
    "\n",
    "from tqdm import tqdm_notebook as tqdm\n",
    "from datetime import datetime\n",
    "from urllib.request import urlopen\n",
    "from bs4 import BeautifulSoup\n",
    "\n",
    "from utils import csv_concatenate\n",
    "from constants import DATA_DIR, SECONDS_SLEEP, DF_VARIABLES"
   ]
  },
  {
   "cell_type": "code",
   "execution_count": 4,
   "metadata": {
    "ExecuteTime": {
     "end_time": "2019-05-25T18:36:00.079798Z",
     "start_time": "2019-05-25T18:36:00.072409Z"
    }
   },
   "outputs": [],
   "source": [
    "pd.set_option(\"display.max_columns\", 40)"
   ]
  },
  {
   "cell_type": "markdown",
   "metadata": {},
   "source": [
    "### Add Fantasy Stats from Boxscores"
   ]
  },
  {
   "cell_type": "code",
   "execution_count": 5,
   "metadata": {
    "ExecuteTime": {
     "end_time": "2019-05-25T18:36:01.237598Z",
     "start_time": "2019-05-25T18:36:01.225377Z"
    },
    "scrolled": false
   },
   "outputs": [],
   "source": [
    "# Calculate fantasy points according to DraftKigs and return a list of FPTS given a dataframe\n",
    "# Scoring rules based on https://www.draftkings.co.uk/help/rules/4\n",
    "def calculate_FPTS(df):\n",
    "    multipliers = {'PTS':1, '3P': 0.5, 'TRB':1.25, 'AST':1.5, 'STL':2, 'BLK':2, 'TOV':-0.5}\n",
    "    fpts_list = []\n",
    "    \n",
    "    for i in tqdm(range(df.shape[0])):\n",
    "        fpts = 0\n",
    "        doubles_count = 0\n",
    "        for stat, multiplier in multipliers.items():\n",
    "            if stat in ['PTS', 'TRB', 'AST', 'STL', 'BLK']:\n",
    "                if df.loc[i, stat] >= 10:\n",
    "                    doubles_count += 1\n",
    "            fpts += df.loc[i, stat]*multiplier\n",
    "        \n",
    "        # Additional 1.5 pts for double double\n",
    "        if doubles_count >= 2:\n",
    "            fpts += 1.5\n",
    "        \n",
    "        # Additional 3 pts for triple double\n",
    "        if doubles_count >= 3:\n",
    "            fpts += 3\n",
    "            \n",
    "        fpts_list.append(fpts) \n",
    "        \n",
    "    return fpts_list"
   ]
  },
  {
   "cell_type": "code",
   "execution_count": 6,
   "metadata": {
    "ExecuteTime": {
     "end_time": "2019-05-25T18:36:02.355717Z",
     "start_time": "2019-05-25T18:36:02.345357Z"
    }
   },
   "outputs": [],
   "source": [
    "# Add additional columns for double double (DD) and triple double (TD)\n",
    "# Double digit in two or three of points, rebounds, assists, steals and blocks\n",
    "def add_doubles(df):\n",
    "    dd = [0 for i in range(df.shape[0])]\n",
    "    td = [0 for i in range(df.shape[0])]\n",
    "    \n",
    "    for i in tqdm(range(df.shape[0])):\n",
    "        doubles_count = 0\n",
    "        check_doubles = ['PTS','TRB', 'AST', 'STL', 'BLK']\n",
    "        \n",
    "        for stat in check_doubles:\n",
    "            if df.loc[i, stat] >= 10:\n",
    "                doubles_count += 1\n",
    "        \n",
    "        if doubles_count >= 2:\n",
    "            dd[i] = 1\n",
    "        if doubles_count >= 3:\n",
    "            td[i] = 1\n",
    "   \n",
    "    df['DD'] = dd\n",
    "    df['TD'] = td"
   ]
  },
  {
   "cell_type": "markdown",
   "metadata": {},
   "source": [
    "### Add Position Information on Salary Data"
   ]
  },
  {
   "cell_type": "code",
   "execution_count": 7,
   "metadata": {
    "ExecuteTime": {
     "end_time": "2019-05-25T18:36:03.919145Z",
     "start_time": "2019-05-25T18:36:03.913064Z"
    }
   },
   "outputs": [],
   "source": [
    "def generate_name_pos(df):\n",
    "    name_pos = {}\n",
    "    \n",
    "    for name in set(df['Name']):\n",
    "        pos = df.loc[(df['Name']==name) & (df['Pos']!=0), 'Pos'].mode()\n",
    "        if len(pos) != 0:\n",
    "            name_pos[name] = pos[0]\n",
    "    \n",
    "    return name_pos"
   ]
  },
  {
   "cell_type": "code",
   "execution_count": 64,
   "metadata": {
    "ExecuteTime": {
     "end_time": "2019-05-25T18:52:21.046410Z",
     "start_time": "2019-05-25T18:52:21.037923Z"
    }
   },
   "outputs": [],
   "source": [
    "def fill_positions(df):\n",
    "    name_pos = generate_name_pos(df)\n",
    "    \n",
    "    for i in tqdm(range(df.shape[0])):\n",
    "        if df.loc[i, 'Pos'] == 0:\n",
    "            name = df.loc[i, 'Name']\n",
    "            if name in name_pos.keys():\n",
    "                df.loc[i, 'Pos'] = name_pos[name]\n",
    "                "
   ]
  },
  {
   "cell_type": "code",
   "execution_count": 70,
   "metadata": {
    "ExecuteTime": {
     "end_time": "2019-05-25T18:58:45.002437Z",
     "start_time": "2019-05-25T18:58:44.992236Z"
    }
   },
   "outputs": [],
   "source": [
    "def add_binary_positions(df):\n",
    "    zeros = [0 for i in range(df.shape[0])]\n",
    "    PG, SG, F, C = zeros.copy(), zeros.copy(), zeros.copy(), zeros.copy()\n",
    "        \n",
    "    for i in range(df.shape[0]):\n",
    "        if 'PG' in df.loc[i,'Pos']:\n",
    "            PG[i] = 1\n",
    "            \n",
    "        elif 'SG' in df.loc[i,'Pos']:\n",
    "            SG[i] = 1\n",
    "\n",
    "        elif 'C' in df.loc[i,'Pos']:\n",
    "            C[i] = 1\n",
    "            \n",
    "        else:\n",
    "            F[i] = 1\n",
    "            \n",
    "    df['PG'] = PG\n",
    "    df['SG'] = SG\n",
    "    df['F'] = F\n",
    "    df['C'] = C"
   ]
  },
  {
   "cell_type": "markdown",
   "metadata": {
    "ExecuteTime": {
     "end_time": "2018-03-13T16:06:50.196829Z",
     "start_time": "2018-03-13T16:06:50.193649Z"
    },
    "collapsed": true
   },
   "source": [
    "### Name Standardization "
   ]
  },
  {
   "cell_type": "code",
   "execution_count": 71,
   "metadata": {
    "ExecuteTime": {
     "end_time": "2019-05-25T18:58:47.223228Z",
     "start_time": "2019-05-25T18:58:47.190908Z"
    },
    "code_folding": []
   },
   "outputs": [],
   "source": [
    "class NameStandardizer():\n",
    "    # Use the search function on Basketball-Reference.com to generate standard names\n",
    "    def parse_name(self, term, active_years):\n",
    "        search_url = 'https://www.basketball-reference.com/search/search.fcgi?hint=&search={term}&pid=&idx='\n",
    "        name_url = search_url.format(term=term.replace(' ','+'))\n",
    "        soup = BeautifulSoup(urlopen(name_url),'lxml')\n",
    "\n",
    "        #Check if there is ambiguity in the name\n",
    "        if soup.find('h1').get_text() != 'Search Results':\n",
    "            return soup.find('h1').get_text()\n",
    "\n",
    "\n",
    "        elif (soup.find('div', id='players', class_='current') == None):\n",
    "            if (len(term.split(' ')) > 2) or ('.' in term):\n",
    "                #Parse again without periods and with first two names\n",
    "                new_term = ' '.join(term.replace('.','').split(' ')[:2])\n",
    "                return self.parse_name(new_term, active_years)\n",
    "            else:\n",
    "                return np.nan\n",
    "\n",
    "        else:        \n",
    "            items = soup.find('div', id='players', class_='current').find_all('div', class_='search-item-name')\n",
    "            candidates = []\n",
    "\n",
    "            for item in items:\n",
    "                name = item.find('a').get_text()\n",
    "\n",
    "                if '(' not in name:\n",
    "                    candidates.append(name)\n",
    "\n",
    "                else:\n",
    "                    career = name[name.find('(')+1:name.find(')')].split('-')\n",
    "                    if len(career) == 1:\n",
    "                        if int(career[0]) in active_years:\n",
    "                            candidates.append(name[:name.find(' (')])\n",
    "                    else:\n",
    "                        start = int(career[0])\n",
    "                        end = int(career[1])\n",
    "\n",
    "                        for year in active_years: \n",
    "                            if year in range(start, end+1):\n",
    "                                candidates.append(name[:name.find(' (')])\n",
    "                                break\n",
    "\n",
    "            if len(candidates) != 0:\n",
    "                for candidate in candidates:\n",
    "                    if term in candidate:\n",
    "                        return candidate\n",
    "                return candidates[0]\n",
    "\n",
    "            else:\n",
    "                return np.nan\n",
    "            \n",
    "            \n",
    "    def generate_standard_names(self, df, active_years):\n",
    "        names = list(set(df['Name']))\n",
    "        standard_names = []\n",
    "        errors, confusions = [], []\n",
    "        \n",
    "        for i, name in enumerate(tqdm(names)):\n",
    "            standard_name = self.parse_name(name, active_years)\n",
    "            \n",
    "            if name != standard_name:\n",
    "                print(\"{} From {} To {}\".format(i, name, standard_name))\n",
    "                \n",
    "                if standard_name == np.nan:\n",
    "                    errors.append(name)\n",
    "\n",
    "                elif ('G-League Stats' in standard_name) or ('International Stats' in standard_name):\n",
    "                    confusions.append(standard_name)\n",
    "                    \n",
    "                else:\n",
    "                    standard_names.append(standard_name)\n",
    "            else:\n",
    "                standard_names.append(standard_name)\n",
    "            \n",
    "            time.sleep(SECONDS_SLEEP)\n",
    "\n",
    "        return (standard_names, errors, confusions) \n",
    "    \n",
    "    \n",
    "    def standardize_names(self, df, standard_names, active_years):\n",
    "        names = list(set(df['Name']))\n",
    "\n",
    "        df = df.dropna().reset_index(drop=True)\n",
    "\n",
    "        diff = [name for name in names if name not in standard_names]\n",
    "        print('{} names are standardized ...'.format(len(diff)))\n",
    "\n",
    "        names_conversion = {}\n",
    "\n",
    "        for name in tqdm(names):\n",
    "            if name in diff:\n",
    "                names_conversion[name] = self.parse_name(name, active_years)\n",
    "                time.sleep(SECONDS_SLEEP)\n",
    "\n",
    "        for i in range(df.shape[0]):\n",
    "            name = df.loc[i,'Name']\n",
    "            if name in names_conversion.keys():\n",
    "                df.loc[i,'Name'] = names_conversion[name]\n"
   ]
  },
  {
   "cell_type": "markdown",
   "metadata": {
    "ExecuteTime": {
     "end_time": "2019-05-25T16:28:09.961055Z",
     "start_time": "2019-05-25T16:28:09.956201Z"
    }
   },
   "source": [
    "### Generate/Load Standardized Names"
   ]
  },
  {
   "cell_type": "code",
   "execution_count": 72,
   "metadata": {
    "ExecuteTime": {
     "end_time": "2019-05-25T18:58:48.850829Z",
     "start_time": "2019-05-25T18:58:48.840232Z"
    }
   },
   "outputs": [],
   "source": [
    "# Check if standard names are already generated\n",
    "if os.path.exists(os.path.join(DATA_DIR, 'Names', 'standard_names.npy')):\n",
    "    with open(os.path.join(DATA_DIR, 'Names', 'standard_names.npy'), \"rb\") as fp:\n",
    "        standard_names = pickle.load(fp)\n",
    "    \n",
    "    with open(os.path.join(DATA_DIR, 'Names', 'confusions.npy'), \"rb\") as fp:\n",
    "        confusions = pickle.load(fp)\n",
    "    \n",
    "else:\n",
    "    # Generate standard names for all players from names shown in salary information from RotoGuru\n",
    "    df_salary = csv_concatenate(os.path.join(DATA_DIR, 'DKSalary'), nested=True)\n",
    "\n",
    "    # Specify current years to avoid duplication across eras (from 2014 to 2019)\n",
    "    active_years = [2014+i for i in range(6)]\n",
    "\n",
    "    # Takes about 30 mins\n",
    "    standardizer = NameStandardizer()\n",
    "    standard_names, errors, confusions = standardizer.generate_standard_names(df_salary, active_years)\n",
    "\n",
    "    # Create a file containing standardized names\n",
    "    with open(os.path.join(DATA_DIR, 'Names', 'standard_names.npy'), \"wb\") as fp:\n",
    "        pickle.dump(standard_names, fp)\n",
    "\n",
    "    with open(os.path.join(DATA_DIR, 'Names', 'errors.npy'), \"wb\") as fp:\n",
    "        pickle.dump(errors, fp)\n",
    "\n",
    "    with open(os.path.join(DATA_DIR, 'Names', 'confusions.npy'), \"wb\") as fp:\n",
    "        pickle.dump(confusions, fp)"
   ]
  },
  {
   "cell_type": "code",
   "execution_count": 73,
   "metadata": {
    "ExecuteTime": {
     "end_time": "2019-05-25T18:58:50.176893Z",
     "start_time": "2019-05-25T18:58:50.172687Z"
    }
   },
   "outputs": [
    {
     "name": "stdout",
     "output_type": "stream",
     "text": [
      "['Walter Lemon Jr. International Stats', 'Derrick Walton Jr. G-League Stats', 'C.J. McCollum G-League Stats', 'Sheldon McClellan G-League Stats']\n"
     ]
    }
   ],
   "source": [
    "# Handle edge cases manually as some name searchs return only G-league stats but not NBA records\n",
    "# Cannot be differentiated from players who only played in the G-League at the moment\n",
    "print(confusions)\n",
    "standard_names = standard_names + ['Derrick Walton', 'CJ McCollum', 'Sheldon Mac']"
   ]
  },
  {
   "cell_type": "markdown",
   "metadata": {},
   "source": [
    "### Standardize Names and Merge Datasets"
   ]
  },
  {
   "cell_type": "code",
   "execution_count": 74,
   "metadata": {
    "ExecuteTime": {
     "end_time": "2019-05-25T19:09:28.810805Z",
     "start_time": "2019-05-25T18:58:51.814121Z"
    },
    "scrolled": false
   },
   "outputs": [
    {
     "name": "stdout",
     "output_type": "stream",
     "text": [
      "Processing the 2014-15 season ...\n"
     ]
    },
    {
     "data": {
      "application/vnd.jupyter.widget-view+json": {
       "model_id": "87e36a322ff748bca95d175bad1325c0",
       "version_major": 2,
       "version_minor": 0
      },
      "text/plain": [
       "HBox(children=(IntProgress(value=0, max=170), HTML(value='')))"
      ]
     },
     "metadata": {},
     "output_type": "display_data"
    },
    {
     "name": "stdout",
     "output_type": "stream",
     "text": [
      "13 names are standardized ...\n"
     ]
    },
    {
     "data": {
      "application/vnd.jupyter.widget-view+json": {
       "model_id": "2e6353b2165742128eec0294a74d0e68",
       "version_major": 2,
       "version_minor": 0
      },
      "text/plain": [
       "HBox(children=(IntProgress(value=0, max=492), HTML(value='')))"
      ]
     },
     "metadata": {},
     "output_type": "display_data"
    },
    {
     "data": {
      "application/vnd.jupyter.widget-view+json": {
       "model_id": "9e7302f513414de3824a06afc8458a99",
       "version_major": 2,
       "version_minor": 0
      },
      "text/plain": [
       "HBox(children=(IntProgress(value=0, max=25993), HTML(value='')))"
      ]
     },
     "metadata": {},
     "output_type": "display_data"
    },
    {
     "data": {
      "application/vnd.jupyter.widget-view+json": {
       "model_id": "87ec649385414b74b1792d5d5121b24c",
       "version_major": 2,
       "version_minor": 0
      },
      "text/plain": [
       "HBox(children=(IntProgress(value=0, max=2512), HTML(value='')))"
      ]
     },
     "metadata": {},
     "output_type": "display_data"
    },
    {
     "data": {
      "application/vnd.jupyter.widget-view+json": {
       "model_id": "349375a2cb9f4002ac097db3f402cf78",
       "version_major": 2,
       "version_minor": 0
      },
      "text/plain": [
       "HBox(children=(IntProgress(value=0, max=32082), HTML(value='')))"
      ]
     },
     "metadata": {},
     "output_type": "display_data"
    },
    {
     "data": {
      "application/vnd.jupyter.widget-view+json": {
       "model_id": "865144b0102c4a7297824c3b2492d340",
       "version_major": 2,
       "version_minor": 0
      },
      "text/plain": [
       "HBox(children=(IntProgress(value=0, max=32082), HTML(value='')))"
      ]
     },
     "metadata": {},
     "output_type": "display_data"
    },
    {
     "name": "stdout",
     "output_type": "stream",
     "text": [
      "13 names are standardized ...\n"
     ]
    },
    {
     "data": {
      "application/vnd.jupyter.widget-view+json": {
       "model_id": "ff4192111d624c21b7847876b41f732a",
       "version_major": 2,
       "version_minor": 0
      },
      "text/plain": [
       "HBox(children=(IntProgress(value=0, max=500), HTML(value='')))"
      ]
     },
     "metadata": {},
     "output_type": "display_data"
    },
    {
     "name": "stdout",
     "output_type": "stream",
     "text": [
      "Processing the 2015-16 season ...\n"
     ]
    },
    {
     "data": {
      "application/vnd.jupyter.widget-view+json": {
       "model_id": "4ff16d16c1084545a55dfb45bc7a9637",
       "version_major": 2,
       "version_minor": 0
      },
      "text/plain": [
       "HBox(children=(IntProgress(value=0, max=161), HTML(value='')))"
      ]
     },
     "metadata": {},
     "output_type": "display_data"
    },
    {
     "name": "stdout",
     "output_type": "stream",
     "text": [
      "13 names are standardized ...\n"
     ]
    },
    {
     "data": {
      "application/vnd.jupyter.widget-view+json": {
       "model_id": "27b17898e78741589afa1127778603a2",
       "version_major": 2,
       "version_minor": 0
      },
      "text/plain": [
       "HBox(children=(IntProgress(value=0, max=482), HTML(value='')))"
      ]
     },
     "metadata": {},
     "output_type": "display_data"
    },
    {
     "data": {
      "application/vnd.jupyter.widget-view+json": {
       "model_id": "b72c894c585249f4a0d7b4438aea27d1",
       "version_major": 2,
       "version_minor": 0
      },
      "text/plain": [
       "HBox(children=(IntProgress(value=0, max=36322), HTML(value='')))"
      ]
     },
     "metadata": {},
     "output_type": "display_data"
    },
    {
     "data": {
      "application/vnd.jupyter.widget-view+json": {
       "model_id": "b207750ae3c142b58daded53d10ab771",
       "version_major": 2,
       "version_minor": 0
      },
      "text/plain": [
       "HBox(children=(IntProgress(value=0, max=2460), HTML(value='')))"
      ]
     },
     "metadata": {},
     "output_type": "display_data"
    },
    {
     "data": {
      "application/vnd.jupyter.widget-view+json": {
       "model_id": "fb77997df5fb498193658650806f255d",
       "version_major": 2,
       "version_minor": 0
      },
      "text/plain": [
       "HBox(children=(IntProgress(value=0, max=31436), HTML(value='')))"
      ]
     },
     "metadata": {},
     "output_type": "display_data"
    },
    {
     "data": {
      "application/vnd.jupyter.widget-view+json": {
       "model_id": "2ab796cc28d243849dc18a5afb7ab8c9",
       "version_major": 2,
       "version_minor": 0
      },
      "text/plain": [
       "HBox(children=(IntProgress(value=0, max=31436), HTML(value='')))"
      ]
     },
     "metadata": {},
     "output_type": "display_data"
    },
    {
     "name": "stdout",
     "output_type": "stream",
     "text": [
      "6 names are standardized ...\n"
     ]
    },
    {
     "data": {
      "application/vnd.jupyter.widget-view+json": {
       "model_id": "735fa6ede64d46a08a931e715d5b4f65",
       "version_major": 2,
       "version_minor": 0
      },
      "text/plain": [
       "HBox(children=(IntProgress(value=0, max=479), HTML(value='')))"
      ]
     },
     "metadata": {},
     "output_type": "display_data"
    },
    {
     "name": "stdout",
     "output_type": "stream",
     "text": [
      "Processing the 2016-17 season ...\n"
     ]
    },
    {
     "data": {
      "application/vnd.jupyter.widget-view+json": {
       "model_id": "ac22b904a228419f91bea328a038eb67",
       "version_major": 2,
       "version_minor": 0
      },
      "text/plain": [
       "HBox(children=(IntProgress(value=0, max=163), HTML(value='')))"
      ]
     },
     "metadata": {},
     "output_type": "display_data"
    },
    {
     "name": "stdout",
     "output_type": "stream",
     "text": [
      "19 names are standardized ...\n"
     ]
    },
    {
     "data": {
      "application/vnd.jupyter.widget-view+json": {
       "model_id": "d4dd6fc1b1b1492395f153c207a34321",
       "version_major": 2,
       "version_minor": 0
      },
      "text/plain": [
       "HBox(children=(IntProgress(value=0, max=493), HTML(value='')))"
      ]
     },
     "metadata": {},
     "output_type": "display_data"
    },
    {
     "data": {
      "application/vnd.jupyter.widget-view+json": {
       "model_id": "f1447c6ab26044668f7211cb5565d833",
       "version_major": 2,
       "version_minor": 0
      },
      "text/plain": [
       "HBox(children=(IntProgress(value=0, max=36434), HTML(value='')))"
      ]
     },
     "metadata": {},
     "output_type": "display_data"
    },
    {
     "data": {
      "application/vnd.jupyter.widget-view+json": {
       "model_id": "3a2c2269372044d7b0d9f05c120493b1",
       "version_major": 2,
       "version_minor": 0
      },
      "text/plain": [
       "HBox(children=(IntProgress(value=0, max=2460), HTML(value='')))"
      ]
     },
     "metadata": {},
     "output_type": "display_data"
    },
    {
     "data": {
      "application/vnd.jupyter.widget-view+json": {
       "model_id": "76fa0e798862435686532cd459727b08",
       "version_major": 2,
       "version_minor": 0
      },
      "text/plain": [
       "HBox(children=(IntProgress(value=0, max=30670), HTML(value='')))"
      ]
     },
     "metadata": {},
     "output_type": "display_data"
    },
    {
     "data": {
      "application/vnd.jupyter.widget-view+json": {
       "model_id": "8b364637eedb46e88ac27ae4f9e96981",
       "version_major": 2,
       "version_minor": 0
      },
      "text/plain": [
       "HBox(children=(IntProgress(value=0, max=30670), HTML(value='')))"
      ]
     },
     "metadata": {},
     "output_type": "display_data"
    },
    {
     "name": "stdout",
     "output_type": "stream",
     "text": [
      "9 names are standardized ...\n"
     ]
    },
    {
     "data": {
      "application/vnd.jupyter.widget-view+json": {
       "model_id": "74e6d3d60bd24521a515c0b9e8049bae",
       "version_major": 2,
       "version_minor": 0
      },
      "text/plain": [
       "HBox(children=(IntProgress(value=0, max=487), HTML(value='')))"
      ]
     },
     "metadata": {},
     "output_type": "display_data"
    },
    {
     "name": "stdout",
     "output_type": "stream",
     "text": [
      "Processing the 2017-18 season ...\n"
     ]
    },
    {
     "data": {
      "application/vnd.jupyter.widget-view+json": {
       "model_id": "ef26fdc59525438c8b1eeef15f4768ba",
       "version_major": 2,
       "version_minor": 0
      },
      "text/plain": [
       "HBox(children=(IntProgress(value=0, max=170), HTML(value='')))"
      ]
     },
     "metadata": {},
     "output_type": "display_data"
    },
    {
     "name": "stdout",
     "output_type": "stream",
     "text": [
      "23 names are standardized ...\n"
     ]
    },
    {
     "data": {
      "application/vnd.jupyter.widget-view+json": {
       "model_id": "3dfa29c0f090447c9a4eb467d72c46d2",
       "version_major": 2,
       "version_minor": 0
      },
      "text/plain": [
       "HBox(children=(IntProgress(value=0, max=557), HTML(value='')))"
      ]
     },
     "metadata": {},
     "output_type": "display_data"
    },
    {
     "data": {
      "application/vnd.jupyter.widget-view+json": {
       "model_id": "63b3fd3a01c64ba49ad7c2528a0e73e2",
       "version_major": 2,
       "version_minor": 0
      },
      "text/plain": [
       "HBox(children=(IntProgress(value=0, max=40421), HTML(value='')))"
      ]
     },
     "metadata": {},
     "output_type": "display_data"
    },
    {
     "data": {
      "application/vnd.jupyter.widget-view+json": {
       "model_id": "a51ce7fdfbf74e0e93b582e1a92c912e",
       "version_major": 2,
       "version_minor": 0
      },
      "text/plain": [
       "HBox(children=(IntProgress(value=0, max=2460), HTML(value='')))"
      ]
     },
     "metadata": {},
     "output_type": "display_data"
    },
    {
     "data": {
      "application/vnd.jupyter.widget-view+json": {
       "model_id": "ce7c0534eedb4406a4651f341301f61f",
       "version_major": 2,
       "version_minor": 0
      },
      "text/plain": [
       "HBox(children=(IntProgress(value=0, max=30502), HTML(value='')))"
      ]
     },
     "metadata": {},
     "output_type": "display_data"
    },
    {
     "data": {
      "application/vnd.jupyter.widget-view+json": {
       "model_id": "144a10792fd24742b90dcbfda7e64198",
       "version_major": 2,
       "version_minor": 0
      },
      "text/plain": [
       "HBox(children=(IntProgress(value=0, max=30502), HTML(value='')))"
      ]
     },
     "metadata": {},
     "output_type": "display_data"
    },
    {
     "name": "stdout",
     "output_type": "stream",
     "text": [
      "14 names are standardized ...\n"
     ]
    },
    {
     "data": {
      "application/vnd.jupyter.widget-view+json": {
       "model_id": "bcc5ed12c87141dfb12d37e4d68e4cd0",
       "version_major": 2,
       "version_minor": 0
      },
      "text/plain": [
       "HBox(children=(IntProgress(value=0, max=546), HTML(value='')))"
      ]
     },
     "metadata": {},
     "output_type": "display_data"
    },
    {
     "name": "stdout",
     "output_type": "stream",
     "text": [
      "Processing the 2018-19 season ...\n"
     ]
    },
    {
     "data": {
      "application/vnd.jupyter.widget-view+json": {
       "model_id": "7b7f2b518695431da15113fcfffc4890",
       "version_major": 2,
       "version_minor": 0
      },
      "text/plain": [
       "HBox(children=(IntProgress(value=0, max=118), HTML(value='')))"
      ]
     },
     "metadata": {},
     "output_type": "display_data"
    },
    {
     "name": "stdout",
     "output_type": "stream",
     "text": [
      "22 names are standardized ...\n"
     ]
    },
    {
     "data": {
      "application/vnd.jupyter.widget-view+json": {
       "model_id": "d9f6221bc59f45d082c7a88ba4e50738",
       "version_major": 2,
       "version_minor": 0
      },
      "text/plain": [
       "HBox(children=(IntProgress(value=0, max=529), HTML(value='')))"
      ]
     },
     "metadata": {},
     "output_type": "display_data"
    },
    {
     "data": {
      "application/vnd.jupyter.widget-view+json": {
       "model_id": "c753d197a16840e7abef2e0e85c13bd2",
       "version_major": 2,
       "version_minor": 0
      },
      "text/plain": [
       "HBox(children=(IntProgress(value=0, max=27706), HTML(value='')))"
      ]
     },
     "metadata": {},
     "output_type": "display_data"
    },
    {
     "data": {
      "application/vnd.jupyter.widget-view+json": {
       "model_id": "c95f8281633d43b78725cf4defe92050",
       "version_major": 2,
       "version_minor": 0
      },
      "text/plain": [
       "HBox(children=(IntProgress(value=0, max=2460), HTML(value='')))"
      ]
     },
     "metadata": {},
     "output_type": "display_data"
    },
    {
     "data": {
      "application/vnd.jupyter.widget-view+json": {
       "model_id": "6b2a7a7f6e534436a5c6ac59331908c2",
       "version_major": 2,
       "version_minor": 0
      },
      "text/plain": [
       "HBox(children=(IntProgress(value=0, max=30363), HTML(value='')))"
      ]
     },
     "metadata": {},
     "output_type": "display_data"
    },
    {
     "data": {
      "application/vnd.jupyter.widget-view+json": {
       "model_id": "551177f522964a84a935f143a4193481",
       "version_major": 2,
       "version_minor": 0
      },
      "text/plain": [
       "HBox(children=(IntProgress(value=0, max=30363), HTML(value='')))"
      ]
     },
     "metadata": {},
     "output_type": "display_data"
    },
    {
     "name": "stdout",
     "output_type": "stream",
     "text": [
      "27 names are standardized ...\n"
     ]
    },
    {
     "data": {
      "application/vnd.jupyter.widget-view+json": {
       "model_id": "fbce686232a64c6da2db897256f2df3d",
       "version_major": 2,
       "version_minor": 0
      },
      "text/plain": [
       "HBox(children=(IntProgress(value=0, max=535), HTML(value='')))"
      ]
     },
     "metadata": {},
     "output_type": "display_data"
    }
   ],
   "source": [
    "seasons = ['2014-15', '2015-16', '2016-17', '2017-18', '2018-19']\n",
    "active_years = [2014+i for i in range(6)]\n",
    "\n",
    "standardizer = NameStandardizer()\n",
    "\n",
    "for season in seasons:\n",
    "    print('Processing the {} season ...'.format(season))\n",
    "    \n",
    "    # Standardize names for salary information\n",
    "    df_salary = csv_concatenate(os.path.join(DATA_DIR, 'DKSalary', season))\n",
    "    standardizer.standardize_names(df_salary, standard_names, active_years)\n",
    "    fill_pos(df_salary)\n",
    "    \n",
    "    # Standardize names for boxscores\n",
    "    df_games = csv_concatenate(os.path.join(DATA_DIR, 'Boxscores', season))\n",
    "    df_games['FPTS'] = calculate_FPTS(df_games)\n",
    "    add_doubles(df_games)\n",
    "    df_games = df_games.loc[:, DF_VARIABLES]\n",
    "    standardizer.standardize_names(df_games, standard_names, active_years)\n",
    "    \n",
    "    # Merge two datasets and save to a csv file\n",
    "    df = pd.merge(df_salary.drop('Team', axis=1), df_games, on=['Name', 'Date'], how='inner')\n",
    "    df = df[df['Pos']!=0].sort_values(by=['Date','Team']).reset_index(drop=True)\n",
    "\n",
    "    # Add \"Value\" variable defined as a ratio between FPTS and Salary\n",
    "    df['Value'] = df['FPTS']/(df['Salary']/1000)\n",
    "    df['Value'] = df['Value'].replace(np.inf, 0).replace(-np.inf, 0)\n",
    "    \n",
    "    # Add binary positions for later use in EDA and modelling \n",
    "    add_binary_positions(df)\n",
    "    \n",
    "    columns = DF_VARIABLES.copy()\n",
    "    \n",
    "    for i, new_column in zip([1,3,4,7,44,45,46,47], ['Pos','Salary', 'Starter', 'Value','PG','SG','F','C']):\n",
    "        columns.insert(i, new_column)\n",
    "\n",
    "    df = df.loc[:, columns]\n",
    "    df.to_csv(os.path.join(DATA_DIR, 'Dataframes', 'Merged','df_{}.csv'.format(season)), index=False)"
   ]
  }
 ],
 "metadata": {
  "kernelspec": {
   "display_name": "Python 3",
   "language": "python",
   "name": "python3"
  },
  "language_info": {
   "codemirror_mode": {
    "name": "ipython",
    "version": 3
   },
   "file_extension": ".py",
   "mimetype": "text/x-python",
   "name": "python",
   "nbconvert_exporter": "python",
   "pygments_lexer": "ipython3",
   "version": "3.7.1"
  },
  "varInspector": {
   "cols": {
    "lenName": 16,
    "lenType": 16,
    "lenVar": 40
   },
   "kernels_config": {
    "python": {
     "delete_cmd_postfix": "",
     "delete_cmd_prefix": "del ",
     "library": "var_list.py",
     "varRefreshCmd": "print(var_dic_list())"
    },
    "r": {
     "delete_cmd_postfix": ") ",
     "delete_cmd_prefix": "rm(",
     "library": "var_list.r",
     "varRefreshCmd": "cat(var_dic_list()) "
    }
   },
   "types_to_exclude": [
    "module",
    "function",
    "builtin_function_or_method",
    "instance",
    "_Feature"
   ],
   "window_display": false
  }
 },
 "nbformat": 4,
 "nbformat_minor": 2
}
