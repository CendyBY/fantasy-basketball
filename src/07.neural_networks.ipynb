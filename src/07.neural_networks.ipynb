{
 "cells": [
  {
   "cell_type": "markdown",
   "metadata": {
    "ExecuteTime": {
     "end_time": "2018-05-20T12:28:32.643440Z",
     "start_time": "2018-05-20T12:28:32.606527Z"
    }
   },
   "source": [
    "### Neural Networks"
   ]
  },
  {
   "cell_type": "code",
   "execution_count": null,
   "metadata": {
    "ExecuteTime": {
     "end_time": "2019-05-29T10:43:43.104518Z",
     "start_time": "2019-05-29T10:43:39.100251Z"
    }
   },
   "outputs": [],
   "source": [
    "import os\n",
    "import glob\n",
    "import warnings\n",
    "import numpy as np\n",
    "import pandas as pd\n",
    "import matplotlib.pyplot as plt\n",
    "\n",
    "from tqdm import tqdm_notebook as tqdm\n",
    "from sklearn.preprocessing import MinMaxScaler\n",
    "from tensorflow import set_random_seed\n",
    "\n",
    "from keras import backend as K\n",
    "from keras.models import Sequential\n",
    "from keras.layers import Dense, Dropout\n",
    "from keras.wrappers.scikit_learn import KerasRegressor\n",
    "from keras.callbacks import ModelCheckpoint\n",
    "\n",
    "import utils\n",
    "from constants import DATA_DIR"
   ]
  },
  {
   "cell_type": "code",
   "execution_count": 2,
   "metadata": {
    "ExecuteTime": {
     "end_time": "2019-05-29T10:43:43.149854Z",
     "start_time": "2019-05-29T10:43:43.121260Z"
    }
   },
   "outputs": [],
   "source": [
    "np.random.seed(23)\n",
    "set_random_seed(23)\n",
    "\n",
    "warnings.filterwarnings(\"ignore\")"
   ]
  },
  {
   "cell_type": "code",
   "execution_count": 3,
   "metadata": {
    "ExecuteTime": {
     "end_time": "2019-05-29T10:43:43.203929Z",
     "start_time": "2019-05-29T10:43:43.162414Z"
    }
   },
   "outputs": [],
   "source": [
    "def root_mean_squared_error(y_true, y_pred):\n",
    "    # Custom loss function for keras\n",
    "    return K.sqrt(K.mean(K.square(y_pred - y_true))) \n",
    "\n",
    "\n",
    "def get_modelcheckpoint_path(model_num):\n",
    "    #Create a file path for a model and save models in hdf5 files with datetime, validation losses and epochs\n",
    "    parent = DATA_DIR+\"/Models/NN/Model_{}/\".format(model_num)\n",
    "    child = pd.Timestamp.now().strftime('%Y%m%d-%Hh%Mm') + \"-model-epoch_{epoch:02d}-rmse_{val_loss:.5f}.hdf5\"\n",
    "    return parent + child \n",
    "\n",
    "\n",
    "def get_weights_path_and_epoch(model_num):\n",
    "    filepaths = glob.glob(DATA_DIR+\"/Models/NN/Model_{}/*.hdf5\".format(str(model_num)))\n",
    "    losses = [float(filepath[-12:-5]) for filepath in filepaths]\n",
    "    epochs = losses.index(min(losses))\n",
    "    print('Model {} | Lowest Valid Error: {} at Epoch {}'.format(model_num, min(losses), epochs))\n",
    "    return (filepaths[losses.index(min(losses))], epochs)\n",
    "\n",
    "\n",
    "def plot_learning_process(hist_list):\n",
    "    for i, hist in enumerate(hist_list):\n",
    "        plt.subplot(1,1,1)  \n",
    "        plt.plot(hist.history['loss'])  \n",
    "        plt.plot(hist.history['val_loss'])  \n",
    "        plt.title('Model Loss')  \n",
    "        plt.ylabel('Loss')  \n",
    "        plt.xlabel('Epoch')  \n",
    "        plt.legend(['Train', 'Validation'], loc='upper right')  \n",
    "        plt.show()\n",
    "    return None\n",
    "\n",
    "\n",
    "def run_models():\n",
    "    for i in range(1, 4):\n",
    "        model = KerasRegressor(build_fn=create_model(i),\n",
    "                               epochs=100,\n",
    "                               batch_size=32,\n",
    "                               validation_split=0.2,\n",
    "                               shuffle=True,\n",
    "                               verbose=1)\n",
    "\n",
    "        filepath = get_modelcheckpoint_path(i)\n",
    "        checkpoint = ModelCheckpoint(filepath, monitor='val_loss', save_best_only=False, verbose=0, mode='min')\n",
    "        callbacks_list = [checkpoint]\n",
    "\n",
    "        if i == 1:\n",
    "            h1 = model.fit(X, y, callbacks=callbacks_list)\n",
    "        elif i == 2:\n",
    "            h2 = model.fit(X, y, callbacks=callbacks_list)\n",
    "        elif i == 3:\n",
    "            h3 = model.fit(X, y, callbacks=callbacks_list)\n",
    "            \n",
    "    return [h1, h2, h3]\n",
    "\n",
    "\n",
    "def create_model(model_num):\n",
    "    def model_1():\n",
    "        model = Sequential()\n",
    "        model.add(Dense(X.shape[1], input_dim=X.shape[1], activation='relu'))\n",
    "        model.add(Dense(64, activation='relu'))\n",
    "        model.add(Dense(32, activation='relu'))\n",
    "        model.add(Dense(1))\n",
    "        model.compile(loss=root_mean_squared_error, optimizer='adam')\n",
    "        model.summary()\n",
    "        return model\n",
    "\n",
    "    def model_2():\n",
    "        model = Sequential()\n",
    "        model.add(Dense(X.shape[1], input_dim=X.shape[1], activation='relu'))\n",
    "        model.add(Dense(64, activation='relu'))\n",
    "        model.add(Dense(128, activation='relu'))\n",
    "        model.add(Dense(32, activation='relu'))\n",
    "        model.add(Dropout(0.2))\n",
    "        model.add(Dense(1))\n",
    "        model.compile(loss=root_mean_squared_error, optimizer='adam')\n",
    "        model.summary()\n",
    "        return model\n",
    "\n",
    "    def model_3():\n",
    "        model = Sequential()\n",
    "        model.add(Dense(X.shape[1], input_dim=X.shape[1], activation='relu'))\n",
    "        model.add(Dense(128, activation='relu'))\n",
    "        model.add(Dense(256, activation='relu'))\n",
    "        model.add(Dense(64, activation='relu'))\n",
    "        model.add(Dropout(0.2))\n",
    "        model.add(Dense(1))\n",
    "        model.compile(loss=root_mean_squared_error, optimizer='adam')\n",
    "        model.summary()\n",
    "        return model\n",
    "    \n",
    "    if model_num == 1:\n",
    "        return model_1\n",
    "    elif model_num == 2:\n",
    "        return model_2\n",
    "    elif model_num == 3:\n",
    "        return model_3\n",
    "    else:\n",
    "        return \"invalid model_num\""
   ]
  },
  {
   "cell_type": "code",
   "execution_count": 4,
   "metadata": {
    "ExecuteTime": {
     "end_time": "2019-05-29T10:43:57.959275Z",
     "start_time": "2019-05-29T10:43:55.088327Z"
    }
   },
   "outputs": [],
   "source": [
    "X, y = utils.load_full_dataset('quad')"
   ]
  },
  {
   "cell_type": "code",
   "execution_count": null,
   "metadata": {
    "ExecuteTime": {
     "end_time": "2019-05-29T10:39:46.297467Z",
     "start_time": "2019-05-29T10:39:44.589970Z"
    }
   },
   "outputs": [],
   "source": [
    "# Takes about 1 hr for training 100 epochs for all models\n",
    "hist_list = run_models()\n",
    "\n",
    "# The models seem to overfit at an early stage for all models\n",
    "plot_learning_process(hist_list)"
   ]
  },
  {
   "cell_type": "code",
   "execution_count": null,
   "metadata": {
    "ExecuteTime": {
     "start_time": "2019-05-29T10:44:00.989Z"
    }
   },
   "outputs": [
    {
     "name": "stdout",
     "output_type": "stream",
     "text": [
      "Model 1 | Lowest Valid Error: 9.04445 at Epoch 28\n"
     ]
    },
    {
     "data": {
      "application/vnd.jupyter.widget-view+json": {
       "model_id": "9858a522246440d19f58173b5d867310",
       "version_major": 2,
       "version_minor": 0
      },
      "text/plain": [
       "HBox(children=(IntProgress(value=0, max=5), HTML(value='')))"
      ]
     },
     "metadata": {},
     "output_type": "display_data"
    },
    {
     "name": "stdout",
     "output_type": "stream",
     "text": [
      "WARNING:tensorflow:From /home/kengo/.local/share/virtualenvs/NBA-l5HO5fnq/lib/python3.7/site-packages/tensorflow/python/framework/op_def_library.py:263: colocate_with (from tensorflow.python.framework.ops) is deprecated and will be removed in a future version.\n",
      "Instructions for updating:\n",
      "Colocations handled automatically by placer.\n",
      "_________________________________________________________________\n",
      "Layer (type)                 Output Shape              Param #   \n",
      "=================================================================\n",
      "dense_1 (Dense)              (None, 41)                1722      \n",
      "_________________________________________________________________\n",
      "dense_2 (Dense)              (None, 64)                2688      \n",
      "_________________________________________________________________\n",
      "dense_3 (Dense)              (None, 32)                2080      \n",
      "_________________________________________________________________\n",
      "dense_4 (Dense)              (None, 1)                 33        \n",
      "=================================================================\n",
      "Total params: 6,523\n",
      "Trainable params: 6,523\n",
      "Non-trainable params: 0\n",
      "_________________________________________________________________\n"
     ]
    }
   ],
   "source": [
    "for i in range(1, 4):\n",
    "    weights_path, epochs = get_weights_path_and_epoch(i)\n",
    "    model = KerasRegressor(build_fn=create_model(i),\n",
    "                           epochs=epochs,\n",
    "                           batch_size=32,\n",
    "                           validation_split=0.2,\n",
    "                           shuffle=True,\n",
    "                           verbose=0)\n",
    "    \n",
    "    errors = utils.cross_val(model, X, y, n_folds=5)\n",
    "    utils.summarize_errors(errors, verbose=1)"
   ]
  },
  {
   "cell_type": "code",
   "execution_count": null,
   "metadata": {
    "ExecuteTime": {
     "start_time": "2019-05-29T10:44:39.736Z"
    }
   },
   "outputs": [],
   "source": [
    "### Neural Networks (Model 1) trained to Epoch 28\n",
    "- MAE - Mean: 7.24544, SD: 0.04222\n",
    "- RMSE - Mean: 9.50363, SD: 0.06278"
   ]
  }
 ],
 "metadata": {
  "kernelspec": {
   "display_name": "Python 3",
   "language": "python",
   "name": "python3"
  },
  "language_info": {
   "codemirror_mode": {
    "name": "ipython",
    "version": 3
   },
   "file_extension": ".py",
   "mimetype": "text/x-python",
   "name": "python",
   "nbconvert_exporter": "python",
   "pygments_lexer": "ipython3",
   "version": "3.7.1"
  },
  "varInspector": {
   "cols": {
    "lenName": 16,
    "lenType": 16,
    "lenVar": 40
   },
   "kernels_config": {
    "python": {
     "delete_cmd_postfix": "",
     "delete_cmd_prefix": "del ",
     "library": "var_list.py",
     "varRefreshCmd": "print(var_dic_list())"
    },
    "r": {
     "delete_cmd_postfix": ") ",
     "delete_cmd_prefix": "rm(",
     "library": "var_list.r",
     "varRefreshCmd": "cat(var_dic_list()) "
    }
   },
   "types_to_exclude": [
    "module",
    "function",
    "builtin_function_or_method",
    "instance",
    "_Feature"
   ],
   "window_display": false
  }
 },
 "nbformat": 4,
 "nbformat_minor": 2
}
