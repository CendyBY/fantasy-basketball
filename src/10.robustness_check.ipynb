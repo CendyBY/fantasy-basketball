{
 "cells": [
  {
   "cell_type": "markdown",
   "metadata": {
    "ExecuteTime": {
     "end_time": "2018-05-20T13:29:40.111511Z",
     "start_time": "2018-05-20T13:29:40.089393Z"
    }
   },
   "source": [
    "### Robustness Checks with Added Noise and t-test "
   ]
  },
  {
   "cell_type": "code",
   "execution_count": 1,
   "metadata": {
    "ExecuteTime": {
     "end_time": "2019-06-28T18:05:36.091745Z",
     "start_time": "2019-06-28T18:05:34.800104Z"
    }
   },
   "outputs": [],
   "source": [
    "import os\n",
    "import glob\n",
    "import numpy as np\n",
    "import pandas as pd\n",
    "import pandas_profiling\n",
    "import matplotlib.pyplot as plt\n",
    "\n",
    "from tqdm import tqdm_notebook as tqdm\n",
    "from datetime import datetime\n",
    "from sklearn.model_selection import KFold\n",
    "from sklearn.ensemble import GradientBoostingRegressor\n",
    "from sklearn.linear_model import LinearRegression\n",
    "from sklearn.linear_model import Lasso\n",
    "from sklearn.model_selection import train_test_split\n",
    "from sklearn.preprocessing import MinMaxScaler\n",
    "from sklearn.metrics import mean_squared_error"
   ]
  },
  {
   "cell_type": "code",
   "execution_count": null,
   "metadata": {
    "ExecuteTime": {
     "end_time": "2018-08-30T11:02:14.900891Z",
     "start_time": "2018-08-30T11:02:14.897941Z"
    }
   },
   "outputs": [],
   "source": [
    "cwd = os.getcwd().replace('/notebooks','')\n",
    "data_dir = os.path.join(cwd, 'data')\n",
    "np.random.seed(6)"
   ]
  },
  {
   "cell_type": "code",
   "execution_count": null,
   "metadata": {
    "ExecuteTime": {
     "end_time": "2018-08-30T11:02:18.368919Z",
     "start_time": "2018-08-30T11:02:18.358051Z"
    },
    "code_folding": []
   },
   "outputs": [],
   "source": [
    "def cross_val(reg_base, X, y, show_train=False):\n",
    "    mae_results_train = []\n",
    "    rmse_results_train = []\n",
    "    \n",
    "    mae_results_test = []\n",
    "    rmse_results_test = []\n",
    "    \n",
    "    std_results_test = []\n",
    "    \n",
    "    for k in tqdm(range(5)):\n",
    "        X_train, X_test, y_train, y_test = train_test_split(X, y, test_size=0.2, shuffle=True, random_state=k)\n",
    "        reg = reg_base\n",
    "        \n",
    "        reg.fit(X_train, y_train)\n",
    "        \n",
    "        y_pred_train = reg.predict(X_train)\n",
    "        \n",
    "        mae_results_train.append(calculate_MAE(y_pred_train, y_train))\n",
    "        rmse_results_train.append(calculate_RMSE(y_pred_train, y_train))\n",
    "        \n",
    "        y_pred_test = reg.predict(X_test)\n",
    "        \n",
    "        mae_results_test.append(calculate_MAE(y_pred_test, y_test))\n",
    "        rmse_results_test.append(calculate_RMSE(y_pred_test, y_test))\n",
    "    \n",
    "    if show_train==True:\n",
    "        print('[TRAIN]')\n",
    "        print('MAE:', np.mean(mae_results_train))\n",
    "        print('RSME:', np.mean(rmse_results_train))\n",
    "        print('\\n[TEST]')\n",
    "    \n",
    "    print('MAE:', np.mean(mae_results_test))\n",
    "    print('RSME:', np.mean(rmse_results_test))\n",
    "    return rmse_results_test"
   ]
  },
  {
   "cell_type": "code",
   "execution_count": null,
   "metadata": {
    "ExecuteTime": {
     "end_time": "2018-08-30T11:02:32.943992Z",
     "start_time": "2018-08-30T11:02:19.168922Z"
    }
   },
   "outputs": [],
   "source": [
    "weighting = 'quad'\n",
    "\n",
    "df_features = csv_concatenate(os.path.join(data_dir, 'Dataframes','modelling', 'features', weighting))\n",
    "df_features['FPTS_pred'] = calculate_FPTS(df_features)\n",
    "\n",
    "print('MAE:', calculate_MAE(df_features['FPTS_pred'], df_features['FPTS']))\n",
    "print('RMSE:', calculate_RMSE(df_features['FPTS_pred'], df_features['FPTS']))"
   ]
  },
  {
   "cell_type": "code",
   "execution_count": null,
   "metadata": {
    "ExecuteTime": {
     "end_time": "2018-08-30T11:02:35.206668Z",
     "start_time": "2018-08-30T11:02:35.202391Z"
    }
   },
   "outputs": [],
   "source": [
    "selected = ['TOV_perc', 'BLK_perc', 'STL', 'STL_perc', 'DRtg', 'ORB', 'eFG_perc','ORB_perc', 'FT_perc', '3P_perc',\n",
    "            'Home','DD','Rota_Pos', 'DRB_perc', 'BLK', 'AST_perc', 'Rota_All', 'MP', 'FPTS_std', 'Value', 'FT',\n",
    "            'Rest', 'AST', 'TOV', 'PTS', 'TRB', 'USG_perc', 'Starter', 'Salary']"
   ]
  },
  {
   "cell_type": "code",
   "execution_count": null,
   "metadata": {
    "ExecuteTime": {
     "end_time": "2018-08-30T11:02:36.020953Z",
     "start_time": "2018-08-30T11:02:35.959175Z"
    }
   },
   "outputs": [],
   "source": [
    "X = df_features.loc[:, selected]\n",
    "X = MinMaxScaler().fit_transform(X)\n",
    "y = df_features['FPTS'].values.reshape(-1,1).flatten()"
   ]
  },
  {
   "cell_type": "code",
   "execution_count": null,
   "metadata": {
    "ExecuteTime": {
     "end_time": "2018-08-30T11:02:36.894761Z",
     "start_time": "2018-08-30T11:02:36.883794Z"
    }
   },
   "outputs": [],
   "source": [
    "best_parameters = {'max_depth':6, 'n_estimators':250, 'min_child_weight':4, 'colsample_bytree':0.6, \n",
    "                   'colsample_bylevel':0.7, 'subsample':1.0, 'gamma':0.0, 'learning_rate':0.026944654231987667}\n",
    "\n",
    "#MAE: 6.848631675865012, RSME: 8.958142274893145\n",
    "                \n",
    "reg = xgb.XGBRegressor(**best_parameters)\n",
    "results = cross_val(reg, X, y, show_train=True)"
   ]
  },
  {
   "cell_type": "markdown",
   "metadata": {},
   "source": [
    "### Add Gaussian Noise"
   ]
  },
  {
   "cell_type": "code",
   "execution_count": null,
   "metadata": {
    "ExecuteTime": {
     "end_time": "2018-05-20T14:14:47.661461Z",
     "start_time": "2018-05-20T14:14:47.657368Z"
    }
   },
   "outputs": [],
   "source": [
    "cont = ['TOV_perc', 'BLK_perc', 'STL', 'STL_perc', 'DRtg', 'ORB', 'eFG_perc','ORB_perc', 'FT_perc', '3P_perc',\n",
    "        'DD','Rota_Pos', 'DRB_perc', 'BLK', 'AST_perc', 'Rota_All', 'MP', 'FPTS_std', 'Value', 'FT',\n",
    "        'Rest', 'AST', 'TOV', 'PTS', 'TRB', 'USG_perc', 'Salary']\n",
    "\n",
    "binary = ['Home', 'Starter']"
   ]
  },
  {
   "cell_type": "code",
   "execution_count": null,
   "metadata": {
    "ExecuteTime": {
     "end_time": "2018-05-20T14:18:48.115560Z",
     "start_time": "2018-05-20T14:18:47.918657Z"
    }
   },
   "outputs": [],
   "source": [
    "X_cont = df_features.loc[:, cont]\n",
    "X_cont = MinMaxScaler().fit_transform(X_cont)\n",
    "\n",
    "\n",
    "noise = np.random.normal(0, 1, [X_cont.shape[0], X_cont.shape[1]]) \n",
    "noise = MinMaxScaler([0,0.2]).fit_transform(noise)\n",
    "X_cont = X_cont + noise\n",
    "\n",
    "X_binary = df_features.loc[:, binary]\n",
    "X_binary = MinMaxScaler().fit_transform(X_binary)\n",
    "\n",
    "X = np.concatenate([X_cont, X_binary], axis=1)"
   ]
  },
  {
   "cell_type": "code",
   "execution_count": null,
   "metadata": {
    "ExecuteTime": {
     "end_time": "2018-05-20T14:21:05.288806Z",
     "start_time": "2018-05-20T14:18:55.190490Z"
    }
   },
   "outputs": [],
   "source": [
    "reg = xgb.XGBRegressor(**best_parameters)\n",
    "cross_val(reg, X, y)"
   ]
  },
  {
   "cell_type": "markdown",
   "metadata": {},
   "source": [
    "### Calculating the t-statistic"
   ]
  },
  {
   "cell_type": "code",
   "execution_count": null,
   "metadata": {
    "ExecuteTime": {
     "end_time": "2018-05-20T15:40:57.189552Z",
     "start_time": "2018-05-20T15:40:57.179215Z"
    }
   },
   "outputs": [],
   "source": [
    "null = 9.9434\n",
    "alternative = 8.9581\n",
    "t = (9.9434-8.9581)/(std/5)\n",
    "print(round(t, 2),'>15.54 at 0.1% significance level with df=4')"
   ]
  }
 ],
 "metadata": {
  "kernelspec": {
   "display_name": "Python 3",
   "language": "python",
   "name": "python3"
  },
  "language_info": {
   "codemirror_mode": {
    "name": "ipython",
    "version": 3
   },
   "file_extension": ".py",
   "mimetype": "text/x-python",
   "name": "python",
   "nbconvert_exporter": "python",
   "pygments_lexer": "ipython3",
   "version": "3.7.1"
  },
  "varInspector": {
   "cols": {
    "lenName": 16,
    "lenType": 16,
    "lenVar": 40
   },
   "kernels_config": {
    "python": {
     "delete_cmd_postfix": "",
     "delete_cmd_prefix": "del ",
     "library": "var_list.py",
     "varRefreshCmd": "print(var_dic_list())"
    },
    "r": {
     "delete_cmd_postfix": ") ",
     "delete_cmd_prefix": "rm(",
     "library": "var_list.r",
     "varRefreshCmd": "cat(var_dic_list()) "
    }
   },
   "types_to_exclude": [
    "module",
    "function",
    "builtin_function_or_method",
    "instance",
    "_Feature"
   ],
   "window_display": false
  }
 },
 "nbformat": 4,
 "nbformat_minor": 2
}
